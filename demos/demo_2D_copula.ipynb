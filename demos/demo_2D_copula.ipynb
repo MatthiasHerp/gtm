{
 "cells": [
  {
   "cell_type": "markdown",
   "id": "3c5fecd0",
   "metadata": {},
   "source": [
    "# Demo of the GTM on 2-Dimensional Joe-Copula\n",
    "\n",
    "In this demonstration we show how the GTM can be used to learn a probability distribution from synthetic data sampled from a 2 dimensional Joe copula.\n",
    "To sample synthetic copula data we use the [pyvinecopulib](https://github.com/vinecopulib/pyvinecopulib) library.\n",
    "Fore more details on copulas we refer to the Book [Analyzing Dependent Data with Vine Copulas](https://link.springer.com/book/10.1007/978-3-030-13785-4) for an comprehensive introduction to copulas and vine copulas."
   ]
  },
  {
   "cell_type": "code",
   "execution_count": 1,
   "id": "70b4550b",
   "metadata": {},
   "outputs": [
    {
     "name": "stderr",
     "output_type": "stream",
     "text": [
      "/mnt/vast-standard/home/f.capunaycaceres/u22491/conda/envs/bgtm/lib/python3.11/site-packages/tqdm/auto.py:21: TqdmWarning: IProgress not found. Please update jupyter and ipywidgets. See https://ipywidgets.readthedocs.io/en/stable/user_install.html\n",
      "  from .autonotebook import tqdm as notebook_tqdm\n"
     ]
    }
   ],
   "source": [
    "from gtm import *\n",
    "\n",
    "# Sample Copulas Package\n",
    "import pyvinecopulib as pv\n",
    "\n",
    "# Other Stuff\n",
    "import numpy as np\n",
    "import torch\n",
    "from torch.utils.data import DataLoader\n",
    "from dataset_helpers import Generic_Dataset"
   ]
  },
  {
   "cell_type": "markdown",
   "id": "eed17c60",
   "metadata": {},
   "source": [
    "### 1. Sample Synthetic Copula Data and Compute Likelihoods\n",
    "\n",
    "We sample data from a Joe Copula and add Gaussian marginals. Feel free to exchange the copula parameter, the rotation or even the copula itsself.\n",
    "The list of copulas can be found with `help(pv.Bicop)`.\n",
    "\n",
    "Notice we use Sklars Theorem to compute the density of the joint copula and Gaussian marginals density."
   ]
  },
  {
   "cell_type": "code",
   "execution_count": 2,
   "id": "91426a1c",
   "metadata": {},
   "outputs": [],
   "source": [
    "copula_pv = pv.Bicop(family=pv.BicopFamily.joe, parameters=np.array([[2.5]]), rotation=90)\n",
    "\n",
    "# Train\n",
    "N_train = 2000\n",
    "simulated_data_uniform_train = copula_pv.simulate(n=N_train)\n",
    "simulated_data_train = torch.distributions.Normal(0,1).icdf(torch.tensor(simulated_data_uniform_train)).float()\n",
    "\n",
    "# Validate\n",
    "N_validate = 2000\n",
    "simulated_data_uniform_validate = copula_pv.simulate(n=N_validate)\n",
    "simulated_data_validate = torch.distributions.Normal(0,1).icdf(torch.tensor(simulated_data_uniform_validate)).float()\n",
    "\n",
    "# Test\n",
    "N_test = 20000\n",
    "simulated_data_uniform_test = copula_pv.simulate(n=N_test)\n",
    "simulated_data_test = torch.distributions.Normal(0,1).icdf(torch.tensor(simulated_data_uniform_test)).float()"
   ]
  },
  {
   "cell_type": "code",
   "execution_count": 3,
   "id": "89a347f4",
   "metadata": {},
   "outputs": [
    {
     "name": "stderr",
     "output_type": "stream",
     "text": [
      "/tmp/ipykernel_829274/2085715786.py:2: UserWarning: To copy construct from a tensor, it is recommended to use sourceTensor.clone().detach() or sourceTensor.clone().detach().requires_grad_(True), rather than torch.tensor(sourceTensor).\n",
      "  log_marginals = torch.distributions.Normal(0,1).log_prob(torch.tensor(simulated_data_train)).sum(1)\n",
      "/tmp/ipykernel_829274/2085715786.py:6: UserWarning: To copy construct from a tensor, it is recommended to use sourceTensor.clone().detach() or sourceTensor.clone().detach().requires_grad_(True), rather than torch.tensor(sourceTensor).\n",
      "  log_marginals = torch.distributions.Normal(0,1).log_prob(torch.tensor(simulated_data_validate)).sum(1)\n",
      "/tmp/ipykernel_829274/2085715786.py:10: UserWarning: To copy construct from a tensor, it is recommended to use sourceTensor.clone().detach() or sourceTensor.clone().detach().requires_grad_(True), rather than torch.tensor(sourceTensor).\n",
      "  log_marginals = torch.distributions.Normal(0,1).log_prob(torch.tensor(simulated_data_test)).sum(1)\n"
     ]
    }
   ],
   "source": [
    "loglik_copula = np.log(copula_pv.pdf(simulated_data_uniform_train))\n",
    "log_marginals = torch.distributions.Normal(0,1).log_prob(torch.tensor(simulated_data_train)).sum(1)\n",
    "loglik_true_train = torch.tensor(loglik_copula) + log_marginals\n",
    "\n",
    "loglik_copula = np.log(copula_pv.pdf(simulated_data_uniform_validate))\n",
    "log_marginals = torch.distributions.Normal(0,1).log_prob(torch.tensor(simulated_data_validate)).sum(1)\n",
    "loglik_true_validate = torch.tensor(loglik_copula) + log_marginals\n",
    "\n",
    "loglik_copula = np.log(copula_pv.pdf(simulated_data_uniform_test))\n",
    "log_marginals = torch.distributions.Normal(0,1).log_prob(torch.tensor(simulated_data_test)).sum(1)\n",
    "loglik_true_test = torch.tensor(loglik_copula) + log_marginals"
   ]
  },
  {
   "cell_type": "markdown",
   "id": "3e6ae322",
   "metadata": {},
   "source": [
    "We further estimate the copula on the synthetic data to get an oracle denisity estimator. Hence an estimator that knows the true underlying structure and merely estiamtes the model parameters."
   ]
  },
  {
   "cell_type": "code",
   "execution_count": 4,
   "id": "8ab3f371",
   "metadata": {},
   "outputs": [],
   "source": [
    "copula_pv_est = pv.Bicop(family=pv.BicopFamily.joe, rotation=90)\n",
    "copula_pv_est.fit(simulated_data_uniform_train)\n",
    "means = simulated_data_train.mean(0)\n",
    "vars = simulated_data_train.var(0)"
   ]
  },
  {
   "cell_type": "code",
   "execution_count": 5,
   "id": "357cb0c0",
   "metadata": {},
   "outputs": [],
   "source": [
    "loglik_copula = np.log(copula_pv_est.pdf(simulated_data_uniform_train))\n",
    "log_marginals = torch.distributions.Normal(means,vars).log_prob(simulated_data_train).sum(1)\n",
    "loglik_true_est_train = torch.tensor(loglik_copula) + log_marginals\n",
    "\n",
    "loglik_copula = np.log(copula_pv_est.pdf(simulated_data_uniform_validate))\n",
    "log_marginals = torch.distributions.Normal(means,vars).log_prob(simulated_data_validate).sum(1)\n",
    "loglik_true_est_validate = torch.tensor(loglik_copula) + log_marginals\n",
    "\n",
    "loglik_copula = np.log(copula_pv_est.pdf(simulated_data_uniform_test))\n",
    "log_marginals = torch.distributions.Normal(means,vars).log_prob(simulated_data_test).sum(1)\n",
    "loglik_true_est_test = torch.tensor(loglik_copula) + log_marginals"
   ]
  },
  {
   "cell_type": "markdown",
   "id": "15cde9d2",
   "metadata": {},
   "source": [
    "The package is implemented to use Dataloaders for training. This is done to accommodate larger datasets trained batch wise as is common in deep learning and bioinformatics applications. Feel free to use the [`Generic_Dataset`](demos/dataset_helpers.py) class to easily adjust it to your data. For full data training, thus whithout batches simply seet the `batch_size` arguement in the `DataLoader` to the data size as we do in this example"
   ]
  },
  {
   "cell_type": "code",
   "execution_count": 6,
   "id": "83659cfd",
   "metadata": {},
   "outputs": [],
   "source": [
    "# Create dataset and DataLoader\n",
    "dataset_train = Generic_Dataset(simulated_data_train)\n",
    "dataloader_train = DataLoader(dataset_train, batch_size=N_train)\n",
    "\n",
    "dataset_validate = Generic_Dataset(simulated_data_validate)\n",
    "dataloader_validate = DataLoader(dataset_validate, batch_size=N_validate)"
   ]
  },
  {
   "cell_type": "markdown",
   "id": "d6c111eb",
   "metadata": {},
   "source": [
    "### 2. Define Model\n",
    "\n",
    "We define a simple GTM model with the standard parameters.\n",
    "Notable custamizable parameter are: \n",
    "- The dimensionality of the data `number_variables`\n",
    "- The number of transformation layers `num_trans_layers`, either 0 or 1.\n",
    "- The number of decorrelation layers `num_decorr_layers`, typically 3 or more. \n",
    "- the spline to use for the transformation layer splines `spline_transformation` and the decorrelation layer splines `spline_decorrelation`.  The two types of layers: P-Splines (`bspline`) or bernstein polynomials (`bernstein`).\n",
    "- The degrees of the splines, representing there flexibility, being `degree_decorrelation` for the decorrelation layer splines and `degree_transformations` for the transformation layer. When using `bspline`, then `degree_transformations` can also be given a list with varying degrees for each dimension of the data.\n",
    "- `transformation_spline_range`sets the outer borders for the transformation layer splines, this dependends on the input data and should be set a bit wider then the actual data.\n",
    "- `device` either `cpu`or `cuda`\n"
   ]
  },
  {
   "cell_type": "code",
   "execution_count": 7,
   "id": "ef92cf12",
   "metadata": {},
   "outputs": [],
   "source": [
    "model = GTM(\n",
    "    number_variables = 2,\n",
    "    number_transformation_layers = 1,\n",
    "    number_decorrelation_layers = 0,\n",
    "    degree_transformations = 10,\n",
    "    degree_decorrelation = 40,\n",
    "    spline_transformation = \"bspline\",\n",
    "    spline_decorrelation = \"bspline\",\n",
    "    transformation_spline_range = (-10, 10),\n",
    "    device = \"cpu\") "
   ]
  },
  {
   "cell_type": "markdown",
   "id": "fb434f3d",
   "metadata": {},
   "source": [
    "The GTM class contains a number of plotting functions so that standard analysis can be done soley with the model:"
   ]
  },
  {
   "cell_type": "code",
   "execution_count": 8,
   "id": "2036680f",
   "metadata": {},
   "outputs": [],
   "source": [
    "#model.plot_densities(simulated_data_train, x_lim=[-4,4], y_lim=[-4,4])"
   ]
  },
  {
   "cell_type": "code",
   "execution_count": 9,
   "id": "133db9e3",
   "metadata": {},
   "outputs": [],
   "source": [
    "#model.plot_marginals(simulated_data_train)"
   ]
  },
  {
   "cell_type": "markdown",
   "id": "9d41ca3e",
   "metadata": {},
   "source": [
    "### 3. Hyperparameter Tune and Train Model\n",
    "\n",
    "To find the optimal penalties one uses the `hyperparameter_tune_penalties` function. Then using the optimal penalties one can train the model.\n",
    "\n",
    "The training can be done by pretraining the marginal transformations with `pretrain_tranformation_layer` and then training jointly with `train`.\n",
    "In general empirically we found that pretraining reduces training time and improves results allthough direct joint training also works.\n",
    "\n",
    "Hyperparameter tuning can be done for the penalties `penvalueridge, penfirstridge , pensecondridge, ctm_pensecondridge, lambda_penalty_params` by passing the arguement `\"sample\"`.\n",
    "If a fixed number is passed, typically zero, then for that penalty no hyperparameter drawing is done and the fixed values is used.\n"
   ]
  },
  {
   "cell_type": "code",
   "execution_count": 10,
   "id": "807c8eab",
   "metadata": {},
   "outputs": [
    {
     "name": "stderr",
     "output_type": "stream",
     "text": [
      "/mnt/vast-standard/home/f.capunaycaceres/u22491/conda/envs/bgtm/lib/python3.11/site-packages/optuna/samplers/_tpe/sampler.py:319: ExperimentalWarning: ``multivariate`` option is an experimental feature. The interface can change in the future.\n",
      "  warnings.warn(\n",
      "[I 2025-10-14 12:17:21,750] A new study created in RDB with name: no-name-b7ea4324-de28-48d5-ab76-0bfcf3d286f1\n",
      "  0%|          | 0/2000 [00:00<?, ?it/s]/mnt/vast-standard/home/f.capunaycaceres/u22491/gtm/gtm/gtm_splines/bspline_prediction_vectorized.py:595: UserWarning: The use of `x.T` on tensors of dimension other than 2 to reverse their shape is deprecated and it will throw an error in a future release. Consider `x.mT` to transpose batches of matrices or `x.permute(*torch.arange(x.ndim - 1, -1, -1))` to reverse the dimensions of a tensor. (Triggered internally at ../aten/src/ATen/native/TensorShape.cpp:3683.)\n",
      "  x=input_a_clone.T, t=knots.T, c=params_a.T, p=order, d=derivativ\n",
      "  0%|          | 10/2000 [00:00<01:34, 21.11it/s]\n",
      "  0%|          | 2/2000 [00:00<02:29, 13.33it/s]"
     ]
    },
    {
     "name": "stdout",
     "output_type": "stream",
     "text": [
      "current_loss: tensor(1.4363, grad_fn=<MeanBackward0>)\n",
      "current_loss: tensor(1.3996, grad_fn=<MeanBackward0>)\n",
      "current_loss_val:  1.3763290643692017\n",
      "current_loss: tensor(1.3996, grad_fn=<MeanBackward0>)\n",
      "current_loss: tensor(1.3525, grad_fn=<MeanBackward0>)\n",
      "current_loss_val:  1.3266832828521729\n",
      "current_loss: tensor(1.3525, grad_fn=<MeanBackward0>)\n",
      "current_loss: tensor(1.3887, grad_fn=<MeanBackward0>)\n",
      "current_loss: tensor(1.3358, grad_fn=<MeanBackward0>)\n"
     ]
    },
    {
     "name": "stderr",
     "output_type": "stream",
     "text": [
      "  0%|          | 4/2000 [00:00<02:33, 13.02it/s]"
     ]
    },
    {
     "name": "stdout",
     "output_type": "stream",
     "text": [
      "current_loss_val:  1.3101675510406494\n",
      "current_loss: tensor(1.3358, grad_fn=<MeanBackward0>)\n",
      "current_loss: tensor(1.3247, grad_fn=<MeanBackward0>)\n",
      "current_loss_val:  1.297588586807251\n",
      "current_loss: tensor(1.3247, grad_fn=<MeanBackward0>)\n",
      "current_loss: tensor(1.3188, grad_fn=<MeanBackward0>)\n",
      "current_loss_val:  1.2912719249725342\n",
      "current_loss: tensor(1.3188, grad_fn=<MeanBackward0>)\n",
      "current_loss: tensor(1.3142, grad_fn=<MeanBackward0>)\n"
     ]
    },
    {
     "name": "stderr",
     "output_type": "stream",
     "text": [
      "  0%|          | 8/2000 [00:00<02:21, 14.12it/s]"
     ]
    },
    {
     "name": "stdout",
     "output_type": "stream",
     "text": [
      "current_loss_val:  1.2882981300354004\n",
      "current_loss: tensor(1.3142, grad_fn=<MeanBackward0>)\n",
      "current_loss: tensor(1.3133, grad_fn=<MeanBackward0>)\n",
      "current_loss_val:  1.286732792854309\n",
      "current_loss: tensor(1.3133, grad_fn=<MeanBackward0>)\n",
      "current_loss: tensor(1.3056, grad_fn=<MeanBackward0>)\n",
      "current_loss_val:  1.2798967361450195\n",
      "current_loss: tensor(1.3056, grad_fn=<MeanBackward0>)\n",
      "current_loss: tensor(1.3046, grad_fn=<MeanBackward0>)\n",
      "current_loss_val:  1.2794750928878784\n"
     ]
    },
    {
     "name": "stderr",
     "output_type": "stream",
     "text": [
      "  1%|          | 12/2000 [00:00<02:13, 14.88it/s]"
     ]
    },
    {
     "name": "stdout",
     "output_type": "stream",
     "text": [
      "current_loss: tensor(1.3046, grad_fn=<MeanBackward0>)\n",
      "current_loss: tensor(1.3022, grad_fn=<MeanBackward0>)\n",
      "current_loss_val:  1.2790426015853882\n",
      "current_loss: tensor(1.3022, grad_fn=<MeanBackward0>)\n",
      "current_loss: tensor(1.2993, grad_fn=<MeanBackward0>)\n",
      "current_loss_val:  1.2770313024520874\n",
      "current_loss: tensor(1.2993, grad_fn=<MeanBackward0>)\n",
      "current_loss: tensor(1.2983, grad_fn=<MeanBackward0>)\n",
      "current_loss_val:  1.275839924812317\n",
      "current_loss: tensor(1.2983, grad_fn=<MeanBackward0>)\n"
     ]
    },
    {
     "name": "stderr",
     "output_type": "stream",
     "text": [
      "  1%|          | 14/2000 [00:00<02:12, 15.01it/s]"
     ]
    },
    {
     "name": "stdout",
     "output_type": "stream",
     "text": [
      "current_loss: tensor(1.2970, grad_fn=<MeanBackward0>)\n",
      "current_loss_val:  1.2747466564178467\n",
      "current_loss: tensor(1.2970, grad_fn=<MeanBackward0>)\n",
      "current_loss: tensor(1.2950, grad_fn=<MeanBackward0>)\n",
      "current_loss_val:  1.2726335525512695\n",
      "current_loss: tensor(1.2950, grad_fn=<MeanBackward0>)\n",
      "current_loss: tensor(1.2935, grad_fn=<MeanBackward0>)\n",
      "current_loss_val:  1.2705857753753662\n",
      "current_loss: tensor(1.2935, grad_fn=<MeanBackward0>)\n",
      "current_loss: tensor(1.2912, grad_fn=<MeanBackward0>)\n"
     ]
    },
    {
     "name": "stderr",
     "output_type": "stream",
     "text": [
      "  1%|          | 18/2000 [00:01<02:10, 15.19it/s]"
     ]
    },
    {
     "name": "stdout",
     "output_type": "stream",
     "text": [
      "current_loss_val:  1.269879937171936\n",
      "current_loss: tensor(1.2912, grad_fn=<MeanBackward0>)\n",
      "current_loss: tensor(1.2910, grad_fn=<MeanBackward0>)\n",
      "current_loss_val:  1.2690751552581787\n",
      "current_loss: tensor(1.2910, grad_fn=<MeanBackward0>)\n",
      "current_loss: tensor(1.2896, grad_fn=<MeanBackward0>)\n",
      "current_loss_val:  1.2681828737258911\n",
      "current_loss: tensor(1.2896, grad_fn=<MeanBackward0>)\n",
      "current_loss: tensor(1.2893, grad_fn=<MeanBackward0>)\n",
      "current_loss_val:  1.2680803537368774\n"
     ]
    },
    {
     "name": "stderr",
     "output_type": "stream",
     "text": [
      "  1%|          | 22/2000 [00:01<02:09, 15.33it/s]"
     ]
    },
    {
     "name": "stdout",
     "output_type": "stream",
     "text": [
      "current_loss: tensor(1.2893, grad_fn=<MeanBackward0>)\n",
      "current_loss: tensor(1.2884, grad_fn=<MeanBackward0>)\n",
      "current_loss_val:  1.267462134361267\n",
      "current_loss: tensor(1.2884, grad_fn=<MeanBackward0>)\n",
      "current_loss: tensor(1.2883, grad_fn=<MeanBackward0>)\n",
      "current_loss_val:  1.268127679824829\n",
      "current_loss: tensor(1.2883, grad_fn=<MeanBackward0>)\n",
      "current_loss: tensor(1.2878, grad_fn=<MeanBackward0>)\n",
      "current_loss_val:  1.2674829959869385\n",
      "current_loss: tensor(1.2878, grad_fn=<MeanBackward0>)\n"
     ]
    },
    {
     "name": "stderr",
     "output_type": "stream",
     "text": [
      "  1%|          | 24/2000 [00:01<02:09, 15.30it/s]"
     ]
    },
    {
     "name": "stdout",
     "output_type": "stream",
     "text": [
      "current_loss: tensor(1.2877, grad_fn=<MeanBackward0>)\n",
      "current_loss_val:  1.2673629522323608\n",
      "current_loss: tensor(1.2877, grad_fn=<MeanBackward0>)\n",
      "current_loss: tensor(1.2876, grad_fn=<MeanBackward0>)\n",
      "current_loss_val:  1.2673102617263794\n",
      "current_loss: tensor(1.2876, grad_fn=<MeanBackward0>)\n",
      "current_loss: tensor(1.2872, grad_fn=<MeanBackward0>)\n",
      "current_loss_val:  1.2670832872390747\n",
      "current_loss: tensor(1.2872, grad_fn=<MeanBackward0>)\n",
      "current_loss: tensor(1.2865, grad_fn=<MeanBackward0>)\n"
     ]
    },
    {
     "name": "stderr",
     "output_type": "stream",
     "text": [
      "  1%|▏         | 28/2000 [00:01<02:09, 15.26it/s]"
     ]
    },
    {
     "name": "stdout",
     "output_type": "stream",
     "text": [
      "current_loss_val:  1.266464352607727\n",
      "current_loss: tensor(1.2865, grad_fn=<MeanBackward0>)\n",
      "current_loss: tensor(1.2851, grad_fn=<MeanBackward0>)\n",
      "current_loss_val:  1.2644914388656616\n",
      "current_loss: tensor(1.2851, grad_fn=<MeanBackward0>)\n",
      "current_loss: tensor(1.2828, grad_fn=<MeanBackward0>)\n",
      "current_loss_val:  1.2615077495574951\n",
      "current_loss: tensor(1.2828, grad_fn=<MeanBackward0>)\n",
      "current_loss: tensor(1.2818, grad_fn=<MeanBackward0>)\n",
      "current_loss_val:  1.2610136270523071\n"
     ]
    },
    {
     "name": "stderr",
     "output_type": "stream",
     "text": [
      "  2%|▏         | 32/2000 [00:02<02:09, 15.25it/s]"
     ]
    },
    {
     "name": "stdout",
     "output_type": "stream",
     "text": [
      "current_loss: tensor(1.2818, grad_fn=<MeanBackward0>)\n",
      "current_loss: tensor(1.2816, grad_fn=<MeanBackward0>)\n",
      "current_loss_val:  1.2610312700271606\n",
      "current_loss: tensor(1.2816, grad_fn=<MeanBackward0>)\n",
      "current_loss: tensor(1.2805, grad_fn=<MeanBackward0>)\n",
      "current_loss_val:  1.260954737663269\n",
      "current_loss: tensor(1.2805, grad_fn=<MeanBackward0>)\n",
      "current_loss: tensor(1.2800, grad_fn=<MeanBackward0>)\n",
      "current_loss_val:  1.2610012292861938\n",
      "current_loss: tensor(1.2800, grad_fn=<MeanBackward0>)\n"
     ]
    },
    {
     "name": "stderr",
     "output_type": "stream",
     "text": [
      "  2%|▏         | 34/2000 [00:02<02:08, 15.24it/s]"
     ]
    },
    {
     "name": "stdout",
     "output_type": "stream",
     "text": [
      "current_loss: tensor(1.2798, grad_fn=<MeanBackward0>)\n",
      "current_loss_val:  1.2609033584594727\n",
      "current_loss: tensor(1.2798, grad_fn=<MeanBackward0>)\n",
      "current_loss: tensor(1.2796, grad_fn=<MeanBackward0>)\n",
      "current_loss_val:  1.260828971862793\n",
      "current_loss: tensor(1.2796, grad_fn=<MeanBackward0>)\n",
      "current_loss: tensor(1.2796, grad_fn=<MeanBackward0>)\n",
      "current_loss_val:  1.260793685913086\n",
      "current_loss: tensor(1.2796, grad_fn=<MeanBackward0>)\n",
      "current_loss: tensor(1.2795, grad_fn=<MeanBackward0>)\n"
     ]
    },
    {
     "name": "stderr",
     "output_type": "stream",
     "text": [
      "  2%|▏         | 38/2000 [00:02<02:08, 15.28it/s]"
     ]
    },
    {
     "name": "stdout",
     "output_type": "stream",
     "text": [
      "current_loss_val:  1.2606011629104614\n",
      "current_loss: tensor(1.2795, grad_fn=<MeanBackward0>)\n",
      "current_loss: tensor(1.2794, grad_fn=<MeanBackward0>)\n",
      "current_loss_val:  1.2605808973312378\n",
      "current_loss: tensor(1.2794, grad_fn=<MeanBackward0>)\n",
      "current_loss: tensor(1.2793, grad_fn=<MeanBackward0>)\n",
      "current_loss_val:  1.2605807781219482\n",
      "current_loss: tensor(1.2793, grad_fn=<MeanBackward0>)\n",
      "current_loss: tensor(1.2791, grad_fn=<MeanBackward0>)\n",
      "current_loss_val:  1.2604445219039917\n"
     ]
    },
    {
     "name": "stderr",
     "output_type": "stream",
     "text": [
      "  2%|▏         | 42/2000 [00:02<02:09, 15.12it/s]"
     ]
    },
    {
     "name": "stdout",
     "output_type": "stream",
     "text": [
      "current_loss: tensor(1.2791, grad_fn=<MeanBackward0>)\n",
      "current_loss: tensor(1.2790, grad_fn=<MeanBackward0>)\n",
      "current_loss_val:  1.260170817375183\n",
      "current_loss: tensor(1.2790, grad_fn=<MeanBackward0>)\n",
      "current_loss: tensor(1.2785, grad_fn=<MeanBackward0>)\n",
      "current_loss_val:  1.2598768472671509\n",
      "current_loss: tensor(1.2785, grad_fn=<MeanBackward0>)\n",
      "current_loss: tensor(1.2783, grad_fn=<MeanBackward0>)\n",
      "current_loss_val:  1.2598340511322021\n"
     ]
    },
    {
     "name": "stderr",
     "output_type": "stream",
     "text": [
      "  2%|▏         | 44/2000 [00:02<02:15, 14.40it/s]"
     ]
    },
    {
     "name": "stdout",
     "output_type": "stream",
     "text": [
      "current_loss: tensor(1.2783, grad_fn=<MeanBackward0>)\n",
      "current_loss: tensor(1.2783, grad_fn=<MeanBackward0>)\n",
      "current_loss_val:  1.2597967386245728\n",
      "current_loss: tensor(1.2783, grad_fn=<MeanBackward0>)\n",
      "current_loss: tensor(1.2783, grad_fn=<MeanBackward0>)\n",
      "current_loss: tensor(1.2782, grad_fn=<MeanBackward0>)\n",
      "current_loss_val:  1.2597287893295288\n",
      "current_loss: tensor(1.2782, grad_fn=<MeanBackward0>)\n",
      "current_loss: tensor(1.2782, grad_fn=<MeanBackward0>)\n",
      "current_loss_val:  1.259702205657959\n"
     ]
    },
    {
     "name": "stderr",
     "output_type": "stream",
     "text": [
      "  2%|▏         | 46/2000 [00:03<02:12, 14.75it/s]"
     ]
    },
    {
     "name": "stdout",
     "output_type": "stream",
     "text": [
      "current_loss: tensor(1.2782, grad_fn=<MeanBackward0>)\n",
      "current_loss: tensor(1.2779, grad_fn=<MeanBackward0>)\n",
      "current_loss_val:  1.2594581842422485\n",
      "current_loss: tensor(1.2779, grad_fn=<MeanBackward0>)\n",
      "current_loss: tensor(1.2774, grad_fn=<MeanBackward0>)\n",
      "current_loss_val:  1.2588815689086914\n",
      "current_loss: tensor(1.2774, grad_fn=<MeanBackward0>)\n",
      "current_loss: tensor(1.2776, grad_fn=<MeanBackward0>)\n",
      "current_loss: tensor(1.2769, grad_fn=<MeanBackward0>)\n"
     ]
    },
    {
     "name": "stderr",
     "output_type": "stream",
     "text": [
      "  2%|▎         | 50/2000 [00:03<02:23, 13.59it/s]"
     ]
    },
    {
     "name": "stdout",
     "output_type": "stream",
     "text": [
      "current_loss_val:  1.2584229707717896\n",
      "current_loss: tensor(1.2769, grad_fn=<MeanBackward0>)\n",
      "current_loss: tensor(1.2763, grad_fn=<MeanBackward0>)\n",
      "current_loss_val:  1.2577240467071533\n",
      "current_loss: tensor(1.2763, grad_fn=<MeanBackward0>)\n",
      "current_loss: tensor(1.2758, grad_fn=<MeanBackward0>)\n",
      "current_loss_val:  1.2570035457611084\n",
      "current_loss: tensor(1.2758, grad_fn=<MeanBackward0>)\n",
      "current_loss: tensor(1.2751, grad_fn=<MeanBackward0>)\n"
     ]
    },
    {
     "name": "stderr",
     "output_type": "stream",
     "text": [
      "  3%|▎         | 52/2000 [00:03<02:41, 12.04it/s]"
     ]
    },
    {
     "name": "stdout",
     "output_type": "stream",
     "text": [
      "current_loss_val:  1.256502628326416\n",
      "current_loss: tensor(1.2751, grad_fn=<MeanBackward0>)\n",
      "current_loss: tensor(1.2750, grad_fn=<MeanBackward0>)\n",
      "current_loss_val:  1.2558789253234863\n",
      "current_loss: tensor(1.2750, grad_fn=<MeanBackward0>)\n",
      "current_loss: tensor(1.2746, grad_fn=<MeanBackward0>)\n",
      "current_loss_val:  1.25584077835083\n",
      "current_loss: tensor(1.2746, grad_fn=<MeanBackward0>)\n",
      "current_loss: tensor(1.2745, grad_fn=<MeanBackward0>)\n"
     ]
    },
    {
     "name": "stderr",
     "output_type": "stream",
     "text": [
      "  3%|▎         | 54/2000 [00:03<03:14, 10.01it/s]"
     ]
    },
    {
     "name": "stdout",
     "output_type": "stream",
     "text": [
      "current_loss_val:  1.2558554410934448\n",
      "current_loss: tensor(1.2745, grad_fn=<MeanBackward0>)\n",
      "current_loss: tensor(1.2743, grad_fn=<MeanBackward0>)\n",
      "current_loss_val:  1.256070613861084\n",
      "current_loss: tensor(1.2743, grad_fn=<MeanBackward0>)\n",
      "current_loss: tensor(1.2744, grad_fn=<MeanBackward0>)\n"
     ]
    },
    {
     "name": "stderr",
     "output_type": "stream",
     "text": [
      "  3%|▎         | 56/2000 [00:04<03:24,  9.49it/s]"
     ]
    },
    {
     "name": "stdout",
     "output_type": "stream",
     "text": [
      "current_loss: tensor(1.2742, grad_fn=<MeanBackward0>)\n",
      "current_loss_val:  1.2560603618621826\n",
      "current_loss: tensor(1.2742, grad_fn=<MeanBackward0>)\n",
      "current_loss: tensor(1.2741, grad_fn=<MeanBackward0>)\n"
     ]
    },
    {
     "name": "stderr",
     "output_type": "stream",
     "text": [
      "  3%|▎         | 57/2000 [00:04<02:32, 12.71it/s]"
     ]
    },
    {
     "name": "stdout",
     "output_type": "stream",
     "text": [
      "current_loss_val:  1.256041169166565\n",
      "current_loss: tensor(1.2741, grad_fn=<MeanBackward0>)\n",
      "current_loss: tensor(1.2740, grad_fn=<MeanBackward0>)\n",
      "current_loss_val:  1.2559542655944824\n",
      "Early Stop at iteration 57 with minimal loss tensor(1.2558) and patience 5 and min_delta 1e-07\n"
     ]
    },
    {
     "name": "stderr",
     "output_type": "stream",
     "text": [
      "\n",
      "[I 2025-10-14 12:17:32,624] Trial 0 finished with value: -2.511681079864502 and parameters: {'penalty_decorrelation_ridge_first_difference': 6.647526534542412, 'penalty_decorrelation_ridge_second_difference': 3.625989943842151}. Best is trial 0 with value: -2.511681079864502.\n",
      "  0%|          | 1/2000 [00:00<06:08,  5.43it/s]"
     ]
    },
    {
     "name": "stdout",
     "output_type": "stream",
     "text": [
      "current_loss: tensor(1.2805, grad_fn=<MeanBackward0>)\n",
      "current_loss: tensor(1.2799, grad_fn=<MeanBackward0>)\n",
      "current_loss_val:  1.25592839717865\n",
      "current_loss: tensor(1.2799, grad_fn=<MeanBackward0>)\n"
     ]
    },
    {
     "name": "stderr",
     "output_type": "stream",
     "text": [
      "  0%|          | 2/2000 [00:00<07:49,  4.26it/s]"
     ]
    },
    {
     "name": "stdout",
     "output_type": "stream",
     "text": [
      "current_loss: tensor(1.2792, grad_fn=<MeanBackward0>)\n",
      "current_loss_val:  1.2560588121414185\n",
      "current_loss: tensor(1.2792, grad_fn=<MeanBackward0>)\n"
     ]
    },
    {
     "name": "stderr",
     "output_type": "stream",
     "text": [
      "  0%|          | 3/2000 [00:00<08:53,  3.75it/s]"
     ]
    },
    {
     "name": "stdout",
     "output_type": "stream",
     "text": [
      "current_loss: tensor(1.2798, grad_fn=<MeanBackward0>)\n",
      "current_loss: tensor(1.2791, grad_fn=<MeanBackward0>)\n",
      "current_loss_val:  1.2561529874801636\n"
     ]
    },
    {
     "name": "stderr",
     "output_type": "stream",
     "text": [
      "  0%|          | 4/2000 [00:01<08:36,  3.86it/s]"
     ]
    },
    {
     "name": "stdout",
     "output_type": "stream",
     "text": [
      "current_loss: tensor(1.2791, grad_fn=<MeanBackward0>)\n",
      "current_loss: tensor(1.2789, grad_fn=<MeanBackward0>)\n",
      "current_loss_val:  1.2561020851135254\n"
     ]
    },
    {
     "name": "stderr",
     "output_type": "stream",
     "text": [
      "  0%|          | 5/2000 [00:01<08:03,  4.13it/s]"
     ]
    },
    {
     "name": "stdout",
     "output_type": "stream",
     "text": [
      "current_loss: tensor(1.2789, grad_fn=<MeanBackward0>)\n",
      "current_loss: tensor(1.2787, grad_fn=<MeanBackward0>)\n",
      "current_loss_val:  1.256129264831543\n",
      "current_loss: tensor(1.2787, grad_fn=<MeanBackward0>)\n"
     ]
    },
    {
     "name": "stderr",
     "output_type": "stream",
     "text": [
      "  0%|          | 5/2000 [00:01<09:44,  3.42it/s]"
     ]
    },
    {
     "name": "stdout",
     "output_type": "stream",
     "text": [
      "current_loss: tensor(1.2785, grad_fn=<MeanBackward0>)\n",
      "current_loss_val:  1.2563105821609497\n",
      "Early Stop at iteration 5 with minimal loss tensor(1.2559) and patience 5 and min_delta 1e-07\n"
     ]
    },
    {
     "name": "stderr",
     "output_type": "stream",
     "text": [
      "\n",
      "[I 2025-10-14 12:17:35,078] Trial 1 finished with value: -2.511857032775879 and parameters: {'penalty_decorrelation_ridge_first_difference': 10.694760166720942, 'penalty_decorrelation_ridge_second_difference': 7.092434386717487}. Best is trial 0 with value: -2.511681079864502.\n",
      "  0%|          | 1/2000 [00:00<06:55,  4.82it/s]"
     ]
    },
    {
     "name": "stdout",
     "output_type": "stream",
     "text": [
      "current_loss: tensor(1.2779, grad_fn=<MeanBackward0>)\n",
      "current_loss: tensor(1.2782, grad_fn=<MeanBackward0>)\n",
      "current_loss: tensor(1.2773, grad_fn=<MeanBackward0>)\n",
      "current_loss_val:  1.2559113502502441\n"
     ]
    },
    {
     "name": "stderr",
     "output_type": "stream",
     "text": [
      "  0%|          | 2/2000 [00:00<05:57,  5.60it/s]"
     ]
    },
    {
     "name": "stdout",
     "output_type": "stream",
     "text": [
      "current_loss: tensor(1.2773, grad_fn=<MeanBackward0>)\n",
      "current_loss: tensor(1.2769, grad_fn=<MeanBackward0>)\n",
      "current_loss_val:  1.2559387683868408\n",
      "current_loss: tensor(1.2769, grad_fn=<MeanBackward0>)\n",
      "current_loss: tensor(1.2764, grad_fn=<MeanBackward0>)\n"
     ]
    },
    {
     "name": "stderr",
     "output_type": "stream",
     "text": [
      "  0%|          | 4/2000 [00:00<05:42,  5.83it/s]"
     ]
    },
    {
     "name": "stdout",
     "output_type": "stream",
     "text": [
      "current_loss_val:  1.2559744119644165\n",
      "current_loss: tensor(1.2764, grad_fn=<MeanBackward0>)\n",
      "current_loss: tensor(1.2761, grad_fn=<MeanBackward0>)\n",
      "current_loss_val:  1.2560011148452759\n"
     ]
    },
    {
     "name": "stderr",
     "output_type": "stream",
     "text": [
      "  0%|          | 5/2000 [00:00<06:03,  5.48it/s]"
     ]
    },
    {
     "name": "stdout",
     "output_type": "stream",
     "text": [
      "current_loss: tensor(1.2761, grad_fn=<MeanBackward0>)\n",
      "current_loss: tensor(1.2759, grad_fn=<MeanBackward0>)\n",
      "current_loss_val:  1.2560207843780518\n"
     ]
    },
    {
     "name": "stderr",
     "output_type": "stream",
     "text": [
      "  0%|          | 5/2000 [00:01<07:07,  4.66it/s]\n"
     ]
    },
    {
     "name": "stdout",
     "output_type": "stream",
     "text": [
      "current_loss: tensor(1.2759, grad_fn=<MeanBackward0>)\n",
      "current_loss: tensor(1.2757, grad_fn=<MeanBackward0>)\n",
      "current_loss_val:  1.2560231685638428\n",
      "Early Stop at iteration 5 with minimal loss tensor(1.2559) and patience 5 and min_delta 1e-07\n"
     ]
    },
    {
     "name": "stderr",
     "output_type": "stream",
     "text": [
      "[I 2025-10-14 12:17:37,169] Trial 2 finished with value: -2.511822462081909 and parameters: {'penalty_decorrelation_ridge_first_difference': 6.18906385894863, 'penalty_decorrelation_ridge_second_difference': 22.907735119151432}. Best is trial 0 with value: -2.511681079864502.\n",
      "  0%|          | 1/2000 [00:00<05:30,  6.05it/s]"
     ]
    },
    {
     "name": "stdout",
     "output_type": "stream",
     "text": [
      "current_loss: tensor(1.2893, grad_fn=<MeanBackward0>)\n",
      "current_loss: tensor(1.2887, grad_fn=<MeanBackward0>)\n",
      "current_loss_val:  1.2562475204467773\n"
     ]
    },
    {
     "name": "stderr",
     "output_type": "stream",
     "text": [
      "  0%|          | 2/2000 [00:00<06:38,  5.01it/s]"
     ]
    },
    {
     "name": "stdout",
     "output_type": "stream",
     "text": [
      "current_loss: tensor(1.2887, grad_fn=<MeanBackward0>)\n",
      "current_loss: tensor(1.2871, grad_fn=<MeanBackward0>)\n",
      "current_loss_val:  1.2562223672866821\n"
     ]
    },
    {
     "name": "stderr",
     "output_type": "stream",
     "text": [
      "  0%|          | 3/2000 [00:00<08:10,  4.07it/s]"
     ]
    },
    {
     "name": "stdout",
     "output_type": "stream",
     "text": [
      "current_loss: tensor(1.2871, grad_fn=<MeanBackward0>)\n",
      "current_loss: tensor(1.2867, grad_fn=<MeanBackward0>)\n",
      "current_loss_val:  1.2562127113342285\n"
     ]
    },
    {
     "name": "stderr",
     "output_type": "stream",
     "text": [
      "  0%|          | 4/2000 [00:00<07:13,  4.60it/s]"
     ]
    },
    {
     "name": "stdout",
     "output_type": "stream",
     "text": [
      "current_loss: tensor(1.2867, grad_fn=<MeanBackward0>)\n",
      "current_loss: tensor(1.2862, grad_fn=<MeanBackward0>)\n",
      "current_loss_val:  1.2562458515167236\n",
      "current_loss: tensor(1.2862, grad_fn=<MeanBackward0>)\n"
     ]
    },
    {
     "name": "stderr",
     "output_type": "stream",
     "text": [
      "  0%|          | 5/2000 [00:01<07:13,  4.60it/s]"
     ]
    },
    {
     "name": "stdout",
     "output_type": "stream",
     "text": [
      "current_loss: tensor(1.2853, grad_fn=<MeanBackward0>)\n",
      "current_loss_val:  1.256598949432373\n",
      "current_loss: tensor(1.2853, grad_fn=<MeanBackward0>)\n"
     ]
    },
    {
     "name": "stderr",
     "output_type": "stream",
     "text": [
      "  0%|          | 6/2000 [00:01<07:09,  4.65it/s]"
     ]
    },
    {
     "name": "stdout",
     "output_type": "stream",
     "text": [
      "current_loss: tensor(1.2848, grad_fn=<MeanBackward0>)\n",
      "current_loss_val:  1.257367730140686\n",
      "current_loss: tensor(1.2848, grad_fn=<MeanBackward0>)\n",
      "current_loss: tensor(1.2846, grad_fn=<MeanBackward0>)\n"
     ]
    },
    {
     "name": "stderr",
     "output_type": "stream",
     "text": [
      "  0%|          | 7/2000 [00:01<07:28,  4.44it/s]"
     ]
    },
    {
     "name": "stdout",
     "output_type": "stream",
     "text": [
      "current_loss_val:  1.257461667060852\n",
      "current_loss: tensor(1.2846, grad_fn=<MeanBackward0>)\n",
      "current_loss: tensor(1.2846, grad_fn=<MeanBackward0>)\n",
      "current_loss_val:  1.2574381828308105\n",
      "Early Stop at iteration 7 with minimal loss tensor(1.2562) and patience 5 and min_delta 1e-07\n"
     ]
    },
    {
     "name": "stderr",
     "output_type": "stream",
     "text": [
      "\n",
      "[I 2025-10-14 12:17:39,727] Trial 3 finished with value: -2.5124258995056152 and parameters: {'penalty_decorrelation_ridge_first_difference': 15.431218146731485, 'penalty_decorrelation_ridge_second_difference': 20.75423872275492}. Best is trial 0 with value: -2.511681079864502.\n",
      "  0%|          | 0/2000 [00:00<?, ?it/s]"
     ]
    },
    {
     "name": "stdout",
     "output_type": "stream",
     "text": [
      "current_loss: tensor(1.2877, grad_fn=<MeanBackward0>)\n",
      "current_loss: tensor(1.2864, grad_fn=<MeanBackward0>)\n"
     ]
    },
    {
     "name": "stderr",
     "output_type": "stream",
     "text": [
      "  0%|          | 1/2000 [00:00<12:23,  2.69it/s]"
     ]
    },
    {
     "name": "stdout",
     "output_type": "stream",
     "text": [
      "current_loss_val:  1.256123661994934\n",
      "current_loss: tensor(1.2864, grad_fn=<MeanBackward0>)\n",
      "current_loss: tensor(1.2855, grad_fn=<MeanBackward0>)\n"
     ]
    },
    {
     "name": "stderr",
     "output_type": "stream",
     "text": [
      "  0%|          | 3/2000 [00:00<08:08,  4.09it/s]"
     ]
    },
    {
     "name": "stdout",
     "output_type": "stream",
     "text": [
      "current_loss_val:  1.2563698291778564\n",
      "current_loss: tensor(1.2855, grad_fn=<MeanBackward0>)\n",
      "current_loss: tensor(1.2847, grad_fn=<MeanBackward0>)\n",
      "current_loss_val:  1.2565993070602417\n"
     ]
    },
    {
     "name": "stderr",
     "output_type": "stream",
     "text": [
      "  0%|          | 4/2000 [00:01<07:29,  4.44it/s]"
     ]
    },
    {
     "name": "stdout",
     "output_type": "stream",
     "text": [
      "current_loss: tensor(1.2847, grad_fn=<MeanBackward0>)\n",
      "current_loss: tensor(1.2843, grad_fn=<MeanBackward0>)\n",
      "current_loss_val:  1.2570387125015259\n",
      "current_loss: tensor(1.2843, grad_fn=<MeanBackward0>)\n"
     ]
    },
    {
     "name": "stderr",
     "output_type": "stream",
     "text": [
      "  0%|          | 5/2000 [00:01<07:16,  4.57it/s]"
     ]
    },
    {
     "name": "stdout",
     "output_type": "stream",
     "text": [
      "current_loss: tensor(1.2840, grad_fn=<MeanBackward0>)\n",
      "current_loss_val:  1.2571109533309937\n",
      "current_loss: tensor(1.2840, grad_fn=<MeanBackward0>)\n",
      "current_loss: tensor(1.2839, grad_fn=<MeanBackward0>)\n"
     ]
    },
    {
     "name": "stderr",
     "output_type": "stream",
     "text": [
      "  0%|          | 5/2000 [00:01<09:19,  3.57it/s]\n"
     ]
    },
    {
     "name": "stdout",
     "output_type": "stream",
     "text": [
      "current_loss_val:  1.2571560144424438\n",
      "Early Stop at iteration 5 with minimal loss tensor(1.2561) and patience 5 and min_delta 1e-07\n"
     ]
    },
    {
     "name": "stderr",
     "output_type": "stream",
     "text": [
      "[I 2025-10-14 12:17:42,187] Trial 4 finished with value: -2.5122475624084473 and parameters: {'penalty_decorrelation_ridge_first_difference': 15.474143915626279, 'penalty_decorrelation_ridge_second_difference': 12.282629871432851}. Best is trial 0 with value: -2.511681079864502.\n",
      "  0%|          | 1/2000 [00:00<07:02,  4.73it/s]"
     ]
    },
    {
     "name": "stdout",
     "output_type": "stream",
     "text": [
      "current_loss: tensor(1.2885, grad_fn=<MeanBackward0>)\n",
      "current_loss: tensor(1.2885, grad_fn=<MeanBackward0>)\n",
      "current_loss: tensor(1.2873, grad_fn=<MeanBackward0>)\n",
      "current_loss_val:  1.256028413772583\n"
     ]
    },
    {
     "name": "stderr",
     "output_type": "stream",
     "text": [
      "  0%|          | 2/2000 [00:00<06:35,  5.05it/s]"
     ]
    },
    {
     "name": "stdout",
     "output_type": "stream",
     "text": [
      "current_loss: tensor(1.2873, grad_fn=<MeanBackward0>)\n",
      "current_loss: tensor(1.2864, grad_fn=<MeanBackward0>)\n",
      "current_loss_val:  1.2561627626419067\n",
      "current_loss: tensor(1.2864, grad_fn=<MeanBackward0>)\n"
     ]
    },
    {
     "name": "stderr",
     "output_type": "stream",
     "text": [
      "  0%|          | 3/2000 [00:00<05:53,  5.66it/s]"
     ]
    },
    {
     "name": "stdout",
     "output_type": "stream",
     "text": [
      "current_loss: tensor(1.2855, grad_fn=<MeanBackward0>)\n",
      "current_loss_val:  1.2564191818237305\n",
      "current_loss: tensor(1.2855, grad_fn=<MeanBackward0>)\n",
      "current_loss: tensor(1.2848, grad_fn=<MeanBackward0>)\n"
     ]
    },
    {
     "name": "stderr",
     "output_type": "stream",
     "text": [
      "  0%|          | 5/2000 [00:00<05:37,  5.90it/s]"
     ]
    },
    {
     "name": "stdout",
     "output_type": "stream",
     "text": [
      "current_loss_val:  1.256779432296753\n",
      "current_loss: tensor(1.2848, grad_fn=<MeanBackward0>)\n",
      "current_loss: tensor(1.2844, grad_fn=<MeanBackward0>)\n",
      "current_loss_val:  1.2570651769638062\n"
     ]
    },
    {
     "name": "stderr",
     "output_type": "stream",
     "text": [
      "  0%|          | 5/2000 [00:01<06:59,  4.76it/s]\n"
     ]
    },
    {
     "name": "stdout",
     "output_type": "stream",
     "text": [
      "current_loss: tensor(1.2844, grad_fn=<MeanBackward0>)\n",
      "current_loss: tensor(1.2841, grad_fn=<MeanBackward0>)\n",
      "current_loss_val:  1.257106065750122\n",
      "Early Stop at iteration 5 with minimal loss tensor(1.2560) and patience 5 and min_delta 1e-07\n"
     ]
    },
    {
     "name": "stderr",
     "output_type": "stream",
     "text": [
      "[I 2025-10-14 12:17:44,258] Trial 5 finished with value: -2.512056827545166 and parameters: {'penalty_decorrelation_ridge_first_difference': 14.370747333898047, 'penalty_decorrelation_ridge_second_difference': 23.51193727044799}. Best is trial 0 with value: -2.511681079864502.\n",
      "  0%|          | 0/2000 [00:00<?, ?it/s]"
     ]
    },
    {
     "name": "stdout",
     "output_type": "stream",
     "text": [
      "current_loss: tensor(1.2807, grad_fn=<MeanBackward0>)\n",
      "current_loss: tensor(1.2824, grad_fn=<MeanBackward0>)\n",
      "current_loss: tensor(1.2799, grad_fn=<MeanBackward0>)\n"
     ]
    },
    {
     "name": "stderr",
     "output_type": "stream",
     "text": [
      "  0%|          | 1/2000 [00:00<11:02,  3.02it/s]"
     ]
    },
    {
     "name": "stdout",
     "output_type": "stream",
     "text": [
      "current_loss_val:  1.2559313774108887\n",
      "current_loss: tensor(1.2799, grad_fn=<MeanBackward0>)\n",
      "current_loss: tensor(1.2793, grad_fn=<MeanBackward0>)\n"
     ]
    },
    {
     "name": "stderr",
     "output_type": "stream",
     "text": [
      "  0%|          | 3/2000 [00:00<07:32,  4.41it/s]"
     ]
    },
    {
     "name": "stdout",
     "output_type": "stream",
     "text": [
      "current_loss_val:  1.2559806108474731\n",
      "current_loss: tensor(1.2793, grad_fn=<MeanBackward0>)\n",
      "current_loss: tensor(1.2787, grad_fn=<MeanBackward0>)\n",
      "current_loss_val:  1.2560734748840332\n"
     ]
    },
    {
     "name": "stderr",
     "output_type": "stream",
     "text": [
      "  0%|          | 4/2000 [00:00<06:30,  5.11it/s]"
     ]
    },
    {
     "name": "stdout",
     "output_type": "stream",
     "text": [
      "current_loss: tensor(1.2787, grad_fn=<MeanBackward0>)\n",
      "current_loss: tensor(1.2782, grad_fn=<MeanBackward0>)\n",
      "current_loss_val:  1.2561774253845215\n",
      "current_loss: tensor(1.2782, grad_fn=<MeanBackward0>)\n",
      "current_loss: tensor(1.2779, grad_fn=<MeanBackward0>)\n"
     ]
    },
    {
     "name": "stderr",
     "output_type": "stream",
     "text": [
      "  0%|          | 5/2000 [00:01<08:00,  4.15it/s]"
     ]
    },
    {
     "name": "stdout",
     "output_type": "stream",
     "text": [
      "current_loss_val:  1.256276249885559\n",
      "current_loss: tensor(1.2779, grad_fn=<MeanBackward0>)\n",
      "current_loss: tensor(1.2777, grad_fn=<MeanBackward0>)\n",
      "current_loss_val:  1.2563023567199707\n",
      "Early Stop at iteration 5 with minimal loss tensor(1.2559) and patience 5 and min_delta 1e-07\n"
     ]
    },
    {
     "name": "stderr",
     "output_type": "stream",
     "text": [
      "\n",
      "[I 2025-10-14 12:17:46,371] Trial 6 finished with value: -2.5118627548217773 and parameters: {'penalty_decorrelation_ridge_first_difference': 7.313920455321658, 'penalty_decorrelation_ridge_second_difference': 29.243935076103835}. Best is trial 0 with value: -2.511681079864502.\n",
      "  0%|          | 0/2000 [00:00<?, ?it/s]"
     ]
    },
    {
     "name": "stdout",
     "output_type": "stream",
     "text": [
      "current_loss: tensor(1.3058, grad_fn=<MeanBackward0>)\n",
      "current_loss: tensor(1.3029, grad_fn=<MeanBackward0>)\n"
     ]
    },
    {
     "name": "stderr",
     "output_type": "stream",
     "text": [
      "  0%|          | 1/2000 [00:00<12:39,  2.63it/s]"
     ]
    },
    {
     "name": "stdout",
     "output_type": "stream",
     "text": [
      "current_loss_val:  1.256666660308838\n",
      "current_loss: tensor(1.3029, grad_fn=<MeanBackward0>)\n",
      "current_loss: "
     ]
    },
    {
     "name": "stderr",
     "output_type": "stream",
     "text": [
      "  0%|          | 2/2000 [00:00<10:17,  3.23it/s]"
     ]
    },
    {
     "name": "stdout",
     "output_type": "stream",
     "text": [
      "tensor(1.3001, grad_fn=<MeanBackward0>)\n",
      "current_loss_val:  1.2569835186004639\n",
      "current_loss: tensor(1.3001, grad_fn=<MeanBackward0>)\n",
      "current_loss: tensor(1.2988, grad_fn=<MeanBackward0>)\n"
     ]
    },
    {
     "name": "stderr",
     "output_type": "stream",
     "text": [
      "  0%|          | 4/2000 [00:00<07:00,  4.74it/s]"
     ]
    },
    {
     "name": "stdout",
     "output_type": "stream",
     "text": [
      "current_loss_val:  1.2572486400604248\n",
      "current_loss: tensor(1.2988, grad_fn=<MeanBackward0>)\n",
      "current_loss: tensor(1.2970, grad_fn=<MeanBackward0>)\n",
      "current_loss_val:  1.2580084800720215\n"
     ]
    },
    {
     "name": "stderr",
     "output_type": "stream",
     "text": [
      "  0%|          | 5/2000 [00:01<06:40,  4.98it/s]"
     ]
    },
    {
     "name": "stdout",
     "output_type": "stream",
     "text": [
      "current_loss: tensor(1.2970, grad_fn=<MeanBackward0>)\n",
      "current_loss: tensor(1.2961, grad_fn=<MeanBackward0>)\n",
      "current_loss_val:  1.2590757608413696\n",
      "current_loss: tensor(1.2961, grad_fn=<MeanBackward0>)\n"
     ]
    },
    {
     "name": "stderr",
     "output_type": "stream",
     "text": [
      "  0%|          | 5/2000 [00:01<08:46,  3.79it/s]\n"
     ]
    },
    {
     "name": "stdout",
     "output_type": "stream",
     "text": [
      "current_loss: tensor(1.2955, grad_fn=<MeanBackward0>)\n",
      "current_loss_val:  1.2595442533493042\n",
      "Early Stop at iteration 5 with minimal loss tensor(1.2567) and patience 5 and min_delta 1e-07\n"
     ]
    },
    {
     "name": "stderr",
     "output_type": "stream",
     "text": [
      "[I 2025-10-14 12:17:48,621] Trial 7 finished with value: -2.513333320617676 and parameters: {'penalty_decorrelation_ridge_first_difference': 28.747194084417504, 'penalty_decorrelation_ridge_second_difference': 18.14496148548734}. Best is trial 0 with value: -2.511681079864502.\n",
      "  0%|          | 1/2000 [00:00<05:37,  5.92it/s]"
     ]
    },
    {
     "name": "stdout",
     "output_type": "stream",
     "text": [
      "current_loss: tensor(1.2902, grad_fn=<MeanBackward0>)\n",
      "current_loss: tensor(1.2887, grad_fn=<MeanBackward0>)\n",
      "current_loss_val:  1.2561200857162476\n",
      "current_loss: tensor(1.2887, grad_fn=<MeanBackward0>)\n"
     ]
    },
    {
     "name": "stderr",
     "output_type": "stream",
     "text": [
      "  0%|          | 2/2000 [00:00<05:22,  6.20it/s]"
     ]
    },
    {
     "name": "stdout",
     "output_type": "stream",
     "text": [
      "current_loss: tensor(1.2870, grad_fn=<MeanBackward0>)\n",
      "current_loss_val:  1.2569838762283325\n",
      "current_loss: tensor(1.2870, grad_fn=<MeanBackward0>)\n",
      "current_loss: tensor(1.2868, grad_fn=<MeanBackward0>)\n"
     ]
    },
    {
     "name": "stderr",
     "output_type": "stream",
     "text": [
      "  0%|          | 4/2000 [00:00<05:22,  6.19it/s]"
     ]
    },
    {
     "name": "stdout",
     "output_type": "stream",
     "text": [
      "current_loss_val:  1.2574630975723267\n",
      "current_loss: tensor(1.2868, grad_fn=<MeanBackward0>)\n",
      "current_loss: tensor(1.2862, grad_fn=<MeanBackward0>)\n",
      "current_loss_val:  1.257305383682251\n",
      "current_loss: tensor(1.2862, grad_fn=<MeanBackward0>)\n"
     ]
    },
    {
     "name": "stderr",
     "output_type": "stream",
     "text": [
      "  0%|          | 5/2000 [00:00<05:11,  6.40it/s]"
     ]
    },
    {
     "name": "stdout",
     "output_type": "stream",
     "text": [
      "current_loss: tensor(1.2861, grad_fn=<MeanBackward0>)\n",
      "current_loss_val:  1.257262945175171\n",
      "current_loss: tensor(1.2861, grad_fn=<MeanBackward0>)\n",
      "current_loss: tensor(1.2860, grad_fn=<MeanBackward0>)\n"
     ]
    },
    {
     "name": "stderr",
     "output_type": "stream",
     "text": [
      "  0%|          | 5/2000 [00:00<06:19,  5.25it/s]\n"
     ]
    },
    {
     "name": "stdout",
     "output_type": "stream",
     "text": [
      "current_loss_val:  1.2572332620620728\n",
      "Early Stop at iteration 5 with minimal loss tensor(1.2561) and patience 5 and min_delta 1e-07\n"
     ]
    },
    {
     "name": "stderr",
     "output_type": "stream",
     "text": [
      "[I 2025-10-14 12:17:50,554] Trial 8 finished with value: -2.512240409851074 and parameters: {'penalty_decorrelation_ridge_first_difference': 18.45936391845907, 'penalty_decorrelation_ridge_second_difference': 5.790248793001566}. Best is trial 0 with value: -2.511681079864502.\n",
      "  0%|          | 1/2000 [00:00<04:25,  7.54it/s]"
     ]
    },
    {
     "name": "stdout",
     "output_type": "stream",
     "text": [
      "current_loss: tensor(1.2893, grad_fn=<MeanBackward0>)\n",
      "current_loss: tensor(1.2886, grad_fn=<MeanBackward0>)\n",
      "current_loss_val:  1.2562463283538818\n",
      "current_loss: tensor(1.2886, grad_fn=<MeanBackward0>)\n"
     ]
    },
    {
     "name": "stderr",
     "output_type": "stream",
     "text": [
      "  0%|          | 2/2000 [00:00<05:49,  5.71it/s]"
     ]
    },
    {
     "name": "stdout",
     "output_type": "stream",
     "text": [
      "current_loss: tensor(1.2871, grad_fn=<MeanBackward0>)\n",
      "current_loss_val:  1.2562252283096313\n",
      "current_loss: tensor(1.2871, grad_fn=<MeanBackward0>)\n",
      "current_loss: tensor(1.2867, grad_fn=<MeanBackward0>)\n"
     ]
    },
    {
     "name": "stderr",
     "output_type": "stream",
     "text": [
      "  0%|          | 4/2000 [00:00<05:36,  5.94it/s]"
     ]
    },
    {
     "name": "stdout",
     "output_type": "stream",
     "text": [
      "current_loss_val:  1.2562170028686523\n",
      "current_loss: tensor(1.2867, grad_fn=<MeanBackward0>)\n",
      "current_loss: tensor(1.2862, grad_fn=<MeanBackward0>)\n",
      "current_loss_val:  1.2562522888183594\n"
     ]
    },
    {
     "name": "stderr",
     "output_type": "stream",
     "text": [
      "  0%|          | 5/2000 [00:00<05:44,  5.79it/s]"
     ]
    },
    {
     "name": "stdout",
     "output_type": "stream",
     "text": [
      "current_loss: tensor(1.2862, grad_fn=<MeanBackward0>)\n",
      "current_loss: tensor(1.2853, grad_fn=<MeanBackward0>)\n",
      "current_loss_val:  1.2566152811050415\n",
      "current_loss: tensor(1.2853, grad_fn=<MeanBackward0>)\n"
     ]
    },
    {
     "name": "stderr",
     "output_type": "stream",
     "text": [
      "  0%|          | 6/2000 [00:01<05:40,  5.86it/s]"
     ]
    },
    {
     "name": "stdout",
     "output_type": "stream",
     "text": [
      "current_loss: tensor(1.2848, grad_fn=<MeanBackward0>)\n",
      "current_loss_val:  1.2573611736297607\n",
      "current_loss: tensor(1.2848, grad_fn=<MeanBackward0>)\n",
      "current_loss: tensor(1.2846, grad_fn=<MeanBackward0>)\n"
     ]
    },
    {
     "name": "stderr",
     "output_type": "stream",
     "text": [
      "  0%|          | 7/2000 [00:01<06:15,  5.31it/s]"
     ]
    },
    {
     "name": "stdout",
     "output_type": "stream",
     "text": [
      "current_loss_val:  1.2574560642242432\n",
      "current_loss: tensor(1.2846, grad_fn=<MeanBackward0>)\n",
      "current_loss: tensor(1.2846, grad_fn=<MeanBackward0>)\n",
      "current_loss_val:  1.257436990737915\n",
      "Early Stop at iteration 7 with minimal loss tensor(1.2562) and patience 5 and min_delta 1e-07\n"
     ]
    },
    {
     "name": "stderr",
     "output_type": "stream",
     "text": [
      "\n",
      "[I 2025-10-14 12:17:52,730] Trial 9 finished with value: -2.5124340057373047 and parameters: {'penalty_decorrelation_ridge_first_difference': 15.461493316245832, 'penalty_decorrelation_ridge_second_difference': 20.592390978435564}. Best is trial 0 with value: -2.511681079864502.\n",
      "  0%|          | 0/2000 [00:00<?, ?it/s]"
     ]
    },
    {
     "name": "stdout",
     "output_type": "stream",
     "text": [
      "current_loss: tensor(1.3039, grad_fn=<MeanBackward0>)\n",
      "current_loss: tensor(1.3040, grad_fn=<MeanBackward0>)\n"
     ]
    },
    {
     "name": "stderr",
     "output_type": "stream",
     "text": [
      "  0%|          | 1/2000 [00:00<17:37,  1.89it/s]"
     ]
    },
    {
     "name": "stdout",
     "output_type": "stream",
     "text": [
      "current_loss: tensor(1.3014, grad_fn=<MeanBackward0>)\n",
      "current_loss_val:  1.25620698928833\n"
     ]
    },
    {
     "name": "stderr",
     "output_type": "stream",
     "text": [
      "  0%|          | 2/2000 [00:00<10:16,  3.24it/s]"
     ]
    },
    {
     "name": "stdout",
     "output_type": "stream",
     "text": [
      "current_loss: tensor(1.3014, grad_fn=<MeanBackward0>)\n",
      "current_loss: tensor(1.2993, grad_fn=<MeanBackward0>)\n",
      "current_loss_val:  1.2565269470214844\n",
      "current_loss: tensor(1.2993, grad_fn=<MeanBackward0>)\n",
      "current_loss: tensor(1.2973, grad_fn=<MeanBackward0>)\n"
     ]
    },
    {
     "name": "stderr",
     "output_type": "stream",
     "text": [
      "  0%|          | 4/2000 [00:00<06:45,  4.92it/s]"
     ]
    },
    {
     "name": "stdout",
     "output_type": "stream",
     "text": [
      "current_loss_val:  1.2571226358413696\n",
      "current_loss: tensor(1.2973, grad_fn=<MeanBackward0>)\n",
      "current_loss: tensor(1.2957, grad_fn=<MeanBackward0>)\n",
      "current_loss_val:  1.2581610679626465\n",
      "current_loss: tensor(1.2957, grad_fn=<MeanBackward0>)\n"
     ]
    },
    {
     "name": "stderr",
     "output_type": "stream",
     "text": [
      "  0%|          | 5/2000 [00:01<06:28,  5.13it/s]"
     ]
    },
    {
     "name": "stdout",
     "output_type": "stream",
     "text": [
      "current_loss: tensor(1.2950, grad_fn=<MeanBackward0>)\n",
      "current_loss_val:  1.2587922811508179\n",
      "current_loss: tensor(1.2950, grad_fn=<MeanBackward0>)\n",
      "current_loss: tensor(1.2945, grad_fn=<MeanBackward0>)\n"
     ]
    },
    {
     "name": "stderr",
     "output_type": "stream",
     "text": [
      "  0%|          | 5/2000 [00:01<08:50,  3.76it/s]\n"
     ]
    },
    {
     "name": "stdout",
     "output_type": "stream",
     "text": [
      "current_loss_val:  1.2588441371917725\n",
      "Early Stop at iteration 5 with minimal loss tensor(1.2562) and patience 5 and min_delta 1e-07\n"
     ]
    },
    {
     "name": "stderr",
     "output_type": "stream",
     "text": [
      "[I 2025-10-14 12:17:54,777] Trial 10 finished with value: -2.51241397857666 and parameters: {'penalty_decorrelation_ridge_first_difference': 25.874257611432522, 'penalty_decorrelation_ridge_second_difference': 26.851147170752174}. Best is trial 0 with value: -2.511681079864502.\n",
      "  0%|          | 2/2000 [00:00<02:12, 15.09it/s]"
     ]
    },
    {
     "name": "stdout",
     "output_type": "stream",
     "text": [
      "current_loss: tensor(1.2901, grad_fn=<MeanBackward0>)\n",
      "current_loss: tensor(1.2888, grad_fn=<MeanBackward0>)\n",
      "current_loss_val:  1.2560895681381226\n",
      "current_loss: tensor(1.2888, grad_fn=<MeanBackward0>)\n",
      "current_loss: tensor(1.2868, grad_fn=<MeanBackward0>)\n",
      "current_loss_val:  1.2570269107818604\n",
      "current_loss: tensor(1.2868, grad_fn=<MeanBackward0>)\n",
      "current_loss: tensor(1.2871, grad_fn=<MeanBackward0>)\n",
      "current_loss: tensor(1.2863, grad_fn=<MeanBackward0>)\n",
      "current_loss_val:  1.257519245147705\n"
     ]
    },
    {
     "name": "stderr",
     "output_type": "stream",
     "text": [
      "  0%|          | 5/2000 [00:00<02:46, 11.97it/s]"
     ]
    },
    {
     "name": "stdout",
     "output_type": "stream",
     "text": [
      "current_loss: tensor(1.2863, grad_fn=<MeanBackward0>)\n",
      "current_loss: tensor(1.2861, grad_fn=<MeanBackward0>)\n",
      "current_loss_val:  1.2576229572296143\n",
      "current_loss: tensor(1.2861, grad_fn=<MeanBackward0>)\n",
      "current_loss: tensor(1.2857, grad_fn=<MeanBackward0>)\n",
      "current_loss_val:  1.2577600479125977\n",
      "current_loss: tensor(1.2857, grad_fn=<MeanBackward0>)\n",
      "current_loss: tensor(1.2856, grad_fn=<MeanBackward0>)\n",
      "current_loss_val:  1.2578593492507935\n",
      "Early Stop at iteration 5 with minimal loss tensor(1.2561) and patience 5 and min_delta 1e-07\n"
     ]
    },
    {
     "name": "stderr",
     "output_type": "stream",
     "text": [
      "\n",
      "[I 2025-10-14 12:17:55,893] Trial 11 finished with value: -2.512179136276245 and parameters: {'penalty_decorrelation_ridge_first_difference': 18.95218811581922, 'penalty_decorrelation_ridge_second_difference': 2.4534949456693287}. Best is trial 0 with value: -2.511681079864502.\n",
      "  0%|          | 2/2000 [00:00<02:29, 13.36it/s]"
     ]
    },
    {
     "name": "stdout",
     "output_type": "stream",
     "text": [
      "current_loss: tensor(1.3013, grad_fn=<MeanBackward0>)\n",
      "current_loss: tensor(1.3016, grad_fn=<MeanBackward0>)\n",
      "current_loss: tensor(1.2990, grad_fn=<MeanBackward0>)\n",
      "current_loss_val:  1.2561683654785156\n",
      "current_loss: tensor(1.2990, grad_fn=<MeanBackward0>)\n",
      "current_loss: tensor(1.2972, grad_fn=<MeanBackward0>)\n",
      "current_loss_val:  1.2564473152160645\n",
      "current_loss: tensor(1.2972, grad_fn=<MeanBackward0>)\n",
      "current_loss: tensor(1.2954, grad_fn=<MeanBackward0>)\n",
      "current_loss_val:  1.2569814920425415\n"
     ]
    },
    {
     "name": "stderr",
     "output_type": "stream",
     "text": [
      "  0%|          | 5/2000 [00:00<02:43, 12.17it/s]"
     ]
    },
    {
     "name": "stdout",
     "output_type": "stream",
     "text": [
      "current_loss: tensor(1.2954, grad_fn=<MeanBackward0>)\n",
      "current_loss: tensor(1.2939, grad_fn=<MeanBackward0>)\n",
      "current_loss_val:  1.2578860521316528\n",
      "current_loss: tensor(1.2939, grad_fn=<MeanBackward0>)\n",
      "current_loss: tensor(1.2933, grad_fn=<MeanBackward0>)\n",
      "current_loss_val:  1.2584723234176636\n",
      "current_loss: tensor(1.2933, grad_fn=<MeanBackward0>)\n",
      "current_loss: tensor(1.2928, grad_fn=<MeanBackward0>)\n",
      "current_loss_val:  1.2585245370864868\n",
      "Early Stop at iteration 5 with minimal loss tensor(1.2562) and patience 5 and min_delta 1e-07\n"
     ]
    },
    {
     "name": "stderr",
     "output_type": "stream",
     "text": [
      "\n",
      "[I 2025-10-14 12:17:56,986] Trial 12 finished with value: -2.5123367309570312 and parameters: {'penalty_decorrelation_ridge_first_difference': 23.779541260412227, 'penalty_decorrelation_ridge_second_difference': 26.94557862558733}. Best is trial 0 with value: -2.511681079864502.\n",
      "  0%|          | 2/2000 [00:00<02:07, 15.71it/s]"
     ]
    },
    {
     "name": "stdout",
     "output_type": "stream",
     "text": [
      "current_loss: tensor(1.2903, grad_fn=<MeanBackward0>)\n",
      "current_loss: tensor(1.2888, grad_fn=<MeanBackward0>)\n",
      "current_loss_val:  1.2561744451522827\n",
      "current_loss: tensor(1.2888, grad_fn=<MeanBackward0>)\n",
      "current_loss: tensor(1.2876, grad_fn=<MeanBackward0>)\n",
      "current_loss_val:  1.2565889358520508\n",
      "current_loss: tensor(1.2876, grad_fn=<MeanBackward0>)\n",
      "current_loss: tensor(1.2867, grad_fn=<MeanBackward0>)\n",
      "current_loss_val:  1.2568954229354858\n",
      "current_loss: tensor(1.2867, grad_fn=<MeanBackward0>)\n"
     ]
    },
    {
     "name": "stderr",
     "output_type": "stream",
     "text": [
      "  0%|          | 5/2000 [00:00<02:34, 12.88it/s]"
     ]
    },
    {
     "name": "stdout",
     "output_type": "stream",
     "text": [
      "current_loss: tensor(1.2863, grad_fn=<MeanBackward0>)\n",
      "current_loss_val:  1.2574834823608398\n",
      "current_loss: tensor(1.2863, grad_fn=<MeanBackward0>)\n",
      "current_loss: tensor(1.2860, grad_fn=<MeanBackward0>)\n",
      "current_loss_val:  1.2574106454849243\n",
      "current_loss: tensor(1.2860, grad_fn=<MeanBackward0>)\n",
      "current_loss: tensor(1.2859, grad_fn=<MeanBackward0>)\n",
      "current_loss_val:  1.2574771642684937\n",
      "Early Stop at iteration 5 with minimal loss tensor(1.2562) and patience 5 and min_delta 1e-07\n"
     ]
    },
    {
     "name": "stderr",
     "output_type": "stream",
     "text": [
      "\n",
      "[I 2025-10-14 12:17:57,988] Trial 13 finished with value: -2.5123486518859863 and parameters: {'penalty_decorrelation_ridge_first_difference': 17.748290652896344, 'penalty_decorrelation_ridge_second_difference': 11.134594776161734}. Best is trial 0 with value: -2.511681079864502.\n",
      "  0%|          | 2/2000 [00:00<02:09, 15.39it/s]"
     ]
    },
    {
     "name": "stdout",
     "output_type": "stream",
     "text": [
      "current_loss: tensor(1.3052, grad_fn=<MeanBackward0>)\n",
      "current_loss: tensor(1.3014, grad_fn=<MeanBackward0>)\n",
      "current_loss_val:  1.256534218788147\n",
      "current_loss: tensor(1.3014, grad_fn=<MeanBackward0>)\n",
      "current_loss: tensor(1.2984, grad_fn=<MeanBackward0>)\n",
      "current_loss_val:  1.2580057382583618\n",
      "current_loss: tensor(1.2984, grad_fn=<MeanBackward0>)\n",
      "current_loss: tensor(1.2969, grad_fn=<MeanBackward0>)\n",
      "current_loss_val:  1.2587164640426636\n",
      "current_loss: tensor(1.2969, grad_fn=<MeanBackward0>)\n"
     ]
    },
    {
     "name": "stderr",
     "output_type": "stream",
     "text": [
      "  0%|          | 5/2000 [00:00<02:36, 12.76it/s]"
     ]
    },
    {
     "name": "stdout",
     "output_type": "stream",
     "text": [
      "current_loss: tensor(1.2961, grad_fn=<MeanBackward0>)\n",
      "current_loss_val:  1.2591313123703003\n",
      "current_loss: tensor(1.2961, grad_fn=<MeanBackward0>)\n",
      "current_loss: tensor(1.2955, grad_fn=<MeanBackward0>)\n",
      "current_loss_val:  1.2594894170761108\n",
      "current_loss: tensor(1.2955, grad_fn=<MeanBackward0>)\n",
      "current_loss: tensor(1.2949, grad_fn=<MeanBackward0>)\n",
      "current_loss_val:  1.260212779045105\n",
      "Early Stop at iteration 5 with minimal loss tensor(1.2565) and patience 5 and min_delta 1e-07\n"
     ]
    },
    {
     "name": "stderr",
     "output_type": "stream",
     "text": [
      "\n",
      "[I 2025-10-14 12:17:59,076] Trial 14 finished with value: -2.513068437576294 and parameters: {'penalty_decorrelation_ridge_first_difference': 29.771592626826493, 'penalty_decorrelation_ridge_second_difference': 8.655949137848106}. Best is trial 0 with value: -2.511681079864502.\n",
      "  0%|          | 2/2000 [00:00<02:06, 15.77it/s]"
     ]
    },
    {
     "name": "stdout",
     "output_type": "stream",
     "text": [
      "current_loss: tensor(1.2658, grad_fn=<MeanBackward0>)\n",
      "current_loss: tensor(1.2653, grad_fn=<MeanBackward0>)\n",
      "current_loss_val:  1.2556509971618652\n",
      "current_loss: tensor(1.2653, grad_fn=<MeanBackward0>)\n",
      "current_loss: tensor(1.2641, grad_fn=<MeanBackward0>)\n",
      "current_loss_val:  1.2557564973831177\n",
      "current_loss: tensor(1.2641, grad_fn=<MeanBackward0>)\n",
      "current_loss: tensor(1.2672, grad_fn=<MeanBackward0>)\n",
      "current_loss: tensor(1.2639, grad_fn=<MeanBackward0>)\n",
      "current_loss_val:  1.255771279335022\n"
     ]
    },
    {
     "name": "stderr",
     "output_type": "stream",
     "text": [
      "  0%|          | 4/2000 [00:00<02:35, 12.83it/s]"
     ]
    },
    {
     "name": "stdout",
     "output_type": "stream",
     "text": [
      "current_loss: tensor(1.2639, grad_fn=<MeanBackward0>)\n",
      "current_loss: tensor(1.2638, grad_fn=<MeanBackward0>)\n",
      "current_loss: tensor(1.2636, grad_fn=<MeanBackward0>)\n",
      "current_loss_val:  1.2560762166976929\n",
      "current_loss: tensor(1.2636, grad_fn=<MeanBackward0>)\n",
      "current_loss: tensor(1.2631, grad_fn=<MeanBackward0>)\n",
      "current_loss_val:  1.2558268308639526\n",
      "current_loss: tensor(1.2631, grad_fn=<MeanBackward0>)\n",
      "current_loss: tensor(1.2649, grad_fn=<MeanBackward0>)\n"
     ]
    },
    {
     "name": "stderr",
     "output_type": "stream",
     "text": [
      "  0%|          | 5/2000 [00:00<03:05, 10.73it/s]\n"
     ]
    },
    {
     "name": "stdout",
     "output_type": "stream",
     "text": [
      "current_loss: tensor(1.2631, grad_fn=<MeanBackward0>)\n",
      "current_loss_val:  1.2556860446929932\n",
      "Early Stop at iteration 5 with minimal loss tensor(1.2557) and patience 5 and min_delta 1e-07\n"
     ]
    },
    {
     "name": "stderr",
     "output_type": "stream",
     "text": [
      "[I 2025-10-14 12:18:00,169] Trial 15 finished with value: -2.5113022327423096 and parameters: {'penalty_decorrelation_ridge_first_difference': 0.09307163943455965, 'penalty_decorrelation_ridge_second_difference': 1.3340238577406254}. Best is trial 15 with value: -2.5113022327423096.\n",
      "  0%|          | 2/2000 [00:00<02:08, 15.56it/s]"
     ]
    },
    {
     "name": "stdout",
     "output_type": "stream",
     "text": [
      "current_loss: tensor(1.2660, grad_fn=<MeanBackward0>)\n",
      "current_loss: tensor(1.2657, grad_fn=<MeanBackward0>)\n",
      "current_loss_val:  1.25565505027771\n",
      "current_loss: tensor(1.2657, grad_fn=<MeanBackward0>)\n",
      "current_loss: tensor(1.2645, grad_fn=<MeanBackward0>)\n",
      "current_loss_val:  1.2556548118591309\n",
      "current_loss: tensor(1.2645, grad_fn=<MeanBackward0>)\n",
      "current_loss: tensor(1.2672, grad_fn=<MeanBackward0>)\n",
      "current_loss: tensor(1.2643, grad_fn=<MeanBackward0>)\n",
      "current_loss_val:  1.2556663751602173\n"
     ]
    },
    {
     "name": "stderr",
     "output_type": "stream",
     "text": [
      "  0%|          | 4/2000 [00:00<02:35, 12.86it/s]"
     ]
    },
    {
     "name": "stdout",
     "output_type": "stream",
     "text": [
      "current_loss: tensor(1.2643, grad_fn=<MeanBackward0>)\n",
      "current_loss: tensor(1.2642, grad_fn=<MeanBackward0>)\n",
      "current_loss: tensor(1.2640, grad_fn=<MeanBackward0>)\n",
      "current_loss_val:  1.2559161186218262\n",
      "current_loss: tensor(1.2640, grad_fn=<MeanBackward0>)\n",
      "current_loss: tensor(1.2636, grad_fn=<MeanBackward0>)\n",
      "current_loss_val:  1.2556663751602173\n",
      "current_loss: tensor(1.2636, grad_fn=<MeanBackward0>)\n",
      "current_loss: tensor(1.2654, grad_fn=<MeanBackward0>)\n",
      "current_loss: tensor(1.2635, grad_fn=<MeanBackward0>)\n"
     ]
    },
    {
     "name": "stderr",
     "output_type": "stream",
     "text": [
      "  0%|          | 8/2000 [00:00<02:35, 12.82it/s]"
     ]
    },
    {
     "name": "stdout",
     "output_type": "stream",
     "text": [
      "current_loss_val:  1.2555676698684692\n",
      "current_loss: tensor(1.2635, grad_fn=<MeanBackward0>)\n",
      "current_loss: tensor(1.2635, grad_fn=<MeanBackward0>)\n",
      "current_loss: tensor(1.2635, grad_fn=<MeanBackward0>)\n",
      "current_loss_val:  1.255316972732544\n",
      "current_loss: tensor(1.2635, grad_fn=<MeanBackward0>)\n",
      "current_loss: tensor(1.2633, grad_fn=<MeanBackward0>)\n",
      "current_loss_val:  1.2550957202911377\n",
      "current_loss: tensor(1.2633, grad_fn=<MeanBackward0>)\n",
      "current_loss: tensor(1.2635, grad_fn=<MeanBackward0>)\n"
     ]
    },
    {
     "name": "stderr",
     "output_type": "stream",
     "text": [
      "  0%|          | 10/2000 [00:00<02:34, 12.92it/s]"
     ]
    },
    {
     "name": "stdout",
     "output_type": "stream",
     "text": [
      "current_loss: tensor(1.2632, grad_fn=<MeanBackward0>)\n",
      "current_loss_val:  1.255547285079956\n",
      "current_loss: tensor(1.2632, grad_fn=<MeanBackward0>)\n",
      "current_loss: tensor(1.2632, grad_fn=<MeanBackward0>)\n",
      "current_loss_val:  1.2555415630340576\n",
      "current_loss: tensor(1.2632, grad_fn=<MeanBackward0>)\n",
      "current_loss: tensor(1.2631, grad_fn=<MeanBackward0>)\n",
      "current_loss_val:  1.2554353475570679\n",
      "current_loss: tensor(1.2631, grad_fn=<MeanBackward0>)\n",
      "current_loss: tensor(1.2706, grad_fn=<MeanBackward0>)\n"
     ]
    },
    {
     "name": "stderr",
     "output_type": "stream",
     "text": [
      "  1%|          | 12/2000 [00:00<02:43, 12.12it/s]"
     ]
    },
    {
     "name": "stdout",
     "output_type": "stream",
     "text": [
      "current_loss: tensor(1.2630, grad_fn=<MeanBackward0>)\n",
      "current_loss_val:  1.2553902864456177\n",
      "current_loss: tensor(1.2630, grad_fn=<MeanBackward0>)\n",
      "current_loss: tensor(1.2630, grad_fn=<MeanBackward0>)\n",
      "current_loss_val:  1.2552824020385742\n",
      "Early Stop at iteration 12 with minimal loss tensor(1.2551) and patience 5 and min_delta 1e-07\n"
     ]
    },
    {
     "name": "stderr",
     "output_type": "stream",
     "text": [
      "\n",
      "[I 2025-10-14 12:18:01,790] Trial 16 finished with value: -2.5101914405822754 and parameters: {'penalty_decorrelation_ridge_first_difference': 0.320229433541634, 'penalty_decorrelation_ridge_second_difference': 1.3488003031303246}. Best is trial 16 with value: -2.5101914405822754.\n",
      "  0%|          | 2/2000 [00:00<02:10, 15.34it/s]"
     ]
    },
    {
     "name": "stdout",
     "output_type": "stream",
     "text": [
      "current_loss: tensor(1.2706, grad_fn=<MeanBackward0>)\n",
      "current_loss: tensor(1.2703, grad_fn=<MeanBackward0>)\n",
      "current_loss_val:  1.2558091878890991\n",
      "current_loss: tensor(1.2703, grad_fn=<MeanBackward0>)\n",
      "current_loss: tensor(1.2700, grad_fn=<MeanBackward0>)\n",
      "current_loss_val:  1.2557460069656372\n",
      "current_loss: tensor(1.2700, grad_fn=<MeanBackward0>)\n",
      "current_loss: tensor(1.2698, grad_fn=<MeanBackward0>)\n",
      "current_loss_val:  1.2556564807891846\n",
      "current_loss: tensor(1.2698, grad_fn=<MeanBackward0>)\n"
     ]
    },
    {
     "name": "stderr",
     "output_type": "stream",
     "text": [
      "  0%|          | 6/2000 [00:00<02:12, 15.07it/s]"
     ]
    },
    {
     "name": "stdout",
     "output_type": "stream",
     "text": [
      "current_loss: tensor(1.2696, grad_fn=<MeanBackward0>)\n",
      "current_loss_val:  1.2555303573608398\n",
      "current_loss: tensor(1.2696, grad_fn=<MeanBackward0>)\n",
      "current_loss: tensor(1.2693, grad_fn=<MeanBackward0>)\n",
      "current_loss_val:  1.2553523778915405\n",
      "current_loss: tensor(1.2693, grad_fn=<MeanBackward0>)\n",
      "current_loss: tensor(1.2690, grad_fn=<MeanBackward0>)\n",
      "current_loss_val:  1.255267858505249\n",
      "current_loss: tensor(1.2690, grad_fn=<MeanBackward0>)\n"
     ]
    },
    {
     "name": "stderr",
     "output_type": "stream",
     "text": [
      "  0%|          | 8/2000 [00:00<02:12, 14.99it/s]"
     ]
    },
    {
     "name": "stdout",
     "output_type": "stream",
     "text": [
      "current_loss: tensor(1.2689, grad_fn=<MeanBackward0>)\n",
      "current_loss_val:  1.2552378177642822\n",
      "current_loss: tensor(1.2689, grad_fn=<MeanBackward0>)\n",
      "current_loss: tensor(1.2687, grad_fn=<MeanBackward0>)\n",
      "current_loss_val:  1.2552103996276855\n",
      "current_loss: tensor(1.2687, grad_fn=<MeanBackward0>)\n",
      "current_loss: tensor(1.2686, grad_fn=<MeanBackward0>)\n",
      "current_loss_val:  1.2551645040512085\n",
      "current_loss: tensor(1.2686, grad_fn=<MeanBackward0>)\n",
      "current_loss: tensor(1.2685, grad_fn=<MeanBackward0>)\n"
     ]
    },
    {
     "name": "stderr",
     "output_type": "stream",
     "text": [
      "  1%|          | 12/2000 [00:00<02:12, 15.03it/s]"
     ]
    },
    {
     "name": "stdout",
     "output_type": "stream",
     "text": [
      "current_loss_val:  1.255161166191101\n",
      "current_loss: tensor(1.2685, grad_fn=<MeanBackward0>)\n",
      "current_loss: tensor(1.2685, grad_fn=<MeanBackward0>)\n",
      "current_loss_val:  1.2551376819610596\n",
      "current_loss: tensor(1.2685, grad_fn=<MeanBackward0>)\n",
      "current_loss: tensor(1.2684, grad_fn=<MeanBackward0>)\n",
      "current_loss_val:  1.25510835647583\n",
      "current_loss: tensor(1.2684, grad_fn=<MeanBackward0>)\n",
      "current_loss: tensor(1.2684, grad_fn=<MeanBackward0>)\n",
      "current_loss_val:  1.2550973892211914\n"
     ]
    },
    {
     "name": "stderr",
     "output_type": "stream",
     "text": [
      "  1%|          | 16/2000 [00:01<02:10, 15.21it/s]"
     ]
    },
    {
     "name": "stdout",
     "output_type": "stream",
     "text": [
      "current_loss: tensor(1.2684, grad_fn=<MeanBackward0>)\n",
      "current_loss: tensor(1.2684, grad_fn=<MeanBackward0>)\n",
      "current_loss_val:  1.255062460899353\n",
      "current_loss: tensor(1.2684, grad_fn=<MeanBackward0>)\n",
      "current_loss: tensor(1.2683, grad_fn=<MeanBackward0>)\n",
      "current_loss_val:  1.2550591230392456\n",
      "current_loss: tensor(1.2683, grad_fn=<MeanBackward0>)\n",
      "current_loss: tensor(1.2683, grad_fn=<MeanBackward0>)\n",
      "current_loss_val:  1.2550557851791382\n",
      "current_loss: tensor(1.2683, grad_fn=<MeanBackward0>)\n"
     ]
    },
    {
     "name": "stderr",
     "output_type": "stream",
     "text": [
      "  1%|          | 18/2000 [00:01<02:10, 15.23it/s]"
     ]
    },
    {
     "name": "stdout",
     "output_type": "stream",
     "text": [
      "current_loss: tensor(1.2682, grad_fn=<MeanBackward0>)\n",
      "current_loss_val:  1.2550078630447388\n",
      "current_loss: tensor(1.2682, grad_fn=<MeanBackward0>)\n",
      "current_loss: tensor(1.2682, grad_fn=<MeanBackward0>)\n",
      "current_loss_val:  1.2549715042114258\n",
      "current_loss: tensor(1.2682, grad_fn=<MeanBackward0>)\n",
      "current_loss: tensor(1.2681, grad_fn=<MeanBackward0>)\n",
      "current_loss_val:  1.2550009489059448\n",
      "current_loss: tensor(1.2681, grad_fn=<MeanBackward0>)\n",
      "current_loss: tensor(1.2681, grad_fn=<MeanBackward0>)\n"
     ]
    },
    {
     "name": "stderr",
     "output_type": "stream",
     "text": [
      "  1%|          | 22/2000 [00:01<02:10, 15.14it/s]"
     ]
    },
    {
     "name": "stdout",
     "output_type": "stream",
     "text": [
      "current_loss_val:  1.2549105882644653\n",
      "current_loss: tensor(1.2681, grad_fn=<MeanBackward0>)\n",
      "current_loss: tensor(1.2680, grad_fn=<MeanBackward0>)\n",
      "current_loss_val:  1.2548906803131104\n",
      "current_loss: tensor(1.2680, grad_fn=<MeanBackward0>)\n",
      "current_loss: tensor(1.2680, grad_fn=<MeanBackward0>)\n",
      "current_loss_val:  1.2548606395721436\n",
      "current_loss: tensor(1.2680, grad_fn=<MeanBackward0>)\n",
      "current_loss: tensor(1.2679, grad_fn=<MeanBackward0>)\n"
     ]
    },
    {
     "name": "stderr",
     "output_type": "stream",
     "text": [
      "  1%|▏         | 26/2000 [00:01<02:09, 15.26it/s]"
     ]
    },
    {
     "name": "stdout",
     "output_type": "stream",
     "text": [
      "current_loss_val:  1.2548494338989258\n",
      "current_loss: tensor(1.2679, grad_fn=<MeanBackward0>)\n",
      "current_loss: tensor(1.2679, grad_fn=<MeanBackward0>)\n",
      "current_loss_val:  1.2548009157180786\n",
      "current_loss: tensor(1.2679, grad_fn=<MeanBackward0>)\n",
      "current_loss: tensor(1.2679, grad_fn=<MeanBackward0>)\n",
      "current_loss_val:  1.254785418510437\n",
      "current_loss: tensor(1.2679, grad_fn=<MeanBackward0>)\n",
      "current_loss: tensor(1.2678, grad_fn=<MeanBackward0>)\n",
      "current_loss_val:  1.2546370029449463\n"
     ]
    },
    {
     "name": "stderr",
     "output_type": "stream",
     "text": [
      "  1%|▏         | 28/2000 [00:01<02:09, 15.29it/s]"
     ]
    },
    {
     "name": "stdout",
     "output_type": "stream",
     "text": [
      "current_loss: tensor(1.2678, grad_fn=<MeanBackward0>)\n",
      "current_loss: tensor(1.2677, grad_fn=<MeanBackward0>)\n",
      "current_loss_val:  1.2544498443603516\n",
      "current_loss: tensor(1.2677, grad_fn=<MeanBackward0>)\n",
      "current_loss: tensor(1.2676, grad_fn=<MeanBackward0>)\n",
      "current_loss_val:  1.254439115524292\n",
      "current_loss: tensor(1.2676, grad_fn=<MeanBackward0>)\n",
      "current_loss: tensor(1.2676, grad_fn=<MeanBackward0>)\n",
      "current_loss_val:  1.254416823387146\n",
      "current_loss: tensor(1.2676, grad_fn=<MeanBackward0>)\n"
     ]
    },
    {
     "name": "stderr",
     "output_type": "stream",
     "text": [
      "  2%|▏         | 32/2000 [00:02<02:11, 15.02it/s]"
     ]
    },
    {
     "name": "stdout",
     "output_type": "stream",
     "text": [
      "current_loss: tensor(1.2676, grad_fn=<MeanBackward0>)\n",
      "current_loss_val:  1.2543904781341553\n",
      "current_loss: tensor(1.2676, grad_fn=<MeanBackward0>)\n",
      "current_loss: tensor(1.2675, grad_fn=<MeanBackward0>)\n",
      "current_loss_val:  1.2543551921844482\n",
      "current_loss: tensor(1.2675, grad_fn=<MeanBackward0>)\n",
      "current_loss: tensor(1.2675, grad_fn=<MeanBackward0>)\n",
      "current_loss_val:  1.2543078660964966\n",
      "current_loss: tensor(1.2675, grad_fn=<MeanBackward0>)\n"
     ]
    },
    {
     "name": "stderr",
     "output_type": "stream",
     "text": [
      "  2%|▏         | 34/2000 [00:02<02:10, 15.10it/s]"
     ]
    },
    {
     "name": "stdout",
     "output_type": "stream",
     "text": [
      "current_loss: tensor(1.2675, grad_fn=<MeanBackward0>)\n",
      "current_loss_val:  1.2542548179626465\n",
      "current_loss: tensor(1.2675, grad_fn=<MeanBackward0>)\n",
      "current_loss: tensor(1.2674, grad_fn=<MeanBackward0>)\n",
      "current_loss_val:  1.2539480924606323\n",
      "current_loss: tensor(1.2674, grad_fn=<MeanBackward0>)\n",
      "current_loss: tensor(1.2673, grad_fn=<MeanBackward0>)\n",
      "current_loss_val:  1.2537308931350708\n",
      "current_loss: tensor(1.2673, grad_fn=<MeanBackward0>)\n",
      "current_loss: tensor(1.2672, grad_fn=<MeanBackward0>)\n"
     ]
    },
    {
     "name": "stderr",
     "output_type": "stream",
     "text": [
      "  2%|▏         | 38/2000 [00:02<02:16, 14.41it/s]"
     ]
    },
    {
     "name": "stdout",
     "output_type": "stream",
     "text": [
      "current_loss_val:  1.2536683082580566\n",
      "current_loss: tensor(1.2672, grad_fn=<MeanBackward0>)\n",
      "current_loss: tensor(1.2672, grad_fn=<MeanBackward0>)\n",
      "current_loss: tensor(1.2671, grad_fn=<MeanBackward0>)\n",
      "current_loss_val:  1.2534270286560059\n",
      "current_loss: tensor(1.2671, grad_fn=<MeanBackward0>)\n",
      "current_loss: tensor(1.2670, grad_fn=<MeanBackward0>)\n",
      "current_loss_val:  1.2532094717025757\n",
      "current_loss: tensor(1.2670, grad_fn=<MeanBackward0>)\n",
      "current_loss: tensor(1.2670, grad_fn=<MeanBackward0>)\n"
     ]
    },
    {
     "name": "stderr",
     "output_type": "stream",
     "text": [
      "  2%|▏         | 42/2000 [00:02<02:12, 14.78it/s]"
     ]
    },
    {
     "name": "stdout",
     "output_type": "stream",
     "text": [
      "current_loss_val:  1.2531894445419312\n",
      "current_loss: tensor(1.2670, grad_fn=<MeanBackward0>)\n",
      "current_loss: tensor(1.2670, grad_fn=<MeanBackward0>)\n",
      "current_loss_val:  1.2531275749206543\n",
      "current_loss: tensor(1.2670, grad_fn=<MeanBackward0>)\n",
      "current_loss: tensor(1.2670, grad_fn=<MeanBackward0>)\n",
      "current_loss_val:  1.2529340982437134\n",
      "current_loss: tensor(1.2670, grad_fn=<MeanBackward0>)\n",
      "current_loss: tensor(1.2669, grad_fn=<MeanBackward0>)\n",
      "current_loss_val:  1.252925992012024\n"
     ]
    },
    {
     "name": "stderr",
     "output_type": "stream",
     "text": [
      "  2%|▏         | 44/2000 [00:02<02:11, 14.92it/s]"
     ]
    },
    {
     "name": "stdout",
     "output_type": "stream",
     "text": [
      "current_loss: tensor(1.2669, grad_fn=<MeanBackward0>)\n",
      "current_loss: tensor(1.2669, grad_fn=<MeanBackward0>)\n",
      "current_loss_val:  1.2529233694076538\n",
      "current_loss: tensor(1.2669, grad_fn=<MeanBackward0>)\n",
      "current_loss: tensor(1.2669, grad_fn=<MeanBackward0>)\n",
      "current_loss_val:  1.2529138326644897\n",
      "current_loss: tensor(1.2669, grad_fn=<MeanBackward0>)\n",
      "current_loss: tensor(1.2669, grad_fn=<MeanBackward0>)\n",
      "current_loss_val:  1.2529085874557495\n",
      "current_loss: tensor(1.2669, grad_fn=<MeanBackward0>)\n"
     ]
    },
    {
     "name": "stderr",
     "output_type": "stream",
     "text": [
      "  2%|▏         | 46/2000 [00:03<02:09, 15.04it/s]"
     ]
    },
    {
     "name": "stdout",
     "output_type": "stream",
     "text": [
      "current_loss: tensor(1.2668, grad_fn=<MeanBackward0>)\n",
      "current_loss_val:  1.2528713941574097\n",
      "current_loss: tensor(1.2668, grad_fn=<MeanBackward0>)\n",
      "current_loss: tensor(1.2668, grad_fn=<MeanBackward0>)\n"
     ]
    },
    {
     "name": "stderr",
     "output_type": "stream",
     "text": [
      "  2%|▏         | 48/2000 [00:03<03:11, 10.19it/s]"
     ]
    },
    {
     "name": "stdout",
     "output_type": "stream",
     "text": [
      "current_loss_val:  1.2528358697891235\n",
      "current_loss: tensor(1.2668, grad_fn=<MeanBackward0>)\n",
      "current_loss: tensor(1.2667, grad_fn=<MeanBackward0>)\n",
      "current_loss_val:  1.252811312675476\n",
      "current_loss: tensor(1.2667, grad_fn=<MeanBackward0>)\n",
      "current_loss: tensor(1.2667, grad_fn=<MeanBackward0>)\n",
      "current_loss_val:  1.2527340650558472\n",
      "current_loss: tensor(1.2667, grad_fn=<MeanBackward0>)\n",
      "current_loss: tensor(1.2667, grad_fn=<MeanBackward0>)\n"
     ]
    },
    {
     "name": "stderr",
     "output_type": "stream",
     "text": [
      "  3%|▎         | 52/2000 [00:03<02:46, 11.72it/s]"
     ]
    },
    {
     "name": "stdout",
     "output_type": "stream",
     "text": [
      "current_loss_val:  1.2527145147323608\n",
      "current_loss: tensor(1.2667, grad_fn=<MeanBackward0>)\n",
      "current_loss: tensor(1.2666, grad_fn=<MeanBackward0>)\n",
      "current_loss_val:  1.2526510953903198\n",
      "current_loss: tensor(1.2666, grad_fn=<MeanBackward0>)\n",
      "current_loss: tensor(1.2666, grad_fn=<MeanBackward0>)\n",
      "current_loss: tensor(1.2666, grad_fn=<MeanBackward0>)\n",
      "current_loss_val:  1.2526131868362427\n",
      "current_loss: tensor(1.2666, grad_fn=<MeanBackward0>)\n",
      "current_loss: tensor(1.2665, grad_fn=<MeanBackward0>)\n"
     ]
    },
    {
     "name": "stderr",
     "output_type": "stream",
     "text": [
      "  3%|▎         | 56/2000 [00:03<02:25, 13.32it/s]"
     ]
    },
    {
     "name": "stdout",
     "output_type": "stream",
     "text": [
      "current_loss_val:  1.252575397491455\n",
      "current_loss: tensor(1.2665, grad_fn=<MeanBackward0>)\n",
      "current_loss: tensor(1.2665, grad_fn=<MeanBackward0>)\n",
      "current_loss_val:  1.2524820566177368\n",
      "current_loss: tensor(1.2665, grad_fn=<MeanBackward0>)\n",
      "current_loss: tensor(1.2665, grad_fn=<MeanBackward0>)\n",
      "current_loss_val:  1.252414584159851\n",
      "current_loss: tensor(1.2665, grad_fn=<MeanBackward0>)\n",
      "current_loss: tensor(1.2665, grad_fn=<MeanBackward0>)\n",
      "current_loss_val:  1.2524232864379883\n"
     ]
    },
    {
     "name": "stderr",
     "output_type": "stream",
     "text": [
      "  3%|▎         | 58/2000 [00:04<02:20, 13.82it/s]"
     ]
    },
    {
     "name": "stdout",
     "output_type": "stream",
     "text": [
      "current_loss: tensor(1.2665, grad_fn=<MeanBackward0>)\n",
      "current_loss: tensor(1.2665, grad_fn=<MeanBackward0>)\n",
      "current_loss_val:  1.2524386644363403\n",
      "current_loss: tensor(1.2665, grad_fn=<MeanBackward0>)\n",
      "current_loss: tensor(1.2665, grad_fn=<MeanBackward0>)\n",
      "current_loss_val:  1.2524559497833252\n",
      "current_loss: tensor(1.2665, grad_fn=<MeanBackward0>)\n",
      "current_loss: tensor(1.2665, grad_fn=<MeanBackward0>)\n",
      "current_loss: tensor(1.2665, grad_fn=<MeanBackward0>)\n",
      "current_loss_val:  1.2524501085281372\n"
     ]
    },
    {
     "name": "stderr",
     "output_type": "stream",
     "text": [
      "  3%|▎         | 59/2000 [00:04<02:19, 13.93it/s]\n"
     ]
    },
    {
     "name": "stdout",
     "output_type": "stream",
     "text": [
      "current_loss: tensor(1.2665, grad_fn=<MeanBackward0>)\n",
      "current_loss: tensor(1.2665, grad_fn=<MeanBackward0>)\n",
      "current_loss_val:  1.2524510622024536\n",
      "Early Stop at iteration 59 with minimal loss tensor(1.2524) and patience 5 and min_delta 1e-07\n"
     ]
    },
    {
     "name": "stderr",
     "output_type": "stream",
     "text": [
      "[I 2025-10-14 12:18:06,684] Trial 17 finished with value: -2.504829168319702 and parameters: {'penalty_decorrelation_ridge_first_difference': 1.6751114044214828, 'penalty_decorrelation_ridge_second_difference': 15.042813285522236}. Best is trial 17 with value: -2.504829168319702.\n",
      "  0%|          | 2/2000 [00:00<02:11, 15.18it/s]"
     ]
    },
    {
     "name": "stdout",
     "output_type": "stream",
     "text": [
      "current_loss: tensor(1.2744, grad_fn=<MeanBackward0>)\n",
      "current_loss: tensor(1.2741, grad_fn=<MeanBackward0>)\n",
      "current_loss_val:  1.2558671236038208\n",
      "current_loss: tensor(1.2741, grad_fn=<MeanBackward0>)\n",
      "current_loss: tensor(1.2738, grad_fn=<MeanBackward0>)\n",
      "current_loss_val:  1.2558233737945557\n",
      "current_loss: tensor(1.2738, grad_fn=<MeanBackward0>)\n",
      "current_loss: tensor(1.2735, grad_fn=<MeanBackward0>)\n",
      "current_loss_val:  1.2557592391967773\n"
     ]
    },
    {
     "name": "stderr",
     "output_type": "stream",
     "text": [
      "  0%|          | 6/2000 [00:00<02:17, 14.50it/s]"
     ]
    },
    {
     "name": "stdout",
     "output_type": "stream",
     "text": [
      "current_loss: tensor(1.2735, grad_fn=<MeanBackward0>)\n",
      "current_loss: tensor(1.2733, grad_fn=<MeanBackward0>)\n",
      "current_loss_val:  1.2556579113006592\n",
      "current_loss: tensor(1.2733, grad_fn=<MeanBackward0>)\n",
      "current_loss: tensor(1.2731, grad_fn=<MeanBackward0>)\n",
      "current_loss_val:  1.2557203769683838\n",
      "current_loss: tensor(1.2731, grad_fn=<MeanBackward0>)\n",
      "current_loss: tensor(1.2729, grad_fn=<MeanBackward0>)\n",
      "current_loss_val:  1.2555630207061768\n",
      "current_loss: "
     ]
    },
    {
     "name": "stderr",
     "output_type": "stream",
     "text": [
      "  0%|          | 8/2000 [00:00<02:15, 14.74it/s]"
     ]
    },
    {
     "name": "stdout",
     "output_type": "stream",
     "text": [
      "tensor(1.2729, grad_fn=<MeanBackward0>)\n",
      "current_loss: tensor(1.2729, grad_fn=<MeanBackward0>)\n",
      "current_loss_val:  1.2555463314056396\n",
      "current_loss: tensor(1.2729, grad_fn=<MeanBackward0>)\n",
      "current_loss: tensor(1.2727, grad_fn=<MeanBackward0>)\n",
      "current_loss_val:  1.255548357963562\n",
      "current_loss: tensor(1.2727, grad_fn=<MeanBackward0>)\n",
      "current_loss: tensor(1.2726, grad_fn=<MeanBackward0>)\n",
      "current_loss_val:  1.255454659461975\n",
      "current_loss: tensor(1.2726, grad_fn=<MeanBackward0>)\n"
     ]
    },
    {
     "name": "stderr",
     "output_type": "stream",
     "text": [
      "  1%|          | 12/2000 [00:00<02:14, 14.79it/s]"
     ]
    },
    {
     "name": "stdout",
     "output_type": "stream",
     "text": [
      "current_loss: tensor(1.2725, grad_fn=<MeanBackward0>)\n",
      "current_loss_val:  1.2554439306259155\n",
      "current_loss: tensor(1.2725, grad_fn=<MeanBackward0>)\n",
      "current_loss: tensor(1.2724, grad_fn=<MeanBackward0>)\n",
      "current_loss_val:  1.2553926706314087\n",
      "current_loss: tensor(1.2724, grad_fn=<MeanBackward0>)\n",
      "current_loss: tensor(1.2724, grad_fn=<MeanBackward0>)\n",
      "current_loss_val:  1.255251169204712\n",
      "current_loss: tensor(1.2724, grad_fn=<MeanBackward0>)\n",
      "current_loss: "
     ]
    },
    {
     "name": "stderr",
     "output_type": "stream",
     "text": [
      "  1%|          | 14/2000 [00:00<02:12, 14.96it/s]"
     ]
    },
    {
     "name": "stdout",
     "output_type": "stream",
     "text": [
      "tensor(1.2723, grad_fn=<MeanBackward0>)\n",
      "current_loss_val:  1.2552741765975952\n",
      "current_loss: tensor(1.2723, grad_fn=<MeanBackward0>)\n",
      "current_loss: tensor(1.2723, grad_fn=<MeanBackward0>)\n",
      "current_loss_val:  1.2552316188812256\n",
      "current_loss: tensor(1.2723, grad_fn=<MeanBackward0>)\n",
      "current_loss: tensor(1.2723, grad_fn=<MeanBackward0>)\n",
      "current_loss_val:  1.255218744277954\n",
      "current_loss: tensor(1.2723, grad_fn=<MeanBackward0>)\n",
      "current_loss: tensor(1.2722, grad_fn=<MeanBackward0>)\n"
     ]
    },
    {
     "name": "stderr",
     "output_type": "stream",
     "text": [
      "  1%|          | 18/2000 [00:01<02:19, 14.24it/s]"
     ]
    },
    {
     "name": "stdout",
     "output_type": "stream",
     "text": [
      "current_loss_val:  1.2552156448364258\n",
      "current_loss: tensor(1.2722, grad_fn=<MeanBackward0>)\n",
      "current_loss: tensor(1.2723, grad_fn=<MeanBackward0>)\n",
      "current_loss: tensor(1.2722, grad_fn=<MeanBackward0>)\n",
      "current_loss_val:  1.255228877067566\n",
      "current_loss: tensor(1.2722, grad_fn=<MeanBackward0>)\n",
      "current_loss: tensor(1.2722, grad_fn=<MeanBackward0>)\n",
      "current_loss_val:  1.255210280418396\n",
      "current_loss: tensor(1.2722, grad_fn=<MeanBackward0>)\n",
      "current_loss: tensor(1.2722, grad_fn=<MeanBackward0>)\n"
     ]
    },
    {
     "name": "stderr",
     "output_type": "stream",
     "text": [
      "  1%|          | 22/2000 [00:01<02:14, 14.73it/s]"
     ]
    },
    {
     "name": "stdout",
     "output_type": "stream",
     "text": [
      "current_loss_val:  1.2551909685134888\n",
      "current_loss: tensor(1.2722, grad_fn=<MeanBackward0>)\n",
      "current_loss: tensor(1.2722, grad_fn=<MeanBackward0>)\n",
      "current_loss_val:  1.2551919221878052\n",
      "current_loss: tensor(1.2722, grad_fn=<MeanBackward0>)\n",
      "current_loss: tensor(1.2722, grad_fn=<MeanBackward0>)\n",
      "current_loss_val:  1.25514554977417\n",
      "current_loss: tensor(1.2722, grad_fn=<MeanBackward0>)\n",
      "current_loss: tensor(1.2721, grad_fn=<MeanBackward0>)\n",
      "current_loss_val:  1.2551329135894775\n"
     ]
    },
    {
     "name": "stderr",
     "output_type": "stream",
     "text": [
      "  1%|          | 24/2000 [00:01<02:19, 14.17it/s]"
     ]
    },
    {
     "name": "stdout",
     "output_type": "stream",
     "text": [
      "current_loss: tensor(1.2721, grad_fn=<MeanBackward0>)\n",
      "current_loss: tensor(1.2721, grad_fn=<MeanBackward0>)\n",
      "current_loss_val:  1.2550519704818726\n",
      "current_loss: tensor(1.2721, grad_fn=<MeanBackward0>)\n",
      "current_loss: tensor(1.2721, grad_fn=<MeanBackward0>)\n",
      "current_loss: tensor(1.2720, grad_fn=<MeanBackward0>)\n",
      "current_loss_val:  1.2550208568572998\n",
      "current_loss: tensor(1.2720, grad_fn=<MeanBackward0>)\n",
      "current_loss: tensor(1.2720, grad_fn=<MeanBackward0>)\n"
     ]
    },
    {
     "name": "stderr",
     "output_type": "stream",
     "text": [
      "  1%|▏         | 26/2000 [00:01<02:18, 14.27it/s]"
     ]
    },
    {
     "name": "stdout",
     "output_type": "stream",
     "text": [
      "current_loss_val:  1.2549519538879395\n",
      "current_loss: tensor(1.2720, grad_fn=<MeanBackward0>)\n",
      "current_loss: tensor(1.2720, grad_fn=<MeanBackward0>)\n",
      "current_loss_val:  1.2548798322677612\n",
      "current_loss: tensor(1.2720, grad_fn=<MeanBackward0>)\n",
      "current_loss: tensor(1.2720, grad_fn=<MeanBackward0>)\n",
      "current_loss: tensor(1.2719, grad_fn=<MeanBackward0>)\n",
      "current_loss_val:  1.2548277378082275\n",
      "current_loss: tensor(1.2719, grad_fn=<MeanBackward0>)\n",
      "current_loss: tensor(1.2719, grad_fn=<MeanBackward0>)\n"
     ]
    },
    {
     "name": "stderr",
     "output_type": "stream",
     "text": [
      "  2%|▏         | 30/2000 [00:02<02:18, 14.19it/s]"
     ]
    },
    {
     "name": "stdout",
     "output_type": "stream",
     "text": [
      "current_loss_val:  1.2547433376312256\n",
      "current_loss: tensor(1.2719, grad_fn=<MeanBackward0>)\n",
      "current_loss: tensor(1.2717, grad_fn=<MeanBackward0>)\n",
      "current_loss_val:  1.2542989253997803\n",
      "current_loss: tensor(1.2717, grad_fn=<MeanBackward0>)\n",
      "current_loss: tensor(1.2715, grad_fn=<MeanBackward0>)\n",
      "current_loss_val:  1.2539039850234985\n",
      "current_loss: tensor(1.2715, grad_fn=<MeanBackward0>)\n",
      "current_loss: tensor(1.2714, grad_fn=<MeanBackward0>)\n",
      "current_loss_val:  1.2535258531570435\n"
     ]
    },
    {
     "name": "stderr",
     "output_type": "stream",
     "text": [
      "  2%|▏         | 34/2000 [00:02<02:14, 14.65it/s]"
     ]
    },
    {
     "name": "stdout",
     "output_type": "stream",
     "text": [
      "current_loss: tensor(1.2714, grad_fn=<MeanBackward0>)\n",
      "current_loss: tensor(1.2712, grad_fn=<MeanBackward0>)\n",
      "current_loss_val:  1.2532521486282349\n",
      "current_loss: tensor(1.2712, grad_fn=<MeanBackward0>)\n",
      "current_loss: tensor(1.2712, grad_fn=<MeanBackward0>)\n",
      "current_loss_val:  1.2530583143234253\n",
      "current_loss: tensor(1.2712, grad_fn=<MeanBackward0>)\n",
      "current_loss: tensor(1.2711, grad_fn=<MeanBackward0>)\n",
      "current_loss_val:  1.25290846824646\n",
      "current_loss: tensor(1.2711, grad_fn=<MeanBackward0>)\n"
     ]
    },
    {
     "name": "stderr",
     "output_type": "stream",
     "text": [
      "  2%|▏         | 36/2000 [00:02<02:12, 14.80it/s]"
     ]
    },
    {
     "name": "stdout",
     "output_type": "stream",
     "text": [
      "current_loss: tensor(1.2710, grad_fn=<MeanBackward0>)\n",
      "current_loss_val:  1.252533197402954\n",
      "current_loss: tensor(1.2710, grad_fn=<MeanBackward0>)\n",
      "current_loss: tensor(1.2709, grad_fn=<MeanBackward0>)\n",
      "current_loss_val:  1.2524967193603516\n",
      "current_loss: tensor(1.2709, grad_fn=<MeanBackward0>)\n",
      "current_loss: tensor(1.2708, grad_fn=<MeanBackward0>)\n",
      "current_loss_val:  1.2524443864822388\n",
      "current_loss: tensor(1.2708, grad_fn=<MeanBackward0>)\n",
      "current_loss: tensor(1.2707, grad_fn=<MeanBackward0>)\n"
     ]
    },
    {
     "name": "stderr",
     "output_type": "stream",
     "text": [
      "  2%|▏         | 40/2000 [00:02<02:11, 14.88it/s]"
     ]
    },
    {
     "name": "stdout",
     "output_type": "stream",
     "text": [
      "current_loss_val:  1.2523301839828491\n",
      "current_loss: tensor(1.2707, grad_fn=<MeanBackward0>)\n",
      "current_loss: tensor(1.2704, grad_fn=<MeanBackward0>)\n",
      "current_loss_val:  1.2521611452102661\n",
      "current_loss: tensor(1.2704, grad_fn=<MeanBackward0>)\n",
      "current_loss: tensor(1.2703, grad_fn=<MeanBackward0>)\n",
      "current_loss_val:  1.252111792564392\n",
      "current_loss: tensor(1.2703, grad_fn=<MeanBackward0>)\n",
      "current_loss: tensor(1.2702, grad_fn=<MeanBackward0>)\n",
      "current_loss_val:  1.2520625591278076\n"
     ]
    },
    {
     "name": "stderr",
     "output_type": "stream",
     "text": [
      "  2%|▏         | 44/2000 [00:03<02:09, 15.07it/s]"
     ]
    },
    {
     "name": "stdout",
     "output_type": "stream",
     "text": [
      "current_loss: tensor(1.2702, grad_fn=<MeanBackward0>)\n",
      "current_loss: tensor(1.2701, grad_fn=<MeanBackward0>)\n",
      "current_loss_val:  1.252069354057312\n",
      "current_loss: tensor(1.2701, grad_fn=<MeanBackward0>)\n",
      "current_loss: tensor(1.2701, grad_fn=<MeanBackward0>)\n",
      "current_loss_val:  1.252079725265503\n",
      "current_loss: tensor(1.2701, grad_fn=<MeanBackward0>)\n",
      "current_loss: tensor(1.2701, grad_fn=<MeanBackward0>)\n",
      "current_loss_val:  1.252128005027771\n",
      "current_loss: tensor(1.2701, grad_fn=<MeanBackward0>)\n"
     ]
    },
    {
     "name": "stderr",
     "output_type": "stream",
     "text": [
      "  2%|▏         | 45/2000 [00:03<02:17, 14.25it/s]\n"
     ]
    },
    {
     "name": "stdout",
     "output_type": "stream",
     "text": [
      "current_loss: tensor(1.2701, grad_fn=<MeanBackward0>)\n",
      "current_loss: tensor(1.2700, grad_fn=<MeanBackward0>)\n",
      "current_loss_val:  1.2521675825119019\n",
      "current_loss: tensor(1.2700, grad_fn=<MeanBackward0>)\n",
      "current_loss: tensor(1.2700, grad_fn=<MeanBackward0>)\n",
      "current_loss_val:  1.2521737813949585\n",
      "Early Stop at iteration 45 with minimal loss tensor(1.2521) and patience 5 and min_delta 1e-07\n"
     ]
    },
    {
     "name": "stderr",
     "output_type": "stream",
     "text": [
      "[I 2025-10-14 12:18:10,464] Trial 18 finished with value: -2.5041251182556152 and parameters: {'penalty_decorrelation_ridge_first_difference': 4.867742855043293, 'penalty_decorrelation_ridge_second_difference': 13.820186406076322}. Best is trial 18 with value: -2.5041251182556152.\n",
      "  0%|          | 2/2000 [00:00<02:07, 15.61it/s]"
     ]
    },
    {
     "name": "stdout",
     "output_type": "stream",
     "text": [
      "current_loss: tensor(1.2691, grad_fn=<MeanBackward0>)\n",
      "current_loss: tensor(1.2688, grad_fn=<MeanBackward0>)\n",
      "current_loss_val:  1.255768060684204\n",
      "current_loss: tensor(1.2688, grad_fn=<MeanBackward0>)\n",
      "current_loss: tensor(1.2685, grad_fn=<MeanBackward0>)\n",
      "current_loss_val:  1.2556477785110474\n",
      "current_loss: tensor(1.2685, grad_fn=<MeanBackward0>)\n",
      "current_loss: tensor(1.2682, grad_fn=<MeanBackward0>)\n",
      "current_loss_val:  1.2554842233657837\n",
      "current_loss: tensor(1.2682, grad_fn=<MeanBackward0>)\n"
     ]
    },
    {
     "name": "stderr",
     "output_type": "stream",
     "text": [
      "  0%|          | 6/2000 [00:00<02:12, 15.05it/s]"
     ]
    },
    {
     "name": "stdout",
     "output_type": "stream",
     "text": [
      "current_loss: tensor(1.2680, grad_fn=<MeanBackward0>)\n",
      "current_loss_val:  1.255325198173523\n",
      "current_loss: tensor(1.2680, grad_fn=<MeanBackward0>)\n",
      "current_loss: tensor(1.2678, grad_fn=<MeanBackward0>)\n",
      "current_loss_val:  1.2552746534347534\n",
      "current_loss: tensor(1.2678, grad_fn=<MeanBackward0>)\n",
      "current_loss: tensor(1.2676, grad_fn=<MeanBackward0>)\n",
      "current_loss_val:  1.255278468132019\n",
      "current_loss: tensor(1.2676, grad_fn=<MeanBackward0>)\n"
     ]
    },
    {
     "name": "stderr",
     "output_type": "stream",
     "text": [
      "  0%|          | 8/2000 [00:00<02:11, 15.18it/s]"
     ]
    },
    {
     "name": "stdout",
     "output_type": "stream",
     "text": [
      "current_loss: tensor(1.2675, grad_fn=<MeanBackward0>)\n",
      "current_loss_val:  1.2552158832550049\n",
      "current_loss: tensor(1.2675, grad_fn=<MeanBackward0>)\n",
      "current_loss: tensor(1.2673, grad_fn=<MeanBackward0>)\n",
      "current_loss_val:  1.2551323175430298\n",
      "current_loss: tensor(1.2673, grad_fn=<MeanBackward0>)\n",
      "current_loss: tensor(1.2671, grad_fn=<MeanBackward0>)\n",
      "current_loss_val:  1.255135416984558\n",
      "current_loss: tensor(1.2671, grad_fn=<MeanBackward0>)\n",
      "current_loss: tensor(1.2670, grad_fn=<MeanBackward0>)\n"
     ]
    },
    {
     "name": "stderr",
     "output_type": "stream",
     "text": [
      "  1%|          | 12/2000 [00:00<02:12, 14.97it/s]"
     ]
    },
    {
     "name": "stdout",
     "output_type": "stream",
     "text": [
      "current_loss_val:  1.2551133632659912\n",
      "current_loss: tensor(1.2670, grad_fn=<MeanBackward0>)\n",
      "current_loss: tensor(1.2669, grad_fn=<MeanBackward0>)\n",
      "current_loss_val:  1.2550864219665527\n",
      "current_loss: tensor(1.2669, grad_fn=<MeanBackward0>)\n",
      "current_loss: tensor(1.2668, grad_fn=<MeanBackward0>)\n",
      "current_loss_val:  1.2551045417785645\n",
      "current_loss: tensor(1.2668, grad_fn=<MeanBackward0>)\n",
      "current_loss: tensor(1.2667, grad_fn=<MeanBackward0>)\n",
      "current_loss_val:  1.2550925016403198\n"
     ]
    },
    {
     "name": "stderr",
     "output_type": "stream",
     "text": [
      "  1%|          | 15/2000 [00:01<02:20, 14.17it/s]"
     ]
    },
    {
     "name": "stdout",
     "output_type": "stream",
     "text": [
      "current_loss: tensor(1.2667, grad_fn=<MeanBackward0>)\n",
      "current_loss: tensor(1.2666, grad_fn=<MeanBackward0>)\n",
      "current_loss_val:  1.2551298141479492\n",
      "current_loss: tensor(1.2666, grad_fn=<MeanBackward0>)\n",
      "current_loss: tensor(1.2666, grad_fn=<MeanBackward0>)\n",
      "current_loss_val:  1.2551133632659912\n",
      "current_loss: tensor(1.2666, grad_fn=<MeanBackward0>)\n",
      "current_loss: tensor(1.2666, grad_fn=<MeanBackward0>)\n",
      "current_loss_val:  1.2551077604293823\n",
      "Early Stop at iteration 15 with minimal loss tensor(1.2551) and patience 5 and min_delta 1e-07\n"
     ]
    },
    {
     "name": "stderr",
     "output_type": "stream",
     "text": [
      "\n",
      "[I 2025-10-14 12:18:12,142] Trial 19 finished with value: -2.5101726055145264 and parameters: {'penalty_decorrelation_ridge_first_difference': 0.8853637283631168, 'penalty_decorrelation_ridge_second_difference': 12.695966131354808}. Best is trial 18 with value: -2.5041251182556152.\n",
      "  0%|          | 2/2000 [00:00<02:14, 14.88it/s]"
     ]
    },
    {
     "name": "stdout",
     "output_type": "stream",
     "text": [
      "current_loss: tensor(1.2795, grad_fn=<MeanBackward0>)\n",
      "current_loss: tensor(1.2790, grad_fn=<MeanBackward0>)\n",
      "current_loss_val:  1.2559819221496582\n",
      "current_loss: tensor(1.2790, grad_fn=<MeanBackward0>)\n",
      "current_loss: tensor(1.2784, grad_fn=<MeanBackward0>)\n",
      "current_loss_val:  1.2559728622436523\n",
      "current_loss: tensor(1.2784, grad_fn=<MeanBackward0>)\n",
      "current_loss: tensor(1.2782, grad_fn=<MeanBackward0>)\n",
      "current_loss_val:  1.2559529542922974\n",
      "current_loss: tensor(1.2782, grad_fn=<MeanBackward0>)\n"
     ]
    },
    {
     "name": "stderr",
     "output_type": "stream",
     "text": [
      "  0%|          | 6/2000 [00:00<02:12, 15.00it/s]"
     ]
    },
    {
     "name": "stdout",
     "output_type": "stream",
     "text": [
      "current_loss: tensor(1.2779, grad_fn=<MeanBackward0>)\n",
      "current_loss_val:  1.2559434175491333\n",
      "current_loss: tensor(1.2779, grad_fn=<MeanBackward0>)\n",
      "current_loss: tensor(1.2776, grad_fn=<MeanBackward0>)\n",
      "current_loss_val:  1.2561150789260864\n",
      "current_loss: tensor(1.2776, grad_fn=<MeanBackward0>)\n",
      "current_loss: tensor(1.2773, grad_fn=<MeanBackward0>)\n",
      "current_loss_val:  1.2561206817626953\n",
      "current_loss: tensor(1.2773, grad_fn=<MeanBackward0>)\n",
      "current_loss: tensor(1.2773, grad_fn=<MeanBackward0>)\n"
     ]
    },
    {
     "name": "stderr",
     "output_type": "stream",
     "text": [
      "  0%|          | 8/2000 [00:00<02:30, 13.26it/s]"
     ]
    },
    {
     "name": "stdout",
     "output_type": "stream",
     "text": [
      "current_loss_val:  1.2561143636703491\n",
      "current_loss: tensor(1.2773, grad_fn=<MeanBackward0>)\n",
      "current_loss: tensor(1.2771, grad_fn=<MeanBackward0>)\n",
      "current_loss_val:  1.2561068534851074\n",
      "current_loss: tensor(1.2771, grad_fn=<MeanBackward0>)\n",
      "current_loss: tensor(1.2770, grad_fn=<MeanBackward0>)\n",
      "current_loss_val:  1.2560718059539795\n",
      "Early Stop at iteration 8 with minimal loss tensor(1.2559) and patience 5 and min_delta 1e-07\n"
     ]
    },
    {
     "name": "stderr",
     "output_type": "stream",
     "text": [
      "\n",
      "[I 2025-10-14 12:18:13,396] Trial 20 finished with value: -2.5118868350982666 and parameters: {'penalty_decorrelation_ridge_first_difference': 8.481755842659334, 'penalty_decorrelation_ridge_second_difference': 16.001628046812634}. Best is trial 18 with value: -2.5041251182556152.\n",
      "  0%|          | 2/2000 [00:00<02:09, 15.42it/s]"
     ]
    },
    {
     "name": "stdout",
     "output_type": "stream",
     "text": [
      "current_loss: tensor(1.2697, grad_fn=<MeanBackward0>)\n",
      "current_loss: tensor(1.2695, grad_fn=<MeanBackward0>)\n",
      "current_loss_val:  1.2558090686798096\n",
      "current_loss: tensor(1.2695, grad_fn=<MeanBackward0>)\n",
      "current_loss: tensor(1.2692, grad_fn=<MeanBackward0>)\n",
      "current_loss_val:  1.2557564973831177\n",
      "current_loss: tensor(1.2692, grad_fn=<MeanBackward0>)\n",
      "current_loss: tensor(1.2690, grad_fn=<MeanBackward0>)\n",
      "current_loss_val:  1.2557016611099243\n",
      "current_loss: tensor(1.2690, grad_fn=<MeanBackward0>)\n"
     ]
    },
    {
     "name": "stderr",
     "output_type": "stream",
     "text": [
      "  0%|          | 6/2000 [00:00<02:10, 15.23it/s]"
     ]
    },
    {
     "name": "stdout",
     "output_type": "stream",
     "text": [
      "current_loss: tensor(1.2688, grad_fn=<MeanBackward0>)\n",
      "current_loss_val:  1.2556143999099731\n",
      "current_loss: tensor(1.2688, grad_fn=<MeanBackward0>)\n",
      "current_loss: tensor(1.2683, grad_fn=<MeanBackward0>)\n",
      "current_loss_val:  1.2553471326828003\n",
      "current_loss: tensor(1.2683, grad_fn=<MeanBackward0>)\n",
      "current_loss: tensor(1.2681, grad_fn=<MeanBackward0>)\n",
      "current_loss_val:  1.2552324533462524\n",
      "current_loss: tensor(1.2681, grad_fn=<MeanBackward0>)\n",
      "current_loss: tensor(1.2678, grad_fn=<MeanBackward0>)\n"
     ]
    },
    {
     "name": "stderr",
     "output_type": "stream",
     "text": [
      "  0%|          | 8/2000 [00:00<02:12, 15.06it/s]"
     ]
    },
    {
     "name": "stdout",
     "output_type": "stream",
     "text": [
      "current_loss_val:  1.2552049160003662\n",
      "current_loss: tensor(1.2678, grad_fn=<MeanBackward0>)\n",
      "current_loss: tensor(1.2677, grad_fn=<MeanBackward0>)\n",
      "current_loss_val:  1.2551689147949219\n",
      "current_loss: tensor(1.2677, grad_fn=<MeanBackward0>)\n",
      "current_loss: tensor(1.2675, grad_fn=<MeanBackward0>)\n",
      "current_loss_val:  1.2551140785217285\n",
      "current_loss: tensor(1.2675, grad_fn=<MeanBackward0>)\n",
      "current_loss: tensor(1.2674, grad_fn=<MeanBackward0>)\n",
      "current_loss_val:  1.2550994157791138\n"
     ]
    },
    {
     "name": "stderr",
     "output_type": "stream",
     "text": [
      "  1%|          | 12/2000 [00:00<02:13, 14.87it/s]"
     ]
    },
    {
     "name": "stdout",
     "output_type": "stream",
     "text": [
      "current_loss: tensor(1.2674, grad_fn=<MeanBackward0>)\n",
      "current_loss: tensor(1.2673, grad_fn=<MeanBackward0>)\n",
      "current_loss_val:  1.2550878524780273\n",
      "current_loss: tensor(1.2673, grad_fn=<MeanBackward0>)\n",
      "current_loss: tensor(1.2672, grad_fn=<MeanBackward0>)\n",
      "current_loss_val:  1.2550715208053589\n",
      "current_loss: tensor(1.2672, grad_fn=<MeanBackward0>)\n",
      "current_loss: tensor(1.2672, grad_fn=<MeanBackward0>)\n",
      "current_loss_val:  1.2550474405288696\n",
      "current_loss: "
     ]
    },
    {
     "name": "stderr",
     "output_type": "stream",
     "text": [
      "  1%|          | 16/2000 [00:01<02:12, 14.95it/s]"
     ]
    },
    {
     "name": "stdout",
     "output_type": "stream",
     "text": [
      "tensor(1.2672, grad_fn=<MeanBackward0>)\n",
      "current_loss: tensor(1.2671, grad_fn=<MeanBackward0>)\n",
      "current_loss_val:  1.2550122737884521\n",
      "current_loss: tensor(1.2671, grad_fn=<MeanBackward0>)\n",
      "current_loss: tensor(1.2671, grad_fn=<MeanBackward0>)\n",
      "current_loss_val:  1.2549904584884644\n",
      "current_loss: tensor(1.2671, grad_fn=<MeanBackward0>)\n",
      "current_loss: tensor(1.2670, grad_fn=<MeanBackward0>)\n",
      "current_loss_val:  1.2549468278884888\n"
     ]
    },
    {
     "name": "stderr",
     "output_type": "stream",
     "text": [
      "  1%|          | 18/2000 [00:01<02:12, 14.99it/s]"
     ]
    },
    {
     "name": "stdout",
     "output_type": "stream",
     "text": [
      "current_loss: tensor(1.2670, grad_fn=<MeanBackward0>)\n",
      "current_loss: tensor(1.2669, grad_fn=<MeanBackward0>)\n",
      "current_loss_val:  1.254846215248108\n",
      "current_loss: tensor(1.2669, grad_fn=<MeanBackward0>)\n",
      "current_loss: tensor(1.2668, grad_fn=<MeanBackward0>)\n",
      "current_loss_val:  1.25484037399292\n",
      "current_loss: tensor(1.2668, grad_fn=<MeanBackward0>)\n",
      "current_loss: tensor(1.2667, grad_fn=<MeanBackward0>)\n",
      "current_loss_val:  1.2548317909240723\n",
      "current_loss: tensor(1.2667, grad_fn=<MeanBackward0>)\n"
     ]
    },
    {
     "name": "stderr",
     "output_type": "stream",
     "text": [
      "  1%|          | 22/2000 [00:01<02:12, 14.98it/s]"
     ]
    },
    {
     "name": "stdout",
     "output_type": "stream",
     "text": [
      "current_loss: tensor(1.2666, grad_fn=<MeanBackward0>)\n",
      "current_loss_val:  1.25473952293396\n",
      "current_loss: tensor(1.2666, grad_fn=<MeanBackward0>)\n",
      "current_loss: tensor(1.2666, grad_fn=<MeanBackward0>)\n",
      "current_loss_val:  1.2547171115875244\n",
      "current_loss: tensor(1.2666, grad_fn=<MeanBackward0>)\n",
      "current_loss: tensor(1.2666, grad_fn=<MeanBackward0>)\n",
      "current_loss_val:  1.2547156810760498\n",
      "current_loss: tensor(1.2666, grad_fn=<MeanBackward0>)\n",
      "current_loss: tensor(1.2665, grad_fn=<MeanBackward0>)\n"
     ]
    },
    {
     "name": "stderr",
     "output_type": "stream",
     "text": [
      "  1%|▏         | 26/2000 [00:01<02:11, 15.05it/s]"
     ]
    },
    {
     "name": "stdout",
     "output_type": "stream",
     "text": [
      "current_loss_val:  1.2547019720077515\n",
      "current_loss: tensor(1.2665, grad_fn=<MeanBackward0>)\n",
      "current_loss: tensor(1.2665, grad_fn=<MeanBackward0>)\n",
      "current_loss_val:  1.2546740770339966\n",
      "current_loss: tensor(1.2665, grad_fn=<MeanBackward0>)\n",
      "current_loss: tensor(1.2665, grad_fn=<MeanBackward0>)\n",
      "current_loss_val:  1.2546486854553223\n",
      "current_loss: tensor(1.2665, grad_fn=<MeanBackward0>)\n",
      "current_loss: tensor(1.2665, grad_fn=<MeanBackward0>)\n",
      "current_loss_val:  1.2545835971832275\n"
     ]
    },
    {
     "name": "stderr",
     "output_type": "stream",
     "text": [
      "  1%|▏         | 28/2000 [00:01<02:10, 15.13it/s]"
     ]
    },
    {
     "name": "stdout",
     "output_type": "stream",
     "text": [
      "current_loss: tensor(1.2665, grad_fn=<MeanBackward0>)\n",
      "current_loss: tensor(1.2664, grad_fn=<MeanBackward0>)\n",
      "current_loss_val:  1.2545326948165894\n",
      "current_loss: tensor(1.2664, grad_fn=<MeanBackward0>)\n",
      "current_loss: tensor(1.2664, grad_fn=<MeanBackward0>)\n",
      "current_loss_val:  1.2544639110565186\n",
      "current_loss: tensor(1.2664, grad_fn=<MeanBackward0>)\n",
      "current_loss: tensor(1.2664, grad_fn=<MeanBackward0>)\n",
      "current_loss_val:  1.2544184923171997\n",
      "current_loss: tensor(1.2664, grad_fn=<MeanBackward0>)\n"
     ]
    },
    {
     "name": "stderr",
     "output_type": "stream",
     "text": [
      "  2%|▏         | 32/2000 [00:02<02:12, 14.90it/s]"
     ]
    },
    {
     "name": "stdout",
     "output_type": "stream",
     "text": [
      "current_loss: tensor(1.2663, grad_fn=<MeanBackward0>)\n",
      "current_loss_val:  1.2543479204177856\n",
      "current_loss: tensor(1.2663, grad_fn=<MeanBackward0>)\n",
      "current_loss: tensor(1.2663, grad_fn=<MeanBackward0>)\n",
      "current_loss_val:  1.2542812824249268\n",
      "current_loss: tensor(1.2663, grad_fn=<MeanBackward0>)\n",
      "current_loss: tensor(1.2663, grad_fn=<MeanBackward0>)\n",
      "current_loss_val:  1.2542719841003418\n",
      "current_loss: tensor(1.2663, grad_fn=<MeanBackward0>)\n"
     ]
    },
    {
     "name": "stderr",
     "output_type": "stream",
     "text": [
      "  2%|▏         | 34/2000 [00:02<02:11, 14.91it/s]"
     ]
    },
    {
     "name": "stdout",
     "output_type": "stream",
     "text": [
      "current_loss: tensor(1.2663, grad_fn=<MeanBackward0>)\n",
      "current_loss_val:  1.2542372941970825\n",
      "current_loss: tensor(1.2663, grad_fn=<MeanBackward0>)\n",
      "current_loss: tensor(1.2662, grad_fn=<MeanBackward0>)\n",
      "current_loss_val:  1.25409996509552\n",
      "current_loss: tensor(1.2662, grad_fn=<MeanBackward0>)\n",
      "current_loss: tensor(1.2661, grad_fn=<MeanBackward0>)\n",
      "current_loss_val:  1.2538515329360962\n",
      "current_loss: tensor(1.2661, grad_fn=<MeanBackward0>)\n",
      "current_loss: tensor(1.2661, grad_fn=<MeanBackward0>)\n"
     ]
    },
    {
     "name": "stderr",
     "output_type": "stream",
     "text": [
      "  2%|▏         | 38/2000 [00:02<02:11, 14.89it/s]"
     ]
    },
    {
     "name": "stdout",
     "output_type": "stream",
     "text": [
      "current_loss_val:  1.2538388967514038\n",
      "current_loss: tensor(1.2661, grad_fn=<MeanBackward0>)\n",
      "current_loss: tensor(1.2660, grad_fn=<MeanBackward0>)\n",
      "current_loss_val:  1.253823161125183\n",
      "current_loss: tensor(1.2660, grad_fn=<MeanBackward0>)\n",
      "current_loss: tensor(1.2660, grad_fn=<MeanBackward0>)\n",
      "current_loss_val:  1.2537585496902466\n",
      "current_loss: tensor(1.2660, grad_fn=<MeanBackward0>)\n",
      "current_loss: tensor(1.2660, grad_fn=<MeanBackward0>)\n"
     ]
    },
    {
     "name": "stderr",
     "output_type": "stream",
     "text": [
      "  2%|▏         | 42/2000 [00:02<02:11, 14.95it/s]"
     ]
    },
    {
     "name": "stdout",
     "output_type": "stream",
     "text": [
      "current_loss_val:  1.253732681274414\n",
      "current_loss: tensor(1.2660, grad_fn=<MeanBackward0>)\n",
      "current_loss: tensor(1.2659, grad_fn=<MeanBackward0>)\n",
      "current_loss_val:  1.2536729574203491\n",
      "current_loss: tensor(1.2659, grad_fn=<MeanBackward0>)\n",
      "current_loss: tensor(1.2659, grad_fn=<MeanBackward0>)\n",
      "current_loss_val:  1.2536280155181885\n",
      "current_loss: tensor(1.2659, grad_fn=<MeanBackward0>)\n",
      "current_loss: tensor(1.2658, grad_fn=<MeanBackward0>)\n",
      "current_loss_val:  1.2535555362701416\n"
     ]
    },
    {
     "name": "stderr",
     "output_type": "stream",
     "text": [
      "  2%|▏         | 44/2000 [00:02<02:10, 15.00it/s]"
     ]
    },
    {
     "name": "stdout",
     "output_type": "stream",
     "text": [
      "current_loss: tensor(1.2658, grad_fn=<MeanBackward0>)\n",
      "current_loss: tensor(1.2657, grad_fn=<MeanBackward0>)\n",
      "current_loss_val:  1.2534233331680298\n",
      "current_loss: tensor(1.2657, grad_fn=<MeanBackward0>)\n",
      "current_loss: tensor(1.2657, grad_fn=<MeanBackward0>)\n",
      "current_loss_val:  1.2532994747161865\n",
      "current_loss: tensor(1.2657, grad_fn=<MeanBackward0>)\n",
      "current_loss: tensor(1.2656, grad_fn=<MeanBackward0>)\n",
      "current_loss_val:  1.2532562017440796\n",
      "current_loss: tensor(1.2656, grad_fn=<MeanBackward0>)\n"
     ]
    },
    {
     "name": "stderr",
     "output_type": "stream",
     "text": [
      "  2%|▏         | 48/2000 [00:03<02:14, 14.47it/s]"
     ]
    },
    {
     "name": "stdout",
     "output_type": "stream",
     "text": [
      "current_loss: tensor(1.2656, grad_fn=<MeanBackward0>)\n",
      "current_loss_val:  1.2532607316970825\n",
      "current_loss: tensor(1.2656, grad_fn=<MeanBackward0>)\n",
      "current_loss: tensor(1.2656, grad_fn=<MeanBackward0>)\n",
      "current_loss_val:  1.253250241279602\n",
      "current_loss: tensor(1.2656, grad_fn=<MeanBackward0>)\n",
      "current_loss: tensor(1.2656, grad_fn=<MeanBackward0>)\n",
      "current_loss: tensor(1.2655, grad_fn=<MeanBackward0>)\n",
      "current_loss_val:  1.2532122135162354\n",
      "current_loss: tensor(1.2655, grad_fn=<MeanBackward0>)\n"
     ]
    },
    {
     "name": "stderr",
     "output_type": "stream",
     "text": [
      "  2%|▎         | 50/2000 [00:03<02:20, 13.87it/s]"
     ]
    },
    {
     "name": "stdout",
     "output_type": "stream",
     "text": [
      "current_loss: tensor(1.2655, grad_fn=<MeanBackward0>)\n",
      "current_loss_val:  1.2532036304473877\n",
      "current_loss: tensor(1.2655, grad_fn=<MeanBackward0>)\n",
      "current_loss: tensor(1.2655, grad_fn=<MeanBackward0>)\n",
      "current_loss_val:  1.2531875371932983\n",
      "current_loss: tensor(1.2655, grad_fn=<MeanBackward0>)\n",
      "current_loss: tensor(1.2655, grad_fn=<MeanBackward0>)\n",
      "current_loss_val:  1.2531628608703613\n"
     ]
    },
    {
     "name": "stderr",
     "output_type": "stream",
     "text": [
      "  3%|▎         | 54/2000 [00:03<02:19, 13.94it/s]"
     ]
    },
    {
     "name": "stdout",
     "output_type": "stream",
     "text": [
      "current_loss: tensor(1.2655, grad_fn=<MeanBackward0>)\n",
      "current_loss: tensor(1.2655, grad_fn=<MeanBackward0>)\n",
      "current_loss_val:  1.2531427145004272\n",
      "current_loss: tensor(1.2655, grad_fn=<MeanBackward0>)\n",
      "current_loss: tensor(1.2655, grad_fn=<MeanBackward0>)\n",
      "current_loss_val:  1.2531323432922363\n",
      "current_loss: tensor(1.2655, grad_fn=<MeanBackward0>)\n",
      "current_loss: tensor(1.2654, grad_fn=<MeanBackward0>)\n",
      "current_loss_val:  1.2531065940856934\n"
     ]
    },
    {
     "name": "stderr",
     "output_type": "stream",
     "text": [
      "  3%|▎         | 56/2000 [00:03<02:22, 13.61it/s]"
     ]
    },
    {
     "name": "stdout",
     "output_type": "stream",
     "text": [
      "current_loss: tensor(1.2654, grad_fn=<MeanBackward0>)\n",
      "current_loss: tensor(1.2654, grad_fn=<MeanBackward0>)\n",
      "current_loss: tensor(1.2654, grad_fn=<MeanBackward0>)\n",
      "current_loss_val:  1.2530910968780518\n",
      "current_loss: tensor(1.2654, grad_fn=<MeanBackward0>)\n",
      "current_loss: tensor(1.2654, grad_fn=<MeanBackward0>)\n",
      "current_loss_val:  1.2530800104141235\n",
      "current_loss: tensor(1.2654, grad_fn=<MeanBackward0>)\n",
      "current_loss: tensor(1.2654, grad_fn=<MeanBackward0>)\n"
     ]
    },
    {
     "name": "stderr",
     "output_type": "stream",
     "text": [
      "  3%|▎         | 60/2000 [00:04<02:15, 14.30it/s]"
     ]
    },
    {
     "name": "stdout",
     "output_type": "stream",
     "text": [
      "current_loss_val:  1.2530604600906372\n",
      "current_loss: tensor(1.2654, grad_fn=<MeanBackward0>)\n",
      "current_loss: tensor(1.2654, grad_fn=<MeanBackward0>)\n",
      "current_loss_val:  1.2530150413513184\n",
      "current_loss: tensor(1.2654, grad_fn=<MeanBackward0>)\n",
      "current_loss: tensor(1.2654, grad_fn=<MeanBackward0>)\n",
      "current_loss_val:  1.2530064582824707\n",
      "current_loss: tensor(1.2654, grad_fn=<MeanBackward0>)\n",
      "current_loss: tensor(1.2654, grad_fn=<MeanBackward0>)\n",
      "current_loss_val:  1.2530057430267334\n"
     ]
    },
    {
     "name": "stderr",
     "output_type": "stream",
     "text": [
      "  3%|▎         | 62/2000 [00:04<02:13, 14.49it/s]"
     ]
    },
    {
     "name": "stdout",
     "output_type": "stream",
     "text": [
      "current_loss: tensor(1.2654, grad_fn=<MeanBackward0>)\n",
      "current_loss: tensor(1.2654, grad_fn=<MeanBackward0>)\n",
      "current_loss_val:  1.2529984712600708\n",
      "current_loss: tensor(1.2654, grad_fn=<MeanBackward0>)\n",
      "current_loss: tensor(1.2653, grad_fn=<MeanBackward0>)\n",
      "current_loss_val:  1.2528923749923706\n",
      "current_loss: tensor(1.2653, grad_fn=<MeanBackward0>)\n",
      "current_loss: tensor(1.2653, grad_fn=<MeanBackward0>)\n",
      "current_loss_val:  1.2529062032699585\n",
      "current_loss: tensor(1.2653, grad_fn=<MeanBackward0>)\n"
     ]
    },
    {
     "name": "stderr",
     "output_type": "stream",
     "text": [
      "  3%|▎         | 66/2000 [00:04<02:11, 14.71it/s]"
     ]
    },
    {
     "name": "stdout",
     "output_type": "stream",
     "text": [
      "current_loss: tensor(1.2653, grad_fn=<MeanBackward0>)\n",
      "current_loss_val:  1.2528955936431885\n",
      "current_loss: tensor(1.2653, grad_fn=<MeanBackward0>)\n",
      "current_loss: tensor(1.2653, grad_fn=<MeanBackward0>)\n",
      "current_loss_val:  1.2528880834579468\n",
      "current_loss: tensor(1.2653, grad_fn=<MeanBackward0>)\n",
      "current_loss: tensor(1.2653, grad_fn=<MeanBackward0>)\n",
      "current_loss_val:  1.25288724899292\n",
      "current_loss: tensor(1.2653, grad_fn=<MeanBackward0>)\n",
      "current_loss: tensor(1.2653, grad_fn=<MeanBackward0>)\n"
     ]
    },
    {
     "name": "stderr",
     "output_type": "stream",
     "text": [
      "  3%|▎         | 68/2000 [00:04<02:16, 14.13it/s]"
     ]
    },
    {
     "name": "stdout",
     "output_type": "stream",
     "text": [
      "current_loss: tensor(1.2653, grad_fn=<MeanBackward0>)\n",
      "current_loss_val:  1.2528951168060303\n",
      "current_loss: tensor(1.2653, grad_fn=<MeanBackward0>)\n",
      "current_loss: tensor(1.2653, grad_fn=<MeanBackward0>)\n",
      "current_loss_val:  1.2528932094573975\n",
      "current_loss: tensor(1.2653, grad_fn=<MeanBackward0>)\n",
      "current_loss: tensor(1.2653, grad_fn=<MeanBackward0>)\n",
      "current_loss_val:  1.252884864807129\n",
      "current_loss: tensor(1.2653, grad_fn=<MeanBackward0>)\n",
      "current_loss: tensor(1.2653, grad_fn=<MeanBackward0>)\n"
     ]
    },
    {
     "name": "stderr",
     "output_type": "stream",
     "text": [
      "  4%|▎         | 72/2000 [00:04<02:20, 13.75it/s]"
     ]
    },
    {
     "name": "stdout",
     "output_type": "stream",
     "text": [
      "current_loss: tensor(1.2653, grad_fn=<MeanBackward0>)\n",
      "current_loss_val:  1.2528785467147827\n",
      "current_loss: tensor(1.2653, grad_fn=<MeanBackward0>)\n",
      "current_loss: tensor(1.2653, grad_fn=<MeanBackward0>)\n",
      "current_loss_val:  1.252878189086914\n",
      "current_loss: tensor(1.2653, grad_fn=<MeanBackward0>)\n",
      "current_loss: tensor(1.2653, grad_fn=<MeanBackward0>)\n",
      "current_loss_val:  1.2528730630874634\n",
      "current_loss: tensor(1.2653, grad_fn=<MeanBackward0>)\n"
     ]
    },
    {
     "name": "stderr",
     "output_type": "stream",
     "text": [
      "  4%|▎         | 74/2000 [00:05<02:16, 14.12it/s]"
     ]
    },
    {
     "name": "stdout",
     "output_type": "stream",
     "text": [
      "current_loss: tensor(1.2653, grad_fn=<MeanBackward0>)\n",
      "current_loss_val:  1.2528470754623413\n",
      "current_loss: tensor(1.2653, grad_fn=<MeanBackward0>)\n",
      "current_loss: tensor(1.2653, grad_fn=<MeanBackward0>)\n",
      "current_loss_val:  1.2528293132781982\n",
      "current_loss: tensor(1.2653, grad_fn=<MeanBackward0>)\n",
      "current_loss: tensor(1.2652, grad_fn=<MeanBackward0>)\n",
      "current_loss_val:  1.252817153930664\n",
      "current_loss: tensor(1.2652, grad_fn=<MeanBackward0>)\n",
      "current_loss: tensor(1.2652, grad_fn=<MeanBackward0>)\n"
     ]
    },
    {
     "name": "stderr",
     "output_type": "stream",
     "text": [
      "  4%|▍         | 78/2000 [00:05<02:12, 14.51it/s]"
     ]
    },
    {
     "name": "stdout",
     "output_type": "stream",
     "text": [
      "current_loss_val:  1.2527884244918823\n",
      "current_loss: tensor(1.2652, grad_fn=<MeanBackward0>)\n",
      "current_loss: tensor(1.2652, grad_fn=<MeanBackward0>)\n",
      "current_loss_val:  1.252756118774414\n",
      "current_loss: tensor(1.2652, grad_fn=<MeanBackward0>)\n",
      "current_loss: tensor(1.2652, grad_fn=<MeanBackward0>)\n",
      "current_loss_val:  1.252716064453125\n",
      "current_loss: tensor(1.2652, grad_fn=<MeanBackward0>)\n",
      "current_loss: tensor(1.2652, grad_fn=<MeanBackward0>)\n"
     ]
    },
    {
     "name": "stderr",
     "output_type": "stream",
     "text": [
      "  4%|▍         | 82/2000 [00:05<02:09, 14.78it/s]"
     ]
    },
    {
     "name": "stdout",
     "output_type": "stream",
     "text": [
      "current_loss_val:  1.252661943435669\n",
      "current_loss: tensor(1.2652, grad_fn=<MeanBackward0>)\n",
      "current_loss: tensor(1.2652, grad_fn=<MeanBackward0>)\n",
      "current_loss_val:  1.2526360750198364\n",
      "current_loss: tensor(1.2652, grad_fn=<MeanBackward0>)\n",
      "current_loss: tensor(1.2652, grad_fn=<MeanBackward0>)\n",
      "current_loss_val:  1.2526376247406006\n",
      "current_loss: tensor(1.2652, grad_fn=<MeanBackward0>)\n",
      "current_loss: tensor(1.2652, grad_fn=<MeanBackward0>)\n",
      "current_loss_val:  1.2526462078094482\n"
     ]
    },
    {
     "name": "stderr",
     "output_type": "stream",
     "text": [
      "  4%|▍         | 84/2000 [00:05<02:20, 13.67it/s]"
     ]
    },
    {
     "name": "stdout",
     "output_type": "stream",
     "text": [
      "current_loss: tensor(1.2652, grad_fn=<MeanBackward0>)\n",
      "current_loss: tensor(1.2651, grad_fn=<MeanBackward0>)\n",
      "current_loss_val:  1.2526748180389404\n",
      "current_loss: tensor(1.2651, grad_fn=<MeanBackward0>)\n",
      "current_loss: tensor(1.2652, grad_fn=<MeanBackward0>)\n",
      "current_loss: tensor(1.2651, grad_fn=<MeanBackward0>)\n",
      "current_loss_val:  1.2526845932006836\n",
      "current_loss: tensor(1.2651, grad_fn=<MeanBackward0>)\n",
      "current_loss: tensor(1.2651, grad_fn=<MeanBackward0>)\n"
     ]
    },
    {
     "name": "stderr",
     "output_type": "stream",
     "text": [
      "  4%|▍         | 84/2000 [00:05<02:13, 14.38it/s]\n"
     ]
    },
    {
     "name": "stdout",
     "output_type": "stream",
     "text": [
      "current_loss_val:  1.252690076828003\n",
      "Early Stop at iteration 84 with minimal loss tensor(1.2526) and patience 5 and min_delta 1e-07\n"
     ]
    },
    {
     "name": "stderr",
     "output_type": "stream",
     "text": [
      "[I 2025-10-14 12:18:19,888] Trial 21 finished with value: -2.505272388458252 and parameters: {'penalty_decorrelation_ridge_first_difference': 0.6992159516161411, 'penalty_decorrelation_ridge_second_difference': 16.98550018175031}. Best is trial 18 with value: -2.5041251182556152.\n",
      "  0%|          | 2/2000 [00:00<02:37, 12.67it/s]"
     ]
    },
    {
     "name": "stdout",
     "output_type": "stream",
     "text": [
      "current_loss: tensor(1.2708, grad_fn=<MeanBackward0>)\n",
      "current_loss: tensor(1.2709, grad_fn=<MeanBackward0>)\n",
      "current_loss: tensor(1.2704, grad_fn=<MeanBackward0>)\n",
      "current_loss_val:  1.2558469772338867\n",
      "current_loss: tensor(1.2704, grad_fn=<MeanBackward0>)\n",
      "current_loss: tensor(1.2701, grad_fn=<MeanBackward0>)\n",
      "current_loss_val:  1.2558187246322632\n",
      "current_loss: tensor(1.2701, grad_fn=<MeanBackward0>)\n",
      "current_loss: tensor(1.2697, grad_fn=<MeanBackward0>)\n"
     ]
    },
    {
     "name": "stderr",
     "output_type": "stream",
     "text": [
      "  0%|          | 4/2000 [00:00<02:21, 14.13it/s]"
     ]
    },
    {
     "name": "stdout",
     "output_type": "stream",
     "text": [
      "current_loss_val:  1.2557214498519897\n",
      "current_loss: tensor(1.2697, grad_fn=<MeanBackward0>)\n",
      "current_loss: tensor(1.2695, grad_fn=<MeanBackward0>)\n",
      "current_loss_val:  1.2556036710739136\n",
      "current_loss: tensor(1.2695, grad_fn=<MeanBackward0>)\n",
      "current_loss: tensor(1.2692, grad_fn=<MeanBackward0>)\n",
      "current_loss_val:  1.2554700374603271\n",
      "current_loss: tensor(1.2692, grad_fn=<MeanBackward0>)\n",
      "current_loss: tensor(1.2690, grad_fn=<MeanBackward0>)\n"
     ]
    },
    {
     "name": "stderr",
     "output_type": "stream",
     "text": [
      "  0%|          | 8/2000 [00:00<02:16, 14.55it/s]"
     ]
    },
    {
     "name": "stdout",
     "output_type": "stream",
     "text": [
      "current_loss_val:  1.2553863525390625\n",
      "current_loss: tensor(1.2690, grad_fn=<MeanBackward0>)\n",
      "current_loss: tensor(1.2687, grad_fn=<MeanBackward0>)\n",
      "current_loss_val:  1.2552788257598877\n",
      "current_loss: tensor(1.2687, grad_fn=<MeanBackward0>)\n",
      "current_loss: tensor(1.2684, grad_fn=<MeanBackward0>)\n",
      "current_loss_val:  1.2551759481430054\n",
      "current_loss: tensor(1.2684, grad_fn=<MeanBackward0>)\n",
      "current_loss: tensor(1.2682, grad_fn=<MeanBackward0>)\n",
      "current_loss_val:  1.2551562786102295\n"
     ]
    },
    {
     "name": "stderr",
     "output_type": "stream",
     "text": [
      "  1%|          | 12/2000 [00:00<02:14, 14.81it/s]"
     ]
    },
    {
     "name": "stdout",
     "output_type": "stream",
     "text": [
      "current_loss: tensor(1.2682, grad_fn=<MeanBackward0>)\n",
      "current_loss: tensor(1.2681, grad_fn=<MeanBackward0>)\n",
      "current_loss_val:  1.2551548480987549\n",
      "current_loss: tensor(1.2681, grad_fn=<MeanBackward0>)\n",
      "current_loss: tensor(1.2680, grad_fn=<MeanBackward0>)\n",
      "current_loss_val:  1.255140781402588\n",
      "current_loss: tensor(1.2680, grad_fn=<MeanBackward0>)\n",
      "current_loss: tensor(1.2679, grad_fn=<MeanBackward0>)\n",
      "current_loss_val:  1.2551052570343018\n"
     ]
    },
    {
     "name": "stderr",
     "output_type": "stream",
     "text": [
      "  1%|          | 14/2000 [00:00<02:13, 14.90it/s]"
     ]
    },
    {
     "name": "stdout",
     "output_type": "stream",
     "text": [
      "current_loss: tensor(1.2679, grad_fn=<MeanBackward0>)\n",
      "current_loss: tensor(1.2678, grad_fn=<MeanBackward0>)\n",
      "current_loss_val:  1.255048394203186\n",
      "current_loss: tensor(1.2678, grad_fn=<MeanBackward0>)\n",
      "current_loss: tensor(1.2678, grad_fn=<MeanBackward0>)\n",
      "current_loss_val:  1.2550123929977417\n",
      "current_loss: tensor(1.2678, grad_fn=<MeanBackward0>)\n",
      "current_loss: tensor(1.2677, grad_fn=<MeanBackward0>)\n",
      "current_loss_val:  1.2549995183944702\n",
      "current_loss: tensor(1.2677, grad_fn=<MeanBackward0>)\n"
     ]
    },
    {
     "name": "stderr",
     "output_type": "stream",
     "text": [
      "  1%|          | 18/2000 [00:01<02:13, 14.81it/s]"
     ]
    },
    {
     "name": "stdout",
     "output_type": "stream",
     "text": [
      "current_loss: tensor(1.2677, grad_fn=<MeanBackward0>)\n",
      "current_loss_val:  1.254960298538208\n",
      "current_loss: tensor(1.2677, grad_fn=<MeanBackward0>)\n",
      "current_loss: tensor(1.2676, grad_fn=<MeanBackward0>)\n",
      "current_loss_val:  1.2549508810043335\n",
      "current_loss: tensor(1.2676, grad_fn=<MeanBackward0>)\n",
      "current_loss: tensor(1.2676, grad_fn=<MeanBackward0>)\n",
      "current_loss_val:  1.2549489736557007\n",
      "current_loss: tensor(1.2676, grad_fn=<MeanBackward0>)\n"
     ]
    },
    {
     "name": "stderr",
     "output_type": "stream",
     "text": [
      "  1%|          | 20/2000 [00:01<02:12, 14.95it/s]"
     ]
    },
    {
     "name": "stdout",
     "output_type": "stream",
     "text": [
      "current_loss: tensor(1.2676, grad_fn=<MeanBackward0>)\n",
      "current_loss_val:  1.2549433708190918\n",
      "current_loss: tensor(1.2676, grad_fn=<MeanBackward0>)\n",
      "current_loss: tensor(1.2675, grad_fn=<MeanBackward0>)\n",
      "current_loss_val:  1.2549229860305786\n",
      "current_loss: tensor(1.2675, grad_fn=<MeanBackward0>)\n",
      "current_loss: tensor(1.2675, grad_fn=<MeanBackward0>)\n",
      "current_loss_val:  1.2548342943191528\n",
      "current_loss: tensor(1.2675, grad_fn=<MeanBackward0>)\n",
      "current_loss: tensor(1.2674, grad_fn=<MeanBackward0>)\n"
     ]
    },
    {
     "name": "stderr",
     "output_type": "stream",
     "text": [
      "  1%|          | 24/2000 [00:01<02:13, 14.85it/s]"
     ]
    },
    {
     "name": "stdout",
     "output_type": "stream",
     "text": [
      "current_loss_val:  1.2548235654830933\n",
      "current_loss: tensor(1.2674, grad_fn=<MeanBackward0>)\n",
      "current_loss: tensor(1.2674, grad_fn=<MeanBackward0>)\n",
      "current_loss_val:  1.2548127174377441\n",
      "current_loss: tensor(1.2674, grad_fn=<MeanBackward0>)\n",
      "current_loss: tensor(1.2674, grad_fn=<MeanBackward0>)\n",
      "current_loss_val:  1.2547913789749146\n",
      "current_loss: tensor(1.2674, grad_fn=<MeanBackward0>)\n",
      "current_loss: tensor(1.2674, grad_fn=<MeanBackward0>)\n",
      "current_loss_val:  1.2547658681869507\n"
     ]
    },
    {
     "name": "stderr",
     "output_type": "stream",
     "text": [
      "  1%|▏         | 28/2000 [00:01<02:09, 15.18it/s]"
     ]
    },
    {
     "name": "stdout",
     "output_type": "stream",
     "text": [
      "current_loss: tensor(1.2674, grad_fn=<MeanBackward0>)\n",
      "current_loss: tensor(1.2673, grad_fn=<MeanBackward0>)\n",
      "current_loss_val:  1.2547603845596313\n",
      "current_loss: tensor(1.2673, grad_fn=<MeanBackward0>)\n",
      "current_loss: tensor(1.2673, grad_fn=<MeanBackward0>)\n",
      "current_loss_val:  1.2547513246536255\n",
      "current_loss: tensor(1.2673, grad_fn=<MeanBackward0>)\n",
      "current_loss: tensor(1.2673, grad_fn=<MeanBackward0>)\n",
      "current_loss_val:  1.2547353506088257\n",
      "current_loss: tensor(1.2673, grad_fn=<MeanBackward0>)\n"
     ]
    },
    {
     "name": "stderr",
     "output_type": "stream",
     "text": [
      "  2%|▏         | 30/2000 [00:02<02:21, 13.90it/s]"
     ]
    },
    {
     "name": "stdout",
     "output_type": "stream",
     "text": [
      "current_loss: tensor(1.2673, grad_fn=<MeanBackward0>)\n",
      "current_loss_val:  1.2546484470367432\n",
      "current_loss: tensor(1.2673, grad_fn=<MeanBackward0>)\n",
      "current_loss: tensor(1.2672, grad_fn=<MeanBackward0>)\n",
      "current_loss_val:  1.254584789276123\n",
      "current_loss: tensor(1.2672, grad_fn=<MeanBackward0>)\n",
      "current_loss: tensor(1.2672, grad_fn=<MeanBackward0>)\n",
      "current_loss_val:  1.2544851303100586\n"
     ]
    },
    {
     "name": "stderr",
     "output_type": "stream",
     "text": [
      "  2%|▏         | 34/2000 [00:02<02:17, 14.33it/s]"
     ]
    },
    {
     "name": "stdout",
     "output_type": "stream",
     "text": [
      "current_loss: tensor(1.2672, grad_fn=<MeanBackward0>)\n",
      "current_loss: tensor(1.2671, grad_fn=<MeanBackward0>)\n",
      "current_loss_val:  1.2542985677719116\n",
      "current_loss: tensor(1.2671, grad_fn=<MeanBackward0>)\n",
      "current_loss: tensor(1.2670, grad_fn=<MeanBackward0>)\n",
      "current_loss_val:  1.2541762590408325\n",
      "current_loss: tensor(1.2670, grad_fn=<MeanBackward0>)\n",
      "current_loss: tensor(1.2670, grad_fn=<MeanBackward0>)\n",
      "current_loss_val:  1.254166841506958\n"
     ]
    },
    {
     "name": "stderr",
     "output_type": "stream",
     "text": [
      "  2%|▏         | 36/2000 [00:02<02:15, 14.52it/s]"
     ]
    },
    {
     "name": "stdout",
     "output_type": "stream",
     "text": [
      "current_loss: tensor(1.2670, grad_fn=<MeanBackward0>)\n",
      "current_loss: tensor(1.2669, grad_fn=<MeanBackward0>)\n",
      "current_loss_val:  1.2541415691375732\n",
      "current_loss: tensor(1.2669, grad_fn=<MeanBackward0>)\n",
      "current_loss: tensor(1.2669, grad_fn=<MeanBackward0>)\n",
      "current_loss_val:  1.2541050910949707\n",
      "current_loss: tensor(1.2669, grad_fn=<MeanBackward0>)\n",
      "current_loss: tensor(1.2669, grad_fn=<MeanBackward0>)\n",
      "current_loss: tensor(1.2668, grad_fn=<MeanBackward0>)\n"
     ]
    },
    {
     "name": "stderr",
     "output_type": "stream",
     "text": [
      "  2%|▏         | 38/2000 [00:02<02:22, 13.76it/s]"
     ]
    },
    {
     "name": "stdout",
     "output_type": "stream",
     "text": [
      "current_loss_val:  1.2540862560272217\n",
      "current_loss: tensor(1.2668, grad_fn=<MeanBackward0>)\n",
      "current_loss: tensor(1.2668, grad_fn=<MeanBackward0>)\n",
      "current_loss_val:  1.2540829181671143\n",
      "current_loss: tensor(1.2668, grad_fn=<MeanBackward0>)\n",
      "current_loss: tensor(1.2668, grad_fn=<MeanBackward0>)\n",
      "current_loss_val:  1.2540842294692993\n",
      "current_loss: tensor(1.2668, grad_fn=<MeanBackward0>)\n",
      "current_loss: tensor(1.2668, grad_fn=<MeanBackward0>)\n"
     ]
    },
    {
     "name": "stderr",
     "output_type": "stream",
     "text": [
      "  2%|▏         | 42/2000 [00:02<02:15, 14.40it/s]"
     ]
    },
    {
     "name": "stdout",
     "output_type": "stream",
     "text": [
      "current_loss_val:  1.2540830373764038\n",
      "current_loss: tensor(1.2668, grad_fn=<MeanBackward0>)\n",
      "current_loss: tensor(1.2667, grad_fn=<MeanBackward0>)\n",
      "current_loss_val:  1.2540799379348755\n",
      "current_loss: tensor(1.2667, grad_fn=<MeanBackward0>)\n",
      "current_loss: tensor(1.2667, grad_fn=<MeanBackward0>)\n",
      "current_loss_val:  1.254075527191162\n",
      "current_loss: tensor(1.2667, grad_fn=<MeanBackward0>)\n",
      "current_loss: tensor(1.2667, grad_fn=<MeanBackward0>)\n",
      "current_loss_val:  1.2540658712387085\n"
     ]
    },
    {
     "name": "stderr",
     "output_type": "stream",
     "text": [
      "  2%|▏         | 46/2000 [00:03<02:12, 14.79it/s]"
     ]
    },
    {
     "name": "stdout",
     "output_type": "stream",
     "text": [
      "current_loss: tensor(1.2667, grad_fn=<MeanBackward0>)\n",
      "current_loss: tensor(1.2667, grad_fn=<MeanBackward0>)\n",
      "current_loss_val:  1.2540335655212402\n",
      "current_loss: tensor(1.2667, grad_fn=<MeanBackward0>)\n",
      "current_loss: tensor(1.2667, grad_fn=<MeanBackward0>)\n",
      "current_loss_val:  1.2540373802185059\n",
      "current_loss: tensor(1.2667, grad_fn=<MeanBackward0>)\n",
      "current_loss: tensor(1.2667, grad_fn=<MeanBackward0>)\n",
      "current_loss_val:  1.2540396451950073\n",
      "current_loss: tensor(1.2667, grad_fn=<MeanBackward0>)\n"
     ]
    },
    {
     "name": "stderr",
     "output_type": "stream",
     "text": [
      "  2%|▏         | 48/2000 [00:03<02:11, 14.89it/s]"
     ]
    },
    {
     "name": "stdout",
     "output_type": "stream",
     "text": [
      "current_loss: tensor(1.2667, grad_fn=<MeanBackward0>)\n",
      "current_loss_val:  1.2540446519851685\n",
      "current_loss: tensor(1.2667, grad_fn=<MeanBackward0>)\n",
      "current_loss: tensor(1.2667, grad_fn=<MeanBackward0>)\n",
      "current_loss_val:  1.2540348768234253\n",
      "current_loss: tensor(1.2667, grad_fn=<MeanBackward0>)\n",
      "current_loss: tensor(1.2667, grad_fn=<MeanBackward0>)\n",
      "current_loss_val:  1.254022479057312\n",
      "current_loss: tensor(1.2667, grad_fn=<MeanBackward0>)\n",
      "current_loss: tensor(1.2667, grad_fn=<MeanBackward0>)\n"
     ]
    },
    {
     "name": "stderr",
     "output_type": "stream",
     "text": [
      "  3%|▎         | 52/2000 [00:03<02:11, 14.78it/s]"
     ]
    },
    {
     "name": "stdout",
     "output_type": "stream",
     "text": [
      "current_loss_val:  1.2539957761764526\n",
      "current_loss: tensor(1.2667, grad_fn=<MeanBackward0>)\n",
      "current_loss: tensor(1.2666, grad_fn=<MeanBackward0>)\n",
      "current_loss_val:  1.253935694694519\n",
      "current_loss: tensor(1.2666, grad_fn=<MeanBackward0>)\n",
      "current_loss: tensor(1.2666, grad_fn=<MeanBackward0>)\n",
      "current_loss_val:  1.253891110420227\n",
      "current_loss: tensor(1.2666, grad_fn=<MeanBackward0>)\n",
      "current_loss: tensor(1.2666, grad_fn=<MeanBackward0>)\n"
     ]
    },
    {
     "name": "stderr",
     "output_type": "stream",
     "text": [
      "  3%|▎         | 54/2000 [00:03<02:15, 14.37it/s]"
     ]
    },
    {
     "name": "stdout",
     "output_type": "stream",
     "text": [
      "current_loss_val:  1.2537879943847656\n",
      "current_loss: tensor(1.2666, grad_fn=<MeanBackward0>)\n",
      "current_loss: tensor(1.2667, grad_fn=<MeanBackward0>)\n",
      "current_loss: tensor(1.2665, grad_fn=<MeanBackward0>)\n",
      "current_loss_val:  1.2535876035690308\n",
      "current_loss: tensor(1.2665, grad_fn=<MeanBackward0>)\n",
      "current_loss: tensor(1.2664, grad_fn=<MeanBackward0>)\n",
      "current_loss_val:  1.253428339958191\n",
      "current_loss: tensor(1.2664, grad_fn=<MeanBackward0>)\n"
     ]
    },
    {
     "name": "stderr",
     "output_type": "stream",
     "text": [
      "  3%|▎         | 58/2000 [00:04<02:23, 13.56it/s]"
     ]
    },
    {
     "name": "stdout",
     "output_type": "stream",
     "text": [
      "current_loss: tensor(1.2660, grad_fn=<MeanBackward0>)\n",
      "current_loss_val:  1.252705454826355\n",
      "current_loss: tensor(1.2660, grad_fn=<MeanBackward0>)\n",
      "current_loss: tensor(1.2662, grad_fn=<MeanBackward0>)\n",
      "current_loss: tensor(1.2660, grad_fn=<MeanBackward0>)\n",
      "current_loss_val:  1.2525215148925781\n",
      "current_loss: tensor(1.2660, grad_fn=<MeanBackward0>)\n",
      "current_loss: tensor(1.2659, grad_fn=<MeanBackward0>)\n",
      "current_loss_val:  1.2523963451385498\n"
     ]
    },
    {
     "name": "stderr",
     "output_type": "stream",
     "text": [
      "  3%|▎         | 60/2000 [00:04<02:19, 13.87it/s]"
     ]
    },
    {
     "name": "stdout",
     "output_type": "stream",
     "text": [
      "current_loss: tensor(1.2659, grad_fn=<MeanBackward0>)\n",
      "current_loss: tensor(1.2658, grad_fn=<MeanBackward0>)\n",
      "current_loss_val:  1.2522069215774536\n",
      "current_loss: tensor(1.2658, grad_fn=<MeanBackward0>)\n",
      "current_loss: tensor(1.2657, grad_fn=<MeanBackward0>)\n",
      "current_loss_val:  1.2521495819091797\n",
      "current_loss: tensor(1.2657, grad_fn=<MeanBackward0>)\n",
      "current_loss: tensor(1.2657, grad_fn=<MeanBackward0>)\n",
      "current_loss_val:  1.252122163772583\n"
     ]
    },
    {
     "name": "stderr",
     "output_type": "stream",
     "text": [
      "  3%|▎         | 64/2000 [00:04<02:15, 14.30it/s]"
     ]
    },
    {
     "name": "stdout",
     "output_type": "stream",
     "text": [
      "current_loss: tensor(1.2657, grad_fn=<MeanBackward0>)\n",
      "current_loss: tensor(1.2657, grad_fn=<MeanBackward0>)\n",
      "current_loss_val:  1.2521140575408936\n",
      "current_loss: tensor(1.2657, grad_fn=<MeanBackward0>)\n",
      "current_loss: tensor(1.2657, grad_fn=<MeanBackward0>)\n",
      "current_loss_val:  1.252083420753479\n",
      "current_loss: tensor(1.2657, grad_fn=<MeanBackward0>)\n",
      "current_loss: tensor(1.2657, grad_fn=<MeanBackward0>)\n",
      "current_loss_val:  1.2520442008972168\n"
     ]
    },
    {
     "name": "stderr",
     "output_type": "stream",
     "text": [
      "  3%|▎         | 66/2000 [00:04<02:14, 14.43it/s]"
     ]
    },
    {
     "name": "stdout",
     "output_type": "stream",
     "text": [
      "current_loss: tensor(1.2657, grad_fn=<MeanBackward0>)\n",
      "current_loss: tensor(1.2657, grad_fn=<MeanBackward0>)\n",
      "current_loss_val:  1.2520418167114258\n",
      "current_loss: tensor(1.2657, grad_fn=<MeanBackward0>)\n",
      "current_loss: tensor(1.2657, grad_fn=<MeanBackward0>)\n",
      "current_loss_val:  1.252037525177002\n",
      "current_loss: tensor(1.2657, grad_fn=<MeanBackward0>)\n",
      "current_loss: tensor(1.2657, grad_fn=<MeanBackward0>)\n",
      "current_loss_val:  1.2520276308059692\n"
     ]
    },
    {
     "name": "stderr",
     "output_type": "stream",
     "text": [
      "  3%|▎         | 68/2000 [00:04<02:11, 14.65it/s]"
     ]
    },
    {
     "name": "stdout",
     "output_type": "stream",
     "text": [
      "current_loss: tensor(1.2657, grad_fn=<MeanBackward0>)\n",
      "current_loss: tensor(1.2656, grad_fn=<MeanBackward0>)\n",
      "current_loss_val:  1.251958966255188\n",
      "current_loss: tensor(1.2656, grad_fn=<MeanBackward0>)\n",
      "current_loss: tensor(1.2656, grad_fn=<MeanBackward0>)\n",
      "current_loss: tensor(1.2656, grad_fn=<MeanBackward0>)\n",
      "current_loss_val:  1.2519410848617554\n",
      "current_loss: tensor(1.2656, grad_fn=<MeanBackward0>)\n",
      "current_loss: tensor(1.2656, grad_fn=<MeanBackward0>)\n"
     ]
    },
    {
     "name": "stderr",
     "output_type": "stream",
     "text": [
      "  4%|▎         | 72/2000 [00:04<02:14, 14.30it/s]"
     ]
    },
    {
     "name": "stdout",
     "output_type": "stream",
     "text": [
      "current_loss_val:  1.251926064491272\n",
      "current_loss: tensor(1.2656, grad_fn=<MeanBackward0>)\n",
      "current_loss: tensor(1.2656, grad_fn=<MeanBackward0>)\n",
      "current_loss_val:  1.2519049644470215\n",
      "current_loss: tensor(1.2656, grad_fn=<MeanBackward0>)\n",
      "current_loss: tensor(1.2656, grad_fn=<MeanBackward0>)\n",
      "current_loss_val:  1.2518776655197144\n",
      "current_loss: tensor(1.2656, grad_fn=<MeanBackward0>)\n",
      "current_loss: tensor(1.2656, grad_fn=<MeanBackward0>)\n"
     ]
    },
    {
     "name": "stderr",
     "output_type": "stream",
     "text": [
      "  4%|▍         | 76/2000 [00:05<02:13, 14.42it/s]"
     ]
    },
    {
     "name": "stdout",
     "output_type": "stream",
     "text": [
      "current_loss_val:  1.2518737316131592\n",
      "current_loss: tensor(1.2656, grad_fn=<MeanBackward0>)\n",
      "current_loss: tensor(1.2656, grad_fn=<MeanBackward0>)\n",
      "current_loss_val:  1.251875638961792\n",
      "current_loss: tensor(1.2656, grad_fn=<MeanBackward0>)\n",
      "current_loss: tensor(1.2656, grad_fn=<MeanBackward0>)\n",
      "current_loss_val:  1.2518898248672485\n",
      "current_loss: tensor(1.2656, grad_fn=<MeanBackward0>)\n",
      "current_loss: tensor(1.2656, grad_fn=<MeanBackward0>)\n",
      "current_loss_val:  1.2518813610076904\n"
     ]
    },
    {
     "name": "stderr",
     "output_type": "stream",
     "text": [
      "  4%|▍         | 78/2000 [00:05<02:11, 14.60it/s]"
     ]
    },
    {
     "name": "stdout",
     "output_type": "stream",
     "text": [
      "current_loss: tensor(1.2656, grad_fn=<MeanBackward0>)\n",
      "current_loss: tensor(1.2656, grad_fn=<MeanBackward0>)\n",
      "current_loss_val:  1.2518796920776367\n",
      "current_loss: tensor(1.2656, grad_fn=<MeanBackward0>)\n",
      "current_loss: tensor(1.2656, grad_fn=<MeanBackward0>)\n",
      "current_loss_val:  1.2518715858459473\n",
      "current_loss: tensor(1.2656, grad_fn=<MeanBackward0>)\n",
      "current_loss: tensor(1.2656, grad_fn=<MeanBackward0>)\n",
      "current_loss_val:  1.25187087059021\n"
     ]
    },
    {
     "name": "stderr",
     "output_type": "stream",
     "text": [
      "  4%|▍         | 80/2000 [00:05<02:10, 14.70it/s]"
     ]
    },
    {
     "name": "stdout",
     "output_type": "stream",
     "text": [
      "current_loss: tensor(1.2656, grad_fn=<MeanBackward0>)\n",
      "current_loss: tensor(1.2656, grad_fn=<MeanBackward0>)\n",
      "current_loss_val:  1.2518908977508545\n"
     ]
    },
    {
     "name": "stderr",
     "output_type": "stream",
     "text": [
      "  4%|▍         | 82/2000 [00:05<03:09, 10.15it/s]"
     ]
    },
    {
     "name": "stdout",
     "output_type": "stream",
     "text": [
      "current_loss: tensor(1.2656, grad_fn=<MeanBackward0>)\n",
      "current_loss: tensor(1.2656, grad_fn=<MeanBackward0>)\n",
      "current_loss_val:  1.2519129514694214\n",
      "current_loss: tensor(1.2656, grad_fn=<MeanBackward0>)\n",
      "current_loss: tensor(1.2655, grad_fn=<MeanBackward0>)\n",
      "current_loss_val:  1.251966118812561\n",
      "current_loss: tensor(1.2655, grad_fn=<MeanBackward0>)\n",
      "current_loss: tensor(1.2655, grad_fn=<MeanBackward0>)\n",
      "current_loss_val:  1.251993179321289\n",
      "current_loss: tensor(1.2655, grad_fn=<MeanBackward0>)\n"
     ]
    },
    {
     "name": "stderr",
     "output_type": "stream",
     "text": [
      "  4%|▍         | 83/2000 [00:05<02:18, 13.84it/s]\n"
     ]
    },
    {
     "name": "stdout",
     "output_type": "stream",
     "text": [
      "current_loss: tensor(1.2655, grad_fn=<MeanBackward0>)\n",
      "current_loss_val:  1.252015233039856\n",
      "Early Stop at iteration 83 with minimal loss tensor(1.2519) and patience 5 and min_delta 1e-07\n"
     ]
    },
    {
     "name": "stderr",
     "output_type": "stream",
     "text": [
      "[I 2025-10-14 12:18:26,522] Trial 22 finished with value: -2.50374174118042 and parameters: {'penalty_decorrelation_ridge_first_difference': 0.8029075908551297, 'penalty_decorrelation_ridge_second_difference': 21.552967331959728}. Best is trial 22 with value: -2.50374174118042.\n",
      "  0%|          | 2/2000 [00:00<02:30, 13.26it/s]"
     ]
    },
    {
     "name": "stdout",
     "output_type": "stream",
     "text": [
      "current_loss: tensor(1.2724, grad_fn=<MeanBackward0>)\n",
      "current_loss: tensor(1.2726, grad_fn=<MeanBackward0>)\n",
      "current_loss: tensor(1.2720, grad_fn=<MeanBackward0>)\n",
      "current_loss_val:  1.2558623552322388\n",
      "current_loss: tensor(1.2720, grad_fn=<MeanBackward0>)\n",
      "current_loss: tensor(1.2717, grad_fn=<MeanBackward0>)\n",
      "current_loss_val:  1.2558478116989136\n",
      "current_loss: tensor(1.2717, grad_fn=<MeanBackward0>)\n",
      "current_loss: tensor(1.2713, grad_fn=<MeanBackward0>)\n",
      "current_loss_val:  1.2557860612869263\n"
     ]
    },
    {
     "name": "stderr",
     "output_type": "stream",
     "text": [
      "  0%|          | 6/2000 [00:00<02:17, 14.52it/s]"
     ]
    },
    {
     "name": "stdout",
     "output_type": "stream",
     "text": [
      "current_loss: tensor(1.2713, grad_fn=<MeanBackward0>)\n",
      "current_loss: tensor(1.2710, grad_fn=<MeanBackward0>)\n",
      "current_loss_val:  1.2557032108306885\n",
      "current_loss: tensor(1.2710, grad_fn=<MeanBackward0>)\n",
      "current_loss: tensor(1.2708, grad_fn=<MeanBackward0>)\n",
      "current_loss_val:  1.255602240562439\n",
      "current_loss: tensor(1.2708, grad_fn=<MeanBackward0>)\n",
      "current_loss: tensor(1.2706, grad_fn=<MeanBackward0>)\n",
      "current_loss_val:  1.2555396556854248\n"
     ]
    },
    {
     "name": "stderr",
     "output_type": "stream",
     "text": [
      "  0%|          | 8/2000 [00:00<02:15, 14.71it/s]"
     ]
    },
    {
     "name": "stdout",
     "output_type": "stream",
     "text": [
      "current_loss: tensor(1.2706, grad_fn=<MeanBackward0>)\n",
      "current_loss: tensor(1.2704, grad_fn=<MeanBackward0>)\n",
      "current_loss_val:  1.2554503679275513\n",
      "current_loss: tensor(1.2704, grad_fn=<MeanBackward0>)\n",
      "current_loss: tensor(1.2702, grad_fn=<MeanBackward0>)\n",
      "current_loss_val:  1.2553406953811646\n",
      "current_loss: tensor(1.2702, grad_fn=<MeanBackward0>)\n",
      "current_loss: tensor(1.2699, grad_fn=<MeanBackward0>)\n",
      "current_loss_val:  1.255319356918335\n",
      "current_loss: tensor(1.2699, grad_fn=<MeanBackward0>)\n"
     ]
    },
    {
     "name": "stderr",
     "output_type": "stream",
     "text": [
      "  1%|          | 12/2000 [00:00<02:15, 14.66it/s]"
     ]
    },
    {
     "name": "stdout",
     "output_type": "stream",
     "text": [
      "current_loss: tensor(1.2699, grad_fn=<MeanBackward0>)\n",
      "current_loss_val:  1.2553105354309082\n",
      "current_loss: tensor(1.2699, grad_fn=<MeanBackward0>)\n",
      "current_loss: tensor(1.2697, grad_fn=<MeanBackward0>)\n",
      "current_loss_val:  1.2552567720413208\n",
      "current_loss: tensor(1.2697, grad_fn=<MeanBackward0>)\n",
      "current_loss: tensor(1.2696, grad_fn=<MeanBackward0>)\n",
      "current_loss_val:  1.2551895380020142\n",
      "current_loss: tensor(1.2696, grad_fn=<MeanBackward0>)\n"
     ]
    },
    {
     "name": "stderr",
     "output_type": "stream",
     "text": [
      "  1%|          | 14/2000 [00:00<02:14, 14.78it/s]"
     ]
    },
    {
     "name": "stdout",
     "output_type": "stream",
     "text": [
      "current_loss: tensor(1.2696, grad_fn=<MeanBackward0>)\n",
      "current_loss_val:  1.2551231384277344\n",
      "current_loss: tensor(1.2696, grad_fn=<MeanBackward0>)\n",
      "current_loss: tensor(1.2695, grad_fn=<MeanBackward0>)\n",
      "current_loss_val:  1.2550897598266602\n",
      "current_loss: tensor(1.2695, grad_fn=<MeanBackward0>)\n",
      "current_loss: tensor(1.2695, grad_fn=<MeanBackward0>)\n",
      "current_loss_val:  1.2550561428070068\n",
      "current_loss: tensor(1.2695, grad_fn=<MeanBackward0>)\n"
     ]
    },
    {
     "name": "stderr",
     "output_type": "stream",
     "text": [
      "  1%|          | 16/2000 [00:01<02:13, 14.81it/s]"
     ]
    },
    {
     "name": "stdout",
     "output_type": "stream",
     "text": [
      "current_loss: tensor(1.2694, grad_fn=<MeanBackward0>)\n",
      "current_loss_val:  1.2550088167190552\n",
      "current_loss: tensor(1.2694, grad_fn=<MeanBackward0>)\n",
      "current_loss: tensor(1.2694, grad_fn=<MeanBackward0>)\n",
      "current_loss_val:  1.2550004720687866\n",
      "current_loss: tensor(1.2694, grad_fn=<MeanBackward0>)\n",
      "current_loss: tensor(1.2694, grad_fn=<MeanBackward0>)\n"
     ]
    },
    {
     "name": "stderr",
     "output_type": "stream",
     "text": [
      "  1%|          | 20/2000 [00:01<02:24, 13.69it/s]"
     ]
    },
    {
     "name": "stdout",
     "output_type": "stream",
     "text": [
      "current_loss_val:  1.255000352859497\n",
      "current_loss: tensor(1.2694, grad_fn=<MeanBackward0>)\n",
      "current_loss: tensor(1.2693, grad_fn=<MeanBackward0>)\n",
      "current_loss_val:  1.2549980878829956\n",
      "current_loss: tensor(1.2693, grad_fn=<MeanBackward0>)\n",
      "current_loss: tensor(1.2693, grad_fn=<MeanBackward0>)\n",
      "current_loss_val:  1.2549890279769897\n",
      "current_loss: tensor(1.2693, grad_fn=<MeanBackward0>)\n",
      "current_loss: tensor(1.2693, grad_fn=<MeanBackward0>)\n",
      "current_loss: tensor(1.2693, grad_fn=<MeanBackward0>)\n"
     ]
    },
    {
     "name": "stderr",
     "output_type": "stream",
     "text": [
      "  1%|          | 22/2000 [00:01<02:27, 13.38it/s]"
     ]
    },
    {
     "name": "stdout",
     "output_type": "stream",
     "text": [
      "current_loss_val:  1.2549561262130737\n",
      "current_loss: tensor(1.2693, grad_fn=<MeanBackward0>)\n",
      "current_loss: tensor(1.2692, grad_fn=<MeanBackward0>)\n",
      "current_loss_val:  1.2549313306808472\n",
      "current_loss: tensor(1.2692, grad_fn=<MeanBackward0>)\n",
      "current_loss: tensor(1.2692, grad_fn=<MeanBackward0>)\n",
      "current_loss_val:  1.2548807859420776\n",
      "current_loss: tensor(1.2692, grad_fn=<MeanBackward0>)\n",
      "current_loss: tensor(1.2692, grad_fn=<MeanBackward0>)\n"
     ]
    },
    {
     "name": "stderr",
     "output_type": "stream",
     "text": [
      "  1%|▏         | 26/2000 [00:01<02:19, 14.14it/s]"
     ]
    },
    {
     "name": "stdout",
     "output_type": "stream",
     "text": [
      "current_loss_val:  1.2548471689224243\n",
      "current_loss: tensor(1.2692, grad_fn=<MeanBackward0>)\n",
      "current_loss: tensor(1.2691, grad_fn=<MeanBackward0>)\n",
      "current_loss_val:  1.2548174858093262\n",
      "current_loss: tensor(1.2691, grad_fn=<MeanBackward0>)\n",
      "current_loss: tensor(1.2691, grad_fn=<MeanBackward0>)\n",
      "current_loss_val:  1.2547539472579956\n",
      "current_loss: tensor(1.2691, grad_fn=<MeanBackward0>)\n",
      "current_loss: tensor(1.2690, grad_fn=<MeanBackward0>)\n",
      "current_loss_val:  1.2546342611312866\n"
     ]
    },
    {
     "name": "stderr",
     "output_type": "stream",
     "text": [
      "  2%|▏         | 30/2000 [00:02<02:15, 14.58it/s]"
     ]
    },
    {
     "name": "stdout",
     "output_type": "stream",
     "text": [
      "current_loss: tensor(1.2690, grad_fn=<MeanBackward0>)\n",
      "current_loss: tensor(1.2690, grad_fn=<MeanBackward0>)\n",
      "current_loss_val:  1.254543662071228\n",
      "current_loss: tensor(1.2690, grad_fn=<MeanBackward0>)\n",
      "current_loss: tensor(1.2689, grad_fn=<MeanBackward0>)\n",
      "current_loss_val:  1.2543929815292358\n",
      "current_loss: tensor(1.2689, grad_fn=<MeanBackward0>)\n",
      "current_loss: tensor(1.2688, grad_fn=<MeanBackward0>)\n",
      "current_loss_val:  1.2540993690490723\n",
      "current_loss: "
     ]
    },
    {
     "name": "stderr",
     "output_type": "stream",
     "text": [
      "  2%|▏         | 32/2000 [00:02<02:13, 14.69it/s]"
     ]
    },
    {
     "name": "stdout",
     "output_type": "stream",
     "text": [
      "tensor(1.2688, grad_fn=<MeanBackward0>)\n",
      "current_loss: tensor(1.2687, grad_fn=<MeanBackward0>)\n",
      "current_loss_val:  1.2539669275283813\n",
      "current_loss: tensor(1.2687, grad_fn=<MeanBackward0>)\n",
      "current_loss: tensor(1.2687, grad_fn=<MeanBackward0>)\n",
      "current_loss_val:  1.2538849115371704\n",
      "current_loss: tensor(1.2687, grad_fn=<MeanBackward0>)\n",
      "current_loss: tensor(1.2685, grad_fn=<MeanBackward0>)\n",
      "current_loss_val:  1.2534693479537964\n",
      "current_loss: tensor(1.2685, grad_fn=<MeanBackward0>)\n"
     ]
    },
    {
     "name": "stderr",
     "output_type": "stream",
     "text": [
      "  2%|▏         | 36/2000 [00:02<02:18, 14.20it/s]"
     ]
    },
    {
     "name": "stdout",
     "output_type": "stream",
     "text": [
      "current_loss: tensor(1.2685, grad_fn=<MeanBackward0>)\n",
      "current_loss: tensor(1.2685, grad_fn=<MeanBackward0>)\n",
      "current_loss_val:  1.2533636093139648\n",
      "current_loss: tensor(1.2685, grad_fn=<MeanBackward0>)\n",
      "current_loss: tensor(1.2684, grad_fn=<MeanBackward0>)\n",
      "current_loss_val:  1.2532999515533447\n",
      "current_loss: tensor(1.2684, grad_fn=<MeanBackward0>)\n",
      "current_loss: tensor(1.2684, grad_fn=<MeanBackward0>)\n",
      "current_loss_val:  1.2531392574310303\n"
     ]
    },
    {
     "name": "stderr",
     "output_type": "stream",
     "text": [
      "  2%|▏         | 38/2000 [00:02<02:22, 13.76it/s]"
     ]
    },
    {
     "name": "stdout",
     "output_type": "stream",
     "text": [
      "current_loss: tensor(1.2684, grad_fn=<MeanBackward0>)\n",
      "current_loss: tensor(1.2684, grad_fn=<MeanBackward0>)\n",
      "current_loss: tensor(1.2684, grad_fn=<MeanBackward0>)\n",
      "current_loss_val:  1.2531086206436157\n",
      "current_loss: tensor(1.2684, grad_fn=<MeanBackward0>)\n",
      "current_loss: tensor(1.2683, grad_fn=<MeanBackward0>)\n",
      "current_loss_val:  1.2530975341796875\n",
      "current_loss: tensor(1.2683, grad_fn=<MeanBackward0>)\n",
      "current_loss: tensor(1.2683, grad_fn=<MeanBackward0>)\n",
      "current_loss_val:  1.2529860734939575\n"
     ]
    },
    {
     "name": "stderr",
     "output_type": "stream",
     "text": [
      "  2%|▏         | 40/2000 [00:02<02:26, 13.37it/s]"
     ]
    },
    {
     "name": "stdout",
     "output_type": "stream",
     "text": [
      "current_loss: tensor(1.2683, grad_fn=<MeanBackward0>)\n",
      "current_loss: tensor(1.2683, grad_fn=<MeanBackward0>)\n",
      "current_loss: tensor(1.2682, grad_fn=<MeanBackward0>)\n",
      "current_loss_val:  1.2529667615890503\n",
      "current_loss: tensor(1.2682, grad_fn=<MeanBackward0>)\n",
      "current_loss: tensor(1.2682, grad_fn=<MeanBackward0>)\n",
      "current_loss_val:  1.2529598474502563\n",
      "current_loss: tensor(1.2682, grad_fn=<MeanBackward0>)\n",
      "current_loss: tensor(1.2682, grad_fn=<MeanBackward0>)\n"
     ]
    },
    {
     "name": "stderr",
     "output_type": "stream",
     "text": [
      "  2%|▏         | 44/2000 [00:03<02:18, 14.13it/s]"
     ]
    },
    {
     "name": "stdout",
     "output_type": "stream",
     "text": [
      "current_loss_val:  1.2529157400131226\n",
      "current_loss: tensor(1.2682, grad_fn=<MeanBackward0>)\n",
      "current_loss: tensor(1.2681, grad_fn=<MeanBackward0>)\n",
      "current_loss_val:  1.2528618574142456\n",
      "current_loss: tensor(1.2681, grad_fn=<MeanBackward0>)\n",
      "current_loss: tensor(1.2680, grad_fn=<MeanBackward0>)\n",
      "current_loss_val:  1.2528626918792725\n",
      "current_loss: tensor(1.2680, grad_fn=<MeanBackward0>)\n",
      "current_loss: tensor(1.2679, grad_fn=<MeanBackward0>)\n",
      "current_loss_val:  1.2528786659240723\n"
     ]
    },
    {
     "name": "stderr",
     "output_type": "stream",
     "text": [
      "  2%|▏         | 48/2000 [00:03<02:15, 14.38it/s]"
     ]
    },
    {
     "name": "stdout",
     "output_type": "stream",
     "text": [
      "current_loss: tensor(1.2679, grad_fn=<MeanBackward0>)\n",
      "current_loss: tensor(1.2679, grad_fn=<MeanBackward0>)\n",
      "current_loss_val:  1.2528201341629028\n",
      "current_loss: tensor(1.2679, grad_fn=<MeanBackward0>)\n",
      "current_loss: tensor(1.2678, grad_fn=<MeanBackward0>)\n",
      "current_loss_val:  1.2528116703033447\n",
      "current_loss: tensor(1.2678, grad_fn=<MeanBackward0>)\n",
      "current_loss: tensor(1.2678, grad_fn=<MeanBackward0>)\n",
      "current_loss_val:  1.2528035640716553\n"
     ]
    },
    {
     "name": "stderr",
     "output_type": "stream",
     "text": [
      "  2%|▎         | 50/2000 [00:03<02:14, 14.54it/s]"
     ]
    },
    {
     "name": "stdout",
     "output_type": "stream",
     "text": [
      "current_loss: tensor(1.2678, grad_fn=<MeanBackward0>)\n",
      "current_loss: tensor(1.2677, grad_fn=<MeanBackward0>)\n",
      "current_loss_val:  1.252779245376587\n",
      "current_loss: tensor(1.2677, grad_fn=<MeanBackward0>)\n",
      "current_loss: tensor(1.2677, grad_fn=<MeanBackward0>)\n",
      "current_loss_val:  1.2527207136154175\n",
      "current_loss: tensor(1.2677, grad_fn=<MeanBackward0>)\n",
      "current_loss: tensor(1.2677, grad_fn=<MeanBackward0>)\n",
      "current_loss_val:  1.2526775598526\n",
      "current_loss: tensor(1.2677, grad_fn=<MeanBackward0>)\n"
     ]
    },
    {
     "name": "stderr",
     "output_type": "stream",
     "text": [
      "  3%|▎         | 54/2000 [00:03<02:12, 14.63it/s]"
     ]
    },
    {
     "name": "stdout",
     "output_type": "stream",
     "text": [
      "current_loss: tensor(1.2677, grad_fn=<MeanBackward0>)\n",
      "current_loss_val:  1.2526522874832153\n",
      "current_loss: tensor(1.2677, grad_fn=<MeanBackward0>)\n",
      "current_loss: tensor(1.2677, grad_fn=<MeanBackward0>)\n",
      "current_loss_val:  1.2526538372039795\n",
      "current_loss: tensor(1.2677, grad_fn=<MeanBackward0>)\n",
      "current_loss: tensor(1.2677, grad_fn=<MeanBackward0>)\n",
      "current_loss_val:  1.2526532411575317\n",
      "current_loss: tensor(1.2677, grad_fn=<MeanBackward0>)\n"
     ]
    },
    {
     "name": "stderr",
     "output_type": "stream",
     "text": [
      "  3%|▎         | 56/2000 [00:03<02:11, 14.74it/s]"
     ]
    },
    {
     "name": "stdout",
     "output_type": "stream",
     "text": [
      "current_loss: tensor(1.2677, grad_fn=<MeanBackward0>)\n",
      "current_loss_val:  1.2526484727859497\n",
      "current_loss: tensor(1.2677, grad_fn=<MeanBackward0>)\n",
      "current_loss: tensor(1.2676, grad_fn=<MeanBackward0>)\n",
      "current_loss_val:  1.252644419670105\n",
      "current_loss: tensor(1.2676, grad_fn=<MeanBackward0>)\n",
      "current_loss: tensor(1.2676, grad_fn=<MeanBackward0>)\n",
      "current_loss: tensor(1.2676, grad_fn=<MeanBackward0>)\n",
      "current_loss_val:  1.252639889717102\n",
      "current_loss: tensor(1.2676, grad_fn=<MeanBackward0>)\n"
     ]
    },
    {
     "name": "stderr",
     "output_type": "stream",
     "text": [
      "  3%|▎         | 60/2000 [00:04<02:14, 14.38it/s]"
     ]
    },
    {
     "name": "stdout",
     "output_type": "stream",
     "text": [
      "current_loss: tensor(1.2676, grad_fn=<MeanBackward0>)\n",
      "current_loss_val:  1.2526381015777588\n",
      "current_loss: tensor(1.2676, grad_fn=<MeanBackward0>)\n",
      "current_loss: tensor(1.2676, grad_fn=<MeanBackward0>)\n",
      "current_loss_val:  1.2526274919509888\n",
      "current_loss: tensor(1.2676, grad_fn=<MeanBackward0>)\n",
      "current_loss: tensor(1.2676, grad_fn=<MeanBackward0>)\n",
      "current_loss_val:  1.2525911331176758\n",
      "current_loss: tensor(1.2676, grad_fn=<MeanBackward0>)\n",
      "current_loss: "
     ]
    },
    {
     "name": "stderr",
     "output_type": "stream",
     "text": [
      "  3%|▎         | 62/2000 [00:04<02:14, 14.38it/s]"
     ]
    },
    {
     "name": "stdout",
     "output_type": "stream",
     "text": [
      "tensor(1.2675, grad_fn=<MeanBackward0>)\n",
      "current_loss_val:  1.2525266408920288\n",
      "current_loss: tensor(1.2675, grad_fn=<MeanBackward0>)\n",
      "current_loss: tensor(1.2675, grad_fn=<MeanBackward0>)\n",
      "current_loss_val:  1.2524875402450562\n",
      "current_loss: tensor(1.2675, grad_fn=<MeanBackward0>)\n",
      "current_loss: tensor(1.2675, grad_fn=<MeanBackward0>)\n",
      "current_loss_val:  1.2524631023406982\n",
      "current_loss: tensor(1.2675, grad_fn=<MeanBackward0>)\n"
     ]
    },
    {
     "name": "stderr",
     "output_type": "stream",
     "text": [
      "  3%|▎         | 66/2000 [00:04<02:13, 14.50it/s]"
     ]
    },
    {
     "name": "stdout",
     "output_type": "stream",
     "text": [
      "current_loss: tensor(1.2675, grad_fn=<MeanBackward0>)\n",
      "current_loss_val:  1.2524055242538452\n",
      "current_loss: tensor(1.2675, grad_fn=<MeanBackward0>)\n",
      "current_loss: tensor(1.2674, grad_fn=<MeanBackward0>)\n",
      "current_loss_val:  1.2523908615112305\n",
      "current_loss: tensor(1.2674, grad_fn=<MeanBackward0>)\n",
      "current_loss: tensor(1.2674, grad_fn=<MeanBackward0>)\n",
      "current_loss_val:  1.2523905038833618\n",
      "current_loss: tensor(1.2674, grad_fn=<MeanBackward0>)\n"
     ]
    },
    {
     "name": "stderr",
     "output_type": "stream",
     "text": [
      "  3%|▎         | 68/2000 [00:04<02:11, 14.65it/s]"
     ]
    },
    {
     "name": "stdout",
     "output_type": "stream",
     "text": [
      "current_loss: tensor(1.2674, grad_fn=<MeanBackward0>)\n",
      "current_loss_val:  1.2523903846740723\n",
      "current_loss: tensor(1.2674, grad_fn=<MeanBackward0>)\n",
      "current_loss: tensor(1.2674, grad_fn=<MeanBackward0>)\n",
      "current_loss_val:  1.2523725032806396\n",
      "current_loss: tensor(1.2674, grad_fn=<MeanBackward0>)\n",
      "current_loss: tensor(1.2674, grad_fn=<MeanBackward0>)\n",
      "current_loss_val:  1.2523715496063232\n",
      "current_loss: tensor(1.2674, grad_fn=<MeanBackward0>)\n",
      "current_loss: tensor(1.2674, grad_fn=<MeanBackward0>)\n"
     ]
    },
    {
     "name": "stderr",
     "output_type": "stream",
     "text": [
      "  4%|▎         | 72/2000 [00:05<02:12, 14.57it/s]"
     ]
    },
    {
     "name": "stdout",
     "output_type": "stream",
     "text": [
      "current_loss_val:  1.252372145652771\n",
      "current_loss: tensor(1.2674, grad_fn=<MeanBackward0>)\n",
      "current_loss: tensor(1.2674, grad_fn=<MeanBackward0>)\n",
      "current_loss_val:  1.2523797750473022\n",
      "current_loss: tensor(1.2674, grad_fn=<MeanBackward0>)\n",
      "current_loss: tensor(1.2674, grad_fn=<MeanBackward0>)\n",
      "current_loss_val:  1.2524030208587646\n",
      "current_loss: tensor(1.2674, grad_fn=<MeanBackward0>)\n",
      "current_loss: tensor(1.2673, grad_fn=<MeanBackward0>)\n"
     ]
    },
    {
     "name": "stderr",
     "output_type": "stream",
     "text": [
      "  4%|▎         | 73/2000 [00:05<02:16, 14.16it/s]\n"
     ]
    },
    {
     "name": "stdout",
     "output_type": "stream",
     "text": [
      "current_loss_val:  1.2524657249450684\n",
      "current_loss: tensor(1.2673, grad_fn=<MeanBackward0>)\n",
      "current_loss: tensor(1.2673, grad_fn=<MeanBackward0>)\n",
      "current_loss_val:  1.2524871826171875\n",
      "Early Stop at iteration 73 with minimal loss tensor(1.2524) and patience 5 and min_delta 1e-07\n"
     ]
    },
    {
     "name": "stderr",
     "output_type": "stream",
     "text": [
      "[I 2025-10-14 12:18:32,239] Trial 23 finished with value: -2.5047430992126465 and parameters: {'penalty_decorrelation_ridge_first_difference': 1.950966694189071, 'penalty_decorrelation_ridge_second_difference': 22.359365068539066}. Best is trial 22 with value: -2.50374174118042.\n",
      "  0%|          | 2/2000 [00:00<02:31, 13.19it/s]"
     ]
    },
    {
     "name": "stdout",
     "output_type": "stream",
     "text": [
      "current_loss: tensor(1.2722, grad_fn=<MeanBackward0>)\n",
      "current_loss: tensor(1.2728, grad_fn=<MeanBackward0>)\n",
      "current_loss: tensor(1.2717, grad_fn=<MeanBackward0>)\n",
      "current_loss_val:  1.2558660507202148\n",
      "current_loss: tensor(1.2717, grad_fn=<MeanBackward0>)\n",
      "current_loss: tensor(1.2714, grad_fn=<MeanBackward0>)\n",
      "current_loss_val:  1.2558571100234985\n",
      "current_loss: tensor(1.2714, grad_fn=<MeanBackward0>)\n",
      "current_loss: tensor(1.2710, grad_fn=<MeanBackward0>)\n",
      "current_loss_val:  1.2558082342147827\n"
     ]
    },
    {
     "name": "stderr",
     "output_type": "stream",
     "text": [
      "  0%|          | 6/2000 [00:00<02:17, 14.53it/s]"
     ]
    },
    {
     "name": "stdout",
     "output_type": "stream",
     "text": [
      "current_loss: tensor(1.2710, grad_fn=<MeanBackward0>)\n",
      "current_loss: tensor(1.2707, grad_fn=<MeanBackward0>)\n",
      "current_loss_val:  1.255739688873291\n",
      "current_loss: tensor(1.2707, grad_fn=<MeanBackward0>)\n",
      "current_loss: tensor(1.2705, grad_fn=<MeanBackward0>)\n",
      "current_loss_val:  1.2556489706039429\n",
      "current_loss: tensor(1.2705, grad_fn=<MeanBackward0>)\n",
      "current_loss: tensor(1.2703, grad_fn=<MeanBackward0>)\n",
      "current_loss_val:  1.2555873394012451\n"
     ]
    },
    {
     "name": "stderr",
     "output_type": "stream",
     "text": [
      "  0%|          | 8/2000 [00:00<02:16, 14.55it/s]"
     ]
    },
    {
     "name": "stdout",
     "output_type": "stream",
     "text": [
      "current_loss: tensor(1.2703, grad_fn=<MeanBackward0>)\n",
      "current_loss: tensor(1.2700, grad_fn=<MeanBackward0>)\n",
      "current_loss_val:  1.255494236946106\n",
      "current_loss: tensor(1.2700, grad_fn=<MeanBackward0>)\n",
      "current_loss: tensor(1.2698, grad_fn=<MeanBackward0>)\n",
      "current_loss_val:  1.25535249710083\n",
      "current_loss: tensor(1.2698, grad_fn=<MeanBackward0>)\n",
      "current_loss: tensor(1.2695, grad_fn=<MeanBackward0>)\n",
      "current_loss_val:  1.2553259134292603\n",
      "current_loss: tensor(1.2695, grad_fn=<MeanBackward0>)\n"
     ]
    },
    {
     "name": "stderr",
     "output_type": "stream",
     "text": [
      "  1%|          | 12/2000 [00:00<02:15, 14.66it/s]"
     ]
    },
    {
     "name": "stdout",
     "output_type": "stream",
     "text": [
      "current_loss: tensor(1.2694, grad_fn=<MeanBackward0>)\n",
      "current_loss_val:  1.2553188800811768\n",
      "current_loss: tensor(1.2694, grad_fn=<MeanBackward0>)\n",
      "current_loss: tensor(1.2693, grad_fn=<MeanBackward0>)\n",
      "current_loss_val:  1.2552739381790161\n",
      "current_loss: tensor(1.2693, grad_fn=<MeanBackward0>)\n",
      "current_loss: tensor(1.2692, grad_fn=<MeanBackward0>)\n",
      "current_loss_val:  1.2552133798599243\n",
      "current_loss: tensor(1.2692, grad_fn=<MeanBackward0>)\n"
     ]
    },
    {
     "name": "stderr",
     "output_type": "stream",
     "text": [
      "  1%|          | 14/2000 [00:00<02:15, 14.68it/s]"
     ]
    },
    {
     "name": "stdout",
     "output_type": "stream",
     "text": [
      "current_loss: tensor(1.2691, grad_fn=<MeanBackward0>)\n",
      "current_loss_val:  1.2551465034484863\n",
      "current_loss: tensor(1.2691, grad_fn=<MeanBackward0>)\n",
      "current_loss: tensor(1.2690, grad_fn=<MeanBackward0>)\n",
      "current_loss_val:  1.2551097869873047\n",
      "current_loss: tensor(1.2690, grad_fn=<MeanBackward0>)\n",
      "current_loss: tensor(1.2690, grad_fn=<MeanBackward0>)\n",
      "current_loss_val:  1.2550736665725708\n",
      "current_loss: tensor(1.2690, grad_fn=<MeanBackward0>)\n"
     ]
    },
    {
     "name": "stderr",
     "output_type": "stream",
     "text": [
      "  1%|          | 18/2000 [00:01<02:25, 13.64it/s]"
     ]
    },
    {
     "name": "stdout",
     "output_type": "stream",
     "text": [
      "current_loss: tensor(1.2689, grad_fn=<MeanBackward0>)\n",
      "current_loss_val:  1.2550077438354492\n",
      "current_loss: tensor(1.2689, grad_fn=<MeanBackward0>)\n",
      "current_loss: tensor(1.2689, grad_fn=<MeanBackward0>)\n",
      "current_loss_val:  1.2549992799758911\n",
      "current_loss: tensor(1.2689, grad_fn=<MeanBackward0>)\n",
      "current_loss: tensor(1.2689, grad_fn=<MeanBackward0>)\n",
      "current_loss_val:  1.255003571510315\n"
     ]
    },
    {
     "name": "stderr",
     "output_type": "stream",
     "text": [
      "  1%|          | 20/2000 [00:01<02:21, 13.99it/s]"
     ]
    },
    {
     "name": "stdout",
     "output_type": "stream",
     "text": [
      "current_loss: tensor(1.2689, grad_fn=<MeanBackward0>)\n",
      "current_loss: tensor(1.2688, grad_fn=<MeanBackward0>)\n",
      "current_loss_val:  1.2550139427185059\n",
      "current_loss: tensor(1.2688, grad_fn=<MeanBackward0>)\n",
      "current_loss: tensor(1.2688, grad_fn=<MeanBackward0>)\n",
      "current_loss_val:  1.2550220489501953\n",
      "current_loss: tensor(1.2688, grad_fn=<MeanBackward0>)\n",
      "current_loss: tensor(1.2687, grad_fn=<MeanBackward0>)\n",
      "current_loss_val:  1.254968523979187\n"
     ]
    },
    {
     "name": "stderr",
     "output_type": "stream",
     "text": [
      "  1%|          | 24/2000 [00:01<02:19, 14.20it/s]"
     ]
    },
    {
     "name": "stdout",
     "output_type": "stream",
     "text": [
      "current_loss: tensor(1.2687, grad_fn=<MeanBackward0>)\n",
      "current_loss: tensor(1.2687, grad_fn=<MeanBackward0>)\n",
      "current_loss_val:  1.2549363374710083\n",
      "current_loss: tensor(1.2687, grad_fn=<MeanBackward0>)\n",
      "current_loss: tensor(1.2687, grad_fn=<MeanBackward0>)\n",
      "current_loss_val:  1.2549188137054443\n",
      "current_loss: tensor(1.2687, grad_fn=<MeanBackward0>)\n",
      "current_loss: tensor(1.2686, grad_fn=<MeanBackward0>)\n",
      "current_loss_val:  1.254867434501648\n"
     ]
    },
    {
     "name": "stderr",
     "output_type": "stream",
     "text": [
      "  1%|▏         | 26/2000 [00:01<02:17, 14.40it/s]"
     ]
    },
    {
     "name": "stdout",
     "output_type": "stream",
     "text": [
      "current_loss: tensor(1.2686, grad_fn=<MeanBackward0>)\n",
      "current_loss: tensor(1.2686, grad_fn=<MeanBackward0>)\n",
      "current_loss_val:  1.2548078298568726\n",
      "current_loss: tensor(1.2686, grad_fn=<MeanBackward0>)\n",
      "current_loss: tensor(1.2685, grad_fn=<MeanBackward0>)\n",
      "current_loss_val:  1.254745602607727\n",
      "current_loss: tensor(1.2685, grad_fn=<MeanBackward0>)\n",
      "current_loss: tensor(1.2685, grad_fn=<MeanBackward0>)\n",
      "current_loss_val:  1.2546947002410889\n"
     ]
    },
    {
     "name": "stderr",
     "output_type": "stream",
     "text": [
      "  1%|▏         | 28/2000 [00:01<02:15, 14.56it/s]"
     ]
    },
    {
     "name": "stdout",
     "output_type": "stream",
     "text": [
      "current_loss: tensor(1.2685, grad_fn=<MeanBackward0>)\n",
      "current_loss: tensor(1.2684, grad_fn=<MeanBackward0>)\n",
      "current_loss_val:  1.254518747329712\n",
      "current_loss: tensor(1.2684, grad_fn=<MeanBackward0>)\n",
      "current_loss: tensor(1.2684, grad_fn=<MeanBackward0>)\n",
      "current_loss: tensor(1.2683, grad_fn=<MeanBackward0>)\n",
      "current_loss_val:  1.2544349431991577\n",
      "current_loss: tensor(1.2683, grad_fn=<MeanBackward0>)\n",
      "current_loss: tensor(1.2683, grad_fn=<MeanBackward0>)\n"
     ]
    },
    {
     "name": "stderr",
     "output_type": "stream",
     "text": [
      "  2%|▏         | 32/2000 [00:02<02:25, 13.55it/s]"
     ]
    },
    {
     "name": "stdout",
     "output_type": "stream",
     "text": [
      "current_loss_val:  1.2543902397155762\n",
      "current_loss: tensor(1.2683, grad_fn=<MeanBackward0>)\n",
      "current_loss: tensor(1.2681, grad_fn=<MeanBackward0>)\n",
      "current_loss_val:  1.2539821863174438\n",
      "current_loss: tensor(1.2681, grad_fn=<MeanBackward0>)\n",
      "current_loss: tensor(1.2683, grad_fn=<MeanBackward0>)\n",
      "current_loss: tensor(1.2680, grad_fn=<MeanBackward0>)\n",
      "current_loss_val:  1.2538976669311523\n",
      "current_loss: tensor(1.2680, grad_fn=<MeanBackward0>)\n",
      "current_loss: tensor(1.2680, grad_fn=<MeanBackward0>)\n"
     ]
    },
    {
     "name": "stderr",
     "output_type": "stream",
     "text": [
      "  2%|▏         | 34/2000 [00:02<02:20, 13.96it/s]"
     ]
    },
    {
     "name": "stdout",
     "output_type": "stream",
     "text": [
      "current_loss_val:  1.2538516521453857\n",
      "current_loss: tensor(1.2680, grad_fn=<MeanBackward0>)\n",
      "current_loss: tensor(1.2679, grad_fn=<MeanBackward0>)\n",
      "current_loss_val:  1.2536062002182007\n",
      "current_loss: tensor(1.2679, grad_fn=<MeanBackward0>)\n",
      "current_loss: tensor(1.2679, grad_fn=<MeanBackward0>)\n",
      "current_loss: tensor(1.2678, grad_fn=<MeanBackward0>)\n",
      "current_loss_val:  1.253564476966858\n",
      "current_loss: tensor(1.2678, grad_fn=<MeanBackward0>)\n",
      "current_loss: tensor(1.2678, grad_fn=<MeanBackward0>)\n"
     ]
    },
    {
     "name": "stderr",
     "output_type": "stream",
     "text": [
      "  2%|▏         | 38/2000 [00:02<02:21, 13.83it/s]"
     ]
    },
    {
     "name": "stdout",
     "output_type": "stream",
     "text": [
      "current_loss_val:  1.253544569015503\n",
      "current_loss: tensor(1.2678, grad_fn=<MeanBackward0>)\n",
      "current_loss: tensor(1.2678, grad_fn=<MeanBackward0>)\n",
      "current_loss_val:  1.2534681558609009\n",
      "current_loss: tensor(1.2678, grad_fn=<MeanBackward0>)\n",
      "current_loss: tensor(1.2677, grad_fn=<MeanBackward0>)\n",
      "current_loss_val:  1.2533934116363525\n",
      "current_loss: tensor(1.2677, grad_fn=<MeanBackward0>)\n",
      "current_loss: tensor(1.2677, grad_fn=<MeanBackward0>)\n"
     ]
    },
    {
     "name": "stderr",
     "output_type": "stream",
     "text": [
      "  2%|▏         | 40/2000 [00:02<02:16, 14.34it/s]"
     ]
    },
    {
     "name": "stdout",
     "output_type": "stream",
     "text": [
      "current_loss_val:  1.2533643245697021\n",
      "current_loss: tensor(1.2677, grad_fn=<MeanBackward0>)\n",
      "current_loss: tensor(1.2677, grad_fn=<MeanBackward0>)\n",
      "current_loss_val:  1.253347396850586\n",
      "current_loss: tensor(1.2677, grad_fn=<MeanBackward0>)\n",
      "current_loss: tensor(1.2676, grad_fn=<MeanBackward0>)\n",
      "current_loss_val:  1.2533037662506104\n",
      "current_loss: tensor(1.2676, grad_fn=<MeanBackward0>)\n",
      "current_loss: tensor(1.2676, grad_fn=<MeanBackward0>)\n"
     ]
    },
    {
     "name": "stderr",
     "output_type": "stream",
     "text": [
      "  2%|▏         | 44/2000 [00:03<02:15, 14.44it/s]"
     ]
    },
    {
     "name": "stdout",
     "output_type": "stream",
     "text": [
      "current_loss_val:  1.253274917602539\n",
      "current_loss: tensor(1.2676, grad_fn=<MeanBackward0>)\n",
      "current_loss: tensor(1.2676, grad_fn=<MeanBackward0>)\n",
      "current_loss_val:  1.2532539367675781\n",
      "current_loss: tensor(1.2676, grad_fn=<MeanBackward0>)\n",
      "current_loss: tensor(1.2675, grad_fn=<MeanBackward0>)\n",
      "current_loss_val:  1.253076195716858\n",
      "current_loss: tensor(1.2675, grad_fn=<MeanBackward0>)\n",
      "current_loss: tensor(1.2674, grad_fn=<MeanBackward0>)\n",
      "current_loss_val:  1.252992868423462\n"
     ]
    },
    {
     "name": "stderr",
     "output_type": "stream",
     "text": [
      "  2%|▏         | 48/2000 [00:03<02:12, 14.69it/s]"
     ]
    },
    {
     "name": "stdout",
     "output_type": "stream",
     "text": [
      "current_loss: tensor(1.2674, grad_fn=<MeanBackward0>)\n",
      "current_loss: tensor(1.2673, grad_fn=<MeanBackward0>)\n",
      "current_loss_val:  1.2529884576797485\n",
      "current_loss: tensor(1.2673, grad_fn=<MeanBackward0>)\n",
      "current_loss: tensor(1.2673, grad_fn=<MeanBackward0>)\n",
      "current_loss_val:  1.2529844045639038\n",
      "current_loss: tensor(1.2673, grad_fn=<MeanBackward0>)\n",
      "current_loss: tensor(1.2672, grad_fn=<MeanBackward0>)\n",
      "current_loss_val:  1.252977728843689\n"
     ]
    },
    {
     "name": "stderr",
     "output_type": "stream",
     "text": [
      "  2%|▎         | 50/2000 [00:03<02:11, 14.79it/s]"
     ]
    },
    {
     "name": "stdout",
     "output_type": "stream",
     "text": [
      "current_loss: tensor(1.2672, grad_fn=<MeanBackward0>)\n",
      "current_loss: tensor(1.2672, grad_fn=<MeanBackward0>)\n",
      "current_loss_val:  1.2528825998306274\n",
      "current_loss: tensor(1.2672, grad_fn=<MeanBackward0>)\n",
      "current_loss: tensor(1.2671, grad_fn=<MeanBackward0>)\n",
      "current_loss_val:  1.2528719902038574\n",
      "current_loss: tensor(1.2671, grad_fn=<MeanBackward0>)\n",
      "current_loss: tensor(1.2671, grad_fn=<MeanBackward0>)\n",
      "current_loss_val:  1.2528620958328247\n",
      "current_loss: tensor(1.2671, grad_fn=<MeanBackward0>)\n"
     ]
    },
    {
     "name": "stderr",
     "output_type": "stream",
     "text": [
      "  3%|▎         | 54/2000 [00:03<02:12, 14.72it/s]"
     ]
    },
    {
     "name": "stdout",
     "output_type": "stream",
     "text": [
      "current_loss: tensor(1.2671, grad_fn=<MeanBackward0>)\n",
      "current_loss_val:  1.25285005569458\n",
      "current_loss: tensor(1.2671, grad_fn=<MeanBackward0>)\n",
      "current_loss: tensor(1.2671, grad_fn=<MeanBackward0>)\n",
      "current_loss_val:  1.2527810335159302\n",
      "current_loss: tensor(1.2671, grad_fn=<MeanBackward0>)\n",
      "current_loss: tensor(1.2670, grad_fn=<MeanBackward0>)\n",
      "current_loss_val:  1.252756118774414\n",
      "current_loss: tensor(1.2670, grad_fn=<MeanBackward0>)\n"
     ]
    },
    {
     "name": "stderr",
     "output_type": "stream",
     "text": [
      "  3%|▎         | 56/2000 [00:03<02:17, 14.12it/s]"
     ]
    },
    {
     "name": "stdout",
     "output_type": "stream",
     "text": [
      "current_loss: tensor(1.2670, grad_fn=<MeanBackward0>)\n",
      "current_loss_val:  1.2527364492416382\n",
      "current_loss: tensor(1.2670, grad_fn=<MeanBackward0>)\n",
      "current_loss: tensor(1.2670, grad_fn=<MeanBackward0>)\n",
      "current_loss: tensor(1.2670, grad_fn=<MeanBackward0>)\n",
      "current_loss_val:  1.2526962757110596\n",
      "current_loss: tensor(1.2670, grad_fn=<MeanBackward0>)\n",
      "current_loss: tensor(1.2670, grad_fn=<MeanBackward0>)\n",
      "current_loss_val:  1.2526708841323853\n",
      "current_loss: tensor(1.2670, grad_fn=<MeanBackward0>)\n"
     ]
    },
    {
     "name": "stderr",
     "output_type": "stream",
     "text": [
      "  3%|▎         | 60/2000 [00:04<02:14, 14.40it/s]"
     ]
    },
    {
     "name": "stdout",
     "output_type": "stream",
     "text": [
      "current_loss: tensor(1.2670, grad_fn=<MeanBackward0>)\n",
      "current_loss_val:  1.2526497840881348\n",
      "current_loss: tensor(1.2670, grad_fn=<MeanBackward0>)\n",
      "current_loss: tensor(1.2670, grad_fn=<MeanBackward0>)\n",
      "current_loss_val:  1.252632975578308\n",
      "current_loss: tensor(1.2670, grad_fn=<MeanBackward0>)\n",
      "current_loss: tensor(1.2669, grad_fn=<MeanBackward0>)\n",
      "current_loss_val:  1.2525782585144043\n",
      "current_loss: tensor(1.2669, grad_fn=<MeanBackward0>)\n"
     ]
    },
    {
     "name": "stderr",
     "output_type": "stream",
     "text": [
      "  3%|▎         | 62/2000 [00:04<02:12, 14.61it/s]"
     ]
    },
    {
     "name": "stdout",
     "output_type": "stream",
     "text": [
      "current_loss: tensor(1.2669, grad_fn=<MeanBackward0>)\n",
      "current_loss_val:  1.2525532245635986\n",
      "current_loss: tensor(1.2669, grad_fn=<MeanBackward0>)\n",
      "current_loss: tensor(1.2669, grad_fn=<MeanBackward0>)\n",
      "current_loss_val:  1.252563238143921\n",
      "current_loss: tensor(1.2669, grad_fn=<MeanBackward0>)\n",
      "current_loss: tensor(1.2669, grad_fn=<MeanBackward0>)\n",
      "current_loss_val:  1.252565860748291\n",
      "current_loss: tensor(1.2669, grad_fn=<MeanBackward0>)\n",
      "current_loss: tensor(1.2669, grad_fn=<MeanBackward0>)\n"
     ]
    },
    {
     "name": "stderr",
     "output_type": "stream",
     "text": [
      "  3%|▎         | 65/2000 [00:04<02:17, 14.07it/s]"
     ]
    },
    {
     "name": "stdout",
     "output_type": "stream",
     "text": [
      "current_loss_val:  1.2525845766067505\n",
      "current_loss: tensor(1.2669, grad_fn=<MeanBackward0>)\n",
      "current_loss: tensor(1.2669, grad_fn=<MeanBackward0>)\n",
      "current_loss: tensor(1.2669, grad_fn=<MeanBackward0>)\n",
      "current_loss_val:  1.2525935173034668\n",
      "current_loss: tensor(1.2669, grad_fn=<MeanBackward0>)\n",
      "current_loss: tensor(1.2669, grad_fn=<MeanBackward0>)\n",
      "current_loss_val:  1.2525991201400757\n",
      "Early Stop at iteration 65 with minimal loss tensor(1.2526) and patience 5 and min_delta 1e-07\n"
     ]
    },
    {
     "name": "stderr",
     "output_type": "stream",
     "text": [
      "\n",
      "[I 2025-10-14 12:18:37,419] Trial 24 finished with value: -2.5051064491271973 and parameters: {'penalty_decorrelation_ridge_first_difference': 1.3137131244028075, 'penalty_decorrelation_ridge_second_difference': 25.192483772470837}. Best is trial 22 with value: -2.50374174118042.\n",
      "  0%|          | 2/2000 [00:00<02:29, 13.40it/s]"
     ]
    },
    {
     "name": "stdout",
     "output_type": "stream",
     "text": [
      "current_loss: tensor(1.2729, grad_fn=<MeanBackward0>)\n",
      "current_loss: tensor(1.2729, grad_fn=<MeanBackward0>)\n",
      "current_loss: tensor(1.2724, grad_fn=<MeanBackward0>)\n",
      "current_loss_val:  1.255864143371582\n",
      "current_loss: tensor(1.2724, grad_fn=<MeanBackward0>)\n",
      "current_loss: tensor(1.2721, grad_fn=<MeanBackward0>)\n",
      "current_loss_val:  1.2558501958847046\n",
      "current_loss: tensor(1.2721, grad_fn=<MeanBackward0>)\n",
      "current_loss: tensor(1.2718, grad_fn=<MeanBackward0>)\n",
      "current_loss_val:  1.255790114402771\n"
     ]
    },
    {
     "name": "stderr",
     "output_type": "stream",
     "text": [
      "  0%|          | 6/2000 [00:00<02:22, 13.96it/s]"
     ]
    },
    {
     "name": "stdout",
     "output_type": "stream",
     "text": [
      "current_loss: tensor(1.2718, grad_fn=<MeanBackward0>)\n",
      "current_loss: tensor(1.2715, grad_fn=<MeanBackward0>)\n",
      "current_loss_val:  1.2557079792022705\n",
      "current_loss: tensor(1.2715, grad_fn=<MeanBackward0>)\n",
      "current_loss: tensor(1.2713, grad_fn=<MeanBackward0>)\n",
      "current_loss_val:  1.2556129693984985\n",
      "current_loss: tensor(1.2713, grad_fn=<MeanBackward0>)\n",
      "current_loss: tensor(1.2711, grad_fn=<MeanBackward0>)\n",
      "current_loss_val:  1.2555553913116455\n",
      "current_loss: tensor(1.2711, grad_fn=<MeanBackward0>)\n",
      "current_loss: tensor(1.2708, grad_fn=<MeanBackward0>)\n",
      "current_loss_val:  1.2554751634597778\n"
     ]
    },
    {
     "name": "stderr",
     "output_type": "stream",
     "text": [
      "  0%|          | 8/2000 [00:00<03:40,  9.05it/s]"
     ]
    },
    {
     "name": "stdout",
     "output_type": "stream",
     "text": [
      "current_loss: tensor(1.2708, grad_fn=<MeanBackward0>)\n",
      "current_loss: tensor(1.2707, grad_fn=<MeanBackward0>)\n",
      "current_loss_val:  1.2553859949111938\n",
      "current_loss: tensor(1.2707, grad_fn=<MeanBackward0>)\n",
      "current_loss: tensor(1.2705, grad_fn=<MeanBackward0>)\n",
      "current_loss_val:  1.255362868309021\n",
      "current_loss: tensor(1.2705, grad_fn=<MeanBackward0>)\n"
     ]
    },
    {
     "name": "stderr",
     "output_type": "stream",
     "text": [
      "  1%|          | 12/2000 [00:01<02:52, 11.55it/s]"
     ]
    },
    {
     "name": "stdout",
     "output_type": "stream",
     "text": [
      "current_loss: tensor(1.2704, grad_fn=<MeanBackward0>)\n",
      "current_loss_val:  1.2553517818450928\n",
      "current_loss: tensor(1.2704, grad_fn=<MeanBackward0>)\n",
      "current_loss: tensor(1.2703, grad_fn=<MeanBackward0>)\n",
      "current_loss_val:  1.2552855014801025\n",
      "current_loss: tensor(1.2703, grad_fn=<MeanBackward0>)\n",
      "current_loss: tensor(1.2702, grad_fn=<MeanBackward0>)\n",
      "current_loss_val:  1.2552088499069214\n",
      "current_loss: tensor(1.2702, grad_fn=<MeanBackward0>)\n"
     ]
    },
    {
     "name": "stderr",
     "output_type": "stream",
     "text": [
      "  1%|          | 14/2000 [00:01<02:43, 12.15it/s]"
     ]
    },
    {
     "name": "stdout",
     "output_type": "stream",
     "text": [
      "current_loss: tensor(1.2701, grad_fn=<MeanBackward0>)\n",
      "current_loss_val:  1.2551414966583252\n",
      "current_loss: tensor(1.2701, grad_fn=<MeanBackward0>)\n",
      "current_loss: tensor(1.2701, grad_fn=<MeanBackward0>)\n",
      "current_loss_val:  1.255104660987854\n",
      "current_loss: tensor(1.2701, grad_fn=<MeanBackward0>)\n",
      "current_loss: tensor(1.2700, grad_fn=<MeanBackward0>)\n",
      "current_loss_val:  1.2550674676895142\n"
     ]
    },
    {
     "name": "stderr",
     "output_type": "stream",
     "text": [
      "  1%|          | 18/2000 [00:01<02:33, 12.92it/s]"
     ]
    },
    {
     "name": "stdout",
     "output_type": "stream",
     "text": [
      "current_loss: tensor(1.2700, grad_fn=<MeanBackward0>)\n",
      "current_loss: tensor(1.2700, grad_fn=<MeanBackward0>)\n",
      "current_loss_val:  1.2550212144851685\n",
      "current_loss: tensor(1.2700, grad_fn=<MeanBackward0>)\n",
      "current_loss: tensor(1.2700, grad_fn=<MeanBackward0>)\n",
      "current_loss_val:  1.2550147771835327\n",
      "current_loss: tensor(1.2700, grad_fn=<MeanBackward0>)\n",
      "current_loss: tensor(1.2699, grad_fn=<MeanBackward0>)\n",
      "current_loss_val:  1.2550137042999268\n"
     ]
    },
    {
     "name": "stderr",
     "output_type": "stream",
     "text": [
      "  1%|          | 20/2000 [00:01<02:27, 13.41it/s]"
     ]
    },
    {
     "name": "stdout",
     "output_type": "stream",
     "text": [
      "current_loss: tensor(1.2699, grad_fn=<MeanBackward0>)\n",
      "current_loss: tensor(1.2699, grad_fn=<MeanBackward0>)\n",
      "current_loss_val:  1.2550081014633179\n",
      "current_loss: tensor(1.2699, grad_fn=<MeanBackward0>)\n",
      "current_loss: tensor(1.2699, grad_fn=<MeanBackward0>)\n",
      "current_loss_val:  1.2549951076507568\n",
      "current_loss: tensor(1.2699, grad_fn=<MeanBackward0>)\n",
      "current_loss: tensor(1.2698, grad_fn=<MeanBackward0>)\n",
      "current_loss_val:  1.2549610137939453\n",
      "current_loss: tensor(1.2698, grad_fn=<MeanBackward0>)\n"
     ]
    },
    {
     "name": "stderr",
     "output_type": "stream",
     "text": [
      "  1%|          | 24/2000 [00:01<02:21, 13.93it/s]"
     ]
    },
    {
     "name": "stdout",
     "output_type": "stream",
     "text": [
      "current_loss: tensor(1.2698, grad_fn=<MeanBackward0>)\n",
      "current_loss_val:  1.2549409866333008\n",
      "current_loss: tensor(1.2698, grad_fn=<MeanBackward0>)\n",
      "current_loss: tensor(1.2698, grad_fn=<MeanBackward0>)\n",
      "current_loss_val:  1.254926323890686\n",
      "current_loss: tensor(1.2698, grad_fn=<MeanBackward0>)\n",
      "current_loss: tensor(1.2697, grad_fn=<MeanBackward0>)\n",
      "current_loss_val:  1.2548943758010864\n",
      "current_loss: tensor(1.2697, grad_fn=<MeanBackward0>)\n"
     ]
    },
    {
     "name": "stderr",
     "output_type": "stream",
     "text": [
      "  1%|▏         | 26/2000 [00:02<02:18, 14.22it/s]"
     ]
    },
    {
     "name": "stdout",
     "output_type": "stream",
     "text": [
      "current_loss: tensor(1.2697, grad_fn=<MeanBackward0>)\n",
      "current_loss_val:  1.2548454999923706\n",
      "current_loss: tensor(1.2697, grad_fn=<MeanBackward0>)\n",
      "current_loss: tensor(1.2697, grad_fn=<MeanBackward0>)\n",
      "current_loss_val:  1.2548115253448486\n",
      "current_loss: tensor(1.2697, grad_fn=<MeanBackward0>)\n",
      "current_loss: tensor(1.2696, grad_fn=<MeanBackward0>)\n",
      "current_loss_val:  1.2546998262405396\n",
      "current_loss: tensor(1.2696, grad_fn=<MeanBackward0>)\n"
     ]
    },
    {
     "name": "stderr",
     "output_type": "stream",
     "text": [
      "  2%|▏         | 30/2000 [00:02<02:16, 14.42it/s]"
     ]
    },
    {
     "name": "stdout",
     "output_type": "stream",
     "text": [
      "current_loss: tensor(1.2696, grad_fn=<MeanBackward0>)\n",
      "current_loss_val:  1.2544585466384888\n",
      "current_loss: tensor(1.2696, grad_fn=<MeanBackward0>)\n",
      "current_loss: tensor(1.2695, grad_fn=<MeanBackward0>)\n",
      "current_loss_val:  1.2543984651565552\n",
      "current_loss: tensor(1.2695, grad_fn=<MeanBackward0>)\n",
      "current_loss: tensor(1.2695, grad_fn=<MeanBackward0>)\n",
      "current_loss_val:  1.2543426752090454\n",
      "current_loss: tensor(1.2695, grad_fn=<MeanBackward0>)\n"
     ]
    },
    {
     "name": "stderr",
     "output_type": "stream",
     "text": [
      "  2%|▏         | 32/2000 [00:02<02:13, 14.74it/s]"
     ]
    },
    {
     "name": "stdout",
     "output_type": "stream",
     "text": [
      "current_loss: tensor(1.2693, grad_fn=<MeanBackward0>)\n",
      "current_loss_val:  1.2540702819824219\n",
      "current_loss: tensor(1.2693, grad_fn=<MeanBackward0>)\n",
      "current_loss: tensor(1.2692, grad_fn=<MeanBackward0>)\n",
      "current_loss_val:  1.2537314891815186\n",
      "current_loss: tensor(1.2692, grad_fn=<MeanBackward0>)\n",
      "current_loss: tensor(1.2691, grad_fn=<MeanBackward0>)\n",
      "current_loss_val:  1.253719449043274\n",
      "current_loss: tensor(1.2691, grad_fn=<MeanBackward0>)\n"
     ]
    },
    {
     "name": "stderr",
     "output_type": "stream",
     "text": [
      "  2%|▏         | 36/2000 [00:02<02:20, 13.95it/s]"
     ]
    },
    {
     "name": "stdout",
     "output_type": "stream",
     "text": [
      "current_loss: tensor(1.2691, grad_fn=<MeanBackward0>)\n",
      "current_loss_val:  1.2537071704864502\n",
      "current_loss: tensor(1.2691, grad_fn=<MeanBackward0>)\n",
      "current_loss: tensor(1.2690, grad_fn=<MeanBackward0>)\n",
      "current_loss_val:  1.2536942958831787\n",
      "current_loss: tensor(1.2690, grad_fn=<MeanBackward0>)\n",
      "current_loss: tensor(1.2690, grad_fn=<MeanBackward0>)\n",
      "current_loss: tensor(1.2690, grad_fn=<MeanBackward0>)\n",
      "current_loss_val:  1.2536793947219849\n"
     ]
    },
    {
     "name": "stderr",
     "output_type": "stream",
     "text": [
      "  2%|▏         | 38/2000 [00:02<02:17, 14.26it/s]"
     ]
    },
    {
     "name": "stdout",
     "output_type": "stream",
     "text": [
      "current_loss: tensor(1.2690, grad_fn=<MeanBackward0>)\n",
      "current_loss: tensor(1.2690, grad_fn=<MeanBackward0>)\n",
      "current_loss_val:  1.2536733150482178\n",
      "current_loss: tensor(1.2690, grad_fn=<MeanBackward0>)\n",
      "current_loss: tensor(1.2689, grad_fn=<MeanBackward0>)\n",
      "current_loss_val:  1.2536683082580566\n",
      "current_loss: tensor(1.2689, grad_fn=<MeanBackward0>)\n",
      "current_loss: tensor(1.2689, grad_fn=<MeanBackward0>)\n",
      "current_loss_val:  1.253677248954773\n",
      "current_loss: tensor(1.2689, grad_fn=<MeanBackward0>)\n"
     ]
    },
    {
     "name": "stderr",
     "output_type": "stream",
     "text": [
      "  2%|▏         | 42/2000 [00:03<02:14, 14.51it/s]"
     ]
    },
    {
     "name": "stdout",
     "output_type": "stream",
     "text": [
      "current_loss: tensor(1.2689, grad_fn=<MeanBackward0>)\n",
      "current_loss_val:  1.253685474395752\n",
      "current_loss: tensor(1.2689, grad_fn=<MeanBackward0>)\n",
      "current_loss: tensor(1.2689, grad_fn=<MeanBackward0>)\n",
      "current_loss_val:  1.2536853551864624\n",
      "current_loss: tensor(1.2689, grad_fn=<MeanBackward0>)\n",
      "current_loss: tensor(1.2688, grad_fn=<MeanBackward0>)\n",
      "current_loss_val:  1.253686785697937\n",
      "current_loss: tensor(1.2688, grad_fn=<MeanBackward0>)\n"
     ]
    },
    {
     "name": "stderr",
     "output_type": "stream",
     "text": [
      "  2%|▏         | 42/2000 [00:03<02:29, 13.11it/s]\n"
     ]
    },
    {
     "name": "stdout",
     "output_type": "stream",
     "text": [
      "current_loss: tensor(1.2688, grad_fn=<MeanBackward0>)\n",
      "current_loss_val:  1.253698468208313\n",
      "Early Stop at iteration 42 with minimal loss tensor(1.2537) and patience 5 and min_delta 1e-07\n"
     ]
    },
    {
     "name": "stderr",
     "output_type": "stream",
     "text": [
      "[I 2025-10-14 12:18:41,119] Trial 25 finished with value: -2.507336378097534 and parameters: {'penalty_decorrelation_ridge_first_difference': 2.4454855240511706, 'penalty_decorrelation_ridge_second_difference': 21.439570455321334}. Best is trial 22 with value: -2.50374174118042.\n",
      "  0%|          | 2/2000 [00:00<02:30, 13.31it/s]"
     ]
    },
    {
     "name": "stdout",
     "output_type": "stream",
     "text": [
      "current_loss: tensor(1.2709, grad_fn=<MeanBackward0>)\n",
      "current_loss: tensor(1.2718, grad_fn=<MeanBackward0>)\n",
      "current_loss: tensor(1.2704, grad_fn=<MeanBackward0>)\n",
      "current_loss_val:  1.2558608055114746\n",
      "current_loss: tensor(1.2704, grad_fn=<MeanBackward0>)\n",
      "current_loss: tensor(1.2701, grad_fn=<MeanBackward0>)\n",
      "current_loss_val:  1.2558484077453613\n",
      "current_loss: tensor(1.2701, grad_fn=<MeanBackward0>)\n",
      "current_loss: tensor(1.2697, grad_fn=<MeanBackward0>)\n",
      "current_loss_val:  1.2557908296585083\n"
     ]
    },
    {
     "name": "stderr",
     "output_type": "stream",
     "text": [
      "  0%|          | 6/2000 [00:00<02:16, 14.61it/s]"
     ]
    },
    {
     "name": "stdout",
     "output_type": "stream",
     "text": [
      "current_loss: tensor(1.2697, grad_fn=<MeanBackward0>)\n",
      "current_loss: tensor(1.2694, grad_fn=<MeanBackward0>)\n",
      "current_loss_val:  1.255713939666748\n",
      "current_loss: tensor(1.2694, grad_fn=<MeanBackward0>)\n",
      "current_loss: tensor(1.2691, grad_fn=<MeanBackward0>)\n",
      "current_loss_val:  1.2556105852127075\n",
      "current_loss: tensor(1.2691, grad_fn=<MeanBackward0>)\n",
      "current_loss: tensor(1.2689, grad_fn=<MeanBackward0>)\n",
      "current_loss_val:  1.255536675453186\n",
      "current_loss: "
     ]
    },
    {
     "name": "stderr",
     "output_type": "stream",
     "text": [
      "  0%|          | 8/2000 [00:00<02:14, 14.79it/s]"
     ]
    },
    {
     "name": "stdout",
     "output_type": "stream",
     "text": [
      "tensor(1.2689, grad_fn=<MeanBackward0>)\n",
      "current_loss: tensor(1.2686, grad_fn=<MeanBackward0>)\n",
      "current_loss_val:  1.25542414188385\n",
      "current_loss: tensor(1.2686, grad_fn=<MeanBackward0>)\n",
      "current_loss: tensor(1.2683, grad_fn=<MeanBackward0>)\n",
      "current_loss_val:  1.2552387714385986\n",
      "current_loss: tensor(1.2683, grad_fn=<MeanBackward0>)\n",
      "current_loss: tensor(1.2680, grad_fn=<MeanBackward0>)\n",
      "current_loss_val:  1.2552003860473633\n",
      "current_loss: tensor(1.2680, grad_fn=<MeanBackward0>)\n"
     ]
    },
    {
     "name": "stderr",
     "output_type": "stream",
     "text": [
      "  1%|          | 12/2000 [00:00<02:13, 14.84it/s]"
     ]
    },
    {
     "name": "stdout",
     "output_type": "stream",
     "text": [
      "current_loss: tensor(1.2679, grad_fn=<MeanBackward0>)\n",
      "current_loss_val:  1.255198359489441\n",
      "current_loss: tensor(1.2679, grad_fn=<MeanBackward0>)\n",
      "current_loss: tensor(1.2677, grad_fn=<MeanBackward0>)\n",
      "current_loss_val:  1.2551860809326172\n",
      "current_loss: tensor(1.2677, grad_fn=<MeanBackward0>)\n",
      "current_loss: tensor(1.2676, grad_fn=<MeanBackward0>)\n",
      "current_loss_val:  1.2551584243774414\n",
      "current_loss: tensor(1.2676, grad_fn=<MeanBackward0>)\n",
      "current_loss: "
     ]
    },
    {
     "name": "stderr",
     "output_type": "stream",
     "text": [
      "  1%|          | 14/2000 [00:00<02:13, 14.93it/s]"
     ]
    },
    {
     "name": "stdout",
     "output_type": "stream",
     "text": [
      "tensor(1.2675, grad_fn=<MeanBackward0>)\n",
      "current_loss_val:  1.2551122903823853\n",
      "current_loss: tensor(1.2675, grad_fn=<MeanBackward0>)\n",
      "current_loss: tensor(1.2674, grad_fn=<MeanBackward0>)\n",
      "current_loss_val:  1.2550814151763916\n",
      "current_loss: tensor(1.2674, grad_fn=<MeanBackward0>)\n",
      "current_loss: tensor(1.2674, grad_fn=<MeanBackward0>)\n",
      "current_loss_val:  1.2550572156906128\n",
      "current_loss: tensor(1.2674, grad_fn=<MeanBackward0>)\n",
      "current_loss: tensor(1.2673, grad_fn=<MeanBackward0>)\n"
     ]
    },
    {
     "name": "stderr",
     "output_type": "stream",
     "text": [
      "  1%|          | 18/2000 [00:01<02:13, 14.88it/s]"
     ]
    },
    {
     "name": "stdout",
     "output_type": "stream",
     "text": [
      "current_loss_val:  1.2549943923950195\n",
      "current_loss: tensor(1.2673, grad_fn=<MeanBackward0>)\n",
      "current_loss: tensor(1.2673, grad_fn=<MeanBackward0>)\n",
      "current_loss_val:  1.2549755573272705\n",
      "current_loss: tensor(1.2673, grad_fn=<MeanBackward0>)\n",
      "current_loss: tensor(1.2672, grad_fn=<MeanBackward0>)\n",
      "current_loss_val:  1.2549821138381958\n",
      "current_loss: tensor(1.2672, grad_fn=<MeanBackward0>)\n",
      "current_loss: tensor(1.2672, grad_fn=<MeanBackward0>)\n",
      "current_loss_val:  1.2549985647201538\n"
     ]
    },
    {
     "name": "stderr",
     "output_type": "stream",
     "text": [
      "  1%|          | 22/2000 [00:01<02:12, 14.98it/s]"
     ]
    },
    {
     "name": "stdout",
     "output_type": "stream",
     "text": [
      "current_loss: tensor(1.2672, grad_fn=<MeanBackward0>)\n",
      "current_loss: tensor(1.2671, grad_fn=<MeanBackward0>)\n",
      "current_loss_val:  1.2550163269042969\n",
      "current_loss: tensor(1.2671, grad_fn=<MeanBackward0>)\n",
      "current_loss: tensor(1.2671, grad_fn=<MeanBackward0>)\n",
      "current_loss_val:  1.2549800872802734\n",
      "current_loss: tensor(1.2671, grad_fn=<MeanBackward0>)\n",
      "current_loss: tensor(1.2670, grad_fn=<MeanBackward0>)\n",
      "current_loss_val:  1.2549077272415161\n",
      "current_loss: tensor(1.2670, grad_fn=<MeanBackward0>)\n"
     ]
    },
    {
     "name": "stderr",
     "output_type": "stream",
     "text": [
      "  1%|          | 24/2000 [00:01<02:11, 15.01it/s]"
     ]
    },
    {
     "name": "stdout",
     "output_type": "stream",
     "text": [
      "current_loss: tensor(1.2670, grad_fn=<MeanBackward0>)\n",
      "current_loss_val:  1.254883885383606\n",
      "current_loss: tensor(1.2670, grad_fn=<MeanBackward0>)\n",
      "current_loss: tensor(1.2669, grad_fn=<MeanBackward0>)\n",
      "current_loss_val:  1.2548396587371826\n",
      "current_loss: tensor(1.2669, grad_fn=<MeanBackward0>)\n",
      "current_loss: tensor(1.2668, grad_fn=<MeanBackward0>)\n",
      "current_loss_val:  1.2547475099563599\n",
      "current_loss: tensor(1.2668, grad_fn=<MeanBackward0>)\n",
      "current_loss: tensor(1.2667, grad_fn=<MeanBackward0>)\n"
     ]
    },
    {
     "name": "stderr",
     "output_type": "stream",
     "text": [
      "  1%|▏         | 28/2000 [00:01<02:12, 14.92it/s]"
     ]
    },
    {
     "name": "stdout",
     "output_type": "stream",
     "text": [
      "current_loss_val:  1.2546592950820923\n",
      "current_loss: tensor(1.2667, grad_fn=<MeanBackward0>)\n",
      "current_loss: tensor(1.2667, grad_fn=<MeanBackward0>)\n",
      "current_loss_val:  1.2545846700668335\n",
      "current_loss: tensor(1.2667, grad_fn=<MeanBackward0>)\n",
      "current_loss: tensor(1.2666, grad_fn=<MeanBackward0>)\n",
      "current_loss_val:  1.2545021772384644\n",
      "current_loss: tensor(1.2666, grad_fn=<MeanBackward0>)\n",
      "current_loss: tensor(1.2665, grad_fn=<MeanBackward0>)\n",
      "current_loss_val:  1.254325270652771\n"
     ]
    },
    {
     "name": "stderr",
     "output_type": "stream",
     "text": [
      "  2%|▏         | 32/2000 [00:02<02:11, 15.01it/s]"
     ]
    },
    {
     "name": "stdout",
     "output_type": "stream",
     "text": [
      "current_loss: tensor(1.2665, grad_fn=<MeanBackward0>)\n",
      "current_loss: tensor(1.2664, grad_fn=<MeanBackward0>)\n",
      "current_loss_val:  1.2542948722839355\n",
      "current_loss: tensor(1.2664, grad_fn=<MeanBackward0>)\n",
      "current_loss: tensor(1.2663, grad_fn=<MeanBackward0>)\n",
      "current_loss_val:  1.2542773485183716\n",
      "current_loss: tensor(1.2663, grad_fn=<MeanBackward0>)\n",
      "current_loss: tensor(1.2662, grad_fn=<MeanBackward0>)\n",
      "current_loss_val:  1.2542110681533813\n",
      "current_loss: tensor(1.2662, grad_fn=<MeanBackward0>)\n"
     ]
    },
    {
     "name": "stderr",
     "output_type": "stream",
     "text": [
      "  2%|▏         | 34/2000 [00:02<02:11, 14.98it/s]"
     ]
    },
    {
     "name": "stdout",
     "output_type": "stream",
     "text": [
      "current_loss: tensor(1.2662, grad_fn=<MeanBackward0>)\n",
      "current_loss_val:  1.2541166543960571\n",
      "current_loss: tensor(1.2662, grad_fn=<MeanBackward0>)\n",
      "current_loss: tensor(1.2661, grad_fn=<MeanBackward0>)\n",
      "current_loss_val:  1.2541167736053467\n",
      "current_loss: tensor(1.2661, grad_fn=<MeanBackward0>)\n",
      "current_loss: tensor(1.2661, grad_fn=<MeanBackward0>)\n",
      "current_loss_val:  1.2541158199310303\n",
      "current_loss: tensor(1.2661, grad_fn=<MeanBackward0>)\n",
      "current_loss: tensor(1.2660, grad_fn=<MeanBackward0>)\n"
     ]
    },
    {
     "name": "stderr",
     "output_type": "stream",
     "text": [
      "  2%|▏         | 38/2000 [00:02<02:07, 15.43it/s]"
     ]
    },
    {
     "name": "stdout",
     "output_type": "stream",
     "text": [
      "current_loss_val:  1.254111647605896\n",
      "current_loss: tensor(1.2660, grad_fn=<MeanBackward0>)\n",
      "current_loss: tensor(1.2660, grad_fn=<MeanBackward0>)\n",
      "current_loss_val:  1.2540881633758545\n",
      "current_loss: tensor(1.2660, grad_fn=<MeanBackward0>)\n",
      "current_loss: tensor(1.2660, grad_fn=<MeanBackward0>)\n",
      "current_loss_val:  1.2540838718414307\n",
      "current_loss: tensor(1.2660, grad_fn=<MeanBackward0>)\n",
      "current_loss: tensor(1.2660, grad_fn=<MeanBackward0>)\n"
     ]
    },
    {
     "name": "stderr",
     "output_type": "stream",
     "text": [
      "  2%|▏         | 40/2000 [00:02<02:23, 13.70it/s]"
     ]
    },
    {
     "name": "stdout",
     "output_type": "stream",
     "text": [
      "current_loss_val:  1.2540788650512695\n",
      "current_loss: tensor(1.2660, grad_fn=<MeanBackward0>)\n",
      "current_loss: tensor(1.2660, grad_fn=<MeanBackward0>)\n",
      "current_loss_val:  1.2540680170059204\n",
      "current_loss: tensor(1.2660, grad_fn=<MeanBackward0>)\n",
      "current_loss: tensor(1.2660, grad_fn=<MeanBackward0>)\n",
      "current_loss_val:  1.2540448904037476\n",
      "current_loss: tensor(1.2660, grad_fn=<MeanBackward0>)\n",
      "current_loss: tensor(1.2660, grad_fn=<MeanBackward0>)\n"
     ]
    },
    {
     "name": "stderr",
     "output_type": "stream",
     "text": [
      "  2%|▏         | 44/2000 [00:02<02:19, 14.04it/s]"
     ]
    },
    {
     "name": "stdout",
     "output_type": "stream",
     "text": [
      "current_loss_val:  1.2540394067764282\n",
      "current_loss: tensor(1.2660, grad_fn=<MeanBackward0>)\n",
      "current_loss: tensor(1.2659, grad_fn=<MeanBackward0>)\n",
      "current_loss_val:  1.254027009010315\n",
      "current_loss: tensor(1.2659, grad_fn=<MeanBackward0>)\n",
      "current_loss: tensor(1.2659, grad_fn=<MeanBackward0>)\n",
      "current_loss_val:  1.2540045976638794\n",
      "current_loss: tensor(1.2659, grad_fn=<MeanBackward0>)\n",
      "current_loss: tensor(1.2659, grad_fn=<MeanBackward0>)\n"
     ]
    },
    {
     "name": "stderr",
     "output_type": "stream",
     "text": [
      "  2%|▏         | 46/2000 [00:03<02:14, 14.47it/s]"
     ]
    },
    {
     "name": "stdout",
     "output_type": "stream",
     "text": [
      "current_loss_val:  1.2538697719573975\n",
      "current_loss: tensor(1.2659, grad_fn=<MeanBackward0>)\n",
      "current_loss: tensor(1.2658, grad_fn=<MeanBackward0>)\n",
      "current_loss_val:  1.2538437843322754\n",
      "current_loss: tensor(1.2658, grad_fn=<MeanBackward0>)\n",
      "current_loss: tensor(1.2658, grad_fn=<MeanBackward0>)\n",
      "current_loss_val:  1.2538260221481323\n",
      "current_loss: tensor(1.2658, grad_fn=<MeanBackward0>)\n",
      "current_loss: tensor(1.2658, grad_fn=<MeanBackward0>)\n"
     ]
    },
    {
     "name": "stderr",
     "output_type": "stream",
     "text": [
      "  2%|▎         | 50/2000 [00:03<02:12, 14.71it/s]"
     ]
    },
    {
     "name": "stdout",
     "output_type": "stream",
     "text": [
      "current_loss_val:  1.2537672519683838\n",
      "current_loss: tensor(1.2658, grad_fn=<MeanBackward0>)\n",
      "current_loss: tensor(1.2657, grad_fn=<MeanBackward0>)\n",
      "current_loss_val:  1.253768801689148\n",
      "current_loss: tensor(1.2657, grad_fn=<MeanBackward0>)\n",
      "current_loss: tensor(1.2657, grad_fn=<MeanBackward0>)\n",
      "current_loss_val:  1.2537745237350464\n",
      "current_loss: tensor(1.2657, grad_fn=<MeanBackward0>)\n",
      "current_loss: tensor(1.2657, grad_fn=<MeanBackward0>)\n",
      "current_loss_val:  1.2537901401519775\n"
     ]
    },
    {
     "name": "stderr",
     "output_type": "stream",
     "text": [
      "  3%|▎         | 52/2000 [00:03<02:14, 14.52it/s]\n"
     ]
    },
    {
     "name": "stdout",
     "output_type": "stream",
     "text": [
      "current_loss: tensor(1.2657, grad_fn=<MeanBackward0>)\n",
      "current_loss: tensor(1.2657, grad_fn=<MeanBackward0>)\n",
      "current_loss_val:  1.2537904977798462\n",
      "current_loss: tensor(1.2657, grad_fn=<MeanBackward0>)\n",
      "current_loss: tensor(1.2657, grad_fn=<MeanBackward0>)\n",
      "current_loss_val:  1.2537853717803955\n",
      "Early Stop at iteration 52 with minimal loss tensor(1.2538) and patience 5 and min_delta 1e-07\n"
     ]
    },
    {
     "name": "stderr",
     "output_type": "stream",
     "text": [
      "[I 2025-10-14 12:18:45,245] Trial 26 finished with value: -2.5075342655181885 and parameters: {'penalty_decorrelation_ridge_first_difference': 0.007210890188293462, 'penalty_decorrelation_ridge_second_difference': 27.106016734550728}. Best is trial 22 with value: -2.50374174118042.\n",
      "  0%|          | 2/2000 [00:00<02:13, 15.00it/s]"
     ]
    },
    {
     "name": "stdout",
     "output_type": "stream",
     "text": [
      "current_loss: tensor(1.2774, grad_fn=<MeanBackward0>)\n",
      "current_loss: tensor(1.2769, grad_fn=<MeanBackward0>)\n",
      "current_loss_val:  1.2559236288070679\n",
      "current_loss: tensor(1.2769, grad_fn=<MeanBackward0>)\n",
      "current_loss: tensor(1.2765, grad_fn=<MeanBackward0>)\n",
      "current_loss_val:  1.2559083700180054\n",
      "current_loss: tensor(1.2765, grad_fn=<MeanBackward0>)\n",
      "current_loss: tensor(1.2762, grad_fn=<MeanBackward0>)\n",
      "current_loss_val:  1.255881905555725\n"
     ]
    },
    {
     "name": "stderr",
     "output_type": "stream",
     "text": [
      "  0%|          | 6/2000 [00:00<02:23, 13.85it/s]"
     ]
    },
    {
     "name": "stdout",
     "output_type": "stream",
     "text": [
      "current_loss: tensor(1.2762, grad_fn=<MeanBackward0>)\n",
      "current_loss: tensor(1.2759, grad_fn=<MeanBackward0>)\n",
      "current_loss_val:  1.2558479309082031\n",
      "current_loss: tensor(1.2759, grad_fn=<MeanBackward0>)\n",
      "current_loss: tensor(1.2758, grad_fn=<MeanBackward0>)\n",
      "current_loss_val:  1.2559521198272705\n",
      "current_loss: tensor(1.2758, grad_fn=<MeanBackward0>)\n",
      "current_loss: tensor(1.2756, grad_fn=<MeanBackward0>)\n",
      "current_loss_val:  1.2558820247650146\n"
     ]
    },
    {
     "name": "stderr",
     "output_type": "stream",
     "text": [
      "  0%|          | 8/2000 [00:00<02:18, 14.37it/s]"
     ]
    },
    {
     "name": "stdout",
     "output_type": "stream",
     "text": [
      "current_loss: tensor(1.2756, grad_fn=<MeanBackward0>)\n",
      "current_loss: tensor(1.2755, grad_fn=<MeanBackward0>)\n",
      "current_loss_val:  1.2558770179748535\n",
      "current_loss: tensor(1.2755, grad_fn=<MeanBackward0>)\n",
      "current_loss: tensor(1.2754, grad_fn=<MeanBackward0>)\n",
      "current_loss_val:  1.2558839321136475\n",
      "current_loss: tensor(1.2754, grad_fn=<MeanBackward0>)\n",
      "current_loss: tensor(1.2753, grad_fn=<MeanBackward0>)\n",
      "current_loss_val:  1.2558470964431763\n",
      "current_loss: tensor(1.2753, grad_fn=<MeanBackward0>)\n"
     ]
    },
    {
     "name": "stderr",
     "output_type": "stream",
     "text": [
      "  1%|          | 12/2000 [00:00<02:16, 14.61it/s]"
     ]
    },
    {
     "name": "stdout",
     "output_type": "stream",
     "text": [
      "current_loss: tensor(1.2753, grad_fn=<MeanBackward0>)\n",
      "current_loss_val:  1.2558587789535522\n",
      "current_loss: tensor(1.2753, grad_fn=<MeanBackward0>)\n",
      "current_loss: tensor(1.2752, grad_fn=<MeanBackward0>)\n",
      "current_loss_val:  1.255794644355774\n",
      "current_loss: tensor(1.2752, grad_fn=<MeanBackward0>)\n",
      "current_loss: tensor(1.2751, grad_fn=<MeanBackward0>)\n",
      "current_loss_val:  1.255653977394104\n",
      "current_loss: tensor(1.2751, grad_fn=<MeanBackward0>)\n",
      "current_loss: tensor(1.2751, grad_fn=<MeanBackward0>)\n"
     ]
    },
    {
     "name": "stderr",
     "output_type": "stream",
     "text": [
      "  1%|          | 14/2000 [00:00<02:14, 14.74it/s]"
     ]
    },
    {
     "name": "stdout",
     "output_type": "stream",
     "text": [
      "current_loss_val:  1.2555747032165527\n",
      "current_loss: tensor(1.2751, grad_fn=<MeanBackward0>)\n",
      "current_loss: tensor(1.2750, grad_fn=<MeanBackward0>)\n",
      "current_loss_val:  1.2555004358291626\n",
      "current_loss: tensor(1.2750, grad_fn=<MeanBackward0>)\n",
      "current_loss: tensor(1.2750, grad_fn=<MeanBackward0>)\n",
      "current_loss_val:  1.2554737329483032\n",
      "current_loss: tensor(1.2750, grad_fn=<MeanBackward0>)\n",
      "current_loss: tensor(1.2749, grad_fn=<MeanBackward0>)\n"
     ]
    },
    {
     "name": "stderr",
     "output_type": "stream",
     "text": [
      "  1%|          | 18/2000 [00:01<02:17, 14.46it/s]"
     ]
    },
    {
     "name": "stdout",
     "output_type": "stream",
     "text": [
      "current_loss_val:  1.2554829120635986\n",
      "current_loss: tensor(1.2749, grad_fn=<MeanBackward0>)\n",
      "current_loss: tensor(1.2748, grad_fn=<MeanBackward0>)\n",
      "current_loss_val:  1.2553915977478027\n",
      "current_loss: tensor(1.2748, grad_fn=<MeanBackward0>)\n",
      "current_loss: tensor(1.2748, grad_fn=<MeanBackward0>)\n",
      "current_loss_val:  1.2553842067718506\n",
      "current_loss: tensor(1.2748, grad_fn=<MeanBackward0>)\n"
     ]
    },
    {
     "name": "stderr",
     "output_type": "stream",
     "text": [
      "  1%|          | 20/2000 [00:01<02:28, 13.31it/s]"
     ]
    },
    {
     "name": "stdout",
     "output_type": "stream",
     "text": [
      "current_loss: tensor(1.2748, grad_fn=<MeanBackward0>)\n",
      "current_loss_val:  1.2554168701171875\n",
      "current_loss: tensor(1.2748, grad_fn=<MeanBackward0>)\n",
      "current_loss: tensor(1.2747, grad_fn=<MeanBackward0>)\n",
      "current_loss_val:  1.2553772926330566\n",
      "current_loss: tensor(1.2747, grad_fn=<MeanBackward0>)\n",
      "current_loss: tensor(1.2747, grad_fn=<MeanBackward0>)\n",
      "current_loss_val:  1.2553852796554565\n"
     ]
    },
    {
     "name": "stderr",
     "output_type": "stream",
     "text": [
      "  1%|          | 24/2000 [00:01<02:24, 13.70it/s]"
     ]
    },
    {
     "name": "stdout",
     "output_type": "stream",
     "text": [
      "current_loss: tensor(1.2747, grad_fn=<MeanBackward0>)\n",
      "current_loss: tensor(1.2747, grad_fn=<MeanBackward0>)\n",
      "current_loss_val:  1.255518913269043\n",
      "current_loss: tensor(1.2747, grad_fn=<MeanBackward0>)\n",
      "current_loss: tensor(1.2746, grad_fn=<MeanBackward0>)\n",
      "current_loss_val:  1.2554141283035278\n",
      "current_loss: tensor(1.2746, grad_fn=<MeanBackward0>)\n",
      "current_loss: tensor(1.2746, grad_fn=<MeanBackward0>)\n",
      "current_loss_val:  1.2553895711898804\n"
     ]
    },
    {
     "name": "stderr",
     "output_type": "stream",
     "text": [
      "  1%|▏         | 26/2000 [00:01<02:20, 14.06it/s]"
     ]
    },
    {
     "name": "stdout",
     "output_type": "stream",
     "text": [
      "current_loss: tensor(1.2746, grad_fn=<MeanBackward0>)\n",
      "current_loss: tensor(1.2746, grad_fn=<MeanBackward0>)\n",
      "current_loss_val:  1.2553528547286987\n",
      "current_loss: tensor(1.2746, grad_fn=<MeanBackward0>)\n",
      "current_loss: tensor(1.2746, grad_fn=<MeanBackward0>)\n",
      "current_loss_val:  1.255340814590454\n",
      "current_loss: tensor(1.2746, grad_fn=<MeanBackward0>)\n",
      "current_loss: tensor(1.2745, grad_fn=<MeanBackward0>)\n",
      "current_loss_val:  1.255249261856079\n",
      "current_loss: tensor(1.2745, grad_fn=<MeanBackward0>)\n"
     ]
    },
    {
     "name": "stderr",
     "output_type": "stream",
     "text": [
      "  2%|▏         | 30/2000 [00:02<02:16, 14.42it/s]"
     ]
    },
    {
     "name": "stdout",
     "output_type": "stream",
     "text": [
      "current_loss: tensor(1.2744, grad_fn=<MeanBackward0>)\n",
      "current_loss_val:  1.2551013231277466\n",
      "current_loss: tensor(1.2744, grad_fn=<MeanBackward0>)\n",
      "current_loss: tensor(1.2744, grad_fn=<MeanBackward0>)\n",
      "current_loss_val:  1.2550522089004517\n",
      "current_loss: tensor(1.2744, grad_fn=<MeanBackward0>)\n",
      "current_loss: tensor(1.2743, grad_fn=<MeanBackward0>)\n",
      "current_loss_val:  1.2550106048583984\n",
      "current_loss: tensor(1.2743, grad_fn=<MeanBackward0>)\n"
     ]
    },
    {
     "name": "stderr",
     "output_type": "stream",
     "text": [
      "  2%|▏         | 32/2000 [00:02<02:14, 14.63it/s]"
     ]
    },
    {
     "name": "stdout",
     "output_type": "stream",
     "text": [
      "current_loss: tensor(1.2741, grad_fn=<MeanBackward0>)\n",
      "current_loss_val:  1.2546586990356445\n",
      "current_loss: tensor(1.2741, grad_fn=<MeanBackward0>)\n",
      "current_loss: tensor(1.2739, grad_fn=<MeanBackward0>)\n",
      "current_loss_val:  1.2544994354248047\n",
      "current_loss: tensor(1.2739, grad_fn=<MeanBackward0>)\n",
      "current_loss: tensor(1.2738, grad_fn=<MeanBackward0>)\n",
      "current_loss_val:  1.254401445388794\n",
      "current_loss: tensor(1.2738, grad_fn=<MeanBackward0>)\n",
      "current_loss: "
     ]
    },
    {
     "name": "stderr",
     "output_type": "stream",
     "text": [
      "  2%|▏         | 36/2000 [00:02<02:16, 14.44it/s]"
     ]
    },
    {
     "name": "stdout",
     "output_type": "stream",
     "text": [
      "tensor(1.2738, grad_fn=<MeanBackward0>)\n",
      "current_loss_val:  1.2543832063674927\n",
      "current_loss: tensor(1.2738, grad_fn=<MeanBackward0>)\n",
      "current_loss: tensor(1.2736, grad_fn=<MeanBackward0>)\n",
      "current_loss_val:  1.2543458938598633\n",
      "current_loss: tensor(1.2736, grad_fn=<MeanBackward0>)\n",
      "current_loss: tensor(1.2735, grad_fn=<MeanBackward0>)\n",
      "current_loss_val:  1.2542095184326172\n",
      "current_loss: tensor(1.2735, grad_fn=<MeanBackward0>)\n"
     ]
    },
    {
     "name": "stderr",
     "output_type": "stream",
     "text": [
      "  2%|▏         | 38/2000 [00:02<02:14, 14.57it/s]"
     ]
    },
    {
     "name": "stdout",
     "output_type": "stream",
     "text": [
      "current_loss: tensor(1.2733, grad_fn=<MeanBackward0>)\n",
      "current_loss_val:  1.2540762424468994\n",
      "current_loss: tensor(1.2733, grad_fn=<MeanBackward0>)\n",
      "current_loss: tensor(1.2732, grad_fn=<MeanBackward0>)\n",
      "current_loss_val:  1.2538989782333374\n",
      "current_loss: tensor(1.2732, grad_fn=<MeanBackward0>)\n",
      "current_loss: tensor(1.2731, grad_fn=<MeanBackward0>)\n",
      "current_loss_val:  1.2538632154464722\n",
      "current_loss: tensor(1.2731, grad_fn=<MeanBackward0>)\n"
     ]
    },
    {
     "name": "stderr",
     "output_type": "stream",
     "text": [
      "  2%|▏         | 42/2000 [00:02<02:13, 14.66it/s]"
     ]
    },
    {
     "name": "stdout",
     "output_type": "stream",
     "text": [
      "current_loss: tensor(1.2725, grad_fn=<MeanBackward0>)\n",
      "current_loss_val:  1.2535219192504883\n",
      "current_loss: tensor(1.2725, grad_fn=<MeanBackward0>)\n",
      "current_loss: tensor(1.2722, grad_fn=<MeanBackward0>)\n",
      "current_loss_val:  1.2530862092971802\n",
      "current_loss: tensor(1.2722, grad_fn=<MeanBackward0>)\n",
      "current_loss: tensor(1.2719, grad_fn=<MeanBackward0>)\n",
      "current_loss_val:  1.2529116868972778\n"
     ]
    },
    {
     "name": "stderr",
     "output_type": "stream",
     "text": [
      "  2%|▏         | 44/2000 [00:03<03:11, 10.22it/s]"
     ]
    },
    {
     "name": "stdout",
     "output_type": "stream",
     "text": [
      "current_loss: tensor(1.2719, grad_fn=<MeanBackward0>)\n",
      "current_loss: tensor(1.2718, grad_fn=<MeanBackward0>)\n",
      "current_loss_val:  1.2528034448623657\n",
      "current_loss: tensor(1.2718, grad_fn=<MeanBackward0>)\n",
      "current_loss: tensor(1.2716, grad_fn=<MeanBackward0>)\n",
      "current_loss_val:  1.252424716949463\n",
      "current_loss: tensor(1.2716, grad_fn=<MeanBackward0>)\n",
      "current_loss: tensor(1.2715, grad_fn=<MeanBackward0>)\n",
      "current_loss_val:  1.252378225326538\n"
     ]
    },
    {
     "name": "stderr",
     "output_type": "stream",
     "text": [
      "  2%|▏         | 48/2000 [00:03<02:40, 12.14it/s]"
     ]
    },
    {
     "name": "stdout",
     "output_type": "stream",
     "text": [
      "current_loss: tensor(1.2715, grad_fn=<MeanBackward0>)\n",
      "current_loss: tensor(1.2714, grad_fn=<MeanBackward0>)\n",
      "current_loss_val:  1.2523598670959473\n",
      "current_loss: tensor(1.2714, grad_fn=<MeanBackward0>)\n",
      "current_loss: tensor(1.2714, grad_fn=<MeanBackward0>)\n",
      "current_loss_val:  1.252341866493225\n",
      "current_loss: tensor(1.2714, grad_fn=<MeanBackward0>)\n",
      "current_loss: tensor(1.2713, grad_fn=<MeanBackward0>)\n",
      "current_loss_val:  1.2523378133773804\n"
     ]
    },
    {
     "name": "stderr",
     "output_type": "stream",
     "text": [
      "  2%|▎         | 50/2000 [00:03<02:32, 12.82it/s]"
     ]
    },
    {
     "name": "stdout",
     "output_type": "stream",
     "text": [
      "current_loss: tensor(1.2713, grad_fn=<MeanBackward0>)\n",
      "current_loss: tensor(1.2713, grad_fn=<MeanBackward0>)\n",
      "current_loss_val:  1.2522714138031006\n",
      "current_loss: tensor(1.2713, grad_fn=<MeanBackward0>)\n",
      "current_loss: tensor(1.2712, grad_fn=<MeanBackward0>)\n",
      "current_loss_val:  1.2521543502807617\n",
      "current_loss: tensor(1.2712, grad_fn=<MeanBackward0>)\n",
      "current_loss: tensor(1.2711, grad_fn=<MeanBackward0>)\n",
      "current_loss_val:  1.2520555257797241\n",
      "current_loss: tensor(1.2711, grad_fn=<MeanBackward0>)\n"
     ]
    },
    {
     "name": "stderr",
     "output_type": "stream",
     "text": [
      "  3%|▎         | 54/2000 [00:03<02:21, 13.75it/s]"
     ]
    },
    {
     "name": "stdout",
     "output_type": "stream",
     "text": [
      "current_loss: tensor(1.2711, grad_fn=<MeanBackward0>)\n",
      "current_loss_val:  1.2521017789840698\n",
      "current_loss: tensor(1.2711, grad_fn=<MeanBackward0>)\n",
      "current_loss: tensor(1.2711, grad_fn=<MeanBackward0>)\n",
      "current_loss_val:  1.2521029710769653\n",
      "current_loss: tensor(1.2711, grad_fn=<MeanBackward0>)\n",
      "current_loss: tensor(1.2710, grad_fn=<MeanBackward0>)\n",
      "current_loss_val:  1.2521189451217651\n",
      "current_loss: tensor(1.2710, grad_fn=<MeanBackward0>)\n"
     ]
    },
    {
     "name": "stderr",
     "output_type": "stream",
     "text": [
      "  3%|▎         | 55/2000 [00:04<02:23, 13.53it/s]\n"
     ]
    },
    {
     "name": "stdout",
     "output_type": "stream",
     "text": [
      "current_loss: tensor(1.2710, grad_fn=<MeanBackward0>)\n",
      "current_loss_val:  1.2521566152572632\n",
      "current_loss: tensor(1.2710, grad_fn=<MeanBackward0>)\n",
      "current_loss: tensor(1.2710, grad_fn=<MeanBackward0>)\n",
      "current_loss_val:  1.252155065536499\n",
      "Early Stop at iteration 55 with minimal loss tensor(1.2521) and patience 5 and min_delta 1e-07\n"
     ]
    },
    {
     "name": "stderr",
     "output_type": "stream",
     "text": [
      "[I 2025-10-14 12:18:49,993] Trial 27 finished with value: -2.504110813140869 and parameters: {'penalty_decorrelation_ridge_first_difference': 7.156734940828424, 'penalty_decorrelation_ridge_second_difference': 13.994805055286522}. Best is trial 22 with value: -2.50374174118042.\n",
      "  0%|          | 2/2000 [00:00<02:05, 15.88it/s]"
     ]
    },
    {
     "name": "stdout",
     "output_type": "stream",
     "text": [
      "current_loss: tensor(1.2799, grad_fn=<MeanBackward0>)\n",
      "current_loss: tensor(1.2794, grad_fn=<MeanBackward0>)\n",
      "current_loss_val:  1.2559858560562134\n",
      "current_loss: tensor(1.2794, grad_fn=<MeanBackward0>)\n",
      "current_loss: tensor(1.2789, grad_fn=<MeanBackward0>)\n",
      "current_loss_val:  1.2559876441955566\n",
      "current_loss: tensor(1.2789, grad_fn=<MeanBackward0>)\n",
      "current_loss: tensor(1.2786, grad_fn=<MeanBackward0>)\n",
      "current_loss_val:  1.255979061126709\n",
      "current_loss: tensor(1.2786, grad_fn=<MeanBackward0>)\n"
     ]
    },
    {
     "name": "stderr",
     "output_type": "stream",
     "text": [
      "  0%|          | 6/2000 [00:00<02:14, 14.81it/s]"
     ]
    },
    {
     "name": "stdout",
     "output_type": "stream",
     "text": [
      "current_loss: tensor(1.2782, grad_fn=<MeanBackward0>)\n",
      "current_loss_val:  1.2559916973114014\n",
      "current_loss: tensor(1.2782, grad_fn=<MeanBackward0>)\n",
      "current_loss: tensor(1.2780, grad_fn=<MeanBackward0>)\n",
      "current_loss_val:  1.2561900615692139\n",
      "current_loss: tensor(1.2780, grad_fn=<MeanBackward0>)\n",
      "current_loss: tensor(1.2778, grad_fn=<MeanBackward0>)\n",
      "current_loss_val:  1.2561675310134888\n",
      "current_loss: tensor(1.2778, grad_fn=<MeanBackward0>)\n"
     ]
    },
    {
     "name": "stderr",
     "output_type": "stream",
     "text": [
      "  0%|          | 7/2000 [00:00<02:30, 13.25it/s]\n"
     ]
    },
    {
     "name": "stdout",
     "output_type": "stream",
     "text": [
      "current_loss: tensor(1.2777, grad_fn=<MeanBackward0>)\n",
      "current_loss_val:  1.2561482191085815\n",
      "current_loss: tensor(1.2777, grad_fn=<MeanBackward0>)\n",
      "current_loss: tensor(1.2776, grad_fn=<MeanBackward0>)\n",
      "current_loss_val:  1.2561242580413818\n",
      "Early Stop at iteration 7 with minimal loss tensor(1.2560) and patience 5 and min_delta 1e-07\n"
     ]
    },
    {
     "name": "stderr",
     "output_type": "stream",
     "text": [
      "[I 2025-10-14 12:18:51,105] Trial 28 finished with value: -2.511958122253418 and parameters: {'penalty_decorrelation_ridge_first_difference': 8.945730548165013, 'penalty_decorrelation_ridge_second_difference': 15.373643250880562}. Best is trial 22 with value: -2.50374174118042.\n",
      "  0%|          | 2/2000 [00:00<02:08, 15.60it/s]"
     ]
    },
    {
     "name": "stdout",
     "output_type": "stream",
     "text": [
      "current_loss: tensor(1.2750, grad_fn=<MeanBackward0>)\n",
      "current_loss: tensor(1.2748, grad_fn=<MeanBackward0>)\n",
      "current_loss_val:  1.255823016166687\n",
      "current_loss: tensor(1.2748, grad_fn=<MeanBackward0>)\n",
      "current_loss: tensor(1.2744, grad_fn=<MeanBackward0>)\n",
      "current_loss_val:  1.2557429075241089\n",
      "current_loss: tensor(1.2744, grad_fn=<MeanBackward0>)\n",
      "current_loss: tensor(1.2742, grad_fn=<MeanBackward0>)\n",
      "current_loss_val:  1.2557414770126343\n",
      "current_loss: tensor(1.2742, grad_fn=<MeanBackward0>)\n"
     ]
    },
    {
     "name": "stderr",
     "output_type": "stream",
     "text": [
      "  0%|          | 6/2000 [00:00<02:12, 15.10it/s]"
     ]
    },
    {
     "name": "stdout",
     "output_type": "stream",
     "text": [
      "current_loss: tensor(1.2741, grad_fn=<MeanBackward0>)\n",
      "current_loss_val:  1.2556331157684326\n",
      "current_loss: tensor(1.2741, grad_fn=<MeanBackward0>)\n",
      "current_loss: tensor(1.2741, grad_fn=<MeanBackward0>)\n",
      "current_loss_val:  1.2555805444717407\n",
      "current_loss: tensor(1.2741, grad_fn=<MeanBackward0>)\n",
      "current_loss: tensor(1.2740, grad_fn=<MeanBackward0>)\n",
      "current_loss_val:  1.2555713653564453\n",
      "current_loss: tensor(1.2740, grad_fn=<MeanBackward0>)\n"
     ]
    },
    {
     "name": "stderr",
     "output_type": "stream",
     "text": [
      "  0%|          | 8/2000 [00:00<02:32, 13.06it/s]"
     ]
    },
    {
     "name": "stdout",
     "output_type": "stream",
     "text": [
      "current_loss: tensor(1.2740, grad_fn=<MeanBackward0>)\n",
      "current_loss_val:  1.255526065826416\n",
      "current_loss: tensor(1.2740, grad_fn=<MeanBackward0>)\n",
      "current_loss: tensor(1.2740, grad_fn=<MeanBackward0>)\n",
      "current_loss_val:  1.2555246353149414\n",
      "current_loss: tensor(1.2740, grad_fn=<MeanBackward0>)\n",
      "current_loss: tensor(1.2741, grad_fn=<MeanBackward0>)\n"
     ]
    },
    {
     "name": "stderr",
     "output_type": "stream",
     "text": [
      "  0%|          | 10/2000 [00:00<02:40, 12.39it/s]"
     ]
    },
    {
     "name": "stdout",
     "output_type": "stream",
     "text": [
      "current_loss: tensor(1.2739, grad_fn=<MeanBackward0>)\n",
      "current_loss_val:  1.255581259727478\n",
      "current_loss: tensor(1.2739, grad_fn=<MeanBackward0>)\n",
      "current_loss: tensor(1.2737, grad_fn=<MeanBackward0>)\n",
      "current_loss_val:  1.2555097341537476\n",
      "current_loss: tensor(1.2737, grad_fn=<MeanBackward0>)\n",
      "current_loss: tensor(1.2736, grad_fn=<MeanBackward0>)\n",
      "current_loss_val:  1.25540292263031\n",
      "current_loss: tensor(1.2736, grad_fn=<MeanBackward0>)\n"
     ]
    },
    {
     "name": "stderr",
     "output_type": "stream",
     "text": [
      "  1%|          | 14/2000 [00:01<02:32, 12.99it/s]"
     ]
    },
    {
     "name": "stdout",
     "output_type": "stream",
     "text": [
      "current_loss: tensor(1.2735, grad_fn=<MeanBackward0>)\n",
      "current_loss_val:  1.255365252494812\n",
      "current_loss: tensor(1.2735, grad_fn=<MeanBackward0>)\n",
      "current_loss: tensor(1.2736, grad_fn=<MeanBackward0>)\n",
      "current_loss: tensor(1.2734, grad_fn=<MeanBackward0>)\n",
      "current_loss_val:  1.255293369293213\n",
      "current_loss: tensor(1.2734, grad_fn=<MeanBackward0>)\n",
      "current_loss: tensor(1.2734, grad_fn=<MeanBackward0>)\n",
      "current_loss_val:  1.2552886009216309\n"
     ]
    },
    {
     "name": "stderr",
     "output_type": "stream",
     "text": [
      "  1%|          | 16/2000 [00:01<02:33, 12.92it/s]"
     ]
    },
    {
     "name": "stdout",
     "output_type": "stream",
     "text": [
      "current_loss: tensor(1.2734, grad_fn=<MeanBackward0>)\n",
      "current_loss: tensor(1.2733, grad_fn=<MeanBackward0>)\n",
      "current_loss_val:  1.255276083946228\n",
      "current_loss: tensor(1.2733, grad_fn=<MeanBackward0>)\n",
      "current_loss: tensor(1.2743, grad_fn=<MeanBackward0>)\n",
      "current_loss: tensor(1.2733, grad_fn=<MeanBackward0>)\n",
      "current_loss_val:  1.255287528038025\n",
      "current_loss: tensor(1.2733, grad_fn=<MeanBackward0>)\n",
      "current_loss: tensor(1.2733, grad_fn=<MeanBackward0>)\n"
     ]
    },
    {
     "name": "stderr",
     "output_type": "stream",
     "text": [
      "  1%|          | 18/2000 [00:01<02:35, 12.75it/s]"
     ]
    },
    {
     "name": "stdout",
     "output_type": "stream",
     "text": [
      "current_loss: tensor(1.2732, grad_fn=<MeanBackward0>)\n",
      "current_loss_val:  1.2552050352096558\n",
      "current_loss: tensor(1.2732, grad_fn=<MeanBackward0>)\n",
      "current_loss: tensor(1.2730, grad_fn=<MeanBackward0>)\n",
      "current_loss_val:  1.255063533782959\n",
      "current_loss: tensor(1.2730, grad_fn=<MeanBackward0>)\n",
      "current_loss: tensor(1.2744, grad_fn=<MeanBackward0>)\n",
      "current_loss: tensor(1.2730, grad_fn=<MeanBackward0>)\n",
      "current_loss_val:  1.2549971342086792\n",
      "current_loss: tensor(1.2730, grad_fn=<MeanBackward0>)\n"
     ]
    },
    {
     "name": "stderr",
     "output_type": "stream",
     "text": [
      "  1%|          | 22/2000 [00:01<02:28, 13.33it/s]"
     ]
    },
    {
     "name": "stdout",
     "output_type": "stream",
     "text": [
      "current_loss: tensor(1.2729, grad_fn=<MeanBackward0>)\n",
      "current_loss_val:  1.2549651861190796\n",
      "current_loss: tensor(1.2729, grad_fn=<MeanBackward0>)\n",
      "current_loss: tensor(1.2727, grad_fn=<MeanBackward0>)\n",
      "current_loss_val:  1.2547358274459839\n",
      "current_loss: tensor(1.2727, grad_fn=<MeanBackward0>)\n",
      "current_loss: tensor(1.2725, grad_fn=<MeanBackward0>)\n",
      "current_loss_val:  1.2545472383499146\n",
      "current_loss: tensor(1.2725, grad_fn=<MeanBackward0>)\n"
     ]
    },
    {
     "name": "stderr",
     "output_type": "stream",
     "text": [
      "  1%|          | 24/2000 [00:01<02:22, 13.83it/s]"
     ]
    },
    {
     "name": "stdout",
     "output_type": "stream",
     "text": [
      "current_loss: tensor(1.2724, grad_fn=<MeanBackward0>)\n",
      "current_loss_val:  1.254289150238037\n",
      "current_loss: tensor(1.2724, grad_fn=<MeanBackward0>)\n",
      "current_loss: tensor(1.2723, grad_fn=<MeanBackward0>)\n",
      "current_loss_val:  1.2542229890823364\n",
      "current_loss: tensor(1.2723, grad_fn=<MeanBackward0>)\n",
      "current_loss: tensor(1.2722, grad_fn=<MeanBackward0>)\n",
      "current_loss_val:  1.2540311813354492\n",
      "current_loss: tensor(1.2722, grad_fn=<MeanBackward0>)\n"
     ]
    },
    {
     "name": "stderr",
     "output_type": "stream",
     "text": [
      "  1%|▏         | 28/2000 [00:02<02:19, 14.16it/s]"
     ]
    },
    {
     "name": "stdout",
     "output_type": "stream",
     "text": [
      "current_loss: tensor(1.2720, grad_fn=<MeanBackward0>)\n",
      "current_loss_val:  1.253872275352478\n",
      "current_loss: tensor(1.2720, grad_fn=<MeanBackward0>)\n",
      "current_loss: tensor(1.2720, grad_fn=<MeanBackward0>)\n",
      "current_loss_val:  1.253633975982666\n",
      "current_loss: tensor(1.2720, grad_fn=<MeanBackward0>)\n",
      "current_loss: tensor(1.2718, grad_fn=<MeanBackward0>)\n",
      "current_loss_val:  1.2535420656204224\n",
      "current_loss: tensor(1.2718, grad_fn=<MeanBackward0>)\n"
     ]
    },
    {
     "name": "stderr",
     "output_type": "stream",
     "text": [
      "  2%|▏         | 30/2000 [00:02<02:17, 14.38it/s]"
     ]
    },
    {
     "name": "stdout",
     "output_type": "stream",
     "text": [
      "current_loss: tensor(1.2718, grad_fn=<MeanBackward0>)\n",
      "current_loss_val:  1.2535022497177124\n",
      "current_loss: tensor(1.2718, grad_fn=<MeanBackward0>)\n",
      "current_loss: tensor(1.2717, grad_fn=<MeanBackward0>)\n",
      "current_loss_val:  1.2533444166183472\n",
      "current_loss: tensor(1.2717, grad_fn=<MeanBackward0>)\n",
      "current_loss: tensor(1.2719, grad_fn=<MeanBackward0>)\n",
      "current_loss: tensor(1.2716, grad_fn=<MeanBackward0>)\n",
      "current_loss_val:  1.2531908750534058\n",
      "current_loss: tensor(1.2716, grad_fn=<MeanBackward0>)\n",
      "current_loss: tensor(1.2715, grad_fn=<MeanBackward0>)\n"
     ]
    },
    {
     "name": "stderr",
     "output_type": "stream",
     "text": [
      "  2%|▏         | 32/2000 [00:02<05:26,  6.03it/s]"
     ]
    },
    {
     "name": "stdout",
     "output_type": "stream",
     "text": [
      "current_loss_val:  1.25309157371521\n",
      "current_loss: tensor(1.2715, grad_fn=<MeanBackward0>)\n",
      "current_loss: tensor(1.2712, grad_fn=<MeanBackward0>)\n",
      "current_loss_val:  1.2527257204055786\n",
      "current_loss: tensor(1.2712, grad_fn=<MeanBackward0>)\n"
     ]
    },
    {
     "name": "stderr",
     "output_type": "stream",
     "text": [
      "  2%|▏         | 36/2000 [00:03<04:12,  7.79it/s]"
     ]
    },
    {
     "name": "stdout",
     "output_type": "stream",
     "text": [
      "current_loss: tensor(1.2709, grad_fn=<MeanBackward0>)\n",
      "current_loss_val:  1.2524091005325317\n",
      "current_loss: tensor(1.2709, grad_fn=<MeanBackward0>)\n",
      "current_loss: tensor(1.2713, grad_fn=<MeanBackward0>)\n",
      "current_loss: tensor(1.2706, grad_fn=<MeanBackward0>)\n",
      "current_loss_val:  1.2521711587905884\n",
      "current_loss: tensor(1.2706, grad_fn=<MeanBackward0>)\n",
      "current_loss: tensor(1.2705, grad_fn=<MeanBackward0>)\n",
      "current_loss_val:  1.2520142793655396\n"
     ]
    },
    {
     "name": "stderr",
     "output_type": "stream",
     "text": [
      "  2%|▏         | 38/2000 [00:03<03:35,  9.10it/s]"
     ]
    },
    {
     "name": "stdout",
     "output_type": "stream",
     "text": [
      "current_loss: tensor(1.2705, grad_fn=<MeanBackward0>)\n",
      "current_loss: tensor(1.2704, grad_fn=<MeanBackward0>)\n",
      "current_loss_val:  1.2519532442092896\n",
      "current_loss: tensor(1.2704, grad_fn=<MeanBackward0>)\n",
      "current_loss: tensor(1.2704, grad_fn=<MeanBackward0>)\n",
      "current_loss_val:  1.2519080638885498\n",
      "current_loss: tensor(1.2704, grad_fn=<MeanBackward0>)\n",
      "current_loss: tensor(1.2704, grad_fn=<MeanBackward0>)\n",
      "current_loss_val:  1.251894474029541\n",
      "current_loss: tensor(1.2704, grad_fn=<MeanBackward0>)\n"
     ]
    },
    {
     "name": "stderr",
     "output_type": "stream",
     "text": [
      "  2%|▏         | 40/2000 [00:04<06:30,  5.02it/s]"
     ]
    },
    {
     "name": "stdout",
     "output_type": "stream",
     "text": [
      "current_loss: tensor(1.2703, grad_fn=<MeanBackward0>)\n",
      "current_loss_val:  1.2518677711486816\n",
      "current_loss: tensor(1.2703, grad_fn=<MeanBackward0>)\n"
     ]
    },
    {
     "name": "stderr",
     "output_type": "stream",
     "text": [
      "  2%|▏         | 42/2000 [00:04<05:18,  6.16it/s]"
     ]
    },
    {
     "name": "stdout",
     "output_type": "stream",
     "text": [
      "current_loss: tensor(1.2703, grad_fn=<MeanBackward0>)\n",
      "current_loss_val:  1.251998782157898\n",
      "current_loss: tensor(1.2703, grad_fn=<MeanBackward0>)\n",
      "current_loss: tensor(1.2702, grad_fn=<MeanBackward0>)\n",
      "current_loss_val:  1.2519950866699219\n",
      "current_loss: tensor(1.2702, grad_fn=<MeanBackward0>)\n",
      "current_loss: tensor(1.2702, grad_fn=<MeanBackward0>)\n",
      "current_loss_val:  1.2520209550857544\n",
      "current_loss: tensor(1.2702, grad_fn=<MeanBackward0>)\n"
     ]
    },
    {
     "name": "stderr",
     "output_type": "stream",
     "text": [
      "  2%|▏         | 44/2000 [00:04<03:26,  9.45it/s]\n"
     ]
    },
    {
     "name": "stdout",
     "output_type": "stream",
     "text": [
      "current_loss: tensor(1.2702, grad_fn=<MeanBackward0>)\n",
      "current_loss_val:  1.252082347869873\n",
      "current_loss: tensor(1.2702, grad_fn=<MeanBackward0>)\n",
      "current_loss: tensor(1.2702, grad_fn=<MeanBackward0>)\n",
      "current_loss_val:  1.252096176147461\n",
      "Early Stop at iteration 44 with minimal loss tensor(1.2519) and patience 5 and min_delta 1e-07\n"
     ]
    },
    {
     "name": "stderr",
     "output_type": "stream",
     "text": [
      "[I 2025-10-14 12:18:56,403] Trial 29 finished with value: -2.503735303878784 and parameters: {'penalty_decorrelation_ridge_first_difference': 6.555847754164093, 'penalty_decorrelation_ridge_second_difference': 6.334101264349057}. Best is trial 29 with value: -2.503735303878784.\n"
     ]
    },
    {
     "name": "stdout",
     "output_type": "stream",
     "text": [
      "hyperparameter_tuning done\n"
     ]
    }
   ],
   "source": [
    "study = model.hyperparameter_tune_penalties( \n",
    "        train_dataloader = dataloader_train,\n",
    "        validate_dataloader = dataloader_validate,\n",
    "        penalty_decorrelation_ridge_param = None,\n",
    "        penalty_decorrelation_ridge_first_difference = \"sample\",\n",
    "        penalty_decorrelation_ridge_second_difference = \"sample\",\n",
    "        penalty_transformation_ridge_second_difference = None,\n",
    "        penalty_lasso_conditional_independence = None,\n",
    "        adaptive_lasso_weights_matrix=False,\n",
    "        optimizer=\"LBFGS\",\n",
    "        learning_rate=1,\n",
    "        iterations=2000,\n",
    "        patience=5,\n",
    "        min_delta=1e-7,\n",
    "        seperate_copula_training=False,\n",
    "        max_batches_per_iter=False,\n",
    "        pretrained_transformation_layer=True,\n",
    "        n_trials=30,\n",
    "        temp_folder=\".\",\n",
    "        study_name=None)\n",
    "        \n",
    "\n",
    "penalty_splines_params=torch.FloatTensor([\n",
    "                            0, #study.best_params[\"penalty_decorrelation_ridge_param\"],\n",
    "                            study.best_params[\"penalty_decorrelation_ridge_first_difference\"],\n",
    "                            study.best_params[\"penalty_decorrelation_ridge_second_difference\"],\n",
    "                            0 #study.best_params[\"penalty_transformation_ridge_second_difference\"]\n",
    "                              ])\n",
    "adaptive_lasso_weights_matrix = False\n",
    "penalty_lasso_conditional_independence=False"
   ]
  },
  {
   "cell_type": "code",
   "execution_count": 11,
   "id": "f19f1a2b",
   "metadata": {},
   "outputs": [
    {
     "name": "stderr",
     "output_type": "stream",
     "text": [
      " 16%|█▌        | 158/1000 [00:05<00:28, 29.48it/s]\n"
     ]
    }
   ],
   "source": [
    "# pretrain the marginal transformations\n",
    "_ = model.pretrain_transformation_layer(dataloader_train, iterations=1000, max_batches_per_iter=False, penalty_splines_params=penalty_splines_params)"
   ]
  },
  {
   "cell_type": "code",
   "execution_count": 12,
   "id": "7b7429a5",
   "metadata": {},
   "outputs": [
    {
     "name": "stderr",
     "output_type": "stream",
     "text": [
      "  0%|          | 0/1000 [00:00<?, ?it/s]"
     ]
    },
    {
     "name": "stderr",
     "output_type": "stream",
     "text": [
      "  0%|          | 2/1000 [00:00<01:08, 14.62it/s]"
     ]
    },
    {
     "name": "stdout",
     "output_type": "stream",
     "text": [
      "current_loss: tensor(1.4347, grad_fn=<MeanBackward0>)\n",
      "current_loss: tensor(1.3991, grad_fn=<MeanBackward0>)\n",
      "current_loss_val:  1.3791409730911255\n",
      "current_loss: tensor(1.3991, grad_fn=<MeanBackward0>)\n",
      "current_loss: tensor(1.3412, grad_fn=<MeanBackward0>)\n",
      "current_loss_val:  1.3168467283248901\n",
      "current_loss: tensor(1.3412, grad_fn=<MeanBackward0>)\n",
      "current_loss: tensor(1.3714, grad_fn=<MeanBackward0>)\n",
      "current_loss: tensor(1.3289, grad_fn=<MeanBackward0>)\n"
     ]
    },
    {
     "name": "stderr",
     "output_type": "stream",
     "text": [
      "  1%|          | 6/1000 [00:00<01:09, 14.26it/s]"
     ]
    },
    {
     "name": "stdout",
     "output_type": "stream",
     "text": [
      "current_loss_val:  1.3057094812393188\n",
      "current_loss: tensor(1.3289, grad_fn=<MeanBackward0>)\n",
      "current_loss: tensor(1.3223, grad_fn=<MeanBackward0>)\n",
      "current_loss_val:  1.2978050708770752\n",
      "current_loss: tensor(1.3223, grad_fn=<MeanBackward0>)\n",
      "current_loss: tensor(1.3199, grad_fn=<MeanBackward0>)\n",
      "current_loss_val:  1.2963600158691406\n",
      "current_loss: tensor(1.3199, grad_fn=<MeanBackward0>)\n",
      "current_loss: tensor(1.3106, grad_fn=<MeanBackward0>)\n",
      "current_loss_val:  1.289746880531311\n"
     ]
    },
    {
     "name": "stderr",
     "output_type": "stream",
     "text": [
      "  1%|          | 8/1000 [00:00<01:15, 13.11it/s]"
     ]
    },
    {
     "name": "stdout",
     "output_type": "stream",
     "text": [
      "current_loss: tensor(1.3106, grad_fn=<MeanBackward0>)\n",
      "current_loss: tensor(1.3151, grad_fn=<MeanBackward0>)\n",
      "current_loss: tensor(1.3086, grad_fn=<MeanBackward0>)\n",
      "current_loss_val:  1.2868192195892334\n",
      "current_loss: tensor(1.3086, grad_fn=<MeanBackward0>)\n",
      "current_loss: tensor(1.3075, grad_fn=<MeanBackward0>)\n",
      "current_loss: tensor(1.3020, grad_fn=<MeanBackward0>)\n",
      "current_loss_val:  1.2809380292892456\n",
      "current_loss: tensor(1.3020, grad_fn=<MeanBackward0>)\n"
     ]
    },
    {
     "name": "stderr",
     "output_type": "stream",
     "text": [
      "  1%|          | 10/1000 [00:00<01:16, 12.99it/s]"
     ]
    },
    {
     "name": "stdout",
     "output_type": "stream",
     "text": [
      "current_loss: tensor(1.2988, grad_fn=<MeanBackward0>)\n",
      "current_loss_val:  1.2767932415008545\n",
      "current_loss: tensor(1.2988, grad_fn=<MeanBackward0>)\n",
      "current_loss: tensor(1.2970, grad_fn=<MeanBackward0>)\n",
      "current_loss_val:  1.2752714157104492\n",
      "current_loss: tensor(1.2970, grad_fn=<MeanBackward0>)\n",
      "current_loss: tensor(1.2960, grad_fn=<MeanBackward0>)\n",
      "current_loss_val:  1.2748844623565674\n",
      "current_loss: tensor(1.2960, grad_fn=<MeanBackward0>)\n"
     ]
    },
    {
     "name": "stderr",
     "output_type": "stream",
     "text": [
      "  1%|▏         | 14/1000 [00:01<01:09, 14.14it/s]"
     ]
    },
    {
     "name": "stdout",
     "output_type": "stream",
     "text": [
      "current_loss: tensor(1.2951, grad_fn=<MeanBackward0>)\n",
      "current_loss_val:  1.275012493133545\n",
      "current_loss: tensor(1.2951, grad_fn=<MeanBackward0>)\n",
      "current_loss: tensor(1.2941, grad_fn=<MeanBackward0>)\n",
      "current_loss_val:  1.2752410173416138\n",
      "current_loss: tensor(1.2941, grad_fn=<MeanBackward0>)\n",
      "current_loss: tensor(1.2931, grad_fn=<MeanBackward0>)\n",
      "current_loss_val:  1.2749944925308228\n",
      "current_loss: tensor(1.2931, grad_fn=<MeanBackward0>)\n",
      "current_loss: tensor(1.2931, grad_fn=<MeanBackward0>)\n"
     ]
    },
    {
     "name": "stderr",
     "output_type": "stream",
     "text": [
      "  2%|▏         | 16/1000 [00:01<01:11, 13.79it/s]"
     ]
    },
    {
     "name": "stdout",
     "output_type": "stream",
     "text": [
      "current_loss: tensor(1.2927, grad_fn=<MeanBackward0>)\n",
      "current_loss_val:  1.274842619895935\n",
      "current_loss: tensor(1.2927, grad_fn=<MeanBackward0>)\n",
      "current_loss: tensor(1.2924, grad_fn=<MeanBackward0>)\n",
      "current_loss_val:  1.274510145187378\n",
      "current_loss: tensor(1.2924, grad_fn=<MeanBackward0>)\n",
      "current_loss: tensor(1.2915, grad_fn=<MeanBackward0>)\n",
      "current_loss_val:  1.27362859249115\n",
      "current_loss: tensor(1.2915, grad_fn=<MeanBackward0>)\n",
      "current_loss: tensor(1.2905, grad_fn=<MeanBackward0>)\n"
     ]
    },
    {
     "name": "stderr",
     "output_type": "stream",
     "text": [
      "  2%|▏         | 20/1000 [00:01<01:08, 14.40it/s]"
     ]
    },
    {
     "name": "stdout",
     "output_type": "stream",
     "text": [
      "current_loss_val:  1.2734850645065308\n",
      "current_loss: tensor(1.2905, grad_fn=<MeanBackward0>)\n",
      "current_loss: tensor(1.2894, grad_fn=<MeanBackward0>)\n",
      "current_loss_val:  1.2728776931762695\n",
      "current_loss: tensor(1.2894, grad_fn=<MeanBackward0>)\n",
      "current_loss: tensor(1.2890, grad_fn=<MeanBackward0>)\n",
      "current_loss_val:  1.2716385126113892\n",
      "current_loss: tensor(1.2890, grad_fn=<MeanBackward0>)\n",
      "current_loss: tensor(1.2881, grad_fn=<MeanBackward0>)\n",
      "current_loss_val:  1.2711317539215088\n"
     ]
    },
    {
     "name": "stderr",
     "output_type": "stream",
     "text": [
      "  2%|▏         | 24/1000 [00:01<01:08, 14.26it/s]"
     ]
    },
    {
     "name": "stdout",
     "output_type": "stream",
     "text": [
      "current_loss: tensor(1.2881, grad_fn=<MeanBackward0>)\n",
      "current_loss: tensor(1.2878, grad_fn=<MeanBackward0>)\n",
      "current_loss_val:  1.2709907293319702\n",
      "current_loss: tensor(1.2878, grad_fn=<MeanBackward0>)\n",
      "current_loss: tensor(1.2871, grad_fn=<MeanBackward0>)\n",
      "current_loss_val:  1.2703756093978882\n",
      "current_loss: tensor(1.2871, grad_fn=<MeanBackward0>)\n",
      "current_loss: tensor(1.2872, grad_fn=<MeanBackward0>)\n",
      "current_loss: tensor(1.2867, grad_fn=<MeanBackward0>)\n",
      "current_loss_val:  1.2702237367630005\n"
     ]
    },
    {
     "name": "stderr",
     "output_type": "stream",
     "text": [
      "  3%|▎         | 26/1000 [00:01<01:06, 14.58it/s]"
     ]
    },
    {
     "name": "stdout",
     "output_type": "stream",
     "text": [
      "current_loss: tensor(1.2867, grad_fn=<MeanBackward0>)\n",
      "current_loss: tensor(1.2865, grad_fn=<MeanBackward0>)\n",
      "current_loss_val:  1.2701138257980347\n",
      "current_loss: tensor(1.2865, grad_fn=<MeanBackward0>)\n",
      "current_loss: tensor(1.2861, grad_fn=<MeanBackward0>)\n",
      "current_loss_val:  1.2698485851287842\n",
      "current_loss: tensor(1.2861, grad_fn=<MeanBackward0>)\n",
      "current_loss: tensor(1.2876, grad_fn=<MeanBackward0>)\n",
      "current_loss: tensor(1.2860, grad_fn=<MeanBackward0>)\n",
      "current_loss_val:  1.269491195678711\n"
     ]
    },
    {
     "name": "stderr",
     "output_type": "stream",
     "text": [
      "  3%|▎         | 30/1000 [00:02<01:06, 14.52it/s]"
     ]
    },
    {
     "name": "stdout",
     "output_type": "stream",
     "text": [
      "current_loss: tensor(1.2860, grad_fn=<MeanBackward0>)\n",
      "current_loss: tensor(1.2858, grad_fn=<MeanBackward0>)\n",
      "current_loss_val:  1.2692621946334839\n",
      "current_loss: tensor(1.2858, grad_fn=<MeanBackward0>)\n",
      "current_loss: tensor(1.2855, grad_fn=<MeanBackward0>)\n",
      "current_loss_val:  1.2686963081359863\n",
      "current_loss: tensor(1.2855, grad_fn=<MeanBackward0>)\n",
      "current_loss: tensor(1.2852, grad_fn=<MeanBackward0>)\n",
      "current_loss_val:  1.2681511640548706\n",
      "current_loss: tensor(1.2852, grad_fn=<MeanBackward0>)\n"
     ]
    },
    {
     "name": "stderr",
     "output_type": "stream",
     "text": [
      "  3%|▎         | 32/1000 [00:02<01:08, 14.09it/s]"
     ]
    },
    {
     "name": "stdout",
     "output_type": "stream",
     "text": [
      "current_loss: tensor(1.2852, grad_fn=<MeanBackward0>)\n",
      "current_loss: tensor(1.2850, grad_fn=<MeanBackward0>)\n",
      "current_loss_val:  1.2681140899658203\n",
      "current_loss: tensor(1.2850, grad_fn=<MeanBackward0>)\n",
      "current_loss: tensor(1.2848, grad_fn=<MeanBackward0>)\n",
      "current_loss_val:  1.2680224180221558\n",
      "current_loss: tensor(1.2848, grad_fn=<MeanBackward0>)\n",
      "current_loss: tensor(1.2843, grad_fn=<MeanBackward0>)\n",
      "current_loss_val:  1.2677687406539917\n",
      "current_loss: tensor(1.2843, grad_fn=<MeanBackward0>)\n"
     ]
    },
    {
     "name": "stderr",
     "output_type": "stream",
     "text": [
      "  4%|▎         | 36/1000 [00:02<01:08, 13.99it/s]"
     ]
    },
    {
     "name": "stdout",
     "output_type": "stream",
     "text": [
      "current_loss: tensor(1.2832, grad_fn=<MeanBackward0>)\n",
      "current_loss_val:  1.2662632465362549\n",
      "current_loss: tensor(1.2832, grad_fn=<MeanBackward0>)\n",
      "current_loss: tensor(1.2840, grad_fn=<MeanBackward0>)\n",
      "current_loss: tensor(1.2827, grad_fn=<MeanBackward0>)\n",
      "current_loss_val:  1.2657076120376587\n",
      "current_loss: tensor(1.2827, grad_fn=<MeanBackward0>)\n",
      "current_loss: tensor(1.2822, grad_fn=<MeanBackward0>)\n",
      "current_loss_val:  1.265333890914917\n",
      "current_loss: tensor(1.2822, grad_fn=<MeanBackward0>)\n"
     ]
    },
    {
     "name": "stderr",
     "output_type": "stream",
     "text": [
      "  4%|▍         | 38/1000 [00:02<01:10, 13.72it/s]"
     ]
    },
    {
     "name": "stdout",
     "output_type": "stream",
     "text": [
      "current_loss: tensor(1.2807, grad_fn=<MeanBackward0>)\n",
      "current_loss_val:  1.264266848564148\n",
      "current_loss: tensor(1.2807, grad_fn=<MeanBackward0>)\n",
      "current_loss: tensor(1.4610, grad_fn=<MeanBackward0>)\n",
      "current_loss: tensor(1.2804, grad_fn=<MeanBackward0>)\n",
      "current_loss_val:  1.2640148401260376\n",
      "current_loss: tensor(1.2804, grad_fn=<MeanBackward0>)\n",
      "current_loss: tensor(1.2800, grad_fn=<MeanBackward0>)\n",
      "current_loss: tensor(1.2788, grad_fn=<MeanBackward0>)\n",
      "current_loss_val:  1.262650966644287\n"
     ]
    },
    {
     "name": "stderr",
     "output_type": "stream",
     "text": [
      "  4%|▍         | 42/1000 [00:02<01:08, 14.05it/s]"
     ]
    },
    {
     "name": "stdout",
     "output_type": "stream",
     "text": [
      "current_loss: tensor(1.2788, grad_fn=<MeanBackward0>)\n",
      "current_loss: tensor(1.2769, grad_fn=<MeanBackward0>)\n",
      "current_loss_val:  1.2589647769927979\n",
      "current_loss: tensor(1.2769, grad_fn=<MeanBackward0>)\n",
      "current_loss: tensor(1.2763, grad_fn=<MeanBackward0>)\n",
      "current_loss_val:  1.2596545219421387\n",
      "current_loss: tensor(1.2763, grad_fn=<MeanBackward0>)\n",
      "current_loss: tensor(1.2752, grad_fn=<MeanBackward0>)\n",
      "current_loss_val:  1.2584311962127686\n",
      "current_loss: tensor(1.2752, grad_fn=<MeanBackward0>)\n"
     ]
    },
    {
     "name": "stderr",
     "output_type": "stream",
     "text": [
      "  4%|▍         | 44/1000 [00:03<01:06, 14.43it/s]"
     ]
    },
    {
     "name": "stdout",
     "output_type": "stream",
     "text": [
      "current_loss: tensor(1.2751, grad_fn=<MeanBackward0>)\n",
      "current_loss_val:  1.2583725452423096\n",
      "current_loss: tensor(1.2751, grad_fn=<MeanBackward0>)\n",
      "current_loss: tensor(1.2749, grad_fn=<MeanBackward0>)\n",
      "current_loss_val:  1.2582789659500122\n",
      "current_loss: tensor(1.2749, grad_fn=<MeanBackward0>)\n",
      "current_loss: tensor(1.2745, grad_fn=<MeanBackward0>)\n",
      "current_loss_val:  1.258120059967041\n",
      "current_loss: tensor(1.2745, grad_fn=<MeanBackward0>)\n",
      "current_loss: tensor(1.2742, grad_fn=<MeanBackward0>)\n"
     ]
    },
    {
     "name": "stderr",
     "output_type": "stream",
     "text": [
      "  5%|▍         | 48/1000 [00:03<01:03, 14.88it/s]"
     ]
    },
    {
     "name": "stdout",
     "output_type": "stream",
     "text": [
      "current_loss_val:  1.2581242322921753\n",
      "current_loss: tensor(1.2742, grad_fn=<MeanBackward0>)\n",
      "current_loss: tensor(1.2741, grad_fn=<MeanBackward0>)\n",
      "current_loss_val:  1.2583123445510864\n",
      "current_loss: tensor(1.2741, grad_fn=<MeanBackward0>)\n",
      "current_loss: tensor(1.2740, grad_fn=<MeanBackward0>)\n",
      "current_loss_val:  1.2581509351730347\n",
      "current_loss: tensor(1.2740, grad_fn=<MeanBackward0>)\n",
      "current_loss: tensor(1.2739, grad_fn=<MeanBackward0>)\n",
      "current_loss_val:  1.2581220865249634\n"
     ]
    },
    {
     "name": "stderr",
     "output_type": "stream",
     "text": [
      "  5%|▌         | 50/1000 [00:03<01:02, 15.11it/s]"
     ]
    },
    {
     "name": "stdout",
     "output_type": "stream",
     "text": [
      "current_loss: tensor(1.2739, grad_fn=<MeanBackward0>)\n",
      "current_loss: tensor(1.2738, grad_fn=<MeanBackward0>)\n",
      "current_loss_val:  1.2579759359359741\n",
      "current_loss: tensor(1.2738, grad_fn=<MeanBackward0>)\n",
      "current_loss: tensor(1.2737, grad_fn=<MeanBackward0>)\n",
      "current_loss_val:  1.257866382598877\n",
      "current_loss: tensor(1.2737, grad_fn=<MeanBackward0>)\n"
     ]
    },
    {
     "name": "stderr",
     "output_type": "stream",
     "text": [
      "  5%|▌         | 52/1000 [00:03<01:14, 12.80it/s]"
     ]
    },
    {
     "name": "stdout",
     "output_type": "stream",
     "text": [
      "current_loss: tensor(1.2735, grad_fn=<MeanBackward0>)\n",
      "current_loss_val:  1.25765061378479\n",
      "current_loss: tensor(1.2735, grad_fn=<MeanBackward0>)\n",
      "current_loss: tensor(1.2736, grad_fn=<MeanBackward0>)\n",
      "current_loss: tensor(1.2735, grad_fn=<MeanBackward0>)\n",
      "current_loss_val:  1.2575511932373047\n",
      "current_loss: tensor(1.2735, grad_fn=<MeanBackward0>)\n",
      "current_loss: tensor(1.2734, grad_fn=<MeanBackward0>)\n"
     ]
    },
    {
     "name": "stderr",
     "output_type": "stream",
     "text": [
      "  6%|▌         | 56/1000 [00:04<01:15, 12.46it/s]"
     ]
    },
    {
     "name": "stdout",
     "output_type": "stream",
     "text": [
      "current_loss_val:  1.257497787475586\n",
      "current_loss: tensor(1.2734, grad_fn=<MeanBackward0>)\n",
      "current_loss: tensor(1.2732, grad_fn=<MeanBackward0>)\n",
      "current_loss_val:  1.2572227716445923\n",
      "current_loss: tensor(1.2732, grad_fn=<MeanBackward0>)\n",
      "current_loss: tensor(1.2736, grad_fn=<MeanBackward0>)\n",
      "current_loss: tensor(1.2732, grad_fn=<MeanBackward0>)\n",
      "current_loss_val:  1.257254719734192\n",
      "current_loss: tensor(1.2732, grad_fn=<MeanBackward0>)\n",
      "current_loss: tensor(1.2731, grad_fn=<MeanBackward0>)\n"
     ]
    },
    {
     "name": "stderr",
     "output_type": "stream",
     "text": [
      "  6%|▌         | 58/1000 [00:04<01:12, 12.93it/s]"
     ]
    },
    {
     "name": "stdout",
     "output_type": "stream",
     "text": [
      "current_loss_val:  1.2572234869003296\n",
      "current_loss: tensor(1.2731, grad_fn=<MeanBackward0>)\n",
      "current_loss: tensor(1.2729, grad_fn=<MeanBackward0>)\n",
      "current_loss_val:  1.2570171356201172\n",
      "current_loss: tensor(1.2729, grad_fn=<MeanBackward0>)\n",
      "current_loss: tensor(1.2728, grad_fn=<MeanBackward0>)\n",
      "current_loss_val:  1.2569011449813843\n",
      "current_loss: tensor(1.2728, grad_fn=<MeanBackward0>)\n"
     ]
    },
    {
     "name": "stderr",
     "output_type": "stream",
     "text": [
      "  6%|▌         | 62/1000 [00:04<01:10, 13.36it/s]"
     ]
    },
    {
     "name": "stdout",
     "output_type": "stream",
     "text": [
      "current_loss: tensor(1.2727, grad_fn=<MeanBackward0>)\n",
      "current_loss_val:  1.2565699815750122\n",
      "current_loss: tensor(1.2727, grad_fn=<MeanBackward0>)\n",
      "current_loss: tensor(1.2726, grad_fn=<MeanBackward0>)\n",
      "current_loss_val:  1.2564783096313477\n",
      "current_loss: tensor(1.2726, grad_fn=<MeanBackward0>)\n",
      "current_loss: tensor(1.2724, grad_fn=<MeanBackward0>)\n",
      "current_loss_val:  1.2561559677124023\n",
      "current_loss: tensor(1.2724, grad_fn=<MeanBackward0>)\n",
      "current_loss: tensor(1.2727, grad_fn=<MeanBackward0>)\n"
     ]
    },
    {
     "name": "stderr",
     "output_type": "stream",
     "text": [
      "  6%|▋         | 64/1000 [00:04<01:10, 13.21it/s]"
     ]
    },
    {
     "name": "stdout",
     "output_type": "stream",
     "text": [
      "current_loss: tensor(1.2722, grad_fn=<MeanBackward0>)\n",
      "current_loss_val:  1.2557684183120728\n",
      "current_loss: tensor(1.2722, grad_fn=<MeanBackward0>)\n",
      "current_loss: tensor(1.2720, grad_fn=<MeanBackward0>)\n",
      "current_loss_val:  1.2555137872695923\n",
      "current_loss: tensor(1.2720, grad_fn=<MeanBackward0>)\n",
      "current_loss: tensor(1.2717, grad_fn=<MeanBackward0>)\n",
      "current_loss_val:  1.254789113998413\n",
      "current_loss: tensor(1.2717, grad_fn=<MeanBackward0>)\n",
      "current_loss: tensor(1.2888, grad_fn=<MeanBackward0>)\n"
     ]
    },
    {
     "name": "stderr",
     "output_type": "stream",
     "text": [
      "  7%|▋         | 66/1000 [00:04<01:13, 12.79it/s]"
     ]
    },
    {
     "name": "stdout",
     "output_type": "stream",
     "text": [
      "current_loss: tensor(1.2716, grad_fn=<MeanBackward0>)\n",
      "current_loss_val:  1.2548259496688843\n",
      "current_loss: tensor(1.2716, grad_fn=<MeanBackward0>)\n",
      "current_loss: tensor(1.2715, grad_fn=<MeanBackward0>)\n",
      "current_loss_val:  1.254784345626831\n",
      "current_loss: tensor(1.2715, grad_fn=<MeanBackward0>)\n"
     ]
    },
    {
     "name": "stderr",
     "output_type": "stream",
     "text": [
      "  7%|▋         | 68/1000 [00:05<01:24, 11.02it/s]"
     ]
    },
    {
     "name": "stdout",
     "output_type": "stream",
     "text": [
      "current_loss: tensor(1.2710, grad_fn=<MeanBackward0>)\n",
      "current_loss_val:  1.2545784711837769\n",
      "current_loss: tensor(1.2710, grad_fn=<MeanBackward0>)\n",
      "current_loss: tensor(1.2709, grad_fn=<MeanBackward0>)\n",
      "current_loss_val:  1.254652738571167\n",
      "current_loss: tensor(1.2709, grad_fn=<MeanBackward0>)\n",
      "current_loss: tensor(1.2708, grad_fn=<MeanBackward0>)\n"
     ]
    },
    {
     "name": "stderr",
     "output_type": "stream",
     "text": [
      "  7%|▋         | 70/1000 [00:05<02:07,  7.32it/s]"
     ]
    },
    {
     "name": "stdout",
     "output_type": "stream",
     "text": [
      "current_loss_val:  1.2545510530471802\n",
      "current_loss: tensor(1.2708, grad_fn=<MeanBackward0>)\n",
      "current_loss: tensor(1.2707, grad_fn=<MeanBackward0>)\n"
     ]
    },
    {
     "name": "stderr",
     "output_type": "stream",
     "text": [
      "  7%|▋         | 71/1000 [00:05<02:36,  5.95it/s]"
     ]
    },
    {
     "name": "stdout",
     "output_type": "stream",
     "text": [
      "current_loss_val:  1.2545439004898071\n",
      "current_loss: tensor(1.2707, grad_fn=<MeanBackward0>)\n",
      "current_loss: tensor(1.2706, grad_fn=<MeanBackward0>)\n"
     ]
    },
    {
     "name": "stderr",
     "output_type": "stream",
     "text": [
      "  7%|▋         | 72/1000 [00:06<02:53,  5.35it/s]"
     ]
    },
    {
     "name": "stdout",
     "output_type": "stream",
     "text": [
      "current_loss_val:  1.2545620203018188\n",
      "current_loss: tensor(1.2706, grad_fn=<MeanBackward0>)\n",
      "current_loss: tensor(1.2706, grad_fn=<MeanBackward0>)\n"
     ]
    },
    {
     "name": "stderr",
     "output_type": "stream",
     "text": [
      "  7%|▋         | 73/1000 [00:06<03:07,  4.93it/s]"
     ]
    },
    {
     "name": "stdout",
     "output_type": "stream",
     "text": [
      "current_loss_val:  1.254562258720398\n",
      "current_loss: tensor(1.2706, grad_fn=<MeanBackward0>)\n",
      "current_loss: tensor(1.2704, grad_fn=<MeanBackward0>)\n"
     ]
    },
    {
     "name": "stderr",
     "output_type": "stream",
     "text": [
      "  7%|▋         | 74/1000 [00:06<03:22,  4.58it/s]"
     ]
    },
    {
     "name": "stdout",
     "output_type": "stream",
     "text": [
      "current_loss_val:  1.2545627355575562\n",
      "current_loss: tensor(1.2704, grad_fn=<MeanBackward0>)\n",
      "current_loss: tensor(1.2705, grad_fn=<MeanBackward0>)\n",
      "current_loss: tensor(1.2704, grad_fn=<MeanBackward0>)\n"
     ]
    },
    {
     "name": "stderr",
     "output_type": "stream",
     "text": [
      "  8%|▊         | 75/1000 [00:07<04:40,  3.30it/s]"
     ]
    },
    {
     "name": "stdout",
     "output_type": "stream",
     "text": [
      "current_loss_val:  1.2545090913772583\n",
      "current_loss: tensor(1.2704, grad_fn=<MeanBackward0>)\n",
      "current_loss: tensor(1.2704, grad_fn=<MeanBackward0>)\n",
      "current_loss: tensor(1.2703, grad_fn=<MeanBackward0>)\n"
     ]
    },
    {
     "name": "stderr",
     "output_type": "stream",
     "text": [
      "  8%|▊         | 76/1000 [00:07<06:08,  2.51it/s]"
     ]
    },
    {
     "name": "stdout",
     "output_type": "stream",
     "text": [
      "current_loss_val:  1.254372477531433\n",
      "current_loss: tensor(1.2703, grad_fn=<MeanBackward0>)\n"
     ]
    },
    {
     "name": "stderr",
     "output_type": "stream",
     "text": [
      "  8%|▊         | 77/1000 [00:08<06:13,  2.47it/s]"
     ]
    },
    {
     "name": "stdout",
     "output_type": "stream",
     "text": [
      "current_loss: tensor(1.2702, grad_fn=<MeanBackward0>)\n",
      "current_loss_val:  1.2541790008544922\n",
      "current_loss: tensor(1.2702, grad_fn=<MeanBackward0>)\n",
      "current_loss: tensor(1.2702, grad_fn=<MeanBackward0>)\n",
      "current_loss: tensor(1.2701, grad_fn=<MeanBackward0>)\n"
     ]
    },
    {
     "name": "stderr",
     "output_type": "stream",
     "text": [
      "  8%|▊         | 78/1000 [00:08<06:11,  2.48it/s]"
     ]
    },
    {
     "name": "stdout",
     "output_type": "stream",
     "text": [
      "current_loss_val:  1.2541433572769165\n",
      "current_loss: tensor(1.2701, grad_fn=<MeanBackward0>)\n"
     ]
    },
    {
     "name": "stderr",
     "output_type": "stream",
     "text": [
      "  8%|▊         | 79/1000 [00:08<05:50,  2.63it/s]"
     ]
    },
    {
     "name": "stdout",
     "output_type": "stream",
     "text": [
      "current_loss: tensor(1.2701, grad_fn=<MeanBackward0>)\n",
      "current_loss_val:  1.2540768384933472\n",
      "current_loss: tensor(1.2701, grad_fn=<MeanBackward0>)\n",
      "current_loss: tensor(1.2700, grad_fn=<MeanBackward0>)\n"
     ]
    },
    {
     "name": "stderr",
     "output_type": "stream",
     "text": [
      "  8%|▊         | 80/1000 [00:09<05:33,  2.76it/s]"
     ]
    },
    {
     "name": "stdout",
     "output_type": "stream",
     "text": [
      "current_loss_val:  1.2538467645645142\n",
      "current_loss: tensor(1.2700, grad_fn=<MeanBackward0>)\n",
      "current_loss: tensor(1.2700, grad_fn=<MeanBackward0>)\n"
     ]
    },
    {
     "name": "stderr",
     "output_type": "stream",
     "text": [
      "  8%|▊         | 81/1000 [00:09<05:18,  2.88it/s]"
     ]
    },
    {
     "name": "stdout",
     "output_type": "stream",
     "text": [
      "current_loss_val:  1.2537015676498413\n",
      "current_loss: tensor(1.2700, grad_fn=<MeanBackward0>)\n",
      "current_loss: "
     ]
    },
    {
     "name": "stderr",
     "output_type": "stream",
     "text": [
      "  8%|▊         | 82/1000 [00:09<05:08,  2.98it/s]"
     ]
    },
    {
     "name": "stdout",
     "output_type": "stream",
     "text": [
      "tensor(1.2699, grad_fn=<MeanBackward0>)\n",
      "current_loss_val:  1.2534857988357544\n",
      "current_loss: tensor(1.2699, grad_fn=<MeanBackward0>)\n"
     ]
    },
    {
     "name": "stderr",
     "output_type": "stream",
     "text": [
      "  8%|▊         | 83/1000 [00:10<05:05,  3.00it/s]"
     ]
    },
    {
     "name": "stdout",
     "output_type": "stream",
     "text": [
      "current_loss: tensor(1.2699, grad_fn=<MeanBackward0>)\n",
      "current_loss_val:  1.2534395456314087\n",
      "current_loss: tensor(1.2699, grad_fn=<MeanBackward0>)\n",
      "current_loss: tensor(1.2698, grad_fn=<MeanBackward0>)\n"
     ]
    },
    {
     "name": "stderr",
     "output_type": "stream",
     "text": [
      "  8%|▊         | 84/1000 [00:10<05:16,  2.89it/s]"
     ]
    },
    {
     "name": "stdout",
     "output_type": "stream",
     "text": [
      "current_loss_val:  1.2534184455871582\n",
      "current_loss: tensor(1.2698, grad_fn=<MeanBackward0>)\n"
     ]
    },
    {
     "name": "stderr",
     "output_type": "stream",
     "text": [
      "  8%|▊         | 85/1000 [00:11<05:30,  2.77it/s]"
     ]
    },
    {
     "name": "stdout",
     "output_type": "stream",
     "text": [
      "current_loss: tensor(1.2698, grad_fn=<MeanBackward0>)\n",
      "current_loss_val:  1.2534117698669434\n",
      "current_loss: tensor(1.2698, grad_fn=<MeanBackward0>)\n",
      "current_loss: tensor(1.2698, grad_fn=<MeanBackward0>)\n"
     ]
    },
    {
     "name": "stderr",
     "output_type": "stream",
     "text": [
      "  9%|▊         | 86/1000 [00:11<05:16,  2.89it/s]"
     ]
    },
    {
     "name": "stdout",
     "output_type": "stream",
     "text": [
      "current_loss_val:  1.2534233331680298\n",
      "current_loss: tensor(1.2698, grad_fn=<MeanBackward0>)\n",
      "current_loss: tensor(1.2698, grad_fn=<MeanBackward0>)\n"
     ]
    },
    {
     "name": "stderr",
     "output_type": "stream",
     "text": [
      "  9%|▊         | 87/1000 [00:11<05:58,  2.54it/s]"
     ]
    },
    {
     "name": "stdout",
     "output_type": "stream",
     "text": [
      "current_loss_val:  1.2535289525985718\n",
      "current_loss: tensor(1.2698, grad_fn=<MeanBackward0>)\n",
      "current_loss: tensor(1.2698, grad_fn=<MeanBackward0>)\n",
      "current_loss_val:  1.2536430358886719\n"
     ]
    },
    {
     "name": "stderr",
     "output_type": "stream",
     "text": [
      "  9%|▉         | 88/1000 [00:12<06:51,  2.22it/s]"
     ]
    },
    {
     "name": "stdout",
     "output_type": "stream",
     "text": [
      "current_loss: tensor(1.2698, grad_fn=<MeanBackward0>)\n",
      "current_loss: tensor(1.2698, grad_fn=<MeanBackward0>)\n"
     ]
    },
    {
     "name": "stderr",
     "output_type": "stream",
     "text": [
      "  9%|▉         | 89/1000 [00:12<06:52,  2.21it/s]"
     ]
    },
    {
     "name": "stdout",
     "output_type": "stream",
     "text": [
      "current_loss_val:  1.253616452217102\n",
      "current_loss: tensor(1.2698, grad_fn=<MeanBackward0>)\n",
      "current_loss: tensor(1.2698, grad_fn=<MeanBackward0>)\n"
     ]
    },
    {
     "name": "stderr",
     "output_type": "stream",
     "text": [
      "  9%|▉         | 89/1000 [00:13<02:14,  6.79it/s]"
     ]
    },
    {
     "name": "stdout",
     "output_type": "stream",
     "text": [
      "current_loss_val:  1.2536072731018066\n",
      "Early Stop at iteration 89 with minimal loss tensor(1.2534) and patience 5 and min_delta 1e-07\n"
     ]
    },
    {
     "name": "stderr",
     "output_type": "stream",
     "text": [
      "\n"
     ]
    }
   ],
   "source": [
    "# train the joint model\n",
    "_ = model.train(train_dataloader=dataloader_train, validate_dataloader=dataloader_validate, iterations=1000, optimizer=\"LBFGS\",\n",
    "                penalty_splines_params=penalty_splines_params, adaptive_lasso_weights_matrix=adaptive_lasso_weights_matrix, penalty_lasso_conditional_independence=penalty_lasso_conditional_independence, \n",
    "                max_batches_per_iter=False)"
   ]
  },
  {
   "cell_type": "markdown",
   "id": "2a5eebff",
   "metadata": {},
   "source": [
    "### 4. Compare to Benchmarks\n",
    "\n",
    "We compare the learned GTM to a Gaussian Approximation and the Oracle Model. We expect the GTM to lie between these two in terms of approximation the true underlying distribution.\n",
    "We measure this by means of the Kullback Leibler Divergence which we approximate on the test set which is equivalent to the log likelihood ratio between the true distribution and an approximation of it.."
   ]
  },
  {
   "cell_type": "code",
   "execution_count": 13,
   "id": "2b910002",
   "metadata": {},
   "outputs": [],
   "source": [
    "log_likelihood_train_gtm = model.log_likelihood(simulated_data_train)\n",
    "log_likelihood_validate_gtm = model.log_likelihood(simulated_data_validate)\n",
    "log_likelihood_test_gtm = model.log_likelihood(simulated_data_test)"
   ]
  },
  {
   "cell_type": "code",
   "execution_count": 14,
   "id": "5ad6c5de",
   "metadata": {},
   "outputs": [],
   "source": [
    "# estimate the Multivariate Normal Distribution as Model\n",
    "mean_mvn_model = simulated_data_train.mean(0)\n",
    "cov_mvn_model = simulated_data_train.T.cov()\n",
    "mvn_model = torch.distributions.MultivariateNormal(loc=mean_mvn_model, covariance_matrix=cov_mvn_model)\n",
    "log_likelihood_train_gaussian = mvn_model.log_prob(simulated_data_train)\n",
    "log_likelihood_validate_gaussian = mvn_model.log_prob(simulated_data_validate)\n",
    "log_likelihood_test_gaussian = mvn_model.log_prob(simulated_data_test)\n"
   ]
  },
  {
   "cell_type": "code",
   "execution_count": 15,
   "id": "5c2f1859",
   "metadata": {},
   "outputs": [
    {
     "name": "stdout",
     "output_type": "stream",
     "text": [
      "KLD GTM      Train Data:  -0.0002\n",
      "KLD Gaussian Train Data:  0.1248\n",
      "KLD Copula   Train Data:  -0.0014\n",
      "KLD GTM      Test  Data:  0.0154\n",
      "KLD Gaussian Test  Data:  0.1103\n",
      "KLD Copula   Test  Data:  0.0056\n"
     ]
    }
   ],
   "source": [
    "print(\"KLD GTM      Train Data: \",np.round(torch.mean(loglik_true_train - log_likelihood_train_gtm).item(),4) )\n",
    "print(\"KLD Gaussian Train Data: \",np.round(torch.mean(loglik_true_train - log_likelihood_train_gaussian).item(),4) )\n",
    "print(\"KLD Copula   Train Data: \",np.round(torch.mean(loglik_true_train - loglik_true_est_train).item(),4) )\n",
    "\n",
    "print(\"KLD GTM      Test  Data: \",np.round(torch.mean(loglik_true_test - log_likelihood_test_gtm).item(),4) )\n",
    "print(\"KLD Gaussian Test  Data: \",np.round(torch.mean(loglik_true_test - log_likelihood_test_gaussian).item(),4) )\n",
    "print(\"KLD Copula   Test  Data: \",np.round(torch.mean(loglik_true_test - loglik_true_est_test).item(),4) )"
   ]
  },
  {
   "cell_type": "code",
   "execution_count": 25,
   "id": "1e4755e7",
   "metadata": {},
   "outputs": [
    {
     "name": "stdout",
     "output_type": "stream",
     "text": [
      "odict_items([('transformation.params.0', tensor([-11.4867,   0.5254,   0.5254,   0.5254,   4.1413,   2.8317,   2.6603,\n",
      "          1.3791,   3.7426,   1.6411,   1.6411,   1.6411])), ('transformation.params.1', tensor([-10.3657,   1.3383,   1.3383,   1.3559,   2.6803,   1.4102,   2.6941,\n",
      "          3.5590,   4.0352,   1.6439,   1.6411,   1.6411])), ('transformation.params_inverse.0', tensor([-5.3987e-16,  1.2434e-14,  3.1974e-14, -8.8818e-15,  1.0658e-14,\n",
      "         1.7764e-15, -3.0531e-15, -5.3291e-15, -1.5099e-14, -5.3291e-15,\n",
      "        -1.4211e-14,  2.1316e-14, -4.4409e-15,  0.0000e+00, -1.7396e+01,\n",
      "        -8.5172e+00, -8.6244e+00, -7.7831e+00, -7.2663e+00, -6.6958e+00,\n",
      "        -6.3255e+00, -5.9749e+00, -5.7084e+00, -5.4611e+00, -5.2504e+00,\n",
      "        -5.0497e+00, -4.8637e+00, -4.6838e+00, -4.5107e+00, -4.3410e+00,\n",
      "        -4.1741e+00, -4.0085e+00, -3.8433e+00, -3.6771e+00, -3.5090e+00,\n",
      "        -3.3376e+00, -3.1614e+00, -2.9801e+00, -2.7939e+00, -2.6028e+00,\n",
      "        -2.4069e+00, -2.2063e+00, -2.0014e+00, -1.7925e+00, -1.5802e+00,\n",
      "        -1.3651e+00, -1.1479e+00, -9.2931e-01, -7.0895e-01, -4.8590e-01,\n",
      "        -2.5925e-01, -2.7957e-02,  2.0932e-01,  4.5400e-01,  7.0840e-01,\n",
      "         9.7466e-01,  1.2578e+00,  1.5586e+00,  1.8689e+00,  2.1794e+00,\n",
      "         2.4801e+00,  2.7641e+00,  3.0279e+00,  3.2713e+00,  3.4949e+00,\n",
      "         3.7045e+00,  3.9050e+00,  4.0992e+00,  4.2896e+00,  4.4781e+00,\n",
      "         4.6662e+00,  4.8560e+00,  5.0489e+00,  5.2477e+00,  5.4543e+00,\n",
      "         5.6743e+00,  5.9095e+00,  6.1643e+00,  6.4342e+00,  6.7307e+00,\n",
      "         7.0328e+00,  7.3740e+00,  7.6818e+00,  8.0717e+00,  8.3064e+00,\n",
      "         8.8684e+00,  8.4655e+00,  1.7244e+01,  0.0000e+00,  0.0000e+00,\n",
      "         0.0000e+00,  0.0000e+00,  0.0000e+00,  0.0000e+00,  0.0000e+00,\n",
      "         0.0000e+00,  0.0000e+00,  0.0000e+00,  0.0000e+00,  0.0000e+00,\n",
      "         0.0000e+00])), ('transformation.params_inverse.1', tensor([-1.0446e-15, -1.7764e-14, -1.2434e-14,  0.0000e+00, -1.1546e-14,\n",
      "        -2.1316e-14, -9.7700e-15,  5.3291e-15,  2.2760e-15,  1.4211e-14,\n",
      "         0.0000e+00,  2.3093e-14, -2.8866e-14,  1.9540e-14,  3.1974e-14,\n",
      "        -3.1086e-14,  6.8390e-14,  6.8390e-14,  8.4377e-15, -1.4655e-14,\n",
      "         8.8818e-15, -2.1960e+01, -8.4691e+00, -8.8668e+00, -8.2619e+00,\n",
      "        -7.9680e+00, -7.5309e+00, -7.1731e+00, -6.7888e+00, -6.4443e+00,\n",
      "        -6.1088e+00, -5.8009e+00, -5.5103e+00, -5.2399e+00, -4.9796e+00,\n",
      "        -4.7270e+00, -4.4776e+00, -4.2290e+00, -3.9781e+00, -3.7217e+00,\n",
      "        -3.4563e+00, -3.1755e+00, -2.8766e+00, -2.5641e+00, -2.2434e+00,\n",
      "        -1.9225e+00, -1.6089e+00, -1.3087e+00, -1.0258e+00, -7.6036e-01,\n",
      "        -5.0837e-01, -2.6796e-01, -3.7204e-02,  1.8513e-01,  4.0017e-01,\n",
      "         6.0876e-01,  8.1163e-01,  1.0094e+00,  1.2025e+00,  1.3915e+00,\n",
      "         1.5767e+00,  1.7585e+00,  1.9372e+00,  2.1131e+00,  2.2864e+00,\n",
      "         2.4573e+00,  2.6260e+00,  2.7927e+00,  2.9575e+00,  3.1207e+00,\n",
      "         3.2823e+00,  3.4424e+00,  3.6014e+00,  3.7601e+00,  3.9189e+00,\n",
      "         4.0784e+00,  4.2393e+00,  4.4021e+00,  4.5677e+00,  4.7367e+00,\n",
      "         4.9104e+00,  5.0898e+00,  5.2769e+00,  5.4732e+00,  5.6836e+00,\n",
      "         5.9089e+00,  6.1544e+00,  6.4152e+00,  6.7044e+00,  7.0002e+00,\n",
      "         7.3389e+00,  7.6436e+00,  8.0369e+00,  8.2656e+00,  8.8333e+00,\n",
      "         8.4774e+00,  1.4712e+01,  0.0000e+00,  0.0000e+00,  0.0000e+00,\n",
      "         0.0000e+00])), ('decorrelation_layers.0.params', tensor([[ 0.2159],\n",
      "        [ 0.2112],\n",
      "        [ 0.2068],\n",
      "        [ 0.2047],\n",
      "        [ 0.2056],\n",
      "        [ 0.2100],\n",
      "        [ 0.2204],\n",
      "        [ 0.2372],\n",
      "        [ 0.2596],\n",
      "        [ 0.2854],\n",
      "        [ 0.3113],\n",
      "        [ 0.3364],\n",
      "        [ 0.3604],\n",
      "        [ 0.3807],\n",
      "        [ 0.3935],\n",
      "        [ 0.3928],\n",
      "        [ 0.3711],\n",
      "        [ 0.3282],\n",
      "        [ 0.2716],\n",
      "        [ 0.1924],\n",
      "        [ 0.1038],\n",
      "        [ 0.0213],\n",
      "        [-0.0437],\n",
      "        [-0.0795],\n",
      "        [-0.0945],\n",
      "        [-0.0940],\n",
      "        [-0.0876],\n",
      "        [-0.0788],\n",
      "        [-0.0699],\n",
      "        [-0.0627],\n",
      "        [-0.0569],\n",
      "        [-0.0519],\n",
      "        [-0.0472],\n",
      "        [-0.0420],\n",
      "        [-0.0370],\n",
      "        [-0.0326],\n",
      "        [-0.0283],\n",
      "        [-0.0244],\n",
      "        [-0.0207],\n",
      "        [-0.0186],\n",
      "        [-0.0192],\n",
      "        [-0.0207]])), ('decorrelation_layers.1.params', tensor([[-0.0236],\n",
      "        [-0.0207],\n",
      "        [-0.0191],\n",
      "        [-0.0204],\n",
      "        [-0.0225],\n",
      "        [-0.0228],\n",
      "        [-0.0213],\n",
      "        [-0.0194],\n",
      "        [-0.0201],\n",
      "        [-0.0247],\n",
      "        [-0.0315],\n",
      "        [-0.0386],\n",
      "        [-0.0444],\n",
      "        [-0.0490],\n",
      "        [-0.0528],\n",
      "        [-0.0537],\n",
      "        [-0.0464],\n",
      "        [-0.0168],\n",
      "        [ 0.0469],\n",
      "        [ 0.1279],\n",
      "        [ 0.2067],\n",
      "        [ 0.2856],\n",
      "        [ 0.3704],\n",
      "        [ 0.4494],\n",
      "        [ 0.4943],\n",
      "        [ 0.5049],\n",
      "        [ 0.4968],\n",
      "        [ 0.4770],\n",
      "        [ 0.4484],\n",
      "        [ 0.4145],\n",
      "        [ 0.3792],\n",
      "        [ 0.3449],\n",
      "        [ 0.3117],\n",
      "        [ 0.2798],\n",
      "        [ 0.2513],\n",
      "        [ 0.2292],\n",
      "        [ 0.2161],\n",
      "        [ 0.2121],\n",
      "        [ 0.2138],\n",
      "        [ 0.2177],\n",
      "        [ 0.2213],\n",
      "        [ 0.2236]])), ('decorrelation_layers.2.params', tensor([[0.2009],\n",
      "        [0.2019],\n",
      "        [0.2026],\n",
      "        [0.2039],\n",
      "        [0.2080],\n",
      "        [0.2174],\n",
      "        [0.2342],\n",
      "        [0.2574],\n",
      "        [0.2850],\n",
      "        [0.3154],\n",
      "        [0.3472],\n",
      "        [0.3805],\n",
      "        [0.4153],\n",
      "        [0.4500],\n",
      "        [0.4827],\n",
      "        [0.5123],\n",
      "        [0.5393],\n",
      "        [0.5623],\n",
      "        [0.5671],\n",
      "        [0.5348],\n",
      "        [0.4708],\n",
      "        [0.3948],\n",
      "        [0.3166],\n",
      "        [0.2460],\n",
      "        [0.1880],\n",
      "        [0.1464],\n",
      "        [0.1201],\n",
      "        [0.1023],\n",
      "        [0.0887],\n",
      "        [0.0780],\n",
      "        [0.0703],\n",
      "        [0.0647],\n",
      "        [0.0595],\n",
      "        [0.0535],\n",
      "        [0.0465],\n",
      "        [0.0398],\n",
      "        [0.0349],\n",
      "        [0.0314],\n",
      "        [0.0287],\n",
      "        [0.0252],\n",
      "        [0.0205],\n",
      "        [0.0157]]))])\n"
     ]
    }
   ],
   "source": [
    "print(model.state_dict().items())"
   ]
  },
  {
   "cell_type": "markdown",
   "id": "a3ee4e5d",
   "metadata": {},
   "source": [
    "### 5. Evaluate and Plot GTM Results\n",
    "\n",
    "We evaluate the model further by showing how to generate synthetic samples, plot the conditional correlation patterns as well as the model splines.\n",
    "\n",
    "Note that to generate synthetic samples the inverse of the trainsformation layer needs to be approximated  with the method `approximate_transformation_inverse` once which is then stored for future sampling. "
   ]
  },
  {
   "cell_type": "code",
   "execution_count": 16,
   "id": "6690f80f",
   "metadata": {},
   "outputs": [],
   "source": [
    "model.approximate_transformation_inverse()\n",
    "synthetic_samples = model.sample(10000)"
   ]
  },
  {
   "cell_type": "code",
   "execution_count": 17,
   "id": "22df00ce",
   "metadata": {},
   "outputs": [
    {
     "data": {
      "image/png": "[encoded data removed]",
      "text/plain": [
       "<Figure size 600x600 with 1 Axes>"
      ]
     },
     "metadata": {},
     "output_type": "display_data"
    },
    {
     "data": {
      "image/png": "[encoded data removed]",
      "text/plain": [
       "<Figure size 600x600 with 1 Axes>"
      ]
     },
     "metadata": {},
     "output_type": "display_data"
    }
   ],
   "source": [
    "model.plot_densities(synthetic_samples, x_lim=[-4,4], y_lim=[-4,4])\n",
    "model.plot_densities(simulated_data_train, x_lim=[-4,4], y_lim=[-4,4])"
   ]
  },
  {
   "cell_type": "markdown",
   "id": "f598c157",
   "metadata": {},
   "source": [
    "The varying pseudo conditional correlation matrix values can be computed for any synthetic samples using `compute_pseudo_conditional_correlation_matrix` or can directly be plotted using `plot_conditional_dependence_structure`.\n",
    "The pseudo conditional correlation matrix is the standardised precision matrix so that off diagonal elements are the pseudo conditional correlations between the respective dimensions."
   ]
  },
  {
   "cell_type": "code",
   "execution_count": 18,
   "id": "6637a565",
   "metadata": {},
   "outputs": [],
   "source": [
    "pseudo_conditional_correlation_matrix = model.compute_pseudo_conditional_correlation_matrix(synthetic_samples)"
   ]
  },
  {
   "cell_type": "code",
   "execution_count": 19,
   "id": "a30faa3b",
   "metadata": {},
   "outputs": [
    {
     "name": "stderr",
     "output_type": "stream",
     "text": [
      "/mnt/vast-standard/home/f.capunaycaceres/u22491/conda/envs/bgtm/lib/python3.11/site-packages/numpy/core/fromnumeric.py:3504: RuntimeWarning: Mean of empty slice.\n",
      "  return _methods._mean(a, axis=axis, dtype=dtype,\n",
      "/mnt/vast-standard/home/f.capunaycaceres/u22491/conda/envs/bgtm/lib/python3.11/site-packages/numpy/core/_methods.py:129: RuntimeWarning: invalid value encountered in scalar divide\n",
      "  ret = ret.dtype.type(ret / rcount)\n"
     ]
    },
    {
     "data": {
      "image/png": "[encoded data removed]",
      "text/plain": [
       "<Figure size 600x600 with 2 Axes>"
      ]
     },
     "metadata": {},
     "output_type": "display_data"
    }
   ],
   "source": [
    "model.plot_conditional_dependence_structure(data=synthetic_samples)"
   ]
  },
  {
   "cell_type": "markdown",
   "id": "e5e081b4",
   "metadata": {},
   "source": [
    "One can also visualize the splines of each layer usign the function `plot_splines`. For the transformation layer we additionally include the dervaitive which is always positive due to the monotonically increasing constraint as well as the inverse which should lie exactly on the spline to visually confirm that the inverse sampling path works."
   ]
  },
  {
   "cell_type": "code",
   "execution_count": 20,
   "id": "149a1b81",
   "metadata": {},
   "outputs": [
    {
     "name": "stderr",
     "output_type": "stream",
     "text": [
      "/mnt/vast-standard/home/f.capunaycaceres/u22491/gtm/gtm/gtm_plots_analysis/plot_splines.py:113: FutureWarning: The behavior of DataFrame concatenation with empty or all-NA entries is deprecated. In a future version, this will no longer exclude empty or all-NA columns when determining the result dtypes. To retain the old behavior, exclude the relevant entries before the concat operation.\n",
      "  results = results._append(\n"
     ]
    },
    {
     "data": {
      "image/png": "[encoded data removed]",
      "text/plain": [
       "<Figure size 1500x500 with 3 Axes>"
      ]
     },
     "metadata": {},
     "output_type": "display_data"
    }
   ],
   "source": [
    "model.plot_splines(layer_type=\"transformation\")"
   ]
  },
  {
   "cell_type": "code",
   "execution_count": 21,
   "id": "8649bbbe",
   "metadata": {},
   "outputs": [
    {
     "name": "stderr",
     "output_type": "stream",
     "text": [
      "/mnt/vast-standard/home/f.capunaycaceres/u22491/gtm/gtm/gtm_plots_analysis/plot_splines.py:250: FutureWarning: The behavior of DataFrame concatenation with empty or all-NA entries is deprecated. In a future version, this will no longer exclude empty or all-NA columns when determining the result dtypes. To retain the old behavior, exclude the relevant entries before the concat operation.\n",
      "  results = results._append(\n"
     ]
    },
    {
     "data": {
      "image/png": "[encoded data removed]",
      "text/plain": [
       "<Figure size 600x600 with 1 Axes>"
      ]
     },
     "metadata": {},
     "output_type": "display_data"
    }
   ],
   "source": [
    "model.plot_splines(layer_type = \"decorrelation\", decorrelation_layer_number=0)"
   ]
  },
  {
   "cell_type": "code",
   "execution_count": 22,
   "id": "a5aa64ac",
   "metadata": {},
   "outputs": [
    {
     "name": "stderr",
     "output_type": "stream",
     "text": [
      "/mnt/vast-standard/home/f.capunaycaceres/u22491/gtm/gtm/gtm_plots_analysis/plot_splines.py:250: FutureWarning: The behavior of DataFrame concatenation with empty or all-NA entries is deprecated. In a future version, this will no longer exclude empty or all-NA columns when determining the result dtypes. To retain the old behavior, exclude the relevant entries before the concat operation.\n",
      "  results = results._append(\n"
     ]
    },
    {
     "data": {
      "image/png": "[encoded data removed]",
      "text/plain": [
       "<Figure size 600x600 with 1 Axes>"
      ]
     },
     "metadata": {},
     "output_type": "display_data"
    }
   ],
   "source": [
    "model.plot_splines(layer_type = \"decorrelation\", decorrelation_layer_number=1)"
   ]
  },
  {
   "cell_type": "code",
   "execution_count": 23,
   "id": "86eb78f4",
   "metadata": {},
   "outputs": [
    {
     "name": "stderr",
     "output_type": "stream",
     "text": [
      "/mnt/vast-standard/home/f.capunaycaceres/u22491/gtm/gtm/gtm_plots_analysis/plot_splines.py:250: FutureWarning: The behavior of DataFrame concatenation with empty or all-NA entries is deprecated. In a future version, this will no longer exclude empty or all-NA columns when determining the result dtypes. To retain the old behavior, exclude the relevant entries before the concat operation.\n",
      "  results = results._append(\n"
     ]
    },
    {
     "data": {
      "image/png": "[encoded data removed]",
      "text/plain": [
       "<Figure size 600x600 with 1 Axes>"
      ]
     },
     "metadata": {},
     "output_type": "display_data"
    }
   ],
   "source": [
    "model.plot_splines(layer_type = \"decorrelation\", decorrelation_layer_number=2)"
   ]
  }
 ],
 "metadata": {
  "kernelspec": {
   "display_name": "bgtm",
   "language": "python",
   "name": "python3"
  },
  "language_info": {
   "codemirror_mode": {
    "name": "ipython",
    "version": 3
   },
   "file_extension": ".py",
   "mimetype": "text/x-python",
   "name": "python",
   "nbconvert_exporter": "python",
   "pygments_lexer": "ipython3",
   "version": "3.11.5"
  }
 },
 "nbformat": 4,
 "nbformat_minor": 5
}
