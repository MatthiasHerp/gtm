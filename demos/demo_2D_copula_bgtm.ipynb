{
 "cells": [
  {
   "cell_type": "markdown",
   "id": "3c5fecd0",
   "metadata": {},
   "source": [
    "# Demo of the BGTM on 2-Dimensional Joe-Copula\n",
    "\n",
    "In this demonstration we show how the GTM can be used to learn a probability distribution from synthetic data sampled from a 2 dimensional Joe copula.\n",
    "To sample synthetic copula data we use the [pyvinecopulib](https://github.com/vinecopulib/pyvinecopulib) library.\n",
    "Fore more details on copulas we refer to the Book [Analyzing Dependent Data with Vine Copulas](https://link.springer.com/book/10.1007/978-3-030-13785-4) for an comprehensive introduction to copulas and vine copulas."
   ]
  },
  {
   "cell_type": "code",
   "execution_count": 1,
   "id": "70b4550b",
   "metadata": {},
   "outputs": [
    {
     "name": "stderr",
     "output_type": "stream",
     "text": [
      "/Users/franciscocapunay/miniforge3/envs/gtm-magic-env-3.11/lib/python3.11/site-packages/tqdm/auto.py:21: TqdmWarning: IProgress not found. Please update jupyter and ipywidgets. See https://ipywidgets.readthedocs.io/en/stable/user_install.html\n",
      "  from .autonotebook import tqdm as notebook_tqdm\n"
     ]
    }
   ],
   "source": [
    "from pathlib import Path\n",
    "import sys\n",
    "\n",
    "# Add project root (parent of \"demos\") to sys.path\n",
    "project_root = Path.cwd().parent\n",
    "sys.path.insert(0, str(project_root))\n",
    "\n",
    "\n",
    "from gtm import *\n",
    "\n",
    "# Sample Copulas Package\n",
    "import pyvinecopulib as pv\n",
    "\n",
    "# Other Stuff\n",
    "import numpy as np\n",
    "import torch\n",
    "from torch.utils.data import DataLoader\n",
    "from demos.dataset_helpers import Generic_Dataset"
   ]
  },
  {
   "cell_type": "markdown",
   "id": "eed17c60",
   "metadata": {},
   "source": [
    "### 1. Sample Synthetic Copula Data and Compute Likelihoods\n",
    "\n",
    "We sample data from a Joe Copula and add Gaussian marginals. Feel free to exchange the copula parameter, the rotation or even the copula itsself.\n",
    "The list of copulas can be found with `help(pv.Bicop)`.\n",
    "\n",
    "Notice we use Sklars Theorem to compute the density of the joint copula and Gaussian marginals density."
   ]
  },
  {
   "cell_type": "code",
   "execution_count": 2,
   "id": "91426a1c",
   "metadata": {},
   "outputs": [],
   "source": [
    "copula_pv = pv.Bicop(family=pv.BicopFamily.joe, parameters=np.array([[2.5]]), rotation=90)\n",
    "\n",
    "# Train\n",
    "N_train = 2000\n",
    "simulated_data_uniform_train = copula_pv.simulate(n=N_train)\n",
    "simulated_data_train = torch.distributions.Normal(0,1).icdf(torch.tensor(simulated_data_uniform_train)).float()\n",
    "\n",
    "# Validate\n",
    "N_validate = 2000\n",
    "simulated_data_uniform_validate = copula_pv.simulate(n=N_validate)\n",
    "simulated_data_validate = torch.distributions.Normal(0,1).icdf(torch.tensor(simulated_data_uniform_validate)).float()\n",
    "\n",
    "# Test\n",
    "N_test = 20000\n",
    "simulated_data_uniform_test = copula_pv.simulate(n=N_test)\n",
    "simulated_data_test = torch.distributions.Normal(0,1).icdf(torch.tensor(simulated_data_uniform_test)).float()"
   ]
  },
  {
   "cell_type": "code",
   "execution_count": 3,
   "id": "89a347f4",
   "metadata": {},
   "outputs": [
    {
     "name": "stderr",
     "output_type": "stream",
     "text": [
      "/var/folders/_p/ttn2qcdj23jdpltyffhwq9pr0000gn/T/ipykernel_97625/2085715786.py:2: UserWarning: To copy construct from a tensor, it is recommended to use sourceTensor.clone().detach() or sourceTensor.clone().detach().requires_grad_(True), rather than torch.tensor(sourceTensor).\n",
      "  log_marginals = torch.distributions.Normal(0,1).log_prob(torch.tensor(simulated_data_train)).sum(1)\n",
      "/var/folders/_p/ttn2qcdj23jdpltyffhwq9pr0000gn/T/ipykernel_97625/2085715786.py:6: UserWarning: To copy construct from a tensor, it is recommended to use sourceTensor.clone().detach() or sourceTensor.clone().detach().requires_grad_(True), rather than torch.tensor(sourceTensor).\n",
      "  log_marginals = torch.distributions.Normal(0,1).log_prob(torch.tensor(simulated_data_validate)).sum(1)\n",
      "/var/folders/_p/ttn2qcdj23jdpltyffhwq9pr0000gn/T/ipykernel_97625/2085715786.py:10: UserWarning: To copy construct from a tensor, it is recommended to use sourceTensor.clone().detach() or sourceTensor.clone().detach().requires_grad_(True), rather than torch.tensor(sourceTensor).\n",
      "  log_marginals = torch.distributions.Normal(0,1).log_prob(torch.tensor(simulated_data_test)).sum(1)\n"
     ]
    }
   ],
   "source": [
    "loglik_copula = np.log(copula_pv.pdf(simulated_data_uniform_train))\n",
    "log_marginals = torch.distributions.Normal(0,1).log_prob(torch.tensor(simulated_data_train)).sum(1)\n",
    "loglik_true_train = torch.tensor(loglik_copula) + log_marginals\n",
    "\n",
    "loglik_copula = np.log(copula_pv.pdf(simulated_data_uniform_validate))\n",
    "log_marginals = torch.distributions.Normal(0,1).log_prob(torch.tensor(simulated_data_validate)).sum(1)\n",
    "loglik_true_validate = torch.tensor(loglik_copula) + log_marginals\n",
    "\n",
    "loglik_copula = np.log(copula_pv.pdf(simulated_data_uniform_test))\n",
    "log_marginals = torch.distributions.Normal(0,1).log_prob(torch.tensor(simulated_data_test)).sum(1)\n",
    "loglik_true_test = torch.tensor(loglik_copula) + log_marginals"
   ]
  },
  {
   "cell_type": "markdown",
   "id": "3e6ae322",
   "metadata": {},
   "source": [
    "We further estimate the copula on the synthetic data to get an oracle denisity estimator. Hence an estimator that knows the true underlying structure and merely estiamtes the model parameters."
   ]
  },
  {
   "cell_type": "code",
   "execution_count": 4,
   "id": "8ab3f371",
   "metadata": {},
   "outputs": [],
   "source": [
    "copula_pv_est = pv.Bicop(family=pv.BicopFamily.joe, rotation=90)\n",
    "copula_pv_est.fit(simulated_data_uniform_train)\n",
    "means = simulated_data_train.mean(0)\n",
    "vars = simulated_data_train.var(0)"
   ]
  },
  {
   "cell_type": "code",
   "execution_count": 5,
   "id": "357cb0c0",
   "metadata": {},
   "outputs": [],
   "source": [
    "loglik_copula = np.log(copula_pv_est.pdf(simulated_data_uniform_train))\n",
    "log_marginals = torch.distributions.Normal(means,vars).log_prob(simulated_data_train).sum(1)\n",
    "loglik_true_est_train = torch.tensor(loglik_copula) + log_marginals\n",
    "\n",
    "loglik_copula = np.log(copula_pv_est.pdf(simulated_data_uniform_validate))\n",
    "log_marginals = torch.distributions.Normal(means,vars).log_prob(simulated_data_validate).sum(1)\n",
    "loglik_true_est_validate = torch.tensor(loglik_copula) + log_marginals\n",
    "\n",
    "loglik_copula = np.log(copula_pv_est.pdf(simulated_data_uniform_test))\n",
    "log_marginals = torch.distributions.Normal(means,vars).log_prob(simulated_data_test).sum(1)\n",
    "loglik_true_est_test = torch.tensor(loglik_copula) + log_marginals"
   ]
  },
  {
   "cell_type": "markdown",
   "id": "15cde9d2",
   "metadata": {},
   "source": [
    "The package is implemented to use Dataloaders for training. This is done to accommodate larger datasets trained batch wise as is common in deep learning and bioinformatics applications. Feel free to use the [`Generic_Dataset`](demos/dataset_helpers.py) class to easily adjust it to your data. For full data training, thus whithout batches simply seet the `batch_size` arguement in the `DataLoader` to the data size as we do in this example"
   ]
  },
  {
   "cell_type": "code",
   "execution_count": 6,
   "id": "83659cfd",
   "metadata": {},
   "outputs": [],
   "source": [
    "# Create dataset and DataLoader\n",
    "dataset_train = Generic_Dataset(simulated_data_train)\n",
    "dataloader_train = DataLoader(dataset_train, batch_size=N_train)\n",
    "\n",
    "dataset_validate = Generic_Dataset(simulated_data_validate)\n",
    "dataloader_validate = DataLoader(dataset_validate, batch_size=N_validate)"
   ]
  },
  {
   "cell_type": "markdown",
   "id": "d6c111eb",
   "metadata": {},
   "source": [
    "### 2. Define Model\n",
    "\n",
    "We define a simple GTM model with the standard parameters.\n",
    "Notable custamizable parameter are: \n",
    "- The dimensionality of the data `number_variables`\n",
    "- The number of transformation layers `num_trans_layers`, either 0 or 1.\n",
    "- The number of decorrelation layers `num_decorr_layers`, typically 3 or more. \n",
    "- the spline to use for the transformation layer splines `spline_transformation` and the decorrelation layer splines `spline_decorrelation`.  The two types of layers: P-Splines (`bspline`) or bernstein polynomials (`bernstein`).\n",
    "- The degrees of the splines, representing there flexibility, being `degree_decorrelation` for the decorrelation layer splines and `degree_transformations` for the transformation layer. When using `bspline`, then `degree_transformations` can also be given a list with varying degrees for each dimension of the data.\n",
    "- `transformation_spline_range`sets the outer borders for the transformation layer splines, this dependends on the input data and should be set a bit wider then the actual data.\n",
    "- `device` either `cpu`or `cuda`\n"
   ]
  },
  {
   "cell_type": "code",
   "execution_count": 7,
   "id": "ef92cf12",
   "metadata": {},
   "outputs": [],
   "source": [
    "hyperparameters = {\n",
    "    \"transformation\": {\n",
    "    \"sigma_a\": 2.1, \"sigma_b\": 1e6,        #Ignored not used\n",
    "    \"RW2\": { \"tau_a\": 2.0, \"tau_b\": 5.0 },  #E[λ_T] = 0.40  (smooth but not stiff)\n",
    "    \"RW1\": { \"tau_a\": 10.0,\"tau_b\": 15.0 }  #Ignored not used\n",
    "    },\n",
    "    \"decorrelation\": {\n",
    "    \"sigma_a\": 2.1, \"sigma_b\": 1e6,              # mean σ² = very small close to 0 (weak)\n",
    "    \"RW2\": { \"tau_a\": 1.5, \"tau_b\": 30.0 },      # E[κ2] ≈ 0.05   (weak curvature smoothing)\n",
    "    \"RW1\": { \"tau_a\": 1.5, \"tau_b\": 15.0 },      # E[κ1] ≈ 0.10   (light shrink to linear)\n",
    "    }\n",
    "}\n",
    "\n",
    "\n",
    "\n",
    "model = GTM(\n",
    "    number_variables=2,\n",
    "    number_transformation_layers=1,\n",
    "    number_decorrelation_layers=3,\n",
    "    degree_transformations=10,\n",
    "    degree_decorrelation=40,\n",
    "    spline_transformation=\"bspline\",\n",
    "    spline_decorrelation=\"bspline\",\n",
    "    transformation_spline_range=(-10, 10),\n",
    "    device=\"cpu\",\n",
    "    ## NEW ARGUMENTS ##\n",
    "    inference = 'bayesian',\n",
    "    hyperparameter=hyperparameters\n",
    "    )\n",
    "\n",
    "\n",
    "device = \"cuda\" if torch.cuda.is_available() else \"cpu\"\n",
    "model.to(device)\n",
    "_=model"
   ]
  },
  {
   "cell_type": "markdown",
   "id": "fb434f3d",
   "metadata": {},
   "source": [
    "The GTM class contains a number of plotting functions so that standard analysis can be done soley with the model:"
   ]
  },
  {
   "cell_type": "code",
   "execution_count": 8,
   "id": "133db9e3",
   "metadata": {},
   "outputs": [],
   "source": [
    "#model.plot_marginals(simulated_data_train)"
   ]
  },
  {
   "cell_type": "markdown",
   "id": "9d41ca3e",
   "metadata": {},
   "source": [
    "### 3. Hyperparameter Tune and Train Model\n",
    "\n",
    "To find the optimal penalties one uses the `hyperparameter_tune_penalties` function. Then using the optimal penalties one can train the model.\n",
    "\n",
    "The training can be done by pretraining the marginal transformations with `pretrain_tranformation_layer` and then training jointly with `train`.\n",
    "In general empirically we found that pretraining reduces training time and improves results allthough direct joint training also works.\n",
    "\n",
    "Hyperparameter tuning can be done for the penalties `penvalueridge, penfirstridge , pensecondridge, ctm_pensecondridge, lambda_penalty_params` by passing the arguement `\"sample\"`.\n",
    "If a fixed number is passed, typically zero, then for that penalty no hyperparameter drawing is done and the fixed values is used.\n"
   ]
  },
  {
   "cell_type": "code",
   "execution_count": 9,
   "id": "807c8eab",
   "metadata": {},
   "outputs": [
    {
     "name": "stderr",
     "output_type": "stream",
     "text": [
      "/Users/franciscocapunay/miniforge3/envs/gtm-magic-env-3.11/lib/python3.11/site-packages/torch/optim/lr_scheduler.py:28: UserWarning: The verbose parameter is deprecated. Please use get_last_lr() to access the learning rate.\n",
      "  warnings.warn(\"The verbose parameter is deprecated. Please use get_last_lr() \"\n",
      "  0%|          | 0/1000 [00:00<?, ?it/s]/Users/franciscocapunay/Documents/AkademischeAusbildungLernunterlagen/UniversitaetGoettingen/Studiengänge/MasterAngewandteStatistik/4.Semester/MA/code/gtm/gtm/gtm_splines/bspline_prediction_vectorized.py:595: UserWarning: The use of `x.T` on tensors of dimension other than 2 to reverse their shape is deprecated and it will throw an error in a future release. Consider `x.mT` to transpose batches of matrices or `x.permute(*torch.arange(x.ndim - 1, -1, -1))` to reverse the dimensions of a tensor. (Triggered internally at /Users/runner/work/pytorch/pytorch/pytorch/aten/src/ATen/native/TensorShape.cpp:3641.)\n",
      "  x=input_a_clone.T, t=knots.T, c=params_a.T, p=order, d=derivativ\n",
      "  0%|          | 1/1000 [00:00<14:30,  1.15it/s]"
     ]
    },
    {
     "name": "stdout",
     "output_type": "stream",
     "text": [
      "[1/1000] train=235.4495  val=235.6452  S_train=8 S_val=32 lr=[0.01, 0.02]σ̄=0.0510  σmin=0.0510  σmax=0.0510\n"
     ]
    },
    {
     "name": "stderr",
     "output_type": "stream",
     "text": [
      "  0%|          | 2/1000 [00:01<14:59,  1.11it/s]"
     ]
    },
    {
     "name": "stdout",
     "output_type": "stream",
     "text": [
      "[2/1000] train=232.9750  val=232.7139  S_train=8 S_val=32 lr=[0.01, 0.02]σ̄=0.0520  σmin=0.0520  σmax=0.0520\n"
     ]
    },
    {
     "name": "stderr",
     "output_type": "stream",
     "text": [
      "  0%|          | 3/1000 [00:02<16:06,  1.03it/s]"
     ]
    },
    {
     "name": "stdout",
     "output_type": "stream",
     "text": [
      "[3/1000] train=227.0051  val=229.7849  S_train=8 S_val=32 lr=[0.01, 0.02]σ̄=0.0530  σmin=0.0530  σmax=0.0530\n"
     ]
    },
    {
     "name": "stderr",
     "output_type": "stream",
     "text": [
      "  0%|          | 4/1000 [00:03<14:28,  1.15it/s]"
     ]
    },
    {
     "name": "stdout",
     "output_type": "stream",
     "text": [
      "[4/1000] train=222.9282  val=226.8576  S_train=8 S_val=32 lr=[0.01, 0.02]σ̄=0.0541  σmin=0.0541  σmax=0.0541\n"
     ]
    },
    {
     "name": "stderr",
     "output_type": "stream",
     "text": [
      "  0%|          | 5/1000 [00:04<13:28,  1.23it/s]"
     ]
    },
    {
     "name": "stdout",
     "output_type": "stream",
     "text": [
      "[5/1000] train=222.9444  val=223.9317  S_train=8 S_val=32 lr=[0.01, 0.02]σ̄=0.0551  σmin=0.0551  σmax=0.0551\n"
     ]
    },
    {
     "name": "stderr",
     "output_type": "stream",
     "text": [
      "  1%|          | 6/1000 [00:05<13:46,  1.20it/s]"
     ]
    },
    {
     "name": "stdout",
     "output_type": "stream",
     "text": [
      "[6/1000] train=223.6613  val=221.0079  S_train=8 S_val=32 lr=[0.01, 0.02]σ̄=0.0562  σmin=0.0562  σmax=0.0562\n"
     ]
    },
    {
     "name": "stderr",
     "output_type": "stream",
     "text": [
      "  1%|          | 7/1000 [00:05<13:03,  1.27it/s]"
     ]
    },
    {
     "name": "stdout",
     "output_type": "stream",
     "text": [
      "[7/1000] train=217.1140  val=218.0863  S_train=8 S_val=32 lr=[0.01, 0.02]σ̄=0.0573  σmin=0.0573  σmax=0.0573\n"
     ]
    },
    {
     "name": "stderr",
     "output_type": "stream",
     "text": [
      "  1%|          | 8/1000 [00:06<14:27,  1.14it/s]"
     ]
    },
    {
     "name": "stdout",
     "output_type": "stream",
     "text": [
      "[8/1000] train=217.2523  val=215.1667  S_train=8 S_val=32 lr=[0.01, 0.02]σ̄=0.0584  σmin=0.0584  σmax=0.0584\n"
     ]
    },
    {
     "name": "stderr",
     "output_type": "stream",
     "text": [
      "  1%|          | 9/1000 [00:08<16:32,  1.00s/it]"
     ]
    },
    {
     "name": "stdout",
     "output_type": "stream",
     "text": [
      "[9/1000] train=214.0183  val=212.2491  S_train=8 S_val=32 lr=[0.01, 0.02]σ̄=0.0596  σmin=0.0596  σmax=0.0596\n"
     ]
    },
    {
     "name": "stderr",
     "output_type": "stream",
     "text": [
      "  1%|          | 10/1000 [00:09<18:41,  1.13s/it]"
     ]
    },
    {
     "name": "stdout",
     "output_type": "stream",
     "text": [
      "[10/1000] train=207.2082  val=209.3332  S_train=8 S_val=32 lr=[0.01, 0.02]σ̄=0.0607  σmin=0.0607  σmax=0.0607\n"
     ]
    },
    {
     "name": "stderr",
     "output_type": "stream",
     "text": [
      "  1%|          | 11/1000 [00:10<18:39,  1.13s/it]"
     ]
    },
    {
     "name": "stdout",
     "output_type": "stream",
     "text": [
      "[11/1000] train=211.5530  val=206.4192  S_train=16 S_val=32 lr=[0.01, 0.02]σ̄=0.0619  σmin=0.0619  σmax=0.0619\n"
     ]
    },
    {
     "name": "stderr",
     "output_type": "stream",
     "text": [
      "  1%|          | 12/1000 [00:11<18:02,  1.10s/it]"
     ]
    },
    {
     "name": "stdout",
     "output_type": "stream",
     "text": [
      "[12/1000] train=207.8155  val=203.5070  S_train=16 S_val=32 lr=[0.01, 0.02]σ̄=0.0631  σmin=0.0631  σmax=0.0631\n"
     ]
    },
    {
     "name": "stderr",
     "output_type": "stream",
     "text": [
      "  1%|▏         | 13/1000 [00:12<17:25,  1.06s/it]"
     ]
    },
    {
     "name": "stdout",
     "output_type": "stream",
     "text": [
      "[13/1000] train=203.8196  val=200.5962  S_train=16 S_val=32 lr=[0.01, 0.02]σ̄=0.0644  σmin=0.0644  σmax=0.0644\n"
     ]
    },
    {
     "name": "stderr",
     "output_type": "stream",
     "text": [
      "  1%|▏         | 14/1000 [00:13<15:58,  1.03it/s]"
     ]
    },
    {
     "name": "stdout",
     "output_type": "stream",
     "text": [
      "[14/1000] train=207.6740  val=197.6875  S_train=16 S_val=32 lr=[0.01, 0.02]σ̄=0.0656  σmin=0.0656  σmax=0.0656\n"
     ]
    },
    {
     "name": "stderr",
     "output_type": "stream",
     "text": [
      "  2%|▏         | 15/1000 [00:14<15:06,  1.09it/s]"
     ]
    },
    {
     "name": "stdout",
     "output_type": "stream",
     "text": [
      "[15/1000] train=196.3269  val=194.7810  S_train=16 S_val=32 lr=[0.01, 0.02]σ̄=0.0669  σmin=0.0669  σmax=0.0669\n"
     ]
    },
    {
     "name": "stderr",
     "output_type": "stream",
     "text": [
      "  2%|▏         | 16/1000 [00:15<14:51,  1.10it/s]"
     ]
    },
    {
     "name": "stdout",
     "output_type": "stream",
     "text": [
      "[16/1000] train=193.8984  val=191.8764  S_train=16 S_val=32 lr=[0.01, 0.02]σ̄=0.0682  σmin=0.0682  σmax=0.0682\n"
     ]
    },
    {
     "name": "stderr",
     "output_type": "stream",
     "text": [
      "  2%|▏         | 17/1000 [00:15<14:10,  1.16it/s]"
     ]
    },
    {
     "name": "stdout",
     "output_type": "stream",
     "text": [
      "[17/1000] train=194.0129  val=188.9740  S_train=16 S_val=32 lr=[0.01, 0.02]σ̄=0.0696  σmin=0.0696  σmax=0.0696\n"
     ]
    },
    {
     "name": "stderr",
     "output_type": "stream",
     "text": [
      "  2%|▏         | 18/1000 [00:16<13:46,  1.19it/s]"
     ]
    },
    {
     "name": "stdout",
     "output_type": "stream",
     "text": [
      "[18/1000] train=185.4866  val=186.0740  S_train=16 S_val=32 lr=[0.01, 0.02]σ̄=0.0709  σmin=0.0709  σmax=0.0709\n"
     ]
    },
    {
     "name": "stderr",
     "output_type": "stream",
     "text": [
      "  2%|▏         | 19/1000 [00:17<13:48,  1.18it/s]"
     ]
    },
    {
     "name": "stdout",
     "output_type": "stream",
     "text": [
      "[19/1000] train=183.1208  val=183.1765  S_train=16 S_val=32 lr=[0.01, 0.02]σ̄=0.0723  σmin=0.0723  σmax=0.0723\n"
     ]
    },
    {
     "name": "stderr",
     "output_type": "stream",
     "text": [
      "  2%|▏         | 20/1000 [00:18<13:25,  1.22it/s]"
     ]
    },
    {
     "name": "stdout",
     "output_type": "stream",
     "text": [
      "[20/1000] train=183.0073  val=180.2814  S_train=16 S_val=32 lr=[0.01, 0.02]σ̄=0.0737  σmin=0.0737  σmax=0.0737\n"
     ]
    },
    {
     "name": "stderr",
     "output_type": "stream",
     "text": [
      "  2%|▏         | 21/1000 [00:19<17:03,  1.05s/it]"
     ]
    },
    {
     "name": "stdout",
     "output_type": "stream",
     "text": [
      "[21/1000] train=180.2755  val=177.3887  S_train=32 S_val=32 lr=[0.01, 0.02]σ̄=0.0751  σmin=0.0751  σmax=0.0751\n"
     ]
    },
    {
     "name": "stderr",
     "output_type": "stream",
     "text": [
      "  2%|▏         | 22/1000 [00:20<16:56,  1.04s/it]"
     ]
    },
    {
     "name": "stdout",
     "output_type": "stream",
     "text": [
      "[22/1000] train=177.9295  val=174.4977  S_train=32 S_val=32 lr=[0.01, 0.02]σ̄=0.0766  σmin=0.0766  σmax=0.0766\n"
     ]
    },
    {
     "name": "stderr",
     "output_type": "stream",
     "text": [
      "  2%|▏         | 23/1000 [00:21<16:30,  1.01s/it]"
     ]
    },
    {
     "name": "stdout",
     "output_type": "stream",
     "text": [
      "[23/1000] train=173.5283  val=171.6082  S_train=32 S_val=32 lr=[0.01, 0.02]σ̄=0.0781  σmin=0.0781  σmax=0.0781\n"
     ]
    },
    {
     "name": "stderr",
     "output_type": "stream",
     "text": [
      "  2%|▏         | 24/1000 [00:22<15:58,  1.02it/s]"
     ]
    },
    {
     "name": "stdout",
     "output_type": "stream",
     "text": [
      "[24/1000] train=168.4672  val=168.7209  S_train=32 S_val=32 lr=[0.01, 0.02]σ̄=0.0796  σmin=0.0796  σmax=0.0796\n"
     ]
    },
    {
     "name": "stderr",
     "output_type": "stream",
     "text": [
      "  2%|▎         | 25/1000 [00:23<15:38,  1.04it/s]"
     ]
    },
    {
     "name": "stdout",
     "output_type": "stream",
     "text": [
      "[25/1000] train=168.9121  val=165.8363  S_train=32 S_val=32 lr=[0.01, 0.02]σ̄=0.0811  σmin=0.0811  σmax=0.0812\n"
     ]
    },
    {
     "name": "stderr",
     "output_type": "stream",
     "text": [
      "  3%|▎         | 26/1000 [00:24<15:18,  1.06it/s]"
     ]
    },
    {
     "name": "stdout",
     "output_type": "stream",
     "text": [
      "[26/1000] train=163.9054  val=162.9543  S_train=32 S_val=32 lr=[0.01, 0.02]σ̄=0.0827  σmin=0.0827  σmax=0.0827\n"
     ]
    },
    {
     "name": "stderr",
     "output_type": "stream",
     "text": [
      "  3%|▎         | 27/1000 [00:25<15:04,  1.08it/s]"
     ]
    },
    {
     "name": "stdout",
     "output_type": "stream",
     "text": [
      "[27/1000] train=161.7908  val=160.0748  S_train=32 S_val=32 lr=[0.01, 0.02]σ̄=0.0843  σmin=0.0843  σmax=0.0843\n"
     ]
    },
    {
     "name": "stderr",
     "output_type": "stream",
     "text": [
      "  3%|▎         | 28/1000 [00:26<14:54,  1.09it/s]"
     ]
    },
    {
     "name": "stdout",
     "output_type": "stream",
     "text": [
      "[28/1000] train=159.4312  val=157.1977  S_train=32 S_val=32 lr=[0.01, 0.02]σ̄=0.0860  σmin=0.0859  σmax=0.0860\n"
     ]
    },
    {
     "name": "stderr",
     "output_type": "stream",
     "text": [
      "  3%|▎         | 29/1000 [00:27<14:46,  1.10it/s]"
     ]
    },
    {
     "name": "stdout",
     "output_type": "stream",
     "text": [
      "[29/1000] train=153.3382  val=154.3230  S_train=32 S_val=32 lr=[0.01, 0.02]σ̄=0.0876  σmin=0.0876  σmax=0.0876\n"
     ]
    },
    {
     "name": "stderr",
     "output_type": "stream",
     "text": [
      "  3%|▎         | 30/1000 [00:28<15:22,  1.05it/s]"
     ]
    },
    {
     "name": "stdout",
     "output_type": "stream",
     "text": [
      "[30/1000] train=155.0631  val=151.4506  S_train=32 S_val=32 lr=[0.01, 0.02]σ̄=0.0893  σmin=0.0893  σmax=0.0893\n"
     ]
    },
    {
     "name": "stderr",
     "output_type": "stream",
     "text": [
      "  3%|▎         | 31/1000 [00:30<21:39,  1.34s/it]"
     ]
    },
    {
     "name": "stdout",
     "output_type": "stream",
     "text": [
      "[31/1000] train=150.5561  val=148.5810  S_train=64 S_val=32 lr=[0.01, 0.02]σ̄=0.0910  σmin=0.0910  σmax=0.0910\n"
     ]
    },
    {
     "name": "stderr",
     "output_type": "stream",
     "text": [
      "  3%|▎         | 32/1000 [00:34<34:55,  2.16s/it]"
     ]
    },
    {
     "name": "stdout",
     "output_type": "stream",
     "text": [
      "[32/1000] train=150.1239  val=145.7142  S_train=64 S_val=32 lr=[0.01, 0.02]σ̄=0.0928  σmin=0.0928  σmax=0.0928\n"
     ]
    },
    {
     "name": "stderr",
     "output_type": "stream",
     "text": [
      "  3%|▎         | 33/1000 [00:37<37:12,  2.31s/it]"
     ]
    },
    {
     "name": "stdout",
     "output_type": "stream",
     "text": [
      "[33/1000] train=145.4221  val=142.8508  S_train=64 S_val=32 lr=[0.01, 0.02]σ̄=0.0946  σmin=0.0946  σmax=0.0946\n"
     ]
    },
    {
     "name": "stderr",
     "output_type": "stream",
     "text": [
      "  3%|▎         | 34/1000 [00:40<41:10,  2.56s/it]"
     ]
    },
    {
     "name": "stdout",
     "output_type": "stream",
     "text": [
      "[34/1000] train=142.5775  val=139.9898  S_train=64 S_val=32 lr=[0.01, 0.02]σ̄=0.0964  σmin=0.0964  σmax=0.0964\n"
     ]
    },
    {
     "name": "stderr",
     "output_type": "stream",
     "text": [
      "  4%|▎         | 35/1000 [00:43<41:25,  2.58s/it]"
     ]
    },
    {
     "name": "stdout",
     "output_type": "stream",
     "text": [
      "[35/1000] train=137.7702  val=137.1308  S_train=64 S_val=32 lr=[0.01, 0.02]σ̄=0.0983  σmin=0.0982  σmax=0.0983\n"
     ]
    },
    {
     "name": "stderr",
     "output_type": "stream",
     "text": [
      "  4%|▎         | 36/1000 [00:45<38:58,  2.43s/it]"
     ]
    },
    {
     "name": "stdout",
     "output_type": "stream",
     "text": [
      "[36/1000] train=138.8699  val=134.2743  S_train=64 S_val=32 lr=[0.01, 0.02]σ̄=0.1001  σmin=0.1001  σmax=0.1002\n"
     ]
    },
    {
     "name": "stderr",
     "output_type": "stream",
     "text": [
      "  4%|▎         | 37/1000 [00:46<35:34,  2.22s/it]"
     ]
    },
    {
     "name": "stdout",
     "output_type": "stream",
     "text": [
      "[37/1000] train=134.1514  val=131.4198  S_train=64 S_val=32 lr=[0.01, 0.02]σ̄=0.1021  σmin=0.1020  σmax=0.1021\n"
     ]
    },
    {
     "name": "stderr",
     "output_type": "stream",
     "text": [
      "  4%|▍         | 38/1000 [00:48<34:11,  2.13s/it]"
     ]
    },
    {
     "name": "stdout",
     "output_type": "stream",
     "text": [
      "[38/1000] train=130.1900  val=128.5681  S_train=64 S_val=32 lr=[0.01, 0.02]σ̄=0.1040  σmin=0.1040  σmax=0.1040\n"
     ]
    },
    {
     "name": "stderr",
     "output_type": "stream",
     "text": [
      "  4%|▍         | 39/1000 [00:50<33:46,  2.11s/it]"
     ]
    },
    {
     "name": "stdout",
     "output_type": "stream",
     "text": [
      "[39/1000] train=128.7432  val=125.7194  S_train=64 S_val=32 lr=[0.01, 0.02]σ̄=0.1060  σmin=0.1060  σmax=0.1060\n"
     ]
    },
    {
     "name": "stderr",
     "output_type": "stream",
     "text": [
      "  4%|▍         | 40/1000 [00:52<33:37,  2.10s/it]"
     ]
    },
    {
     "name": "stdout",
     "output_type": "stream",
     "text": [
      "[40/1000] train=125.0324  val=122.8738  S_train=64 S_val=32 lr=[0.01, 0.02]σ̄=0.1081  σmin=0.1080  σmax=0.1081\n"
     ]
    },
    {
     "name": "stderr",
     "output_type": "stream",
     "text": [
      "  4%|▍         | 41/1000 [00:54<32:53,  2.06s/it]"
     ]
    },
    {
     "name": "stdout",
     "output_type": "stream",
     "text": [
      "[41/1000] train=123.4843  val=120.0316  S_train=64 S_val=32 lr=[0.01, 0.02]σ̄=0.1101  σmin=0.1101  σmax=0.1101\n"
     ]
    },
    {
     "name": "stderr",
     "output_type": "stream",
     "text": [
      "  4%|▍         | 42/1000 [00:56<32:09,  2.01s/it]"
     ]
    },
    {
     "name": "stdout",
     "output_type": "stream",
     "text": [
      "[42/1000] train=119.2535  val=117.1927  S_train=64 S_val=32 lr=[0.01, 0.02]σ̄=0.1122  σmin=0.1122  σmax=0.1122\n"
     ]
    },
    {
     "name": "stderr",
     "output_type": "stream",
     "text": [
      "  4%|▍         | 43/1000 [00:58<30:50,  1.93s/it]"
     ]
    },
    {
     "name": "stdout",
     "output_type": "stream",
     "text": [
      "[43/1000] train=116.8008  val=114.3569  S_train=64 S_val=32 lr=[0.01, 0.02]σ̄=0.1144  σmin=0.1143  σmax=0.1144\n"
     ]
    },
    {
     "name": "stderr",
     "output_type": "stream",
     "text": [
      "  4%|▍         | 44/1000 [01:00<29:01,  1.82s/it]"
     ]
    },
    {
     "name": "stdout",
     "output_type": "stream",
     "text": [
      "[44/1000] train=113.0449  val=111.5240  S_train=64 S_val=32 lr=[0.01, 0.02]σ̄=0.1165  σmin=0.1165  σmax=0.1166\n"
     ]
    },
    {
     "name": "stderr",
     "output_type": "stream",
     "text": [
      "  4%|▍         | 45/1000 [01:02<29:50,  1.88s/it]"
     ]
    },
    {
     "name": "stdout",
     "output_type": "stream",
     "text": [
      "[45/1000] train=110.9326  val=108.6936  S_train=64 S_val=32 lr=[0.01, 0.02]σ̄=0.1188  σmin=0.1187  σmax=0.1188\n"
     ]
    },
    {
     "name": "stderr",
     "output_type": "stream",
     "text": [
      "  5%|▍         | 46/1000 [01:03<29:27,  1.85s/it]"
     ]
    },
    {
     "name": "stdout",
     "output_type": "stream",
     "text": [
      "[46/1000] train=109.4629  val=105.8661  S_train=64 S_val=32 lr=[0.01, 0.02]σ̄=0.1210  σmin=0.1209  σmax=0.1210\n"
     ]
    },
    {
     "name": "stderr",
     "output_type": "stream",
     "text": [
      "  5%|▍         | 47/1000 [01:05<30:01,  1.89s/it]"
     ]
    },
    {
     "name": "stdout",
     "output_type": "stream",
     "text": [
      "[47/1000] train=104.8745  val=103.0425  S_train=64 S_val=32 lr=[0.01, 0.02]σ̄=0.1233  σmin=0.1232  σmax=0.1233\n"
     ]
    },
    {
     "name": "stderr",
     "output_type": "stream",
     "text": [
      "  5%|▍         | 48/1000 [01:08<31:19,  1.97s/it]"
     ]
    },
    {
     "name": "stdout",
     "output_type": "stream",
     "text": [
      "[48/1000] train=103.2121  val=100.2229  S_train=64 S_val=32 lr=[0.01, 0.02]σ̄=0.1257  σmin=0.1256  σmax=0.1257\n"
     ]
    },
    {
     "name": "stderr",
     "output_type": "stream",
     "text": [
      "  5%|▍         | 49/1000 [01:10<32:02,  2.02s/it]"
     ]
    },
    {
     "name": "stdout",
     "output_type": "stream",
     "text": [
      "[49/1000] train=100.8111  val=97.4063  S_train=64 S_val=32 lr=[0.01, 0.02]σ̄=0.1281  σmin=0.1279  σmax=0.1281\n"
     ]
    },
    {
     "name": "stderr",
     "output_type": "stream",
     "text": [
      "  5%|▌         | 50/1000 [01:12<32:18,  2.04s/it]"
     ]
    },
    {
     "name": "stdout",
     "output_type": "stream",
     "text": [
      "[50/1000] train=96.9516  val=94.5931  S_train=64 S_val=32 lr=[0.01, 0.02]σ̄=0.1305  σmin=0.1303  σmax=0.1305\n"
     ]
    },
    {
     "name": "stderr",
     "output_type": "stream",
     "text": [
      "  5%|▌         | 51/1000 [01:14<32:39,  2.06s/it]"
     ]
    },
    {
     "name": "stdout",
     "output_type": "stream",
     "text": [
      "[51/1000] train=95.0080  val=91.7831  S_train=64 S_val=32 lr=[0.01, 0.02]σ̄=0.1329  σmin=0.1328  σmax=0.1330\n"
     ]
    },
    {
     "name": "stderr",
     "output_type": "stream",
     "text": [
      "  5%|▌         | 52/1000 [01:16<32:32,  2.06s/it]"
     ]
    },
    {
     "name": "stdout",
     "output_type": "stream",
     "text": [
      "[52/1000] train=90.7220  val=88.9766  S_train=64 S_val=32 lr=[0.01, 0.02]σ̄=0.1355  σmin=0.1353  σmax=0.1355\n"
     ]
    },
    {
     "name": "stderr",
     "output_type": "stream",
     "text": [
      "  5%|▌         | 53/1000 [01:18<31:34,  2.00s/it]"
     ]
    },
    {
     "name": "stdout",
     "output_type": "stream",
     "text": [
      "[53/1000] train=89.3907  val=86.1736  S_train=64 S_val=32 lr=[0.01, 0.02]σ̄=0.1380  σmin=0.1378  σmax=0.1380\n"
     ]
    },
    {
     "name": "stderr",
     "output_type": "stream",
     "text": [
      "  5%|▌         | 54/1000 [01:20<32:48,  2.08s/it]"
     ]
    },
    {
     "name": "stdout",
     "output_type": "stream",
     "text": [
      "[54/1000] train=86.0153  val=83.3743  S_train=64 S_val=32 lr=[0.01, 0.02]σ̄=0.1406  σmin=0.1404  σmax=0.1406\n"
     ]
    },
    {
     "name": "stderr",
     "output_type": "stream",
     "text": [
      "  6%|▌         | 55/1000 [01:22<32:46,  2.08s/it]"
     ]
    },
    {
     "name": "stdout",
     "output_type": "stream",
     "text": [
      "[55/1000] train=82.8937  val=80.5787  S_train=64 S_val=32 lr=[0.01, 0.02]σ̄=0.1433  σmin=0.1431  σmax=0.1433\n"
     ]
    },
    {
     "name": "stderr",
     "output_type": "stream",
     "text": [
      "  6%|▌         | 56/1000 [01:24<32:44,  2.08s/it]"
     ]
    },
    {
     "name": "stdout",
     "output_type": "stream",
     "text": [
      "[56/1000] train=78.6449  val=77.7870  S_train=64 S_val=32 lr=[0.01, 0.02]σ̄=0.1460  σmin=0.1457  σmax=0.1460\n"
     ]
    },
    {
     "name": "stderr",
     "output_type": "stream",
     "text": [
      "  6%|▌         | 57/1000 [01:27<34:24,  2.19s/it]"
     ]
    },
    {
     "name": "stdout",
     "output_type": "stream",
     "text": [
      "[57/1000] train=75.1344  val=74.9991  S_train=64 S_val=32 lr=[0.01, 0.02]σ̄=0.1487  σmin=0.1485  σmax=0.1487\n"
     ]
    },
    {
     "name": "stderr",
     "output_type": "stream",
     "text": [
      "  6%|▌         | 58/1000 [01:29<33:04,  2.11s/it]"
     ]
    },
    {
     "name": "stdout",
     "output_type": "stream",
     "text": [
      "[58/1000] train=75.1372  val=72.2151  S_train=64 S_val=32 lr=[0.01, 0.02]σ̄=0.1515  σmin=0.1512  σmax=0.1515\n"
     ]
    },
    {
     "name": "stderr",
     "output_type": "stream",
     "text": [
      "  6%|▌         | 59/1000 [01:30<31:08,  1.99s/it]"
     ]
    },
    {
     "name": "stdout",
     "output_type": "stream",
     "text": [
      "[59/1000] train=70.8262  val=69.4350  S_train=64 S_val=32 lr=[0.01, 0.02]σ̄=0.1543  σmin=0.1540  σmax=0.1543\n"
     ]
    },
    {
     "name": "stderr",
     "output_type": "stream",
     "text": [
      "  6%|▌         | 60/1000 [01:33<32:34,  2.08s/it]"
     ]
    },
    {
     "name": "stdout",
     "output_type": "stream",
     "text": [
      "[60/1000] train=69.2414  val=66.6589  S_train=64 S_val=32 lr=[0.01, 0.02]σ̄=0.1572  σmin=0.1569  σmax=0.1572\n"
     ]
    },
    {
     "name": "stderr",
     "output_type": "stream",
     "text": [
      "  6%|▌         | 61/1000 [01:34<31:30,  2.01s/it]"
     ]
    },
    {
     "name": "stdout",
     "output_type": "stream",
     "text": [
      "[61/1000] train=63.3789  val=63.8870  S_train=64 S_val=32 lr=[0.01, 0.02]σ̄=0.1601  σmin=0.1598  σmax=0.1602\n"
     ]
    },
    {
     "name": "stderr",
     "output_type": "stream",
     "text": [
      "  6%|▌         | 62/1000 [01:37<31:33,  2.02s/it]"
     ]
    },
    {
     "name": "stdout",
     "output_type": "stream",
     "text": [
      "[62/1000] train=62.3022  val=61.1193  S_train=64 S_val=32 lr=[0.01, 0.02]σ̄=0.1631  σmin=0.1628  σmax=0.1631\n"
     ]
    },
    {
     "name": "stderr",
     "output_type": "stream",
     "text": [
      "  6%|▋         | 63/1000 [01:39<31:55,  2.04s/it]"
     ]
    },
    {
     "name": "stdout",
     "output_type": "stream",
     "text": [
      "[63/1000] train=59.7966  val=58.3563  S_train=64 S_val=32 lr=[0.01, 0.02]σ̄=0.1662  σmin=0.1658  σmax=0.1662\n"
     ]
    },
    {
     "name": "stderr",
     "output_type": "stream",
     "text": [
      "  6%|▋         | 64/1000 [01:40<30:00,  1.92s/it]"
     ]
    },
    {
     "name": "stdout",
     "output_type": "stream",
     "text": [
      "[64/1000] train=57.9283  val=55.5975  S_train=64 S_val=32 lr=[0.01, 0.02]σ̄=0.1692  σmin=0.1689  σmax=0.1693\n"
     ]
    },
    {
     "name": "stderr",
     "output_type": "stream",
     "text": [
      "  6%|▋         | 65/1000 [01:42<28:29,  1.83s/it]"
     ]
    },
    {
     "name": "stdout",
     "output_type": "stream",
     "text": [
      "[65/1000] train=55.6056  val=52.8424  S_train=64 S_val=32 lr=[0.01, 0.02]σ̄=0.1724  σmin=0.1720  σmax=0.1724\n"
     ]
    },
    {
     "name": "stderr",
     "output_type": "stream",
     "text": [
      "  7%|▋         | 66/1000 [01:44<27:42,  1.78s/it]"
     ]
    },
    {
     "name": "stdout",
     "output_type": "stream",
     "text": [
      "[66/1000] train=52.4983  val=50.0912  S_train=64 S_val=32 lr=[0.01, 0.02]σ̄=0.1756  σmin=0.1751  σmax=0.1756\n"
     ]
    },
    {
     "name": "stderr",
     "output_type": "stream",
     "text": [
      "  7%|▋         | 67/1000 [01:45<26:39,  1.71s/it]"
     ]
    },
    {
     "name": "stdout",
     "output_type": "stream",
     "text": [
      "[67/1000] train=49.8771  val=47.3451  S_train=64 S_val=32 lr=[0.01, 0.02]σ̄=0.1788  σmin=0.1783  σmax=0.1789\n"
     ]
    },
    {
     "name": "stderr",
     "output_type": "stream",
     "text": [
      "  7%|▋         | 68/1000 [01:47<25:43,  1.66s/it]"
     ]
    },
    {
     "name": "stdout",
     "output_type": "stream",
     "text": [
      "[68/1000] train=48.0891  val=44.6034  S_train=64 S_val=32 lr=[0.01, 0.02]σ̄=0.1821  σmin=0.1816  σmax=0.1822\n"
     ]
    },
    {
     "name": "stderr",
     "output_type": "stream",
     "text": [
      "  7%|▋         | 69/1000 [01:48<25:08,  1.62s/it]"
     ]
    },
    {
     "name": "stdout",
     "output_type": "stream",
     "text": [
      "[69/1000] train=42.9194  val=41.8662  S_train=64 S_val=32 lr=[0.01, 0.02]σ̄=0.1855  σmin=0.1849  σmax=0.1855\n"
     ]
    },
    {
     "name": "stderr",
     "output_type": "stream",
     "text": [
      "  7%|▋         | 70/1000 [01:50<25:26,  1.64s/it]"
     ]
    },
    {
     "name": "stdout",
     "output_type": "stream",
     "text": [
      "[70/1000] train=40.4408  val=39.1337  S_train=64 S_val=32 lr=[0.01, 0.02]σ̄=0.1889  σmin=0.1883  σmax=0.1889\n"
     ]
    },
    {
     "name": "stderr",
     "output_type": "stream",
     "text": [
      "  7%|▋         | 71/1000 [01:51<25:28,  1.65s/it]"
     ]
    },
    {
     "name": "stdout",
     "output_type": "stream",
     "text": [
      "[71/1000] train=37.5134  val=36.4059  S_train=64 S_val=32 lr=[0.01, 0.02]σ̄=0.1924  σmin=0.1917  σmax=0.1924\n"
     ]
    },
    {
     "name": "stderr",
     "output_type": "stream",
     "text": [
      "  7%|▋         | 72/1000 [01:53<25:09,  1.63s/it]"
     ]
    },
    {
     "name": "stdout",
     "output_type": "stream",
     "text": [
      "[72/1000] train=37.2774  val=33.6829  S_train=64 S_val=32 lr=[0.01, 0.02]σ̄=0.1959  σmin=0.1952  σmax=0.1959\n"
     ]
    },
    {
     "name": "stderr",
     "output_type": "stream",
     "text": [
      "  7%|▋         | 73/1000 [01:55<25:14,  1.63s/it]"
     ]
    },
    {
     "name": "stdout",
     "output_type": "stream",
     "text": [
      "[73/1000] train=32.8633  val=30.9655  S_train=64 S_val=32 lr=[0.01, 0.02]σ̄=0.1995  σmin=0.1987  σmax=0.1995\n"
     ]
    },
    {
     "name": "stderr",
     "output_type": "stream",
     "text": [
      "  7%|▋         | 74/1000 [01:57<29:17,  1.90s/it]"
     ]
    },
    {
     "name": "stdout",
     "output_type": "stream",
     "text": [
      "[74/1000] train=30.7912  val=28.2544  S_train=64 S_val=32 lr=[0.01, 0.02]σ̄=0.2031  σmin=0.2023  σmax=0.2032\n"
     ]
    },
    {
     "name": "stderr",
     "output_type": "stream",
     "text": [
      "  8%|▊         | 75/1000 [02:01<35:54,  2.33s/it]"
     ]
    },
    {
     "name": "stdout",
     "output_type": "stream",
     "text": [
      "[75/1000] train=28.1917  val=25.5472  S_train=64 S_val=32 lr=[0.01, 0.02]σ̄=0.2068  σmin=0.2059  σmax=0.2069\n"
     ]
    },
    {
     "name": "stderr",
     "output_type": "stream",
     "text": [
      "  8%|▊         | 76/1000 [02:03<35:33,  2.31s/it]"
     ]
    },
    {
     "name": "stdout",
     "output_type": "stream",
     "text": [
      "[76/1000] train=23.2230  val=22.8456  S_train=64 S_val=32 lr=[0.01, 0.02]σ̄=0.2106  σmin=0.2096  σmax=0.2107\n"
     ]
    },
    {
     "name": "stderr",
     "output_type": "stream",
     "text": [
      "  8%|▊         | 77/1000 [02:05<35:06,  2.28s/it]"
     ]
    },
    {
     "name": "stdout",
     "output_type": "stream",
     "text": [
      "[77/1000] train=24.0447  val=20.1486  S_train=64 S_val=32 lr=[0.01, 0.02]σ̄=0.2144  σmin=0.2134  σmax=0.2145\n"
     ]
    },
    {
     "name": "stderr",
     "output_type": "stream",
     "text": [
      "  8%|▊         | 78/1000 [02:07<32:54,  2.14s/it]"
     ]
    },
    {
     "name": "stdout",
     "output_type": "stream",
     "text": [
      "[78/1000] train=20.6863  val=17.4558  S_train=64 S_val=32 lr=[0.01, 0.02]σ̄=0.2183  σmin=0.2172  σmax=0.2184\n"
     ]
    },
    {
     "name": "stderr",
     "output_type": "stream",
     "text": [
      "  8%|▊         | 79/1000 [02:09<31:24,  2.05s/it]"
     ]
    },
    {
     "name": "stdout",
     "output_type": "stream",
     "text": [
      "[79/1000] train=15.7996  val=14.7667  S_train=64 S_val=32 lr=[0.01, 0.02]σ̄=0.2223  σmin=0.2211  σmax=0.2224\n"
     ]
    },
    {
     "name": "stderr",
     "output_type": "stream",
     "text": [
      "  8%|▊         | 80/1000 [02:10<30:09,  1.97s/it]"
     ]
    },
    {
     "name": "stdout",
     "output_type": "stream",
     "text": [
      "[80/1000] train=14.4907  val=12.0834  S_train=64 S_val=32 lr=[0.01, 0.02]σ̄=0.2263  σmin=0.2250  σmax=0.2264\n"
     ]
    },
    {
     "name": "stderr",
     "output_type": "stream",
     "text": [
      "  8%|▊         | 81/1000 [02:12<29:43,  1.94s/it]"
     ]
    },
    {
     "name": "stdout",
     "output_type": "stream",
     "text": [
      "[81/1000] train=10.3827  val=9.4077  S_train=64 S_val=32 lr=[0.01, 0.02]σ̄=0.2304  σmin=0.2290  σmax=0.2305\n"
     ]
    },
    {
     "name": "stderr",
     "output_type": "stream",
     "text": [
      "  8%|▊         | 82/1000 [02:14<29:52,  1.95s/it]"
     ]
    },
    {
     "name": "stdout",
     "output_type": "stream",
     "text": [
      "[82/1000] train=7.7804  val=6.7386  S_train=64 S_val=32 lr=[0.01, 0.02]σ̄=0.2345  σmin=0.2331  σmax=0.2346\n"
     ]
    },
    {
     "name": "stderr",
     "output_type": "stream",
     "text": [
      "  8%|▊         | 83/1000 [02:16<29:33,  1.93s/it]"
     ]
    },
    {
     "name": "stdout",
     "output_type": "stream",
     "text": [
      "[83/1000] train=6.8909  val=4.0754  S_train=64 S_val=32 lr=[0.01, 0.02]σ̄=0.2387  σmin=0.2372  σmax=0.2388\n"
     ]
    },
    {
     "name": "stderr",
     "output_type": "stream",
     "text": [
      "  8%|▊         | 84/1000 [02:18<28:59,  1.90s/it]"
     ]
    },
    {
     "name": "stdout",
     "output_type": "stream",
     "text": [
      "[84/1000] train=2.9041  val=1.4167  S_train=64 S_val=32 lr=[0.01, 0.02]σ̄=0.2430  σmin=0.2414  σmax=0.2431\n"
     ]
    },
    {
     "name": "stderr",
     "output_type": "stream",
     "text": [
      "  8%|▊         | 85/1000 [02:20<28:50,  1.89s/it]"
     ]
    },
    {
     "name": "stdout",
     "output_type": "stream",
     "text": [
      "[85/1000] train=1.2414  val=-1.2377  S_train=64 S_val=32 lr=[0.01, 0.02]σ̄=0.2474  σmin=0.2456  σmax=0.2475\n"
     ]
    },
    {
     "name": "stderr",
     "output_type": "stream",
     "text": [
      "  9%|▊         | 86/1000 [02:22<28:18,  1.86s/it]"
     ]
    },
    {
     "name": "stdout",
     "output_type": "stream",
     "text": [
      "[86/1000] train=-3.4266  val=-3.8867  S_train=64 S_val=32 lr=[0.01, 0.02]σ̄=0.2518  σmin=0.2499  σmax=0.2519\n"
     ]
    },
    {
     "name": "stderr",
     "output_type": "stream",
     "text": [
      "  9%|▊         | 87/1000 [02:24<28:10,  1.85s/it]"
     ]
    },
    {
     "name": "stdout",
     "output_type": "stream",
     "text": [
      "[87/1000] train=-5.4438  val=-6.5289  S_train=64 S_val=32 lr=[0.01, 0.02]σ̄=0.2563  σmin=0.2543  σmax=0.2564\n"
     ]
    },
    {
     "name": "stderr",
     "output_type": "stream",
     "text": [
      "  9%|▉         | 88/1000 [02:25<27:50,  1.83s/it]"
     ]
    },
    {
     "name": "stdout",
     "output_type": "stream",
     "text": [
      "[88/1000] train=-8.3007  val=-9.1638  S_train=64 S_val=32 lr=[0.01, 0.02]σ̄=0.2608  σmin=0.2587  σmax=0.2610\n"
     ]
    },
    {
     "name": "stderr",
     "output_type": "stream",
     "text": [
      "  9%|▉         | 89/1000 [02:27<29:05,  1.92s/it]"
     ]
    },
    {
     "name": "stdout",
     "output_type": "stream",
     "text": [
      "[89/1000] train=-8.7294  val=-11.7928  S_train=64 S_val=32 lr=[0.01, 0.02]σ̄=0.2655  σmin=0.2632  σmax=0.2656\n"
     ]
    },
    {
     "name": "stderr",
     "output_type": "stream",
     "text": [
      "  9%|▉         | 90/1000 [02:29<28:29,  1.88s/it]"
     ]
    },
    {
     "name": "stdout",
     "output_type": "stream",
     "text": [
      "[90/1000] train=-14.0138  val=-14.4158  S_train=64 S_val=32 lr=[0.01, 0.02]σ̄=0.2702  σmin=0.2678  σmax=0.2703\n"
     ]
    },
    {
     "name": "stderr",
     "output_type": "stream",
     "text": [
      "  9%|▉         | 91/1000 [02:31<28:00,  1.85s/it]"
     ]
    },
    {
     "name": "stdout",
     "output_type": "stream",
     "text": [
      "[91/1000] train=-15.0826  val=-17.0339  S_train=64 S_val=32 lr=[0.01, 0.02]σ̄=0.2749  σmin=0.2724  σmax=0.2751\n"
     ]
    },
    {
     "name": "stderr",
     "output_type": "stream",
     "text": [
      "  9%|▉         | 92/1000 [02:33<27:44,  1.83s/it]"
     ]
    },
    {
     "name": "stdout",
     "output_type": "stream",
     "text": [
      "[92/1000] train=-17.1765  val=-19.6465  S_train=64 S_val=32 lr=[0.01, 0.02]σ̄=0.2798  σmin=0.2771  σmax=0.2800\n"
     ]
    },
    {
     "name": "stderr",
     "output_type": "stream",
     "text": [
      "  9%|▉         | 93/1000 [02:35<27:31,  1.82s/it]"
     ]
    },
    {
     "name": "stdout",
     "output_type": "stream",
     "text": [
      "[93/1000] train=-20.6012  val=-22.2523  S_train=64 S_val=32 lr=[0.01, 0.02]σ̄=0.2847  σmin=0.2819  σmax=0.2849\n"
     ]
    },
    {
     "name": "stderr",
     "output_type": "stream",
     "text": [
      "  9%|▉         | 94/1000 [02:36<27:43,  1.84s/it]"
     ]
    },
    {
     "name": "stdout",
     "output_type": "stream",
     "text": [
      "[94/1000] train=-21.2638  val=-24.8524  S_train=64 S_val=32 lr=[0.01, 0.02]σ̄=0.2897  σmin=0.2867  σmax=0.2899\n"
     ]
    },
    {
     "name": "stderr",
     "output_type": "stream",
     "text": [
      " 10%|▉         | 95/1000 [02:38<27:26,  1.82s/it]"
     ]
    },
    {
     "name": "stdout",
     "output_type": "stream",
     "text": [
      "[95/1000] train=-26.5780  val=-27.4459  S_train=64 S_val=32 lr=[0.01, 0.02]σ̄=0.2947  σmin=0.2915  σmax=0.2950\n"
     ]
    },
    {
     "name": "stderr",
     "output_type": "stream",
     "text": [
      " 10%|▉         | 96/1000 [02:40<27:16,  1.81s/it]"
     ]
    },
    {
     "name": "stdout",
     "output_type": "stream",
     "text": [
      "[96/1000] train=-27.3208  val=-30.0338  S_train=64 S_val=32 lr=[0.01, 0.02]σ̄=0.2999  σmin=0.2965  σmax=0.3001\n"
     ]
    },
    {
     "name": "stderr",
     "output_type": "stream",
     "text": [
      " 10%|▉         | 97/1000 [02:42<27:16,  1.81s/it]"
     ]
    },
    {
     "name": "stdout",
     "output_type": "stream",
     "text": [
      "[97/1000] train=-29.6660  val=-32.6146  S_train=64 S_val=32 lr=[0.01, 0.02]σ̄=0.3051  σmin=0.3015  σmax=0.3054\n"
     ]
    },
    {
     "name": "stderr",
     "output_type": "stream",
     "text": [
      " 10%|▉         | 98/1000 [02:44<27:08,  1.81s/it]"
     ]
    },
    {
     "name": "stdout",
     "output_type": "stream",
     "text": [
      "[98/1000] train=-33.4400  val=-35.1880  S_train=64 S_val=32 lr=[0.01, 0.02]σ̄=0.3104  σmin=0.3066  σmax=0.3107\n"
     ]
    },
    {
     "name": "stderr",
     "output_type": "stream",
     "text": [
      " 10%|▉         | 99/1000 [02:45<26:58,  1.80s/it]"
     ]
    },
    {
     "name": "stdout",
     "output_type": "stream",
     "text": [
      "[99/1000] train=-34.5482  val=-37.7543  S_train=64 S_val=32 lr=[0.01, 0.02]σ̄=0.3158  σmin=0.3118  σmax=0.3161\n"
     ]
    },
    {
     "name": "stderr",
     "output_type": "stream",
     "text": [
      " 10%|█         | 100/1000 [02:47<26:47,  1.79s/it]"
     ]
    },
    {
     "name": "stdout",
     "output_type": "stream",
     "text": [
      "[100/1000] train=-38.2591  val=-40.3127  S_train=64 S_val=32 lr=[0.01, 0.02]σ̄=0.3212  σmin=0.3170  σmax=0.3215\n"
     ]
    },
    {
     "name": "stderr",
     "output_type": "stream",
     "text": [
      " 10%|█         | 101/1000 [02:49<26:38,  1.78s/it]"
     ]
    },
    {
     "name": "stdout",
     "output_type": "stream",
     "text": [
      "[101/1000] train=-41.1174  val=-42.8631  S_train=64 S_val=32 lr=[0.01, 0.02]σ̄=0.3268  σmin=0.3223  σmax=0.3271\n"
     ]
    },
    {
     "name": "stderr",
     "output_type": "stream",
     "text": [
      " 10%|█         | 102/1000 [02:51<28:21,  1.89s/it]"
     ]
    },
    {
     "name": "stdout",
     "output_type": "stream",
     "text": [
      "[102/1000] train=-42.7568  val=-45.4048  S_train=64 S_val=32 lr=[0.01, 0.02]σ̄=0.3324  σmin=0.3277  σmax=0.3327\n"
     ]
    },
    {
     "name": "stderr",
     "output_type": "stream",
     "text": [
      " 10%|█         | 103/1000 [02:53<28:09,  1.88s/it]"
     ]
    },
    {
     "name": "stdout",
     "output_type": "stream",
     "text": [
      "[103/1000] train=-46.0415  val=-47.9396  S_train=64 S_val=32 lr=[0.01, 0.02]σ̄=0.3381  σmin=0.3331  σmax=0.3384\n"
     ]
    },
    {
     "name": "stderr",
     "output_type": "stream",
     "text": [
      " 10%|█         | 104/1000 [02:55<27:54,  1.87s/it]"
     ]
    },
    {
     "name": "stdout",
     "output_type": "stream",
     "text": [
      "[104/1000] train=-47.4702  val=-50.4688  S_train=64 S_val=32 lr=[0.01, 0.02]σ̄=0.3439  σmin=0.3386  σmax=0.3442\n"
     ]
    },
    {
     "name": "stderr",
     "output_type": "stream",
     "text": [
      " 10%|█         | 105/1000 [02:57<27:23,  1.84s/it]"
     ]
    },
    {
     "name": "stdout",
     "output_type": "stream",
     "text": [
      "[105/1000] train=-52.0416  val=-52.9912  S_train=64 S_val=32 lr=[0.01, 0.02]σ̄=0.3497  σmin=0.3441  σmax=0.3501\n"
     ]
    },
    {
     "name": "stderr",
     "output_type": "stream",
     "text": [
      " 11%|█         | 106/1000 [02:58<26:56,  1.81s/it]"
     ]
    },
    {
     "name": "stdout",
     "output_type": "stream",
     "text": [
      "[106/1000] train=-54.5788  val=-55.5060  S_train=64 S_val=32 lr=[0.01, 0.02]σ̄=0.3557  σmin=0.3498  σmax=0.3561\n"
     ]
    },
    {
     "name": "stderr",
     "output_type": "stream",
     "text": [
      " 11%|█         | 107/1000 [03:00<26:37,  1.79s/it]"
     ]
    },
    {
     "name": "stdout",
     "output_type": "stream",
     "text": [
      "[107/1000] train=-55.8158  val=-58.0126  S_train=64 S_val=32 lr=[0.01, 0.02]σ̄=0.3617  σmin=0.3555  σmax=0.3621\n"
     ]
    },
    {
     "name": "stderr",
     "output_type": "stream",
     "text": [
      " 11%|█         | 108/1000 [03:02<26:21,  1.77s/it]"
     ]
    },
    {
     "name": "stdout",
     "output_type": "stream",
     "text": [
      "[108/1000] train=-59.6638  val=-60.5114  S_train=64 S_val=32 lr=[0.01, 0.02]σ̄=0.3678  σmin=0.3612  σmax=0.3683\n"
     ]
    },
    {
     "name": "stderr",
     "output_type": "stream",
     "text": [
      " 11%|█         | 109/1000 [03:04<26:11,  1.76s/it]"
     ]
    },
    {
     "name": "stdout",
     "output_type": "stream",
     "text": [
      "[109/1000] train=-61.2055  val=-63.0032  S_train=64 S_val=32 lr=[0.01, 0.02]σ̄=0.3740  σmin=0.3671  σmax=0.3745\n"
     ]
    },
    {
     "name": "stderr",
     "output_type": "stream",
     "text": [
      " 11%|█         | 110/1000 [03:05<26:11,  1.77s/it]"
     ]
    },
    {
     "name": "stdout",
     "output_type": "stream",
     "text": [
      "[110/1000] train=-62.8838  val=-65.4860  S_train=64 S_val=32 lr=[0.01, 0.02]σ̄=0.3803  σmin=0.3729  σmax=0.3808\n"
     ]
    },
    {
     "name": "stderr",
     "output_type": "stream",
     "text": [
      " 11%|█         | 111/1000 [03:07<26:03,  1.76s/it]"
     ]
    },
    {
     "name": "stdout",
     "output_type": "stream",
     "text": [
      "[111/1000] train=-64.9166  val=-67.9601  S_train=64 S_val=32 lr=[0.01, 0.02]σ̄=0.3866  σmin=0.3789  σmax=0.3872\n"
     ]
    },
    {
     "name": "stderr",
     "output_type": "stream",
     "text": [
      " 11%|█         | 112/1000 [03:09<26:25,  1.79s/it]"
     ]
    },
    {
     "name": "stdout",
     "output_type": "stream",
     "text": [
      "[112/1000] train=-68.0886  val=-70.4238  S_train=64 S_val=32 lr=[0.01, 0.02]σ̄=0.3931  σmin=0.3849  σmax=0.3937\n"
     ]
    },
    {
     "name": "stderr",
     "output_type": "stream",
     "text": [
      " 11%|█▏        | 113/1000 [03:11<26:25,  1.79s/it]"
     ]
    },
    {
     "name": "stdout",
     "output_type": "stream",
     "text": [
      "[113/1000] train=-70.5069  val=-72.8804  S_train=64 S_val=32 lr=[0.01, 0.02]σ̄=0.3996  σmin=0.3910  σmax=0.4003\n"
     ]
    },
    {
     "name": "stderr",
     "output_type": "stream",
     "text": [
      " 11%|█▏        | 114/1000 [03:13<27:43,  1.88s/it]"
     ]
    },
    {
     "name": "stdout",
     "output_type": "stream",
     "text": [
      "[114/1000] train=-72.7047  val=-75.3283  S_train=64 S_val=32 lr=[0.01, 0.02]σ̄=0.4063  σmin=0.3972  σmax=0.4069\n"
     ]
    },
    {
     "name": "stderr",
     "output_type": "stream",
     "text": [
      " 12%|█▏        | 115/1000 [03:15<27:55,  1.89s/it]"
     ]
    },
    {
     "name": "stdout",
     "output_type": "stream",
     "text": [
      "[115/1000] train=-76.7025  val=-77.7682  S_train=64 S_val=32 lr=[0.01, 0.02]σ̄=0.4130  σmin=0.4035  σmax=0.4137\n"
     ]
    },
    {
     "name": "stderr",
     "output_type": "stream",
     "text": [
      " 12%|█▏        | 116/1000 [03:16<27:18,  1.85s/it]"
     ]
    },
    {
     "name": "stdout",
     "output_type": "stream",
     "text": [
      "[116/1000] train=-77.5439  val=-80.1983  S_train=64 S_val=32 lr=[0.01, 0.02]σ̄=0.4198  σmin=0.4099  σmax=0.4205\n"
     ]
    },
    {
     "name": "stderr",
     "output_type": "stream",
     "text": [
      " 12%|█▏        | 117/1000 [03:18<26:52,  1.83s/it]"
     ]
    },
    {
     "name": "stdout",
     "output_type": "stream",
     "text": [
      "[117/1000] train=-80.7712  val=-82.6206  S_train=64 S_val=32 lr=[0.01, 0.02]σ̄=0.4267  σmin=0.4163  σmax=0.4275\n"
     ]
    },
    {
     "name": "stderr",
     "output_type": "stream",
     "text": [
      " 12%|█▏        | 118/1000 [03:20<26:37,  1.81s/it]"
     ]
    },
    {
     "name": "stdout",
     "output_type": "stream",
     "text": [
      "[118/1000] train=-82.8147  val=-85.0383  S_train=64 S_val=32 lr=[0.01, 0.02]σ̄=0.4337  σmin=0.4228  σmax=0.4345\n"
     ]
    },
    {
     "name": "stderr",
     "output_type": "stream",
     "text": [
      " 12%|█▏        | 119/1000 [03:22<26:24,  1.80s/it]"
     ]
    },
    {
     "name": "stdout",
     "output_type": "stream",
     "text": [
      "[119/1000] train=-86.0230  val=-87.4482  S_train=64 S_val=32 lr=[0.01, 0.02]σ̄=0.4408  σmin=0.4294  σmax=0.4416\n"
     ]
    },
    {
     "name": "stderr",
     "output_type": "stream",
     "text": [
      " 12%|█▏        | 120/1000 [03:24<26:19,  1.79s/it]"
     ]
    },
    {
     "name": "stdout",
     "output_type": "stream",
     "text": [
      "[120/1000] train=-88.6669  val=-89.8525  S_train=64 S_val=32 lr=[0.01, 0.02]σ̄=0.4480  σmin=0.4360  σmax=0.4488\n"
     ]
    },
    {
     "name": "stderr",
     "output_type": "stream",
     "text": [
      " 12%|█▏        | 121/1000 [03:25<26:37,  1.82s/it]"
     ]
    },
    {
     "name": "stdout",
     "output_type": "stream",
     "text": [
      "[121/1000] train=-91.4978  val=-92.2509  S_train=64 S_val=32 lr=[0.01, 0.02]σ̄=0.4552  σmin=0.4428  σmax=0.4561\n"
     ]
    },
    {
     "name": "stderr",
     "output_type": "stream",
     "text": [
      " 12%|█▏        | 122/1000 [03:27<26:17,  1.80s/it]"
     ]
    },
    {
     "name": "stdout",
     "output_type": "stream",
     "text": [
      "[122/1000] train=-93.3763  val=-94.6411  S_train=64 S_val=32 lr=[0.01, 0.02]σ̄=0.4626  σmin=0.4496  σmax=0.4635\n"
     ]
    },
    {
     "name": "stderr",
     "output_type": "stream",
     "text": [
      " 12%|█▏        | 123/1000 [03:29<26:04,  1.78s/it]"
     ]
    },
    {
     "name": "stdout",
     "output_type": "stream",
     "text": [
      "[123/1000] train=-94.5688  val=-97.0195  S_train=64 S_val=32 lr=[0.01, 0.02]σ̄=0.4700  σmin=0.4564  σmax=0.4710\n"
     ]
    },
    {
     "name": "stderr",
     "output_type": "stream",
     "text": [
      " 12%|█▏        | 124/1000 [03:31<25:55,  1.78s/it]"
     ]
    },
    {
     "name": "stdout",
     "output_type": "stream",
     "text": [
      "[124/1000] train=-98.6710  val=-99.3896  S_train=64 S_val=32 lr=[0.01, 0.02]σ̄=0.4776  σmin=0.4633  σmax=0.4786\n"
     ]
    },
    {
     "name": "stderr",
     "output_type": "stream",
     "text": [
      " 12%|█▎        | 125/1000 [03:32<25:49,  1.77s/it]"
     ]
    },
    {
     "name": "stdout",
     "output_type": "stream",
     "text": [
      "[125/1000] train=-100.2918  val=-101.7502  S_train=64 S_val=32 lr=[0.01, 0.02]σ̄=0.4852  σmin=0.4702  σmax=0.4863\n"
     ]
    },
    {
     "name": "stderr",
     "output_type": "stream",
     "text": [
      " 13%|█▎        | 126/1000 [03:35<27:15,  1.87s/it]"
     ]
    },
    {
     "name": "stdout",
     "output_type": "stream",
     "text": [
      "[126/1000] train=-101.8971  val=-104.0988  S_train=64 S_val=32 lr=[0.01, 0.02]σ̄=0.4929  σmin=0.4772  σmax=0.4941\n"
     ]
    },
    {
     "name": "stderr",
     "output_type": "stream",
     "text": [
      " 13%|█▎        | 127/1000 [03:36<26:47,  1.84s/it]"
     ]
    },
    {
     "name": "stdout",
     "output_type": "stream",
     "text": [
      "[127/1000] train=-105.4843  val=-106.4362  S_train=64 S_val=32 lr=[0.01, 0.02]σ̄=0.5008  σmin=0.4843  σmax=0.5020\n"
     ]
    },
    {
     "name": "stderr",
     "output_type": "stream",
     "text": [
      " 13%|█▎        | 128/1000 [03:38<26:21,  1.81s/it]"
     ]
    },
    {
     "name": "stdout",
     "output_type": "stream",
     "text": [
      "[128/1000] train=-106.9144  val=-108.7652  S_train=64 S_val=32 lr=[0.01, 0.02]σ̄=0.5087  σmin=0.4913  σmax=0.5100\n"
     ]
    },
    {
     "name": "stderr",
     "output_type": "stream",
     "text": [
      " 13%|█▎        | 129/1000 [03:40<26:06,  1.80s/it]"
     ]
    },
    {
     "name": "stdout",
     "output_type": "stream",
     "text": [
      "[129/1000] train=-108.6348  val=-111.0865  S_train=64 S_val=32 lr=[0.01, 0.02]σ̄=0.5167  σmin=0.4984  σmax=0.5181\n"
     ]
    },
    {
     "name": "stderr",
     "output_type": "stream",
     "text": [
      " 13%|█▎        | 130/1000 [03:42<26:31,  1.83s/it]"
     ]
    },
    {
     "name": "stdout",
     "output_type": "stream",
     "text": [
      "[130/1000] train=-111.6761  val=-113.3974  S_train=64 S_val=32 lr=[0.01, 0.02]σ̄=0.5248  σmin=0.5056  σmax=0.5263\n"
     ]
    },
    {
     "name": "stderr",
     "output_type": "stream",
     "text": [
      " 13%|█▎        | 131/1000 [03:43<26:13,  1.81s/it]"
     ]
    },
    {
     "name": "stdout",
     "output_type": "stream",
     "text": [
      "[131/1000] train=-116.2068  val=-115.6966  S_train=64 S_val=32 lr=[0.01, 0.02]σ̄=0.5330  σmin=0.5129  σmax=0.5346\n"
     ]
    },
    {
     "name": "stderr",
     "output_type": "stream",
     "text": [
      " 13%|█▎        | 132/1000 [03:45<26:00,  1.80s/it]"
     ]
    },
    {
     "name": "stdout",
     "output_type": "stream",
     "text": [
      "[132/1000] train=-115.6034  val=-117.9849  S_train=64 S_val=32 lr=[0.01, 0.02]σ̄=0.5413  σmin=0.5202  σmax=0.5429\n"
     ]
    },
    {
     "name": "stderr",
     "output_type": "stream",
     "text": [
      " 13%|█▎        | 133/1000 [03:47<25:41,  1.78s/it]"
     ]
    },
    {
     "name": "stdout",
     "output_type": "stream",
     "text": [
      "[133/1000] train=-120.7283  val=-120.2589  S_train=64 S_val=32 lr=[0.01, 0.02]σ̄=0.5497  σmin=0.5274  σmax=0.5514\n"
     ]
    },
    {
     "name": "stderr",
     "output_type": "stream",
     "text": [
      " 13%|█▎        | 134/1000 [03:49<25:30,  1.77s/it]"
     ]
    },
    {
     "name": "stdout",
     "output_type": "stream",
     "text": [
      "[134/1000] train=-120.1664  val=-122.5176  S_train=64 S_val=32 lr=[0.01, 0.02]σ̄=0.5582  σmin=0.5348  σmax=0.5600\n"
     ]
    },
    {
     "name": "stderr",
     "output_type": "stream",
     "text": [
      " 14%|█▎        | 135/1000 [03:50<25:23,  1.76s/it]"
     ]
    },
    {
     "name": "stdout",
     "output_type": "stream",
     "text": [
      "[135/1000] train=-120.9641  val=-124.7656  S_train=64 S_val=32 lr=[0.01, 0.02]σ̄=0.5668  σmin=0.5422  σmax=0.5687\n"
     ]
    },
    {
     "name": "stderr",
     "output_type": "stream",
     "text": [
      " 14%|█▎        | 136/1000 [03:52<25:55,  1.80s/it]"
     ]
    },
    {
     "name": "stdout",
     "output_type": "stream",
     "text": [
      "[136/1000] train=-124.2218  val=-126.9893  S_train=64 S_val=32 lr=[0.01, 0.02]σ̄=0.5755  σmin=0.5496  σmax=0.5775\n"
     ]
    },
    {
     "name": "stderr",
     "output_type": "stream",
     "text": [
      " 14%|█▎        | 137/1000 [03:54<26:00,  1.81s/it]"
     ]
    },
    {
     "name": "stdout",
     "output_type": "stream",
     "text": [
      "[137/1000] train=-126.4898  val=-129.1982  S_train=64 S_val=32 lr=[0.01, 0.02]σ̄=0.5843  σmin=0.5571  σmax=0.5864\n"
     ]
    },
    {
     "name": "stderr",
     "output_type": "stream",
     "text": [
      " 14%|█▍        | 138/1000 [03:56<27:19,  1.90s/it]"
     ]
    },
    {
     "name": "stdout",
     "output_type": "stream",
     "text": [
      "[138/1000] train=-131.2450  val=-131.3935  S_train=64 S_val=32 lr=[0.01, 0.02]σ̄=0.5932  σmin=0.5646  σmax=0.5954\n"
     ]
    },
    {
     "name": "stderr",
     "output_type": "stream",
     "text": [
      " 14%|█▍        | 139/1000 [03:58<27:08,  1.89s/it]"
     ]
    },
    {
     "name": "stdout",
     "output_type": "stream",
     "text": [
      "[139/1000] train=-131.2211  val=-133.5955  S_train=64 S_val=32 lr=[0.01, 0.02]σ̄=0.6022  σmin=0.5720  σmax=0.6045\n"
     ]
    },
    {
     "name": "stderr",
     "output_type": "stream",
     "text": [
      " 14%|█▍        | 140/1000 [04:00<26:34,  1.85s/it]"
     ]
    },
    {
     "name": "stdout",
     "output_type": "stream",
     "text": [
      "[140/1000] train=-135.3344  val=-135.7985  S_train=64 S_val=32 lr=[0.01, 0.02]σ̄=0.6112  σmin=0.5795  σmax=0.6137\n"
     ]
    },
    {
     "name": "stderr",
     "output_type": "stream",
     "text": [
      " 14%|█▍        | 141/1000 [04:02<26:03,  1.82s/it]"
     ]
    },
    {
     "name": "stdout",
     "output_type": "stream",
     "text": [
      "[141/1000] train=-136.3967  val=-138.0076  S_train=64 S_val=32 lr=[0.01, 0.02]σ̄=0.6204  σmin=0.5870  σmax=0.6230\n"
     ]
    },
    {
     "name": "stderr",
     "output_type": "stream",
     "text": [
      " 14%|█▍        | 142/1000 [04:03<25:45,  1.80s/it]"
     ]
    },
    {
     "name": "stdout",
     "output_type": "stream",
     "text": [
      "[142/1000] train=-138.3152  val=-140.2078  S_train=64 S_val=32 lr=[0.01, 0.02]σ̄=0.6297  σmin=0.5947  σmax=0.6324\n"
     ]
    },
    {
     "name": "stderr",
     "output_type": "stream",
     "text": [
      " 14%|█▍        | 143/1000 [04:05<25:34,  1.79s/it]"
     ]
    },
    {
     "name": "stdout",
     "output_type": "stream",
     "text": [
      "[143/1000] train=-139.4360  val=-142.3937  S_train=64 S_val=32 lr=[0.01, 0.02]σ̄=0.6391  σmin=0.6025  σmax=0.6419\n"
     ]
    },
    {
     "name": "stderr",
     "output_type": "stream",
     "text": [
      " 14%|█▍        | 144/1000 [04:07<25:20,  1.78s/it]"
     ]
    },
    {
     "name": "stdout",
     "output_type": "stream",
     "text": [
      "[144/1000] train=-144.2008  val=-144.5689  S_train=64 S_val=32 lr=[0.01, 0.02]σ̄=0.6485  σmin=0.6103  σmax=0.6515\n"
     ]
    },
    {
     "name": "stderr",
     "output_type": "stream",
     "text": [
      " 14%|█▍        | 145/1000 [04:09<25:17,  1.77s/it]"
     ]
    },
    {
     "name": "stdout",
     "output_type": "stream",
     "text": [
      "[145/1000] train=-147.0923  val=-146.7232  S_train=64 S_val=32 lr=[0.01, 0.02]σ̄=0.6581  σmin=0.6180  σmax=0.6612\n"
     ]
    },
    {
     "name": "stderr",
     "output_type": "stream",
     "text": [
      " 15%|█▍        | 146/1000 [04:11<25:23,  1.78s/it]"
     ]
    },
    {
     "name": "stdout",
     "output_type": "stream",
     "text": [
      "[146/1000] train=-146.7234  val=-148.8624  S_train=64 S_val=32 lr=[0.01, 0.02]σ̄=0.6678  σmin=0.6257  σmax=0.6711\n"
     ]
    },
    {
     "name": "stderr",
     "output_type": "stream",
     "text": [
      " 15%|█▍        | 147/1000 [04:12<25:14,  1.78s/it]"
     ]
    },
    {
     "name": "stdout",
     "output_type": "stream",
     "text": [
      "[147/1000] train=-148.5934  val=-150.9885  S_train=64 S_val=32 lr=[0.01, 0.02]σ̄=0.6776  σmin=0.6332  σmax=0.6810\n"
     ]
    },
    {
     "name": "stderr",
     "output_type": "stream",
     "text": [
      " 15%|█▍        | 148/1000 [04:14<26:03,  1.84s/it]"
     ]
    },
    {
     "name": "stdout",
     "output_type": "stream",
     "text": [
      "[148/1000] train=-151.7784  val=-153.1040  S_train=64 S_val=32 lr=[0.01, 0.02]σ̄=0.6874  σmin=0.6408  σmax=0.6911\n"
     ]
    },
    {
     "name": "stderr",
     "output_type": "stream",
     "text": [
      " 15%|█▍        | 149/1000 [04:16<25:51,  1.82s/it]"
     ]
    },
    {
     "name": "stdout",
     "output_type": "stream",
     "text": [
      "[149/1000] train=-153.8175  val=-155.2083  S_train=64 S_val=32 lr=[0.01, 0.02]σ̄=0.6974  σmin=0.6484  σmax=0.7012\n"
     ]
    },
    {
     "name": "stderr",
     "output_type": "stream",
     "text": [
      " 15%|█▌        | 150/1000 [04:18<25:30,  1.80s/it]"
     ]
    },
    {
     "name": "stdout",
     "output_type": "stream",
     "text": [
      "[150/1000] train=-155.0134  val=-157.3003  S_train=64 S_val=32 lr=[0.01, 0.02]σ̄=0.7075  σmin=0.6561  σmax=0.7115\n"
     ]
    },
    {
     "name": "stderr",
     "output_type": "stream",
     "text": [
      " 15%|█▌        | 151/1000 [04:20<26:49,  1.90s/it]"
     ]
    },
    {
     "name": "stdout",
     "output_type": "stream",
     "text": [
      "[151/1000] train=-157.1235  val=-159.3791  S_train=64 S_val=32 lr=[0.01, 0.02]σ̄=0.7176  σmin=0.6635  σmax=0.7219\n"
     ]
    },
    {
     "name": "stderr",
     "output_type": "stream",
     "text": [
      " 15%|█▌        | 152/1000 [04:22<26:09,  1.85s/it]"
     ]
    },
    {
     "name": "stdout",
     "output_type": "stream",
     "text": [
      "[152/1000] train=-159.5944  val=-161.4423  S_train=64 S_val=32 lr=[0.01, 0.02]σ̄=0.7279  σmin=0.6708  σmax=0.7324\n"
     ]
    },
    {
     "name": "stderr",
     "output_type": "stream",
     "text": [
      " 15%|█▌        | 153/1000 [04:24<26:13,  1.86s/it]"
     ]
    },
    {
     "name": "stdout",
     "output_type": "stream",
     "text": [
      "[153/1000] train=-164.0341  val=-163.4939  S_train=64 S_val=32 lr=[0.01, 0.02]σ̄=0.7382  σmin=0.6780  σmax=0.7430\n"
     ]
    },
    {
     "name": "stderr",
     "output_type": "stream",
     "text": [
      " 15%|█▌        | 154/1000 [04:25<25:47,  1.83s/it]"
     ]
    },
    {
     "name": "stdout",
     "output_type": "stream",
     "text": [
      "[154/1000] train=-166.0343  val=-165.5316  S_train=64 S_val=32 lr=[0.01, 0.02]σ̄=0.7487  σmin=0.6852  σmax=0.7537\n"
     ]
    },
    {
     "name": "stderr",
     "output_type": "stream",
     "text": [
      " 16%|█▌        | 155/1000 [04:27<25:33,  1.82s/it]"
     ]
    },
    {
     "name": "stdout",
     "output_type": "stream",
     "text": [
      "[155/1000] train=-164.7529  val=-167.5556  S_train=64 S_val=32 lr=[0.01, 0.02]σ̄=0.7592  σmin=0.6926  σmax=0.7645\n"
     ]
    },
    {
     "name": "stderr",
     "output_type": "stream",
     "text": [
      " 16%|█▌        | 156/1000 [04:29<25:15,  1.80s/it]"
     ]
    },
    {
     "name": "stdout",
     "output_type": "stream",
     "text": [
      "[156/1000] train=-168.7193  val=-169.5695  S_train=64 S_val=32 lr=[0.01, 0.02]σ̄=0.7699  σmin=0.7000  σmax=0.7754\n"
     ]
    },
    {
     "name": "stderr",
     "output_type": "stream",
     "text": [
      " 16%|█▌        | 157/1000 [04:31<25:30,  1.82s/it]"
     ]
    },
    {
     "name": "stdout",
     "output_type": "stream",
     "text": [
      "[157/1000] train=-170.1262  val=-171.5704  S_train=64 S_val=32 lr=[0.01, 0.02]σ̄=0.7806  σmin=0.7076  σmax=0.7865\n"
     ]
    },
    {
     "name": "stderr",
     "output_type": "stream",
     "text": [
      " 16%|█▌        | 158/1000 [04:32<25:04,  1.79s/it]"
     ]
    },
    {
     "name": "stdout",
     "output_type": "stream",
     "text": [
      "[158/1000] train=-171.3054  val=-173.5447  S_train=64 S_val=32 lr=[0.01, 0.02]σ̄=0.7915  σmin=0.7156  σmax=0.7976\n"
     ]
    },
    {
     "name": "stderr",
     "output_type": "stream",
     "text": [
      " 16%|█▌        | 159/1000 [04:34<24:51,  1.77s/it]"
     ]
    },
    {
     "name": "stdout",
     "output_type": "stream",
     "text": [
      "[159/1000] train=-173.8575  val=-175.5147  S_train=64 S_val=32 lr=[0.01, 0.02]σ̄=0.8024  σmin=0.7234  σmax=0.8088\n"
     ]
    },
    {
     "name": "stderr",
     "output_type": "stream",
     "text": [
      " 16%|█▌        | 160/1000 [04:36<24:48,  1.77s/it]"
     ]
    },
    {
     "name": "stdout",
     "output_type": "stream",
     "text": [
      "[160/1000] train=-176.3033  val=-177.4727  S_train=64 S_val=32 lr=[0.01, 0.02]σ̄=0.8134  σmin=0.7310  σmax=0.8202\n"
     ]
    },
    {
     "name": "stderr",
     "output_type": "stream",
     "text": [
      " 16%|█▌        | 161/1000 [04:38<25:23,  1.82s/it]"
     ]
    },
    {
     "name": "stdout",
     "output_type": "stream",
     "text": [
      "[161/1000] train=-175.7321  val=-179.4192  S_train=64 S_val=32 lr=[0.01, 0.02]σ̄=0.8245  σmin=0.7383  σmax=0.8316\n"
     ]
    },
    {
     "name": "stderr",
     "output_type": "stream",
     "text": [
      " 16%|█▌        | 162/1000 [04:40<25:19,  1.81s/it]"
     ]
    },
    {
     "name": "stdout",
     "output_type": "stream",
     "text": [
      "[162/1000] train=-179.0835  val=-181.3490  S_train=64 S_val=32 lr=[0.01, 0.02]σ̄=0.8356  σmin=0.7446  σmax=0.8432\n"
     ]
    },
    {
     "name": "stderr",
     "output_type": "stream",
     "text": [
      " 16%|█▋        | 163/1000 [04:42<26:51,  1.93s/it]"
     ]
    },
    {
     "name": "stdout",
     "output_type": "stream",
     "text": [
      "[163/1000] train=-179.7653  val=-183.2662  S_train=64 S_val=32 lr=[0.01, 0.02]σ̄=0.8469  σmin=0.7506  σmax=0.8549\n"
     ]
    },
    {
     "name": "stderr",
     "output_type": "stream",
     "text": [
      " 16%|█▋        | 164/1000 [04:44<26:19,  1.89s/it]"
     ]
    },
    {
     "name": "stdout",
     "output_type": "stream",
     "text": [
      "[164/1000] train=-185.3986  val=-185.1688  S_train=64 S_val=32 lr=[0.01, 0.02]σ̄=0.8583  σmin=0.7565  σmax=0.8667\n"
     ]
    },
    {
     "name": "stderr",
     "output_type": "stream",
     "text": [
      " 16%|█▋        | 165/1000 [04:45<25:52,  1.86s/it]"
     ]
    },
    {
     "name": "stdout",
     "output_type": "stream",
     "text": [
      "[165/1000] train=-185.7775  val=-187.0689  S_train=64 S_val=32 lr=[0.01, 0.02]σ̄=0.8697  σmin=0.7625  σmax=0.8786\n"
     ]
    },
    {
     "name": "stderr",
     "output_type": "stream",
     "text": [
      " 17%|█▋        | 166/1000 [04:47<25:51,  1.86s/it]"
     ]
    },
    {
     "name": "stdout",
     "output_type": "stream",
     "text": [
      "[166/1000] train=-187.2994  val=-188.9357  S_train=64 S_val=32 lr=[0.01, 0.02]σ̄=0.8812  σmin=0.7686  σmax=0.8907\n"
     ]
    },
    {
     "name": "stderr",
     "output_type": "stream",
     "text": [
      " 17%|█▋        | 167/1000 [04:49<25:19,  1.82s/it]"
     ]
    },
    {
     "name": "stdout",
     "output_type": "stream",
     "text": [
      "[167/1000] train=-191.0404  val=-190.8174  S_train=64 S_val=32 lr=[0.01, 0.02]σ̄=0.8929  σmin=0.7746  σmax=0.9028\n"
     ]
    },
    {
     "name": "stderr",
     "output_type": "stream",
     "text": [
      " 17%|█▋        | 168/1000 [04:51<25:02,  1.81s/it]"
     ]
    },
    {
     "name": "stdout",
     "output_type": "stream",
     "text": [
      "[168/1000] train=-190.7716  val=-192.7001  S_train=64 S_val=32 lr=[0.01, 0.02]σ̄=0.9046  σmin=0.7806  σmax=0.9150\n"
     ]
    },
    {
     "name": "stderr",
     "output_type": "stream",
     "text": [
      " 17%|█▋        | 169/1000 [04:53<25:31,  1.84s/it]"
     ]
    },
    {
     "name": "stdout",
     "output_type": "stream",
     "text": [
      "[169/1000] train=-195.1544  val=-194.5760  S_train=64 S_val=32 lr=[0.01, 0.02]σ̄=0.9164  σmin=0.7862  σmax=0.9274\n"
     ]
    },
    {
     "name": "stderr",
     "output_type": "stream",
     "text": [
      " 17%|█▋        | 170/1000 [04:55<25:22,  1.83s/it]"
     ]
    },
    {
     "name": "stdout",
     "output_type": "stream",
     "text": [
      "[170/1000] train=-197.1165  val=-196.4102  S_train=64 S_val=32 lr=[0.01, 0.02]σ̄=0.9283  σmin=0.7913  σmax=0.9398\n"
     ]
    },
    {
     "name": "stderr",
     "output_type": "stream",
     "text": [
      " 17%|█▋        | 171/1000 [04:56<25:21,  1.84s/it]"
     ]
    },
    {
     "name": "stdout",
     "output_type": "stream",
     "text": [
      "[171/1000] train=-196.9807  val=-198.2475  S_train=64 S_val=32 lr=[0.01, 0.02]σ̄=0.9403  σmin=0.7970  σmax=0.9524\n"
     ]
    },
    {
     "name": "stderr",
     "output_type": "stream",
     "text": [
      " 17%|█▋        | 172/1000 [04:58<24:52,  1.80s/it]"
     ]
    },
    {
     "name": "stdout",
     "output_type": "stream",
     "text": [
      "[172/1000] train=-199.4933  val=-200.0746  S_train=64 S_val=32 lr=[0.01, 0.02]σ̄=0.9523  σmin=0.8023  σmax=0.9650\n"
     ]
    },
    {
     "name": "stderr",
     "output_type": "stream",
     "text": [
      " 17%|█▋        | 173/1000 [05:00<24:36,  1.79s/it]"
     ]
    },
    {
     "name": "stdout",
     "output_type": "stream",
     "text": [
      "[173/1000] train=-201.9901  val=-201.8734  S_train=64 S_val=32 lr=[0.01, 0.02]σ̄=0.9643  σmin=0.8071  σmax=0.9777\n"
     ]
    },
    {
     "name": "stderr",
     "output_type": "stream",
     "text": [
      " 17%|█▋        | 174/1000 [05:02<24:28,  1.78s/it]"
     ]
    },
    {
     "name": "stdout",
     "output_type": "stream",
     "text": [
      "[174/1000] train=-202.9377  val=-203.6491  S_train=64 S_val=32 lr=[0.01, 0.02]σ̄=0.9764  σmin=0.8111  σmax=0.9905\n"
     ]
    },
    {
     "name": "stderr",
     "output_type": "stream",
     "text": [
      " 18%|█▊        | 175/1000 [05:04<26:10,  1.90s/it]"
     ]
    },
    {
     "name": "stdout",
     "output_type": "stream",
     "text": [
      "[175/1000] train=-203.3957  val=-205.4237  S_train=64 S_val=32 lr=[0.01, 0.02]σ̄=0.9886  σmin=0.8155  σmax=1.0034\n"
     ]
    },
    {
     "name": "stderr",
     "output_type": "stream",
     "text": [
      " 18%|█▊        | 176/1000 [05:06<25:34,  1.86s/it]"
     ]
    },
    {
     "name": "stdout",
     "output_type": "stream",
     "text": [
      "[176/1000] train=-205.5208  val=-207.1704  S_train=64 S_val=32 lr=[0.01, 0.02]σ̄=1.0008  σmin=0.8203  σmax=1.0164\n"
     ]
    },
    {
     "name": "stderr",
     "output_type": "stream",
     "text": [
      " 18%|█▊        | 177/1000 [05:07<25:04,  1.83s/it]"
     ]
    },
    {
     "name": "stdout",
     "output_type": "stream",
     "text": [
      "[177/1000] train=-209.7124  val=-208.8810  S_train=64 S_val=32 lr=[0.01, 0.02]σ̄=1.0131  σmin=0.8235  σmax=1.0296\n"
     ]
    },
    {
     "name": "stderr",
     "output_type": "stream",
     "text": [
      " 18%|█▊        | 178/1000 [05:09<24:56,  1.82s/it]"
     ]
    },
    {
     "name": "stdout",
     "output_type": "stream",
     "text": [
      "[178/1000] train=-209.5559  val=-210.5858  S_train=64 S_val=32 lr=[0.01, 0.02]σ̄=1.0255  σmin=0.8280  σmax=1.0428\n"
     ]
    },
    {
     "name": "stderr",
     "output_type": "stream",
     "text": [
      " 18%|█▊        | 179/1000 [05:11<24:44,  1.81s/it]"
     ]
    },
    {
     "name": "stdout",
     "output_type": "stream",
     "text": [
      "[179/1000] train=-209.0421  val=-212.2870  S_train=64 S_val=32 lr=[0.01, 0.02]σ̄=1.0380  σmin=0.8317  σmax=1.0561\n"
     ]
    },
    {
     "name": "stderr",
     "output_type": "stream",
     "text": [
      " 18%|█▊        | 180/1000 [05:13<24:33,  1.80s/it]"
     ]
    },
    {
     "name": "stdout",
     "output_type": "stream",
     "text": [
      "[180/1000] train=-213.3757  val=-213.9862  S_train=64 S_val=32 lr=[0.01, 0.02]σ̄=1.0505  σmin=0.8348  σmax=1.0695\n"
     ]
    },
    {
     "name": "stderr",
     "output_type": "stream",
     "text": [
      " 18%|█▊        | 181/1000 [05:15<24:55,  1.83s/it]"
     ]
    },
    {
     "name": "stdout",
     "output_type": "stream",
     "text": [
      "[181/1000] train=-212.8575  val=-215.6818  S_train=64 S_val=32 lr=[0.01, 0.02]σ̄=1.0631  σmin=0.8384  σmax=1.0830\n"
     ]
    },
    {
     "name": "stderr",
     "output_type": "stream",
     "text": [
      " 18%|█▊        | 182/1000 [05:16<24:45,  1.82s/it]"
     ]
    },
    {
     "name": "stdout",
     "output_type": "stream",
     "text": [
      "[182/1000] train=-215.8146  val=-217.2916  S_train=64 S_val=32 lr=[0.01, 0.02]σ̄=1.0757  σmin=0.8417  σmax=1.0965\n"
     ]
    },
    {
     "name": "stderr",
     "output_type": "stream",
     "text": [
      " 18%|█▊        | 183/1000 [05:18<24:28,  1.80s/it]"
     ]
    },
    {
     "name": "stdout",
     "output_type": "stream",
     "text": [
      "[183/1000] train=-216.5976  val=-218.9113  S_train=64 S_val=32 lr=[0.01, 0.02]σ̄=1.0881  σmin=0.8448  σmax=1.1100\n"
     ]
    },
    {
     "name": "stderr",
     "output_type": "stream",
     "text": [
      " 18%|█▊        | 184/1000 [05:20<24:42,  1.82s/it]"
     ]
    },
    {
     "name": "stdout",
     "output_type": "stream",
     "text": [
      "[184/1000] train=-219.2171  val=-220.4878  S_train=64 S_val=32 lr=[0.01, 0.02]σ̄=1.1005  σmin=0.8465  σmax=1.1236\n"
     ]
    },
    {
     "name": "stderr",
     "output_type": "stream",
     "text": [
      " 18%|█▊        | 185/1000 [05:22<24:36,  1.81s/it]"
     ]
    },
    {
     "name": "stdout",
     "output_type": "stream",
     "text": [
      "[185/1000] train=-219.8244  val=-222.0347  S_train=64 S_val=32 lr=[0.01, 0.02]σ̄=1.1130  σmin=0.8506  σmax=1.1372\n"
     ]
    },
    {
     "name": "stderr",
     "output_type": "stream",
     "text": [
      " 19%|█▊        | 186/1000 [05:24<24:33,  1.81s/it]"
     ]
    },
    {
     "name": "stdout",
     "output_type": "stream",
     "text": [
      "[186/1000] train=-222.3958  val=-223.5133  S_train=64 S_val=32 lr=[0.01, 0.02]σ̄=1.1247  σmin=0.8537  σmax=1.1503\n"
     ]
    },
    {
     "name": "stderr",
     "output_type": "stream",
     "text": [
      " 19%|█▊        | 187/1000 [05:26<25:42,  1.90s/it]"
     ]
    },
    {
     "name": "stdout",
     "output_type": "stream",
     "text": [
      "[187/1000] train=-222.0450  val=-224.9628  S_train=64 S_val=32 lr=[0.01, 0.02]σ̄=1.1366  σmin=0.8539  σmax=1.1635\n"
     ]
    },
    {
     "name": "stderr",
     "output_type": "stream",
     "text": [
      " 19%|█▉        | 188/1000 [05:27<25:01,  1.85s/it]"
     ]
    },
    {
     "name": "stdout",
     "output_type": "stream",
     "text": [
      "[188/1000] train=-225.3390  val=-226.4244  S_train=64 S_val=32 lr=[0.01, 0.02]σ̄=1.1484  σmin=0.8522  σmax=1.1767\n"
     ]
    },
    {
     "name": "stderr",
     "output_type": "stream",
     "text": [
      " 19%|█▉        | 189/1000 [05:29<24:30,  1.81s/it]"
     ]
    },
    {
     "name": "stdout",
     "output_type": "stream",
     "text": [
      "[189/1000] train=-225.7514  val=-227.8522  S_train=64 S_val=32 lr=[0.01, 0.02]σ̄=1.1603  σmin=0.8486  σmax=1.1900\n"
     ]
    },
    {
     "name": "stderr",
     "output_type": "stream",
     "text": [
      " 19%|█▉        | 190/1000 [05:31<24:09,  1.79s/it]"
     ]
    },
    {
     "name": "stdout",
     "output_type": "stream",
     "text": [
      "[190/1000] train=-229.2690  val=-229.2778  S_train=64 S_val=32 lr=[0.01, 0.02]σ̄=1.1724  σmin=0.8458  σmax=1.2034\n"
     ]
    },
    {
     "name": "stderr",
     "output_type": "stream",
     "text": [
      " 19%|█▉        | 191/1000 [05:33<24:00,  1.78s/it]"
     ]
    },
    {
     "name": "stdout",
     "output_type": "stream",
     "text": [
      "[191/1000] train=-227.6570  val=-230.6500  S_train=64 S_val=32 lr=[0.01, 0.02]σ̄=1.1845  σmin=0.8444  σmax=1.2170\n"
     ]
    },
    {
     "name": "stderr",
     "output_type": "stream",
     "text": [
      " 19%|█▉        | 192/1000 [05:34<23:56,  1.78s/it]"
     ]
    },
    {
     "name": "stdout",
     "output_type": "stream",
     "text": [
      "[192/1000] train=-231.1358  val=-232.0330  S_train=64 S_val=32 lr=[0.01, 0.02]σ̄=1.1966  σmin=0.8457  σmax=1.2305\n"
     ]
    },
    {
     "name": "stderr",
     "output_type": "stream",
     "text": [
      " 19%|█▉        | 193/1000 [05:36<23:48,  1.77s/it]"
     ]
    },
    {
     "name": "stdout",
     "output_type": "stream",
     "text": [
      "[193/1000] train=-230.9143  val=-233.3742  S_train=64 S_val=32 lr=[0.01, 0.02]σ̄=1.2088  σmin=0.8461  σmax=1.2441\n"
     ]
    },
    {
     "name": "stderr",
     "output_type": "stream",
     "text": [
      " 19%|█▉        | 194/1000 [05:38<24:07,  1.80s/it]"
     ]
    },
    {
     "name": "stdout",
     "output_type": "stream",
     "text": [
      "[194/1000] train=-233.8214  val=-234.7571  S_train=64 S_val=32 lr=[0.01, 0.02]σ̄=1.2210  σmin=0.8461  σmax=1.2578\n"
     ]
    },
    {
     "name": "stderr",
     "output_type": "stream",
     "text": [
      " 20%|█▉        | 195/1000 [05:40<23:58,  1.79s/it]"
     ]
    },
    {
     "name": "stdout",
     "output_type": "stream",
     "text": [
      "[195/1000] train=-231.7216  val=-236.1135  S_train=64 S_val=32 lr=[0.01, 0.02]σ̄=1.2331  σmin=0.8485  σmax=1.2715\n"
     ]
    },
    {
     "name": "stderr",
     "output_type": "stream",
     "text": [
      " 20%|█▉        | 196/1000 [05:42<23:58,  1.79s/it]"
     ]
    },
    {
     "name": "stdout",
     "output_type": "stream",
     "text": [
      "[196/1000] train=-236.8194  val=-237.3549  S_train=64 S_val=32 lr=[0.01, 0.02]σ̄=1.2446  σmin=0.8452  σmax=1.2849\n"
     ]
    },
    {
     "name": "stderr",
     "output_type": "stream",
     "text": [
      " 20%|█▉        | 197/1000 [05:43<23:49,  1.78s/it]"
     ]
    },
    {
     "name": "stdout",
     "output_type": "stream",
     "text": [
      "[197/1000] train=-236.6474  val=-238.6240  S_train=64 S_val=32 lr=[0.01, 0.02]σ̄=1.2559  σmin=0.8407  σmax=1.2981\n"
     ]
    },
    {
     "name": "stderr",
     "output_type": "stream",
     "text": [
      " 20%|█▉        | 198/1000 [05:45<23:37,  1.77s/it]"
     ]
    },
    {
     "name": "stdout",
     "output_type": "stream",
     "text": [
      "[198/1000] train=-237.0097  val=-239.8056  S_train=64 S_val=32 lr=[0.01, 0.02]σ̄=1.2673  σmin=0.8369  σmax=1.3116\n"
     ]
    },
    {
     "name": "stderr",
     "output_type": "stream",
     "text": [
      " 20%|█▉        | 199/1000 [05:47<25:02,  1.88s/it]"
     ]
    },
    {
     "name": "stdout",
     "output_type": "stream",
     "text": [
      "[199/1000] train=-239.1229  val=-240.9801  S_train=64 S_val=32 lr=[0.01, 0.02]σ̄=1.2789  σmin=0.8339  σmax=1.3251\n"
     ]
    },
    {
     "name": "stderr",
     "output_type": "stream",
     "text": [
      " 20%|██        | 200/1000 [05:49<24:24,  1.83s/it]"
     ]
    },
    {
     "name": "stdout",
     "output_type": "stream",
     "text": [
      "[200/1000] train=-242.4034  val=-242.1819  S_train=64 S_val=32 lr=[0.01, 0.02]σ̄=1.2906  σmin=0.8342  σmax=1.3386\n"
     ]
    },
    {
     "name": "stderr",
     "output_type": "stream",
     "text": [
      " 20%|██        | 201/1000 [05:51<24:04,  1.81s/it]"
     ]
    },
    {
     "name": "stdout",
     "output_type": "stream",
     "text": [
      "[201/1000] train=-238.9789  val=-243.3251  S_train=64 S_val=32 lr=[0.01, 0.02]σ̄=1.3018  σmin=0.8328  σmax=1.3515\n"
     ]
    },
    {
     "name": "stderr",
     "output_type": "stream",
     "text": [
      " 20%|██        | 202/1000 [05:53<24:24,  1.84s/it]"
     ]
    },
    {
     "name": "stdout",
     "output_type": "stream",
     "text": [
      "[202/1000] train=-241.8426  val=-244.3990  S_train=64 S_val=32 lr=[0.01, 0.02]σ̄=1.3127  σmin=0.8305  σmax=1.3641\n"
     ]
    },
    {
     "name": "stderr",
     "output_type": "stream",
     "text": [
      " 20%|██        | 203/1000 [05:55<24:42,  1.86s/it]"
     ]
    },
    {
     "name": "stdout",
     "output_type": "stream",
     "text": [
      "[203/1000] train=-238.2352  val=-245.4043  S_train=64 S_val=32 lr=[0.01, 0.02]σ̄=1.3228  σmin=0.8312  σmax=1.3757\n"
     ]
    },
    {
     "name": "stderr",
     "output_type": "stream",
     "text": [
      " 20%|██        | 204/1000 [05:56<24:11,  1.82s/it]"
     ]
    },
    {
     "name": "stdout",
     "output_type": "stream",
     "text": [
      "[204/1000] train=-245.3516  val=-246.3170  S_train=64 S_val=32 lr=[0.01, 0.02]σ̄=1.3332  σmin=0.8335  σmax=1.3877\n"
     ]
    },
    {
     "name": "stderr",
     "output_type": "stream",
     "text": [
      " 20%|██        | 205/1000 [05:58<23:48,  1.80s/it]"
     ]
    },
    {
     "name": "stdout",
     "output_type": "stream",
     "text": [
      "[205/1000] train=-249.3049  val=-247.3590  S_train=64 S_val=32 lr=[0.01, 0.02]σ̄=1.3436  σmin=0.8337  σmax=1.3999\n"
     ]
    },
    {
     "name": "stderr",
     "output_type": "stream",
     "text": [
      " 21%|██        | 206/1000 [06:00<23:38,  1.79s/it]"
     ]
    },
    {
     "name": "stdout",
     "output_type": "stream",
     "text": [
      "[206/1000] train=-248.0568  val=-248.2421  S_train=64 S_val=32 lr=[0.01, 0.02]σ̄=1.3543  σmin=0.8334  σmax=1.4124\n"
     ]
    },
    {
     "name": "stderr",
     "output_type": "stream",
     "text": [
      " 21%|██        | 207/1000 [06:02<23:28,  1.78s/it]"
     ]
    },
    {
     "name": "stdout",
     "output_type": "stream",
     "text": [
      "[207/1000] train=-247.2557  val=-249.1858  S_train=64 S_val=32 lr=[0.01, 0.02]σ̄=1.3649  σmin=0.8337  σmax=1.4250\n"
     ]
    },
    {
     "name": "stderr",
     "output_type": "stream",
     "text": [
      " 21%|██        | 208/1000 [06:03<23:17,  1.76s/it]"
     ]
    },
    {
     "name": "stdout",
     "output_type": "stream",
     "text": [
      "[208/1000] train=-249.4926  val=-250.0270  S_train=64 S_val=32 lr=[0.01, 0.02]σ̄=1.3756  σmin=0.8337  σmax=1.4377\n"
     ]
    },
    {
     "name": "stderr",
     "output_type": "stream",
     "text": [
      " 21%|██        | 209/1000 [06:05<23:13,  1.76s/it]"
     ]
    },
    {
     "name": "stdout",
     "output_type": "stream",
     "text": [
      "[209/1000] train=-250.9157  val=-250.8197  S_train=64 S_val=32 lr=[0.01, 0.02]σ̄=1.3857  σmin=0.8329  σmax=1.4500\n"
     ]
    },
    {
     "name": "stderr",
     "output_type": "stream",
     "text": [
      " 21%|██        | 210/1000 [06:07<24:37,  1.87s/it]"
     ]
    },
    {
     "name": "stdout",
     "output_type": "stream",
     "text": [
      "[210/1000] train=-250.1379  val=-251.7668  S_train=64 S_val=32 lr=[0.01, 0.02]σ̄=1.3960  σmin=0.8330  σmax=1.4625\n"
     ]
    },
    {
     "name": "stderr",
     "output_type": "stream",
     "text": [
      " 21%|██        | 211/1000 [06:09<24:08,  1.84s/it]"
     ]
    },
    {
     "name": "stdout",
     "output_type": "stream",
     "text": [
      "[211/1000] train=-251.7115  val=-252.7005  S_train=64 S_val=32 lr=[0.01, 0.02]σ̄=1.4060  σmin=0.8278  σmax=1.4747\n"
     ]
    },
    {
     "name": "stderr",
     "output_type": "stream",
     "text": [
      " 21%|██        | 212/1000 [06:11<24:12,  1.84s/it]"
     ]
    },
    {
     "name": "stdout",
     "output_type": "stream",
     "text": [
      "[212/1000] train=-249.4224  val=-253.6016  S_train=64 S_val=32 lr=[0.01, 0.02]σ̄=1.4154  σmin=0.8232  σmax=1.4860\n"
     ]
    },
    {
     "name": "stderr",
     "output_type": "stream",
     "text": [
      " 21%|██▏       | 213/1000 [06:12<23:47,  1.81s/it]"
     ]
    },
    {
     "name": "stdout",
     "output_type": "stream",
     "text": [
      "[213/1000] train=-251.8145  val=-254.4074  S_train=64 S_val=32 lr=[0.01, 0.02]σ̄=1.4249  σmin=0.8172  σmax=1.4974\n"
     ]
    },
    {
     "name": "stderr",
     "output_type": "stream",
     "text": [
      " 21%|██▏       | 214/1000 [06:14<23:52,  1.82s/it]"
     ]
    },
    {
     "name": "stdout",
     "output_type": "stream",
     "text": [
      "[214/1000] train=-254.3600  val=-255.1612  S_train=64 S_val=32 lr=[0.01, 0.02]σ̄=1.4343  σmin=0.8164  σmax=1.5086\n"
     ]
    },
    {
     "name": "stderr",
     "output_type": "stream",
     "text": [
      " 22%|██▏       | 215/1000 [06:16<24:04,  1.84s/it]"
     ]
    },
    {
     "name": "stdout",
     "output_type": "stream",
     "text": [
      "[215/1000] train=-255.7958  val=-255.9410  S_train=64 S_val=32 lr=[0.01, 0.02]σ̄=1.4429  σmin=0.8140  σmax=1.5190\n"
     ]
    },
    {
     "name": "stderr",
     "output_type": "stream",
     "text": [
      " 22%|██▏       | 216/1000 [06:18<23:42,  1.81s/it]"
     ]
    },
    {
     "name": "stdout",
     "output_type": "stream",
     "text": [
      "[216/1000] train=-254.1071  val=-256.7921  S_train=64 S_val=32 lr=[0.01, 0.02]σ̄=1.4519  σmin=0.8125  σmax=1.5296\n"
     ]
    },
    {
     "name": "stderr",
     "output_type": "stream",
     "text": [
      " 22%|██▏       | 217/1000 [06:20<23:23,  1.79s/it]"
     ]
    },
    {
     "name": "stdout",
     "output_type": "stream",
     "text": [
      "[217/1000] train=-257.1862  val=-257.5116  S_train=64 S_val=32 lr=[0.01, 0.02]σ̄=1.4610  σmin=0.8090  σmax=1.5404\n"
     ]
    },
    {
     "name": "stderr",
     "output_type": "stream",
     "text": [
      " 22%|██▏       | 218/1000 [06:21<23:12,  1.78s/it]"
     ]
    },
    {
     "name": "stdout",
     "output_type": "stream",
     "text": [
      "[218/1000] train=-256.2371  val=-258.3225  S_train=64 S_val=32 lr=[0.01, 0.02]σ̄=1.4694  σmin=0.8054  σmax=1.5506\n"
     ]
    },
    {
     "name": "stderr",
     "output_type": "stream",
     "text": [
      " 22%|██▏       | 219/1000 [06:23<23:02,  1.77s/it]"
     ]
    },
    {
     "name": "stdout",
     "output_type": "stream",
     "text": [
      "[219/1000] train=-256.6021  val=-259.0210  S_train=64 S_val=32 lr=[0.01, 0.02]σ̄=1.4774  σmin=0.8035  σmax=1.5606\n"
     ]
    },
    {
     "name": "stderr",
     "output_type": "stream",
     "text": [
      " 22%|██▏       | 220/1000 [06:25<22:58,  1.77s/it]"
     ]
    },
    {
     "name": "stdout",
     "output_type": "stream",
     "text": [
      "[220/1000] train=-256.6013  val=-259.7343  S_train=64 S_val=32 lr=[0.01, 0.02]σ̄=1.4852  σmin=0.7994  σmax=1.5709\n"
     ]
    },
    {
     "name": "stderr",
     "output_type": "stream",
     "text": [
      " 22%|██▏       | 221/1000 [06:27<24:10,  1.86s/it]"
     ]
    },
    {
     "name": "stdout",
     "output_type": "stream",
     "text": [
      "[221/1000] train=-260.8835  val=-260.4051  S_train=64 S_val=32 lr=[0.01, 0.02]σ̄=1.4933  σmin=0.7959  σmax=1.5815\n"
     ]
    },
    {
     "name": "stderr",
     "output_type": "stream",
     "text": [
      " 22%|██▏       | 222/1000 [06:29<24:05,  1.86s/it]"
     ]
    },
    {
     "name": "stdout",
     "output_type": "stream",
     "text": [
      "[222/1000] train=-258.1729  val=-261.0790  S_train=64 S_val=32 lr=[0.01, 0.02]σ̄=1.5010  σmin=0.7879  σmax=1.5919\n"
     ]
    },
    {
     "name": "stderr",
     "output_type": "stream",
     "text": [
      " 22%|██▏       | 223/1000 [06:31<23:38,  1.83s/it]"
     ]
    },
    {
     "name": "stdout",
     "output_type": "stream",
     "text": [
      "[223/1000] train=-262.8063  val=-261.7133  S_train=64 S_val=32 lr=[0.01, 0.02]σ̄=1.5087  σmin=0.7796  σmax=1.6025\n"
     ]
    },
    {
     "name": "stderr",
     "output_type": "stream",
     "text": [
      " 22%|██▏       | 224/1000 [06:32<23:13,  1.80s/it]"
     ]
    },
    {
     "name": "stdout",
     "output_type": "stream",
     "text": [
      "[224/1000] train=-260.3133  val=-262.2114  S_train=64 S_val=32 lr=[0.01, 0.02]σ̄=1.5164  σmin=0.7739  σmax=1.6141\n"
     ]
    },
    {
     "name": "stderr",
     "output_type": "stream",
     "text": [
      " 22%|██▎       | 225/1000 [06:34<22:59,  1.78s/it]"
     ]
    },
    {
     "name": "stdout",
     "output_type": "stream",
     "text": [
      "[225/1000] train=-261.5678  val=-262.7122  S_train=64 S_val=32 lr=[0.01, 0.02]σ̄=1.5239  σmin=0.7682  σmax=1.6255\n"
     ]
    },
    {
     "name": "stderr",
     "output_type": "stream",
     "text": [
      " 23%|██▎       | 226/1000 [06:36<22:57,  1.78s/it]"
     ]
    },
    {
     "name": "stdout",
     "output_type": "stream",
     "text": [
      "[226/1000] train=-260.3701  val=-263.2261  S_train=64 S_val=32 lr=[0.01, 0.02]σ̄=1.5310  σmin=0.7635  σmax=1.6363\n"
     ]
    },
    {
     "name": "stderr",
     "output_type": "stream",
     "text": [
      " 23%|██▎       | 227/1000 [06:38<22:48,  1.77s/it]"
     ]
    },
    {
     "name": "stdout",
     "output_type": "stream",
     "text": [
      "[227/1000] train=-261.6786  val=-263.8042  S_train=64 S_val=32 lr=[0.01, 0.02]σ̄=1.5379  σmin=0.7561  σmax=1.6475\n"
     ]
    },
    {
     "name": "stderr",
     "output_type": "stream",
     "text": [
      " 23%|██▎       | 228/1000 [06:39<22:44,  1.77s/it]"
     ]
    },
    {
     "name": "stdout",
     "output_type": "stream",
     "text": [
      "[228/1000] train=-264.0547  val=-264.2198  S_train=64 S_val=32 lr=[0.01, 0.02]σ̄=1.5447  σmin=0.7494  σmax=1.6576\n"
     ]
    },
    {
     "name": "stderr",
     "output_type": "stream",
     "text": [
      " 23%|██▎       | 229/1000 [06:41<22:44,  1.77s/it]"
     ]
    },
    {
     "name": "stdout",
     "output_type": "stream",
     "text": [
      "[229/1000] train=-264.4162  val=-264.6753  S_train=64 S_val=32 lr=[0.01, 0.02]σ̄=1.5517  σmin=0.7427  σmax=1.6638\n"
     ]
    },
    {
     "name": "stderr",
     "output_type": "stream",
     "text": [
      " 23%|██▎       | 230/1000 [06:43<23:19,  1.82s/it]"
     ]
    },
    {
     "name": "stdout",
     "output_type": "stream",
     "text": [
      "[230/1000] train=-265.1297  val=-265.2326  S_train=64 S_val=32 lr=[0.01, 0.02]σ̄=1.5586  σmin=0.7368  σmax=1.6726\n"
     ]
    },
    {
     "name": "stderr",
     "output_type": "stream",
     "text": [
      " 23%|██▎       | 231/1000 [06:45<23:45,  1.85s/it]"
     ]
    },
    {
     "name": "stdout",
     "output_type": "stream",
     "text": [
      "[231/1000] train=-265.5368  val=-265.6684  S_train=64 S_val=32 lr=[0.01, 0.02]σ̄=1.5654  σmin=0.7326  σmax=1.6819\n"
     ]
    },
    {
     "name": "stderr",
     "output_type": "stream",
     "text": [
      " 23%|██▎       | 232/1000 [06:47<23:16,  1.82s/it]"
     ]
    },
    {
     "name": "stdout",
     "output_type": "stream",
     "text": [
      "[232/1000] train=-266.9156  val=-266.0482  S_train=64 S_val=32 lr=[0.01, 0.02]σ̄=1.5721  σmin=0.7303  σmax=1.6912\n"
     ]
    },
    {
     "name": "stderr",
     "output_type": "stream",
     "text": [
      " 23%|██▎       | 233/1000 [06:49<24:22,  1.91s/it]"
     ]
    },
    {
     "name": "stdout",
     "output_type": "stream",
     "text": [
      "[233/1000] train=-265.0974  val=-266.4107  S_train=64 S_val=32 lr=[0.01, 0.02]σ̄=1.5783  σmin=0.7232  σmax=1.7000\n"
     ]
    },
    {
     "name": "stderr",
     "output_type": "stream",
     "text": [
      " 23%|██▎       | 234/1000 [06:51<23:45,  1.86s/it]"
     ]
    },
    {
     "name": "stdout",
     "output_type": "stream",
     "text": [
      "[234/1000] train=-265.2769  val=-266.6945  S_train=64 S_val=32 lr=[0.01, 0.02]σ̄=1.5839  σmin=0.7140  σmax=1.7084\n"
     ]
    },
    {
     "name": "stderr",
     "output_type": "stream",
     "text": [
      " 24%|██▎       | 235/1000 [06:52<23:33,  1.85s/it]"
     ]
    },
    {
     "name": "stdout",
     "output_type": "stream",
     "text": [
      "[235/1000] train=-268.0533  val=-267.0945  S_train=64 S_val=32 lr=[0.01, 0.02]σ̄=1.5897  σmin=0.7050  σmax=1.7167\n"
     ]
    },
    {
     "name": "stderr",
     "output_type": "stream",
     "text": [
      " 24%|██▎       | 236/1000 [06:54<23:24,  1.84s/it]"
     ]
    },
    {
     "name": "stdout",
     "output_type": "stream",
     "text": [
      "[236/1000] train=-267.4556  val=-267.3316  S_train=64 S_val=32 lr=[0.01, 0.02]σ̄=1.5957  σmin=0.6948  σmax=1.7254\n"
     ]
    },
    {
     "name": "stderr",
     "output_type": "stream",
     "text": [
      " 24%|██▎       | 237/1000 [06:56<23:03,  1.81s/it]"
     ]
    },
    {
     "name": "stdout",
     "output_type": "stream",
     "text": [
      "[237/1000] train=-269.1224  val=-267.6964  S_train=64 S_val=32 lr=[0.01, 0.02]σ̄=1.6015  σmin=0.6886  σmax=1.7339\n"
     ]
    },
    {
     "name": "stderr",
     "output_type": "stream",
     "text": [
      " 24%|██▍       | 238/1000 [06:58<22:46,  1.79s/it]"
     ]
    },
    {
     "name": "stdout",
     "output_type": "stream",
     "text": [
      "[238/1000] train=-268.4792  val=-268.0389  S_train=64 S_val=32 lr=[0.01, 0.02]σ̄=1.6075  σmin=0.6818  σmax=1.7425\n"
     ]
    },
    {
     "name": "stderr",
     "output_type": "stream",
     "text": [
      " 24%|██▍       | 239/1000 [07:00<22:34,  1.78s/it]"
     ]
    },
    {
     "name": "stdout",
     "output_type": "stream",
     "text": [
      "[239/1000] train=-265.5946  val=-268.3999  S_train=64 S_val=32 lr=[0.01, 0.02]σ̄=1.6131  σmin=0.6755  σmax=1.7506\n"
     ]
    },
    {
     "name": "stderr",
     "output_type": "stream",
     "text": [
      " 24%|██▍       | 240/1000 [07:01<23:03,  1.82s/it]"
     ]
    },
    {
     "name": "stdout",
     "output_type": "stream",
     "text": [
      "[240/1000] train=-270.6482  val=-268.7269  S_train=64 S_val=32 lr=[0.01, 0.02]σ̄=1.6185  σmin=0.6670  σmax=1.7587\n"
     ]
    },
    {
     "name": "stderr",
     "output_type": "stream",
     "text": [
      " 24%|██▍       | 241/1000 [07:03<22:50,  1.81s/it]"
     ]
    },
    {
     "name": "stdout",
     "output_type": "stream",
     "text": [
      "[241/1000] train=-271.4241  val=-269.0415  S_train=64 S_val=32 lr=[0.01, 0.02]σ̄=1.6240  σmin=0.6585  σmax=1.7670\n"
     ]
    },
    {
     "name": "stderr",
     "output_type": "stream",
     "text": [
      " 24%|██▍       | 242/1000 [07:06<28:01,  2.22s/it]"
     ]
    },
    {
     "name": "stdout",
     "output_type": "stream",
     "text": [
      "[242/1000] train=-271.9780  val=-269.5749  S_train=64 S_val=32 lr=[0.01, 0.02]σ̄=1.6294  σmin=0.6527  σmax=1.7755\n"
     ]
    },
    {
     "name": "stderr",
     "output_type": "stream",
     "text": [
      " 24%|██▍       | 243/1000 [07:09<30:01,  2.38s/it]"
     ]
    },
    {
     "name": "stdout",
     "output_type": "stream",
     "text": [
      "[243/1000] train=-270.9276  val=-270.0521  S_train=64 S_val=32 lr=[0.01, 0.02]σ̄=1.6349  σmin=0.6451  σmax=1.7833\n"
     ]
    },
    {
     "name": "stderr",
     "output_type": "stream",
     "text": [
      " 24%|██▍       | 244/1000 [07:12<32:08,  2.55s/it]"
     ]
    },
    {
     "name": "stdout",
     "output_type": "stream",
     "text": [
      "[244/1000] train=-268.0137  val=-270.5808  S_train=64 S_val=32 lr=[0.01, 0.02]σ̄=1.6401  σmin=0.6362  σmax=1.7919\n"
     ]
    },
    {
     "name": "stderr",
     "output_type": "stream",
     "text": [
      " 24%|██▍       | 245/1000 [07:15<31:49,  2.53s/it]"
     ]
    },
    {
     "name": "stdout",
     "output_type": "stream",
     "text": [
      "[245/1000] train=-269.9501  val=-271.0302  S_train=64 S_val=32 lr=[0.01, 0.02]σ̄=1.6450  σmin=0.6274  σmax=1.8021\n"
     ]
    },
    {
     "name": "stderr",
     "output_type": "stream",
     "text": [
      " 25%|██▍       | 246/1000 [07:17<30:22,  2.42s/it]"
     ]
    },
    {
     "name": "stdout",
     "output_type": "stream",
     "text": [
      "[246/1000] train=-267.3341  val=-271.5181  S_train=64 S_val=32 lr=[0.01, 0.02]σ̄=1.6495  σmin=0.6185  σmax=1.8120\n"
     ]
    },
    {
     "name": "stderr",
     "output_type": "stream",
     "text": [
      " 25%|██▍       | 247/1000 [07:19<28:46,  2.29s/it]"
     ]
    },
    {
     "name": "stdout",
     "output_type": "stream",
     "text": [
      "[247/1000] train=-270.7114  val=-271.9373  S_train=64 S_val=32 lr=[0.01, 0.02]σ̄=1.6539  σmin=0.6084  σmax=1.8214\n"
     ]
    },
    {
     "name": "stderr",
     "output_type": "stream",
     "text": [
      " 25%|██▍       | 248/1000 [07:21<28:07,  2.24s/it]"
     ]
    },
    {
     "name": "stdout",
     "output_type": "stream",
     "text": [
      "[248/1000] train=-271.4698  val=-272.3342  S_train=64 S_val=32 lr=[0.01, 0.02]σ̄=1.6583  σmin=0.5993  σmax=1.8296\n"
     ]
    },
    {
     "name": "stderr",
     "output_type": "stream",
     "text": [
      " 25%|██▍       | 249/1000 [07:23<27:29,  2.20s/it]"
     ]
    },
    {
     "name": "stdout",
     "output_type": "stream",
     "text": [
      "[249/1000] train=-274.2840  val=-272.8014  S_train=64 S_val=32 lr=[0.01, 0.02]σ̄=1.6629  σmin=0.5942  σmax=1.8356\n"
     ]
    },
    {
     "name": "stderr",
     "output_type": "stream",
     "text": [
      " 25%|██▌       | 250/1000 [07:25<27:08,  2.17s/it]"
     ]
    },
    {
     "name": "stdout",
     "output_type": "stream",
     "text": [
      "[250/1000] train=-275.3276  val=-273.3301  S_train=64 S_val=32 lr=[0.01, 0.02]σ̄=1.6675  σmin=0.5867  σmax=1.8410\n"
     ]
    },
    {
     "name": "stderr",
     "output_type": "stream",
     "text": [
      " 25%|██▌       | 251/1000 [07:27<26:26,  2.12s/it]"
     ]
    },
    {
     "name": "stdout",
     "output_type": "stream",
     "text": [
      "[251/1000] train=-275.3858  val=-273.8058  S_train=64 S_val=32 lr=[0.01, 0.02]σ̄=1.6721  σmin=0.5805  σmax=1.8474\n"
     ]
    },
    {
     "name": "stderr",
     "output_type": "stream",
     "text": [
      " 25%|██▌       | 252/1000 [07:29<25:32,  2.05s/it]"
     ]
    },
    {
     "name": "stdout",
     "output_type": "stream",
     "text": [
      "[252/1000] train=-274.2704  val=-274.2515  S_train=64 S_val=32 lr=[0.01, 0.02]σ̄=1.6772  σmin=0.5755  σmax=1.8533\n"
     ]
    },
    {
     "name": "stderr",
     "output_type": "stream",
     "text": [
      " 25%|██▌       | 253/1000 [07:31<24:45,  1.99s/it]"
     ]
    },
    {
     "name": "stdout",
     "output_type": "stream",
     "text": [
      "[253/1000] train=-274.2809  val=-274.7147  S_train=64 S_val=32 lr=[0.01, 0.02]σ̄=1.6820  σmin=0.5698  σmax=1.8589\n"
     ]
    },
    {
     "name": "stderr",
     "output_type": "stream",
     "text": [
      " 25%|██▌       | 254/1000 [07:33<24:01,  1.93s/it]"
     ]
    },
    {
     "name": "stdout",
     "output_type": "stream",
     "text": [
      "[254/1000] train=-271.9538  val=-275.2885  S_train=64 S_val=32 lr=[0.01, 0.02]σ̄=1.6864  σmin=0.5648  σmax=1.8642\n"
     ]
    },
    {
     "name": "stderr",
     "output_type": "stream",
     "text": [
      " 26%|██▌       | 255/1000 [07:34<23:48,  1.92s/it]"
     ]
    },
    {
     "name": "stdout",
     "output_type": "stream",
     "text": [
      "[255/1000] train=-275.8685  val=-275.6157  S_train=64 S_val=32 lr=[0.01, 0.02]σ̄=1.6909  σmin=0.5604  σmax=1.8715\n"
     ]
    },
    {
     "name": "stderr",
     "output_type": "stream",
     "text": [
      " 26%|██▌       | 256/1000 [07:37<24:36,  1.98s/it]"
     ]
    },
    {
     "name": "stdout",
     "output_type": "stream",
     "text": [
      "[256/1000] train=-277.9352  val=-276.0166  S_train=64 S_val=32 lr=[0.01, 0.02]σ̄=1.6957  σmin=0.5574  σmax=1.8783\n"
     ]
    },
    {
     "name": "stderr",
     "output_type": "stream",
     "text": [
      " 26%|██▌       | 257/1000 [07:38<24:09,  1.95s/it]"
     ]
    },
    {
     "name": "stdout",
     "output_type": "stream",
     "text": [
      "[257/1000] train=-276.6162  val=-276.4390  S_train=64 S_val=32 lr=[0.01, 0.02]σ̄=1.7007  σmin=0.5557  σmax=1.8859\n"
     ]
    },
    {
     "name": "stderr",
     "output_type": "stream",
     "text": [
      " 26%|██▌       | 258/1000 [07:40<23:37,  1.91s/it]"
     ]
    },
    {
     "name": "stdout",
     "output_type": "stream",
     "text": [
      "[258/1000] train=-279.1855  val=-276.8495  S_train=64 S_val=32 lr=[0.01, 0.02]σ̄=1.7055  σmin=0.5536  σmax=1.8933\n"
     ]
    },
    {
     "name": "stderr",
     "output_type": "stream",
     "text": [
      " 26%|██▌       | 259/1000 [07:42<23:46,  1.92s/it]"
     ]
    },
    {
     "name": "stdout",
     "output_type": "stream",
     "text": [
      "[259/1000] train=-275.9919  val=-277.2399  S_train=64 S_val=32 lr=[0.01, 0.02]σ̄=1.7108  σmin=0.5508  σmax=1.9010\n"
     ]
    },
    {
     "name": "stderr",
     "output_type": "stream",
     "text": [
      " 26%|██▌       | 260/1000 [07:44<23:18,  1.89s/it]"
     ]
    },
    {
     "name": "stdout",
     "output_type": "stream",
     "text": [
      "[260/1000] train=-276.3279  val=-277.5891  S_train=64 S_val=32 lr=[0.01, 0.02]σ̄=1.7157  σmin=0.5449  σmax=1.9085\n"
     ]
    },
    {
     "name": "stderr",
     "output_type": "stream",
     "text": [
      " 26%|██▌       | 261/1000 [07:46<23:27,  1.90s/it]"
     ]
    },
    {
     "name": "stdout",
     "output_type": "stream",
     "text": [
      "[261/1000] train=-279.8645  val=-278.0406  S_train=64 S_val=32 lr=[0.01, 0.02]σ̄=1.7204  σmin=0.5372  σmax=1.9159\n"
     ]
    },
    {
     "name": "stderr",
     "output_type": "stream",
     "text": [
      " 26%|██▌       | 262/1000 [07:48<23:39,  1.92s/it]"
     ]
    },
    {
     "name": "stdout",
     "output_type": "stream",
     "text": [
      "[262/1000] train=-278.2272  val=-278.3980  S_train=64 S_val=32 lr=[0.01, 0.02]σ̄=1.7252  σmin=0.5281  σmax=1.9235\n"
     ]
    },
    {
     "name": "stderr",
     "output_type": "stream",
     "text": [
      " 26%|██▋       | 263/1000 [07:50<23:32,  1.92s/it]"
     ]
    },
    {
     "name": "stdout",
     "output_type": "stream",
     "text": [
      "[263/1000] train=-279.5901  val=-278.7398  S_train=64 S_val=32 lr=[0.01, 0.02]σ̄=1.7301  σmin=0.5199  σmax=1.9311\n"
     ]
    },
    {
     "name": "stderr",
     "output_type": "stream",
     "text": [
      " 26%|██▋       | 264/1000 [07:52<23:33,  1.92s/it]"
     ]
    },
    {
     "name": "stdout",
     "output_type": "stream",
     "text": [
      "[264/1000] train=-281.6453  val=-279.1373  S_train=64 S_val=32 lr=[0.01, 0.02]σ̄=1.7350  σmin=0.5116  σmax=1.9384\n"
     ]
    },
    {
     "name": "stderr",
     "output_type": "stream",
     "text": [
      " 26%|██▋       | 265/1000 [07:54<24:00,  1.96s/it]"
     ]
    },
    {
     "name": "stdout",
     "output_type": "stream",
     "text": [
      "[265/1000] train=-277.1249  val=-279.5343  S_train=64 S_val=32 lr=[0.01, 0.02]σ̄=1.7401  σmin=0.5045  σmax=1.9459\n"
     ]
    },
    {
     "name": "stderr",
     "output_type": "stream",
     "text": [
      " 27%|██▋       | 266/1000 [07:56<23:57,  1.96s/it]"
     ]
    },
    {
     "name": "stdout",
     "output_type": "stream",
     "text": [
      "[266/1000] train=-276.8223  val=-279.7599  S_train=64 S_val=32 lr=[0.01, 0.02]σ̄=1.7448  σmin=0.4980  σmax=1.9529\n"
     ]
    },
    {
     "name": "stderr",
     "output_type": "stream",
     "text": [
      " 27%|██▋       | 267/1000 [07:58<23:48,  1.95s/it]"
     ]
    },
    {
     "name": "stdout",
     "output_type": "stream",
     "text": [
      "[267/1000] train=-280.1766  val=-279.9411  S_train=64 S_val=32 lr=[0.01, 0.02]σ̄=1.7493  σmin=0.4929  σmax=1.9597\n"
     ]
    },
    {
     "name": "stderr",
     "output_type": "stream",
     "text": [
      " 27%|██▋       | 268/1000 [08:00<24:05,  1.97s/it]"
     ]
    },
    {
     "name": "stdout",
     "output_type": "stream",
     "text": [
      "[268/1000] train=-279.1286  val=-280.2235  S_train=64 S_val=32 lr=[0.01, 0.02]σ̄=1.7536  σmin=0.4874  σmax=1.9663\n"
     ]
    },
    {
     "name": "stderr",
     "output_type": "stream",
     "text": [
      " 27%|██▋       | 269/1000 [08:02<25:11,  2.07s/it]"
     ]
    },
    {
     "name": "stdout",
     "output_type": "stream",
     "text": [
      "[269/1000] train=-282.5543  val=-280.4951  S_train=64 S_val=32 lr=[0.01, 0.02]σ̄=1.7583  σmin=0.4834  σmax=1.9733\n"
     ]
    },
    {
     "name": "stderr",
     "output_type": "stream",
     "text": [
      " 27%|██▋       | 270/1000 [08:04<24:38,  2.03s/it]"
     ]
    },
    {
     "name": "stdout",
     "output_type": "stream",
     "text": [
      "[270/1000] train=-279.8023  val=-280.7206  S_train=64 S_val=32 lr=[0.01, 0.02]σ̄=1.7629  σmin=0.4810  σmax=1.9799\n"
     ]
    },
    {
     "name": "stderr",
     "output_type": "stream",
     "text": [
      " 27%|██▋       | 271/1000 [08:06<24:14,  1.99s/it]"
     ]
    },
    {
     "name": "stdout",
     "output_type": "stream",
     "text": [
      "[271/1000] train=-278.2075  val=-280.8685  S_train=64 S_val=32 lr=[0.01, 0.02]σ̄=1.7670  σmin=0.4774  σmax=1.9863\n"
     ]
    },
    {
     "name": "stderr",
     "output_type": "stream",
     "text": [
      " 27%|██▋       | 272/1000 [08:08<23:23,  1.93s/it]"
     ]
    },
    {
     "name": "stdout",
     "output_type": "stream",
     "text": [
      "[272/1000] train=-285.3488  val=-281.1074  S_train=64 S_val=32 lr=[0.01, 0.02]σ̄=1.7712  σmin=0.4726  σmax=1.9927\n"
     ]
    },
    {
     "name": "stderr",
     "output_type": "stream",
     "text": [
      " 27%|██▋       | 273/1000 [08:09<22:40,  1.87s/it]"
     ]
    },
    {
     "name": "stdout",
     "output_type": "stream",
     "text": [
      "[273/1000] train=-284.0711  val=-281.3294  S_train=64 S_val=32 lr=[0.01, 0.02]σ̄=1.7759  σmin=0.4696  σmax=1.9998\n"
     ]
    },
    {
     "name": "stderr",
     "output_type": "stream",
     "text": [
      " 27%|██▋       | 274/1000 [08:11<22:10,  1.83s/it]"
     ]
    },
    {
     "name": "stdout",
     "output_type": "stream",
     "text": [
      "[274/1000] train=-283.6686  val=-281.4205  S_train=64 S_val=32 lr=[0.01, 0.02]σ̄=1.7807  σmin=0.4664  σmax=2.0070\n"
     ]
    },
    {
     "name": "stderr",
     "output_type": "stream",
     "text": [
      " 28%|██▊       | 275/1000 [08:13<21:47,  1.80s/it]"
     ]
    },
    {
     "name": "stdout",
     "output_type": "stream",
     "text": [
      "[275/1000] train=-284.5805  val=-281.5210  S_train=64 S_val=32 lr=[0.01, 0.02]σ̄=1.7863  σmin=0.4648  σmax=2.0151\n"
     ]
    },
    {
     "name": "stderr",
     "output_type": "stream",
     "text": [
      " 28%|██▊       | 276/1000 [08:15<22:17,  1.85s/it]"
     ]
    },
    {
     "name": "stdout",
     "output_type": "stream",
     "text": [
      "[276/1000] train=-281.5882  val=-281.5938  S_train=64 S_val=32 lr=[0.01, 0.02]σ̄=1.7918  σmin=0.4654  σmax=2.0229\n"
     ]
    },
    {
     "name": "stderr",
     "output_type": "stream",
     "text": [
      " 28%|██▊       | 277/1000 [08:17<22:15,  1.85s/it]"
     ]
    },
    {
     "name": "stdout",
     "output_type": "stream",
     "text": [
      "[277/1000] train=-281.1252  val=-281.8732  S_train=64 S_val=32 lr=[0.01, 0.02]σ̄=1.7974  σmin=0.4665  σmax=2.0309\n"
     ]
    },
    {
     "name": "stderr",
     "output_type": "stream",
     "text": [
      " 28%|██▊       | 278/1000 [08:18<21:43,  1.81s/it]"
     ]
    },
    {
     "name": "stdout",
     "output_type": "stream",
     "text": [
      "[278/1000] train=-283.8143  val=-282.3228  S_train=64 S_val=32 lr=[0.01, 0.02]σ̄=1.8031  σmin=0.4678  σmax=2.0390\n"
     ]
    },
    {
     "name": "stderr",
     "output_type": "stream",
     "text": [
      " 28%|██▊       | 279/1000 [08:20<21:29,  1.79s/it]"
     ]
    },
    {
     "name": "stdout",
     "output_type": "stream",
     "text": [
      "[279/1000] train=-281.4654  val=-282.8441  S_train=64 S_val=32 lr=[0.01, 0.02]σ̄=1.8085  σmin=0.4692  σmax=2.0468\n"
     ]
    },
    {
     "name": "stderr",
     "output_type": "stream",
     "text": [
      " 28%|██▊       | 280/1000 [08:22<21:17,  1.77s/it]"
     ]
    },
    {
     "name": "stdout",
     "output_type": "stream",
     "text": [
      "[280/1000] train=-283.2689  val=-283.3629  S_train=64 S_val=32 lr=[0.01, 0.02]σ̄=1.8138  σmin=0.4706  σmax=2.0547\n"
     ]
    },
    {
     "name": "stderr",
     "output_type": "stream",
     "text": [
      " 28%|██▊       | 281/1000 [08:24<21:05,  1.76s/it]"
     ]
    },
    {
     "name": "stdout",
     "output_type": "stream",
     "text": [
      "[281/1000] train=-286.9835  val=-283.8435  S_train=64 S_val=32 lr=[0.01, 0.02]σ̄=1.8191  σmin=0.4704  σmax=2.0626\n"
     ]
    },
    {
     "name": "stderr",
     "output_type": "stream",
     "text": [
      " 28%|██▊       | 282/1000 [08:26<22:15,  1.86s/it]"
     ]
    },
    {
     "name": "stdout",
     "output_type": "stream",
     "text": [
      "[282/1000] train=-288.3352  val=-284.0730  S_train=64 S_val=32 lr=[0.01, 0.02]σ̄=1.8246  σmin=0.4701  σmax=2.0706\n"
     ]
    },
    {
     "name": "stderr",
     "output_type": "stream",
     "text": [
      " 28%|██▊       | 283/1000 [08:27<21:44,  1.82s/it]"
     ]
    },
    {
     "name": "stdout",
     "output_type": "stream",
     "text": [
      "[283/1000] train=-285.7523  val=-284.3856  S_train=64 S_val=32 lr=[0.01, 0.02]σ̄=1.8300  σmin=0.4681  σmax=2.0789\n"
     ]
    },
    {
     "name": "stderr",
     "output_type": "stream",
     "text": [
      " 28%|██▊       | 284/1000 [08:29<21:21,  1.79s/it]"
     ]
    },
    {
     "name": "stdout",
     "output_type": "stream",
     "text": [
      "[284/1000] train=-284.8040  val=-284.7199  S_train=64 S_val=32 lr=[0.01, 0.02]σ̄=1.8359  σmin=0.4664  σmax=2.0876\n"
     ]
    },
    {
     "name": "stderr",
     "output_type": "stream",
     "text": [
      " 28%|██▊       | 285/1000 [08:31<21:06,  1.77s/it]"
     ]
    },
    {
     "name": "stdout",
     "output_type": "stream",
     "text": [
      "[285/1000] train=-282.6664  val=-285.2865  S_train=64 S_val=32 lr=[0.01, 0.02]σ̄=1.8418  σmin=0.4649  σmax=2.0966\n"
     ]
    },
    {
     "name": "stderr",
     "output_type": "stream",
     "text": [
      " 29%|██▊       | 286/1000 [08:33<20:53,  1.76s/it]"
     ]
    },
    {
     "name": "stdout",
     "output_type": "stream",
     "text": [
      "[286/1000] train=-288.7721  val=-285.8771  S_train=64 S_val=32 lr=[0.01, 0.02]σ̄=1.8475  σmin=0.4635  σmax=2.1052\n"
     ]
    },
    {
     "name": "stderr",
     "output_type": "stream",
     "text": [
      " 29%|██▊       | 287/1000 [08:34<21:13,  1.79s/it]"
     ]
    },
    {
     "name": "stdout",
     "output_type": "stream",
     "text": [
      "[287/1000] train=-289.6182  val=-286.4149  S_train=64 S_val=32 lr=[0.01, 0.02]σ̄=1.8530  σmin=0.4626  σmax=2.1137\n"
     ]
    },
    {
     "name": "stderr",
     "output_type": "stream",
     "text": [
      " 29%|██▉       | 288/1000 [08:36<21:00,  1.77s/it]"
     ]
    },
    {
     "name": "stdout",
     "output_type": "stream",
     "text": [
      "[288/1000] train=-288.1415  val=-286.9926  S_train=64 S_val=32 lr=[0.01, 0.02]σ̄=1.8590  σmin=0.4633  σmax=2.1229\n"
     ]
    },
    {
     "name": "stderr",
     "output_type": "stream",
     "text": [
      " 29%|██▉       | 289/1000 [08:38<20:51,  1.76s/it]"
     ]
    },
    {
     "name": "stdout",
     "output_type": "stream",
     "text": [
      "[289/1000] train=-288.3109  val=-287.4188  S_train=64 S_val=32 lr=[0.01, 0.02]σ̄=1.8646  σmin=0.4641  σmax=2.1315\n"
     ]
    },
    {
     "name": "stderr",
     "output_type": "stream",
     "text": [
      " 29%|██▉       | 290/1000 [08:40<22:46,  1.92s/it]"
     ]
    },
    {
     "name": "stdout",
     "output_type": "stream",
     "text": [
      "[290/1000] train=-286.7272  val=-287.7592  S_train=64 S_val=32 lr=[0.01, 0.02]σ̄=1.8701  σmin=0.4651  σmax=2.1400\n"
     ]
    },
    {
     "name": "stderr",
     "output_type": "stream",
     "text": [
      " 29%|██▉       | 291/1000 [08:42<22:20,  1.89s/it]"
     ]
    },
    {
     "name": "stdout",
     "output_type": "stream",
     "text": [
      "[291/1000] train=-287.4953  val=-288.2004  S_train=64 S_val=32 lr=[0.01, 0.02]σ̄=1.8755  σmin=0.4654  σmax=2.1481\n"
     ]
    },
    {
     "name": "stderr",
     "output_type": "stream",
     "text": [
      " 29%|██▉       | 292/1000 [08:44<21:59,  1.86s/it]"
     ]
    },
    {
     "name": "stdout",
     "output_type": "stream",
     "text": [
      "[292/1000] train=-291.4344  val=-288.6993  S_train=64 S_val=32 lr=[0.01, 0.02]σ̄=1.8817  σmin=0.4673  σmax=2.1590\n"
     ]
    },
    {
     "name": "stderr",
     "output_type": "stream",
     "text": [
      " 29%|██▉       | 293/1000 [08:46<22:19,  1.89s/it]"
     ]
    },
    {
     "name": "stdout",
     "output_type": "stream",
     "text": [
      "[293/1000] train=-286.2494  val=-289.0690  S_train=64 S_val=32 lr=[0.01, 0.02]σ̄=1.8881  σmin=0.4680  σmax=2.1719\n"
     ]
    },
    {
     "name": "stderr",
     "output_type": "stream",
     "text": [
      " 29%|██▉       | 294/1000 [08:48<21:39,  1.84s/it]"
     ]
    },
    {
     "name": "stdout",
     "output_type": "stream",
     "text": [
      "[294/1000] train=-290.9727  val=-289.5811  S_train=64 S_val=32 lr=[0.01, 0.02]σ̄=1.8941  σmin=0.4678  σmax=2.1838\n"
     ]
    },
    {
     "name": "stderr",
     "output_type": "stream",
     "text": [
      " 30%|██▉       | 295/1000 [08:50<22:31,  1.92s/it]"
     ]
    },
    {
     "name": "stdout",
     "output_type": "stream",
     "text": [
      "[295/1000] train=-291.0370  val=-290.0428  S_train=64 S_val=32 lr=[0.01, 0.02]σ̄=1.9000  σmin=0.4674  σmax=2.1954\n"
     ]
    },
    {
     "name": "stderr",
     "output_type": "stream",
     "text": [
      " 30%|██▉       | 296/1000 [08:52<22:23,  1.91s/it]"
     ]
    },
    {
     "name": "stdout",
     "output_type": "stream",
     "text": [
      "[296/1000] train=-289.5535  val=-290.5616  S_train=64 S_val=32 lr=[0.01, 0.02]σ̄=1.9059  σmin=0.4678  σmax=2.2065\n"
     ]
    },
    {
     "name": "stderr",
     "output_type": "stream",
     "text": [
      " 30%|██▉       | 297/1000 [08:53<22:08,  1.89s/it]"
     ]
    },
    {
     "name": "stdout",
     "output_type": "stream",
     "text": [
      "[297/1000] train=-291.2101  val=-291.1943  S_train=64 S_val=32 lr=[0.01, 0.02]σ̄=1.9118  σmin=0.4670  σmax=2.2158\n"
     ]
    },
    {
     "name": "stderr",
     "output_type": "stream",
     "text": [
      " 30%|██▉       | 298/1000 [08:55<21:53,  1.87s/it]"
     ]
    },
    {
     "name": "stdout",
     "output_type": "stream",
     "text": [
      "[298/1000] train=-289.4548  val=-291.7171  S_train=64 S_val=32 lr=[0.01, 0.02]σ̄=1.9173  σmin=0.4655  σmax=2.2242\n"
     ]
    },
    {
     "name": "stderr",
     "output_type": "stream",
     "text": [
      " 30%|██▉       | 299/1000 [08:57<21:28,  1.84s/it]"
     ]
    },
    {
     "name": "stdout",
     "output_type": "stream",
     "text": [
      "[299/1000] train=-290.0068  val=-292.3102  S_train=64 S_val=32 lr=[0.01, 0.02]σ̄=1.9230  σmin=0.4635  σmax=2.2298\n"
     ]
    },
    {
     "name": "stderr",
     "output_type": "stream",
     "text": [
      " 30%|███       | 300/1000 [08:59<21:10,  1.81s/it]"
     ]
    },
    {
     "name": "stdout",
     "output_type": "stream",
     "text": [
      "[300/1000] train=-288.2786  val=-292.8813  S_train=64 S_val=32 lr=[0.01, 0.02]σ̄=1.9282  σmin=0.4627  σmax=2.2351\n"
     ]
    },
    {
     "name": "stderr",
     "output_type": "stream",
     "text": [
      " 30%|███       | 301/1000 [09:00<20:51,  1.79s/it]"
     ]
    },
    {
     "name": "stdout",
     "output_type": "stream",
     "text": [
      "[301/1000] train=-292.1969  val=-293.1977  S_train=64 S_val=32 lr=[0.01, 0.02]σ̄=1.9334  σmin=0.4608  σmax=2.2370\n"
     ]
    },
    {
     "name": "stderr",
     "output_type": "stream",
     "text": [
      " 30%|███       | 302/1000 [09:02<20:35,  1.77s/it]"
     ]
    },
    {
     "name": "stdout",
     "output_type": "stream",
     "text": [
      "[302/1000] train=-294.4411  val=-293.5162  S_train=64 S_val=32 lr=[0.01, 0.02]σ̄=1.9388  σmin=0.4590  σmax=2.2415\n"
     ]
    },
    {
     "name": "stderr",
     "output_type": "stream",
     "text": [
      " 30%|███       | 303/1000 [09:04<20:25,  1.76s/it]"
     ]
    },
    {
     "name": "stdout",
     "output_type": "stream",
     "text": [
      "[303/1000] train=-291.0023  val=-293.8350  S_train=64 S_val=32 lr=[0.01, 0.02]σ̄=1.9438  σmin=0.4565  σmax=2.2495\n"
     ]
    },
    {
     "name": "stderr",
     "output_type": "stream",
     "text": [
      " 30%|███       | 304/1000 [09:06<20:19,  1.75s/it]"
     ]
    },
    {
     "name": "stdout",
     "output_type": "stream",
     "text": [
      "[304/1000] train=-297.6131  val=-294.0266  S_train=64 S_val=32 lr=[0.01, 0.02]σ̄=1.9491  σmin=0.4543  σmax=2.2576\n"
     ]
    },
    {
     "name": "stderr",
     "output_type": "stream",
     "text": [
      " 30%|███       | 305/1000 [09:08<21:55,  1.89s/it]"
     ]
    },
    {
     "name": "stdout",
     "output_type": "stream",
     "text": [
      "[305/1000] train=-295.9166  val=-294.2485  S_train=64 S_val=32 lr=[0.01, 0.02]σ̄=1.9544  σmin=0.4518  σmax=2.2656\n"
     ]
    },
    {
     "name": "stderr",
     "output_type": "stream",
     "text": [
      " 31%|███       | 306/1000 [09:10<21:26,  1.85s/it]"
     ]
    },
    {
     "name": "stdout",
     "output_type": "stream",
     "text": [
      "[306/1000] train=-297.8960  val=-294.6202  S_train=64 S_val=32 lr=[0.01, 0.02]σ̄=1.9604  σmin=0.4493  σmax=2.2740\n"
     ]
    },
    {
     "name": "stderr",
     "output_type": "stream",
     "text": [
      " 31%|███       | 307/1000 [09:11<21:09,  1.83s/it]"
     ]
    },
    {
     "name": "stdout",
     "output_type": "stream",
     "text": [
      "[307/1000] train=-289.4402  val=-294.8678  S_train=64 S_val=32 lr=[0.01, 0.02]σ̄=1.9659  σmin=0.4456  σmax=2.2820\n"
     ]
    },
    {
     "name": "stderr",
     "output_type": "stream",
     "text": [
      " 31%|███       | 308/1000 [09:13<20:44,  1.80s/it]"
     ]
    },
    {
     "name": "stdout",
     "output_type": "stream",
     "text": [
      "[308/1000] train=-298.1266  val=-295.1243  S_train=64 S_val=32 lr=[0.01, 0.02]σ̄=1.9719  σmin=0.4423  σmax=2.2906\n"
     ]
    },
    {
     "name": "stderr",
     "output_type": "stream",
     "text": [
      " 31%|███       | 309/1000 [09:15<21:14,  1.84s/it]"
     ]
    },
    {
     "name": "stdout",
     "output_type": "stream",
     "text": [
      "[309/1000] train=-293.4988  val=-295.3609  S_train=64 S_val=32 lr=[0.01, 0.02]σ̄=1.9777  σmin=0.4398  σmax=2.2991\n"
     ]
    },
    {
     "name": "stderr",
     "output_type": "stream",
     "text": [
      " 31%|███       | 310/1000 [09:17<20:47,  1.81s/it]"
     ]
    },
    {
     "name": "stdout",
     "output_type": "stream",
     "text": [
      "[310/1000] train=-291.6827  val=-295.6783  S_train=64 S_val=32 lr=[0.01, 0.02]σ̄=1.9831  σmin=0.4398  σmax=2.3072\n"
     ]
    },
    {
     "name": "stderr",
     "output_type": "stream",
     "text": [
      " 31%|███       | 311/1000 [09:19<20:31,  1.79s/it]"
     ]
    },
    {
     "name": "stdout",
     "output_type": "stream",
     "text": [
      "[311/1000] train=-296.4583  val=-295.8258  S_train=64 S_val=32 lr=[0.01, 0.02]σ̄=1.9885  σmin=0.4397  σmax=2.3151\n"
     ]
    },
    {
     "name": "stderr",
     "output_type": "stream",
     "text": [
      " 31%|███       | 312/1000 [09:20<20:18,  1.77s/it]"
     ]
    },
    {
     "name": "stdout",
     "output_type": "stream",
     "text": [
      "[312/1000] train=-292.8938  val=-295.9449  S_train=64 S_val=32 lr=[0.01, 0.02]σ̄=1.9935  σmin=0.4385  σmax=2.3227\n"
     ]
    },
    {
     "name": "stderr",
     "output_type": "stream",
     "text": [
      " 31%|███▏      | 313/1000 [09:22<20:07,  1.76s/it]"
     ]
    },
    {
     "name": "stdout",
     "output_type": "stream",
     "text": [
      "[313/1000] train=-297.2299  val=-296.0995  S_train=64 S_val=32 lr=[0.01, 0.02]σ̄=1.9982  σmin=0.4378  σmax=2.3298\n"
     ]
    },
    {
     "name": "stderr",
     "output_type": "stream",
     "text": [
      " 31%|███▏      | 314/1000 [09:24<20:03,  1.75s/it]"
     ]
    },
    {
     "name": "stdout",
     "output_type": "stream",
     "text": [
      "[314/1000] train=-294.3954  val=-296.3833  S_train=64 S_val=32 lr=[0.01, 0.02]σ̄=2.0029  σmin=0.4365  σmax=2.3370\n"
     ]
    },
    {
     "name": "stderr",
     "output_type": "stream",
     "text": [
      " 32%|███▏      | 315/1000 [09:26<20:24,  1.79s/it]"
     ]
    },
    {
     "name": "stdout",
     "output_type": "stream",
     "text": [
      "[315/1000] train=-295.4289  val=-296.7495  S_train=64 S_val=32 lr=[0.01, 0.02]σ̄=2.0074  σmin=0.4346  σmax=2.3441\n"
     ]
    },
    {
     "name": "stderr",
     "output_type": "stream",
     "text": [
      " 32%|███▏      | 316/1000 [09:27<20:11,  1.77s/it]"
     ]
    },
    {
     "name": "stdout",
     "output_type": "stream",
     "text": [
      "[316/1000] train=-290.2346  val=-297.1399  S_train=64 S_val=32 lr=[0.01, 0.02]σ̄=2.0119  σmin=0.4342  σmax=2.3512\n"
     ]
    },
    {
     "name": "stderr",
     "output_type": "stream",
     "text": [
      " 32%|███▏      | 317/1000 [09:29<19:59,  1.76s/it]"
     ]
    },
    {
     "name": "stdout",
     "output_type": "stream",
     "text": [
      "[317/1000] train=-291.3466  val=-297.4991  S_train=64 S_val=32 lr=[0.01, 0.02]σ̄=2.0161  σmin=0.4344  σmax=2.3581\n"
     ]
    },
    {
     "name": "stderr",
     "output_type": "stream",
     "text": [
      " 32%|███▏      | 318/1000 [09:31<21:02,  1.85s/it]"
     ]
    },
    {
     "name": "stdout",
     "output_type": "stream",
     "text": [
      "[318/1000] train=-298.0487  val=-297.9081  S_train=64 S_val=32 lr=[0.01, 0.02]σ̄=2.0202  σmin=0.4340  σmax=2.3648\n"
     ]
    },
    {
     "name": "stderr",
     "output_type": "stream",
     "text": [
      " 32%|███▏      | 319/1000 [09:33<20:38,  1.82s/it]"
     ]
    },
    {
     "name": "stdout",
     "output_type": "stream",
     "text": [
      "[319/1000] train=-296.6821  val=-298.2899  S_train=64 S_val=32 lr=[0.01, 0.02]σ̄=2.0239  σmin=0.4330  σmax=2.3712\n"
     ]
    },
    {
     "name": "stderr",
     "output_type": "stream",
     "text": [
      " 32%|███▏      | 320/1000 [09:35<20:17,  1.79s/it]"
     ]
    },
    {
     "name": "stdout",
     "output_type": "stream",
     "text": [
      "[320/1000] train=-294.4373  val=-298.5509  S_train=64 S_val=32 lr=[0.01, 0.02]σ̄=2.0278  σmin=0.4312  σmax=2.3777\n"
     ]
    },
    {
     "name": "stderr",
     "output_type": "stream",
     "text": [
      " 32%|███▏      | 321/1000 [09:36<20:07,  1.78s/it]"
     ]
    },
    {
     "name": "stdout",
     "output_type": "stream",
     "text": [
      "[321/1000] train=-299.2972  val=-298.8164  S_train=64 S_val=32 lr=[0.01, 0.02]σ̄=2.0319  σmin=0.4300  σmax=2.3846\n"
     ]
    },
    {
     "name": "stderr",
     "output_type": "stream",
     "text": [
      " 32%|███▏      | 322/1000 [09:38<20:01,  1.77s/it]"
     ]
    },
    {
     "name": "stdout",
     "output_type": "stream",
     "text": [
      "[322/1000] train=-293.2856  val=-299.0608  S_train=64 S_val=32 lr=[0.01, 0.02]σ̄=2.0357  σmin=0.4286  σmax=2.3910\n"
     ]
    },
    {
     "name": "stderr",
     "output_type": "stream",
     "text": [
      " 32%|███▏      | 323/1000 [09:40<19:50,  1.76s/it]"
     ]
    },
    {
     "name": "stdout",
     "output_type": "stream",
     "text": [
      "[323/1000] train=-293.2057  val=-299.3622  S_train=64 S_val=32 lr=[0.01, 0.02]σ̄=2.0392  σmin=0.4266  σmax=2.3971\n"
     ]
    },
    {
     "name": "stderr",
     "output_type": "stream",
     "text": [
      " 32%|███▏      | 324/1000 [09:42<20:23,  1.81s/it]"
     ]
    },
    {
     "name": "stdout",
     "output_type": "stream",
     "text": [
      "[324/1000] train=-300.0270  val=-299.3753  S_train=64 S_val=32 lr=[0.01, 0.02]σ̄=2.0426  σmin=0.4241  σmax=2.4030\n"
     ]
    },
    {
     "name": "stderr",
     "output_type": "stream",
     "text": [
      " 32%|███▎      | 325/1000 [09:44<20:08,  1.79s/it]"
     ]
    },
    {
     "name": "stdout",
     "output_type": "stream",
     "text": [
      "[325/1000] train=-299.3068  val=-299.7612  S_train=64 S_val=32 lr=[0.01, 0.02]σ̄=2.0460  σmin=0.4213  σmax=2.4087\n"
     ]
    },
    {
     "name": "stderr",
     "output_type": "stream",
     "text": [
      " 33%|███▎      | 326/1000 [09:45<19:53,  1.77s/it]"
     ]
    },
    {
     "name": "stdout",
     "output_type": "stream",
     "text": [
      "[326/1000] train=-298.7341  val=-300.0501  S_train=64 S_val=32 lr=[0.01, 0.02]σ̄=2.0492  σmin=0.4174  σmax=2.4142\n"
     ]
    },
    {
     "name": "stderr",
     "output_type": "stream",
     "text": [
      " 33%|███▎      | 327/1000 [09:47<19:42,  1.76s/it]"
     ]
    },
    {
     "name": "stdout",
     "output_type": "stream",
     "text": [
      "[327/1000] train=-298.8327  val=-300.2037  S_train=64 S_val=32 lr=[0.01, 0.02]σ̄=2.0524  σmin=0.4158  σmax=2.4197\n"
     ]
    },
    {
     "name": "stderr",
     "output_type": "stream",
     "text": [
      " 33%|███▎      | 328/1000 [09:49<19:31,  1.74s/it]"
     ]
    },
    {
     "name": "stdout",
     "output_type": "stream",
     "text": [
      "[328/1000] train=-298.1268  val=-300.4135  S_train=64 S_val=32 lr=[0.01, 0.02]σ̄=2.0557  σmin=0.4141  σmax=2.4253\n"
     ]
    },
    {
     "name": "stderr",
     "output_type": "stream",
     "text": [
      " 33%|███▎      | 329/1000 [09:50<19:35,  1.75s/it]"
     ]
    },
    {
     "name": "stdout",
     "output_type": "stream",
     "text": [
      "[329/1000] train=-303.6579  val=-300.7018  S_train=64 S_val=32 lr=[0.01, 0.02]σ̄=2.0591  σmin=0.4132  σmax=2.4311\n"
     ]
    },
    {
     "name": "stderr",
     "output_type": "stream",
     "text": [
      " 33%|███▎      | 330/1000 [09:52<19:27,  1.74s/it]"
     ]
    },
    {
     "name": "stdout",
     "output_type": "stream",
     "text": [
      "[330/1000] train=-300.4628  val=-300.9623  S_train=64 S_val=32 lr=[0.01, 0.02]σ̄=2.0622  σmin=0.4118  σmax=2.4365\n"
     ]
    },
    {
     "name": "stderr",
     "output_type": "stream",
     "text": [
      " 33%|███▎      | 331/1000 [09:54<20:55,  1.88s/it]"
     ]
    },
    {
     "name": "stdout",
     "output_type": "stream",
     "text": [
      "[331/1000] train=-300.5291  val=-301.2236  S_train=64 S_val=32 lr=[0.01, 0.02]σ̄=2.0654  σmin=0.4113  σmax=2.4420\n"
     ]
    },
    {
     "name": "stderr",
     "output_type": "stream",
     "text": [
      " 33%|███▎      | 332/1000 [09:56<20:25,  1.83s/it]"
     ]
    },
    {
     "name": "stdout",
     "output_type": "stream",
     "text": [
      "[332/1000] train=-298.0008  val=-301.3307  S_train=64 S_val=32 lr=[0.01, 0.02]σ̄=2.0684  σmin=0.4113  σmax=2.4479\n"
     ]
    },
    {
     "name": "stderr",
     "output_type": "stream",
     "text": [
      " 33%|███▎      | 333/1000 [09:58<20:24,  1.84s/it]"
     ]
    },
    {
     "name": "stdout",
     "output_type": "stream",
     "text": [
      "[333/1000] train=-301.8551  val=-301.4165  S_train=64 S_val=32 lr=[0.01, 0.02]σ̄=2.0713  σmin=0.4115  σmax=2.4537\n"
     ]
    },
    {
     "name": "stderr",
     "output_type": "stream",
     "text": [
      " 33%|███▎      | 334/1000 [10:00<19:59,  1.80s/it]"
     ]
    },
    {
     "name": "stdout",
     "output_type": "stream",
     "text": [
      "[334/1000] train=-301.9067  val=-301.5963  S_train=64 S_val=32 lr=[0.01, 0.02]σ̄=2.0740  σmin=0.4116  σmax=2.4592\n"
     ]
    },
    {
     "name": "stderr",
     "output_type": "stream",
     "text": [
      " 34%|███▎      | 335/1000 [10:01<19:42,  1.78s/it]"
     ]
    },
    {
     "name": "stdout",
     "output_type": "stream",
     "text": [
      "[335/1000] train=-302.4610  val=-301.7169  S_train=64 S_val=32 lr=[0.01, 0.02]σ̄=2.0768  σmin=0.4117  σmax=2.4647\n"
     ]
    },
    {
     "name": "stderr",
     "output_type": "stream",
     "text": [
      " 34%|███▎      | 336/1000 [10:03<19:30,  1.76s/it]"
     ]
    },
    {
     "name": "stdout",
     "output_type": "stream",
     "text": [
      "[336/1000] train=-300.4229  val=-301.9398  S_train=64 S_val=32 lr=[0.01, 0.02]σ̄=2.0797  σmin=0.4129  σmax=2.4705\n"
     ]
    },
    {
     "name": "stderr",
     "output_type": "stream",
     "text": [
      " 34%|███▎      | 337/1000 [10:05<19:23,  1.75s/it]"
     ]
    },
    {
     "name": "stdout",
     "output_type": "stream",
     "text": [
      "[337/1000] train=-299.1694  val=-301.8807  S_train=64 S_val=32 lr=[0.01, 0.02]σ̄=2.0825  σmin=0.4137  σmax=2.4758\n"
     ]
    },
    {
     "name": "stderr",
     "output_type": "stream",
     "text": [
      " 34%|███▍      | 338/1000 [10:07<19:14,  1.74s/it]"
     ]
    },
    {
     "name": "stdout",
     "output_type": "stream",
     "text": [
      "[338/1000] train=-304.4653  val=-302.0415  S_train=64 S_val=32 lr=[0.01, 0.02]σ̄=2.0852  σmin=0.4151  σmax=2.4810\n"
     ]
    },
    {
     "name": "stderr",
     "output_type": "stream",
     "text": [
      " 34%|███▍      | 339/1000 [10:08<19:07,  1.74s/it]"
     ]
    },
    {
     "name": "stdout",
     "output_type": "stream",
     "text": [
      "[339/1000] train=-305.4650  val=-302.2919  S_train=64 S_val=32 lr=[0.01, 0.02]σ̄=2.0882  σmin=0.4161  σmax=2.4867\n"
     ]
    },
    {
     "name": "stderr",
     "output_type": "stream",
     "text": [
      " 34%|███▍      | 340/1000 [10:10<19:09,  1.74s/it]"
     ]
    },
    {
     "name": "stdout",
     "output_type": "stream",
     "text": [
      "[340/1000] train=-303.0755  val=-302.5977  S_train=64 S_val=32 lr=[0.01, 0.02]σ̄=2.0911  σmin=0.4172  σmax=2.4921\n"
     ]
    },
    {
     "name": "stderr",
     "output_type": "stream",
     "text": [
      " 34%|███▍      | 341/1000 [10:12<19:11,  1.75s/it]"
     ]
    },
    {
     "name": "stdout",
     "output_type": "stream",
     "text": [
      "[341/1000] train=-295.8345  val=-302.8176  S_train=64 S_val=32 lr=[0.01, 0.02]σ̄=2.0940  σmin=0.4187  σmax=2.4976\n"
     ]
    },
    {
     "name": "stderr",
     "output_type": "stream",
     "text": [
      " 34%|███▍      | 342/1000 [10:14<19:14,  1.75s/it]"
     ]
    },
    {
     "name": "stdout",
     "output_type": "stream",
     "text": [
      "[342/1000] train=-303.6879  val=-303.1727  S_train=64 S_val=32 lr=[0.01, 0.02]σ̄=2.0972  σmin=0.4210  σmax=2.5033\n"
     ]
    },
    {
     "name": "stderr",
     "output_type": "stream",
     "text": [
      " 34%|███▍      | 343/1000 [10:16<19:59,  1.83s/it]"
     ]
    },
    {
     "name": "stdout",
     "output_type": "stream",
     "text": [
      "[343/1000] train=-307.7126  val=-303.4504  S_train=64 S_val=32 lr=[0.01, 0.02]σ̄=2.1007  σmin=0.4237  σmax=2.5094\n"
     ]
    },
    {
     "name": "stderr",
     "output_type": "stream",
     "text": [
      " 34%|███▍      | 344/1000 [10:18<20:56,  1.91s/it]"
     ]
    },
    {
     "name": "stdout",
     "output_type": "stream",
     "text": [
      "[344/1000] train=-298.5237  val=-303.7490  S_train=64 S_val=32 lr=[0.01, 0.02]σ̄=2.1043  σmin=0.4257  σmax=2.5155\n"
     ]
    },
    {
     "name": "stderr",
     "output_type": "stream",
     "text": [
      " 34%|███▍      | 345/1000 [10:19<20:16,  1.86s/it]"
     ]
    },
    {
     "name": "stdout",
     "output_type": "stream",
     "text": [
      "[345/1000] train=-304.7675  val=-304.1846  S_train=64 S_val=32 lr=[0.01, 0.02]σ̄=2.1084  σmin=0.4273  σmax=2.5224\n"
     ]
    },
    {
     "name": "stderr",
     "output_type": "stream",
     "text": [
      " 35%|███▍      | 346/1000 [10:21<19:50,  1.82s/it]"
     ]
    },
    {
     "name": "stdout",
     "output_type": "stream",
     "text": [
      "[346/1000] train=-300.3466  val=-304.6982  S_train=64 S_val=32 lr=[0.01, 0.02]σ̄=2.1124  σmin=0.4289  σmax=2.5290\n"
     ]
    },
    {
     "name": "stderr",
     "output_type": "stream",
     "text": [
      " 35%|███▍      | 347/1000 [10:23<19:28,  1.79s/it]"
     ]
    },
    {
     "name": "stdout",
     "output_type": "stream",
     "text": [
      "[347/1000] train=-305.1412  val=-305.1092  S_train=64 S_val=32 lr=[0.01, 0.02]σ̄=2.1168  σmin=0.4301  σmax=2.5360\n"
     ]
    },
    {
     "name": "stderr",
     "output_type": "stream",
     "text": [
      " 35%|███▍      | 348/1000 [10:25<19:25,  1.79s/it]"
     ]
    },
    {
     "name": "stdout",
     "output_type": "stream",
     "text": [
      "[348/1000] train=-303.0002  val=-305.4350  S_train=64 S_val=32 lr=[0.01, 0.02]σ̄=2.1209  σmin=0.4309  σmax=2.5429\n"
     ]
    },
    {
     "name": "stderr",
     "output_type": "stream",
     "text": [
      " 35%|███▍      | 349/1000 [10:26<19:14,  1.77s/it]"
     ]
    },
    {
     "name": "stdout",
     "output_type": "stream",
     "text": [
      "[349/1000] train=-292.8225  val=-305.5009  S_train=64 S_val=32 lr=[0.01, 0.02]σ̄=2.1247  σmin=0.4323  σmax=2.5494\n"
     ]
    },
    {
     "name": "stderr",
     "output_type": "stream",
     "text": [
      " 35%|███▌      | 350/1000 [10:28<19:04,  1.76s/it]"
     ]
    },
    {
     "name": "stdout",
     "output_type": "stream",
     "text": [
      "[350/1000] train=-306.1787  val=-305.8078  S_train=64 S_val=32 lr=[0.01, 0.02]σ̄=2.1292  σmin=0.4325  σmax=2.5566\n"
     ]
    },
    {
     "name": "stderr",
     "output_type": "stream",
     "text": [
      " 35%|███▌      | 351/1000 [10:30<18:56,  1.75s/it]"
     ]
    },
    {
     "name": "stdout",
     "output_type": "stream",
     "text": [
      "[351/1000] train=-304.2767  val=-306.1239  S_train=64 S_val=32 lr=[0.01, 0.02]σ̄=2.1335  σmin=0.4327  σmax=2.5636\n"
     ]
    },
    {
     "name": "stderr",
     "output_type": "stream",
     "text": [
      " 35%|███▌      | 352/1000 [10:32<19:14,  1.78s/it]"
     ]
    },
    {
     "name": "stdout",
     "output_type": "stream",
     "text": [
      "[352/1000] train=-302.8234  val=-306.3241  S_train=64 S_val=32 lr=[0.01, 0.02]σ̄=2.1376  σmin=0.4322  σmax=2.5703\n"
     ]
    },
    {
     "name": "stderr",
     "output_type": "stream",
     "text": [
      " 35%|███▌      | 353/1000 [10:33<19:02,  1.77s/it]"
     ]
    },
    {
     "name": "stdout",
     "output_type": "stream",
     "text": [
      "[353/1000] train=-307.7024  val=-306.3448  S_train=64 S_val=32 lr=[0.01, 0.02]σ̄=2.1416  σmin=0.4308  σmax=2.5768\n"
     ]
    },
    {
     "name": "stderr",
     "output_type": "stream",
     "text": [
      " 35%|███▌      | 354/1000 [10:35<19:03,  1.77s/it]"
     ]
    },
    {
     "name": "stdout",
     "output_type": "stream",
     "text": [
      "[354/1000] train=-303.1789  val=-306.4992  S_train=64 S_val=32 lr=[0.01, 0.02]σ̄=2.1454  σmin=0.4296  σmax=2.5830\n"
     ]
    },
    {
     "name": "stderr",
     "output_type": "stream",
     "text": [
      " 36%|███▌      | 355/1000 [10:37<18:53,  1.76s/it]"
     ]
    },
    {
     "name": "stdout",
     "output_type": "stream",
     "text": [
      "[355/1000] train=-306.3019  val=-306.6658  S_train=64 S_val=32 lr=[0.01, 0.02]σ̄=2.1494  σmin=0.4292  σmax=2.5894\n"
     ]
    },
    {
     "name": "stderr",
     "output_type": "stream",
     "text": [
      " 36%|███▌      | 356/1000 [10:39<18:53,  1.76s/it]"
     ]
    },
    {
     "name": "stdout",
     "output_type": "stream",
     "text": [
      "[356/1000] train=-303.8913  val=-306.7757  S_train=64 S_val=32 lr=[0.01, 0.02]σ̄=2.1532  σmin=0.4278  σmax=2.5957\n"
     ]
    },
    {
     "name": "stderr",
     "output_type": "stream",
     "text": [
      " 36%|███▌      | 357/1000 [10:41<19:59,  1.87s/it]"
     ]
    },
    {
     "name": "stdout",
     "output_type": "stream",
     "text": [
      "[357/1000] train=-308.0767  val=-306.8810  S_train=64 S_val=32 lr=[0.01, 0.02]σ̄=2.1570  σmin=0.4261  σmax=2.6020\n"
     ]
    },
    {
     "name": "stderr",
     "output_type": "stream",
     "text": [
      " 36%|███▌      | 358/1000 [10:43<19:45,  1.85s/it]"
     ]
    },
    {
     "name": "stdout",
     "output_type": "stream",
     "text": [
      "[358/1000] train=-308.7596  val=-307.0470  S_train=64 S_val=32 lr=[0.01, 0.02]σ̄=2.1609  σmin=0.4246  σmax=2.6084\n"
     ]
    },
    {
     "name": "stderr",
     "output_type": "stream",
     "text": [
      " 36%|███▌      | 359/1000 [10:44<19:20,  1.81s/it]"
     ]
    },
    {
     "name": "stdout",
     "output_type": "stream",
     "text": [
      "[359/1000] train=-304.7181  val=-307.2178  S_train=64 S_val=32 lr=[0.01, 0.02]σ̄=2.1646  σmin=0.4249  σmax=2.6145\n"
     ]
    },
    {
     "name": "stderr",
     "output_type": "stream",
     "text": [
      " 36%|███▌      | 360/1000 [10:46<19:07,  1.79s/it]"
     ]
    },
    {
     "name": "stdout",
     "output_type": "stream",
     "text": [
      "[360/1000] train=-308.5093  val=-307.1124  S_train=64 S_val=32 lr=[0.01, 0.02]σ̄=2.1685  σmin=0.4248  σmax=2.6209\n"
     ]
    },
    {
     "name": "stderr",
     "output_type": "stream",
     "text": [
      " 36%|███▌      | 361/1000 [10:48<19:13,  1.81s/it]"
     ]
    },
    {
     "name": "stdout",
     "output_type": "stream",
     "text": [
      "[361/1000] train=-307.7332  val=-307.2171  S_train=64 S_val=32 lr=[0.01, 0.02]σ̄=2.1725  σmin=0.4243  σmax=2.6274\n"
     ]
    },
    {
     "name": "stderr",
     "output_type": "stream",
     "text": [
      " 36%|███▌      | 362/1000 [10:50<18:57,  1.78s/it]"
     ]
    },
    {
     "name": "stdout",
     "output_type": "stream",
     "text": [
      "[362/1000] train=-303.9445  val=-307.2009  S_train=64 S_val=32 lr=[0.01, 0.02]σ̄=2.1764  σmin=0.4236  σmax=2.6338\n"
     ]
    },
    {
     "name": "stderr",
     "output_type": "stream",
     "text": [
      " 36%|███▋      | 363/1000 [10:51<18:48,  1.77s/it]"
     ]
    },
    {
     "name": "stdout",
     "output_type": "stream",
     "text": [
      "[363/1000] train=-305.0383  val=-307.1592  S_train=64 S_val=32 lr=[0.01, 0.02]σ̄=2.1801  σmin=0.4226  σmax=2.6403\n"
     ]
    },
    {
     "name": "stderr",
     "output_type": "stream",
     "text": [
      " 36%|███▋      | 364/1000 [10:53<19:28,  1.84s/it]"
     ]
    },
    {
     "name": "stdout",
     "output_type": "stream",
     "text": [
      "[364/1000] train=-305.4632  val=-307.1104  S_train=64 S_val=32 lr=[0.01, 0.02]σ̄=2.1835  σmin=0.4217  σmax=2.6464\n"
     ]
    },
    {
     "name": "stderr",
     "output_type": "stream",
     "text": [
      " 36%|███▋      | 365/1000 [10:56<21:23,  2.02s/it]"
     ]
    },
    {
     "name": "stdout",
     "output_type": "stream",
     "text": [
      "[365/1000] train=-300.1232  val=-307.0961  S_train=64 S_val=32 lr=[0.01, 0.02]σ̄=2.1867  σmin=0.4216  σmax=2.6521\n"
     ]
    },
    {
     "name": "stderr",
     "output_type": "stream",
     "text": [
      " 37%|███▋      | 366/1000 [10:58<21:33,  2.04s/it]"
     ]
    },
    {
     "name": "stdout",
     "output_type": "stream",
     "text": [
      "[366/1000] train=-309.0577  val=-307.2755  S_train=64 S_val=32 lr=[0.01, 0.02]σ̄=2.1903  σmin=0.4230  σmax=2.6583\n"
     ]
    },
    {
     "name": "stderr",
     "output_type": "stream",
     "text": [
      " 37%|███▋      | 367/1000 [11:00<22:12,  2.10s/it]"
     ]
    },
    {
     "name": "stdout",
     "output_type": "stream",
     "text": [
      "[367/1000] train=-307.5570  val=-307.4095  S_train=64 S_val=32 lr=[0.01, 0.02]σ̄=2.1935  σmin=0.4240  σmax=2.6641\n"
     ]
    },
    {
     "name": "stderr",
     "output_type": "stream",
     "text": [
      " 37%|███▋      | 368/1000 [11:02<21:09,  2.01s/it]"
     ]
    },
    {
     "name": "stdout",
     "output_type": "stream",
     "text": [
      "[368/1000] train=-304.6696  val=-307.6482  S_train=64 S_val=32 lr=[0.01, 0.02]σ̄=2.1970  σmin=0.4261  σmax=2.6702\n"
     ]
    },
    {
     "name": "stderr",
     "output_type": "stream",
     "text": [
      " 37%|███▋      | 369/1000 [11:04<20:16,  1.93s/it]"
     ]
    },
    {
     "name": "stdout",
     "output_type": "stream",
     "text": [
      "[369/1000] train=-309.0443  val=-307.7116  S_train=64 S_val=32 lr=[0.01, 0.02]σ̄=2.2004  σmin=0.4286  σmax=2.6759\n"
     ]
    },
    {
     "name": "stderr",
     "output_type": "stream",
     "text": [
      " 37%|███▋      | 370/1000 [11:06<20:02,  1.91s/it]"
     ]
    },
    {
     "name": "stdout",
     "output_type": "stream",
     "text": [
      "[370/1000] train=-310.5290  val=-307.7495  S_train=64 S_val=32 lr=[0.01, 0.02]σ̄=2.2037  σmin=0.4313  σmax=2.6815\n"
     ]
    },
    {
     "name": "stderr",
     "output_type": "stream",
     "text": [
      " 37%|███▋      | 371/1000 [11:07<19:31,  1.86s/it]"
     ]
    },
    {
     "name": "stdout",
     "output_type": "stream",
     "text": [
      "[371/1000] train=-306.6677  val=-307.9020  S_train=64 S_val=32 lr=[0.01, 0.02]σ̄=2.2069  σmin=0.4340  σmax=2.6870\n"
     ]
    },
    {
     "name": "stderr",
     "output_type": "stream",
     "text": [
      " 37%|███▋      | 372/1000 [11:09<19:11,  1.83s/it]"
     ]
    },
    {
     "name": "stdout",
     "output_type": "stream",
     "text": [
      "[372/1000] train=-309.2947  val=-308.1362  S_train=64 S_val=32 lr=[0.01, 0.02]σ̄=2.2100  σmin=0.4356  σmax=2.6925\n"
     ]
    },
    {
     "name": "stderr",
     "output_type": "stream",
     "text": [
      " 37%|███▋      | 373/1000 [11:11<18:54,  1.81s/it]"
     ]
    },
    {
     "name": "stdout",
     "output_type": "stream",
     "text": [
      "[373/1000] train=-306.9478  val=-308.3832  S_train=64 S_val=32 lr=[0.01, 0.02]σ̄=2.2134  σmin=0.4373  σmax=2.6983\n"
     ]
    },
    {
     "name": "stderr",
     "output_type": "stream",
     "text": [
      " 37%|███▋      | 374/1000 [11:13<18:42,  1.79s/it]"
     ]
    },
    {
     "name": "stdout",
     "output_type": "stream",
     "text": [
      "[374/1000] train=-309.1253  val=-308.5081  S_train=64 S_val=32 lr=[0.01, 0.02]σ̄=2.2166  σmin=0.4404  σmax=2.7037\n"
     ]
    },
    {
     "name": "stderr",
     "output_type": "stream",
     "text": [
      " 38%|███▊      | 375/1000 [11:14<18:53,  1.81s/it]"
     ]
    },
    {
     "name": "stdout",
     "output_type": "stream",
     "text": [
      "[375/1000] train=-309.6154  val=-308.5081  S_train=64 S_val=32 lr=[0.01, 0.02]σ̄=2.2205  σmin=0.4436  σmax=2.7102\n"
     ]
    },
    {
     "name": "stderr",
     "output_type": "stream",
     "text": [
      " 38%|███▊      | 376/1000 [11:16<18:56,  1.82s/it]"
     ]
    },
    {
     "name": "stdout",
     "output_type": "stream",
     "text": [
      "[376/1000] train=-309.6709  val=-308.8526  S_train=64 S_val=32 lr=[0.01, 0.02]σ̄=2.2242  σmin=0.4476  σmax=2.7164\n"
     ]
    },
    {
     "name": "stderr",
     "output_type": "stream",
     "text": [
      " 38%|███▊      | 377/1000 [11:18<18:40,  1.80s/it]"
     ]
    },
    {
     "name": "stdout",
     "output_type": "stream",
     "text": [
      "[377/1000] train=-305.3599  val=-308.7875  S_train=64 S_val=32 lr=[0.01, 0.02]σ̄=2.2278  σmin=0.4519  σmax=2.7223\n"
     ]
    },
    {
     "name": "stderr",
     "output_type": "stream",
     "text": [
      " 38%|███▊      | 378/1000 [11:20<18:28,  1.78s/it]"
     ]
    },
    {
     "name": "stdout",
     "output_type": "stream",
     "text": [
      "[378/1000] train=-312.6297  val=-309.2473  S_train=64 S_val=32 lr=[0.01, 0.02]σ̄=2.2314  σmin=0.4554  σmax=2.7280\n"
     ]
    },
    {
     "name": "stderr",
     "output_type": "stream",
     "text": [
      " 38%|███▊      | 379/1000 [11:22<19:37,  1.90s/it]"
     ]
    },
    {
     "name": "stdout",
     "output_type": "stream",
     "text": [
      "[379/1000] train=-310.8761  val=-309.5613  S_train=64 S_val=32 lr=[0.01, 0.02]σ̄=2.2353  σmin=0.4577  σmax=2.7338\n"
     ]
    },
    {
     "name": "stderr",
     "output_type": "stream",
     "text": [
      " 38%|███▊      | 380/1000 [11:24<19:29,  1.89s/it]"
     ]
    },
    {
     "name": "stdout",
     "output_type": "stream",
     "text": [
      "[380/1000] train=-316.3618  val=-309.7222  S_train=64 S_val=32 lr=[0.01, 0.02]σ̄=2.2396  σmin=0.4592  σmax=2.7403\n"
     ]
    },
    {
     "name": "stderr",
     "output_type": "stream",
     "text": [
      " 38%|███▊      | 381/1000 [11:26<19:07,  1.85s/it]"
     ]
    },
    {
     "name": "stdout",
     "output_type": "stream",
     "text": [
      "[381/1000] train=-312.4645  val=-310.2419  S_train=64 S_val=32 lr=[0.01, 0.02]σ̄=2.2440  σmin=0.4607  σmax=2.7470\n"
     ]
    },
    {
     "name": "stderr",
     "output_type": "stream",
     "text": [
      " 38%|███▊      | 382/1000 [11:27<18:43,  1.82s/it]"
     ]
    },
    {
     "name": "stdout",
     "output_type": "stream",
     "text": [
      "[382/1000] train=-314.3302  val=-310.5027  S_train=64 S_val=32 lr=[0.01, 0.02]σ̄=2.2483  σmin=0.4623  σmax=2.7536\n"
     ]
    },
    {
     "name": "stderr",
     "output_type": "stream",
     "text": [
      " 38%|███▊      | 383/1000 [11:29<18:30,  1.80s/it]"
     ]
    },
    {
     "name": "stdout",
     "output_type": "stream",
     "text": [
      "[383/1000] train=-306.5045  val=-310.6587  S_train=64 S_val=32 lr=[0.01, 0.02]σ̄=2.2524  σmin=0.4627  σmax=2.7597\n"
     ]
    },
    {
     "name": "stderr",
     "output_type": "stream",
     "text": [
      " 38%|███▊      | 384/1000 [11:31<18:19,  1.78s/it]"
     ]
    },
    {
     "name": "stdout",
     "output_type": "stream",
     "text": [
      "[384/1000] train=-310.1901  val=-310.8267  S_train=64 S_val=32 lr=[0.01, 0.02]σ̄=2.2563  σmin=0.4626  σmax=2.7656\n"
     ]
    },
    {
     "name": "stderr",
     "output_type": "stream",
     "text": [
      " 38%|███▊      | 385/1000 [11:33<18:14,  1.78s/it]"
     ]
    },
    {
     "name": "stdout",
     "output_type": "stream",
     "text": [
      "[385/1000] train=-311.6256  val=-310.9486  S_train=64 S_val=32 lr=[0.01, 0.02]σ̄=2.2604  σmin=0.4621  σmax=2.7719\n"
     ]
    },
    {
     "name": "stderr",
     "output_type": "stream",
     "text": [
      " 39%|███▊      | 386/1000 [11:34<18:10,  1.78s/it]"
     ]
    },
    {
     "name": "stdout",
     "output_type": "stream",
     "text": [
      "[386/1000] train=-309.8456  val=-311.0321  S_train=64 S_val=32 lr=[0.01, 0.02]σ̄=2.2641  σmin=0.4614  σmax=2.7777\n"
     ]
    },
    {
     "name": "stderr",
     "output_type": "stream",
     "text": [
      " 39%|███▊      | 387/1000 [11:36<18:08,  1.78s/it]"
     ]
    },
    {
     "name": "stdout",
     "output_type": "stream",
     "text": [
      "[387/1000] train=-296.7156  val=-311.2339  S_train=64 S_val=32 lr=[0.01, 0.02]σ̄=2.2674  σmin=0.4598  σmax=2.7833\n"
     ]
    },
    {
     "name": "stderr",
     "output_type": "stream",
     "text": [
      " 39%|███▉      | 388/1000 [11:38<17:58,  1.76s/it]"
     ]
    },
    {
     "name": "stdout",
     "output_type": "stream",
     "text": [
      "[388/1000] train=-310.3233  val=-311.3515  S_train=64 S_val=32 lr=[0.01, 0.02]σ̄=2.2707  σmin=0.4589  σmax=2.7887\n"
     ]
    },
    {
     "name": "stderr",
     "output_type": "stream",
     "text": [
      " 39%|███▉      | 389/1000 [11:40<18:14,  1.79s/it]"
     ]
    },
    {
     "name": "stdout",
     "output_type": "stream",
     "text": [
      "[389/1000] train=-310.5298  val=-311.4458  S_train=64 S_val=32 lr=[0.01, 0.02]σ̄=2.2737  σmin=0.4583  σmax=2.7938\n"
     ]
    },
    {
     "name": "stderr",
     "output_type": "stream",
     "text": [
      " 39%|███▉      | 390/1000 [11:42<18:27,  1.82s/it]"
     ]
    },
    {
     "name": "stdout",
     "output_type": "stream",
     "text": [
      "[390/1000] train=-315.4514  val=-311.6422  S_train=64 S_val=32 lr=[0.01, 0.02]σ̄=2.2769  σmin=0.4574  σmax=2.7991\n"
     ]
    },
    {
     "name": "stderr",
     "output_type": "stream",
     "text": [
      " 39%|███▉      | 391/1000 [11:44<19:39,  1.94s/it]"
     ]
    },
    {
     "name": "stdout",
     "output_type": "stream",
     "text": [
      "[391/1000] train=-308.2282  val=-311.7427  S_train=64 S_val=32 lr=[0.01, 0.02]σ̄=2.2799  σmin=0.4582  σmax=2.8042\n"
     ]
    },
    {
     "name": "stderr",
     "output_type": "stream",
     "text": [
      " 39%|███▉      | 392/1000 [11:46<19:06,  1.89s/it]"
     ]
    },
    {
     "name": "stdout",
     "output_type": "stream",
     "text": [
      "[392/1000] train=-307.1303  val=-311.9905  S_train=64 S_val=32 lr=[0.01, 0.02]σ̄=2.2826  σmin=0.4584  σmax=2.8089\n"
     ]
    },
    {
     "name": "stderr",
     "output_type": "stream",
     "text": [
      " 39%|███▉      | 393/1000 [11:47<18:40,  1.85s/it]"
     ]
    },
    {
     "name": "stdout",
     "output_type": "stream",
     "text": [
      "[393/1000] train=-310.4752  val=-312.1682  S_train=64 S_val=32 lr=[0.01, 0.02]σ̄=2.2853  σmin=0.4606  σmax=2.8135\n"
     ]
    },
    {
     "name": "stderr",
     "output_type": "stream",
     "text": [
      " 39%|███▉      | 394/1000 [11:49<18:24,  1.82s/it]"
     ]
    },
    {
     "name": "stdout",
     "output_type": "stream",
     "text": [
      "[394/1000] train=-310.1456  val=-312.3292  S_train=64 S_val=32 lr=[0.01, 0.02]σ̄=2.2880  σmin=0.4626  σmax=2.8176\n"
     ]
    },
    {
     "name": "stderr",
     "output_type": "stream",
     "text": [
      " 40%|███▉      | 395/1000 [11:51<18:09,  1.80s/it]"
     ]
    },
    {
     "name": "stdout",
     "output_type": "stream",
     "text": [
      "[395/1000] train=-314.1800  val=-312.4842  S_train=64 S_val=32 lr=[0.01, 0.02]σ̄=2.2907  σmin=0.4658  σmax=2.8217\n"
     ]
    },
    {
     "name": "stderr",
     "output_type": "stream",
     "text": [
      " 40%|███▉      | 396/1000 [11:53<17:57,  1.78s/it]"
     ]
    },
    {
     "name": "stdout",
     "output_type": "stream",
     "text": [
      "[396/1000] train=-313.7423  val=-312.7073  S_train=64 S_val=32 lr=[0.01, 0.02]σ̄=2.2933  σmin=0.4680  σmax=2.8259\n"
     ]
    },
    {
     "name": "stderr",
     "output_type": "stream",
     "text": [
      " 40%|███▉      | 397/1000 [11:54<18:12,  1.81s/it]"
     ]
    },
    {
     "name": "stdout",
     "output_type": "stream",
     "text": [
      "[397/1000] train=-310.7061  val=-312.7431  S_train=64 S_val=32 lr=[0.01, 0.02]σ̄=2.2958  σmin=0.4720  σmax=2.8300\n"
     ]
    },
    {
     "name": "stderr",
     "output_type": "stream",
     "text": [
      " 40%|███▉      | 398/1000 [11:56<18:18,  1.83s/it]"
     ]
    },
    {
     "name": "stdout",
     "output_type": "stream",
     "text": [
      "[398/1000] train=-318.0017  val=-312.8914  S_train=64 S_val=32 lr=[0.01, 0.02]σ̄=2.2982  σmin=0.4748  σmax=2.8338\n"
     ]
    },
    {
     "name": "stderr",
     "output_type": "stream",
     "text": [
      " 40%|███▉      | 399/1000 [11:58<18:00,  1.80s/it]"
     ]
    },
    {
     "name": "stdout",
     "output_type": "stream",
     "text": [
      "[399/1000] train=-313.3567  val=-313.1118  S_train=64 S_val=32 lr=[0.01, 0.02]σ̄=2.3006  σmin=0.4766  σmax=2.8378\n"
     ]
    },
    {
     "name": "stderr",
     "output_type": "stream",
     "text": [
      " 40%|████      | 400/1000 [12:00<17:51,  1.79s/it]"
     ]
    },
    {
     "name": "stdout",
     "output_type": "stream",
     "text": [
      "[400/1000] train=-311.1513  val=-313.1849  S_train=64 S_val=32 lr=[0.01, 0.02]σ̄=2.3029  σmin=0.4772  σmax=2.8418\n"
     ]
    },
    {
     "name": "stderr",
     "output_type": "stream",
     "text": [
      " 40%|████      | 401/1000 [12:02<17:55,  1.80s/it]"
     ]
    },
    {
     "name": "stdout",
     "output_type": "stream",
     "text": [
      "[401/1000] train=-314.3327  val=-313.4490  S_train=64 S_val=32 lr=[0.01, 0.02]σ̄=2.3054  σmin=0.4775  σmax=2.8458\n"
     ]
    },
    {
     "name": "stderr",
     "output_type": "stream",
     "text": [
      " 40%|████      | 402/1000 [12:03<17:45,  1.78s/it]"
     ]
    },
    {
     "name": "stdout",
     "output_type": "stream",
     "text": [
      "[402/1000] train=-308.7217  val=-313.4034  S_train=64 S_val=32 lr=[0.01, 0.02]σ̄=2.3080  σmin=0.4806  σmax=2.8500\n"
     ]
    },
    {
     "name": "stderr",
     "output_type": "stream",
     "text": [
      " 40%|████      | 403/1000 [12:06<18:49,  1.89s/it]"
     ]
    },
    {
     "name": "stdout",
     "output_type": "stream",
     "text": [
      "[403/1000] train=-311.2750  val=-313.5504  S_train=64 S_val=32 lr=[0.01, 0.02]σ̄=2.3104  σmin=0.4840  σmax=2.8540\n"
     ]
    },
    {
     "name": "stderr",
     "output_type": "stream",
     "text": [
      " 40%|████      | 404/1000 [12:07<18:21,  1.85s/it]"
     ]
    },
    {
     "name": "stdout",
     "output_type": "stream",
     "text": [
      "[404/1000] train=-306.9853  val=-313.4041  S_train=64 S_val=32 lr=[0.01, 0.02]σ̄=2.3126  σmin=0.4878  σmax=2.8582\n"
     ]
    },
    {
     "name": "stderr",
     "output_type": "stream",
     "text": [
      " 40%|████      | 405/1000 [12:09<18:02,  1.82s/it]"
     ]
    },
    {
     "name": "stdout",
     "output_type": "stream",
     "text": [
      "[405/1000] train=-317.2802  val=-313.3038  S_train=64 S_val=32 lr=[0.01, 0.02]σ̄=2.3152  σmin=0.4909  σmax=2.8626\n"
     ]
    },
    {
     "name": "stderr",
     "output_type": "stream",
     "text": [
      " 41%|████      | 406/1000 [12:11<17:52,  1.81s/it]"
     ]
    },
    {
     "name": "stdout",
     "output_type": "stream",
     "text": [
      "[406/1000] train=-317.1927  val=-313.3355  S_train=64 S_val=32 lr=[0.01, 0.02]σ̄=2.3176  σmin=0.4937  σmax=2.8668\n"
     ]
    },
    {
     "name": "stderr",
     "output_type": "stream",
     "text": [
      " 41%|████      | 407/1000 [12:13<17:41,  1.79s/it]"
     ]
    },
    {
     "name": "stdout",
     "output_type": "stream",
     "text": [
      "[407/1000] train=-314.1229  val=-313.3097  S_train=64 S_val=32 lr=[0.01, 0.02]σ̄=2.3199  σmin=0.4964  σmax=2.8709\n"
     ]
    },
    {
     "name": "stderr",
     "output_type": "stream",
     "text": [
      " 41%|████      | 408/1000 [12:15<18:18,  1.86s/it]"
     ]
    },
    {
     "name": "stdout",
     "output_type": "stream",
     "text": [
      "[408/1000] train=-313.8394  val=-313.3580  S_train=64 S_val=32 lr=[0.01, 0.02]σ̄=2.3224  σmin=0.4988  σmax=2.8751\n"
     ]
    },
    {
     "name": "stderr",
     "output_type": "stream",
     "text": [
      " 41%|████      | 409/1000 [12:16<18:08,  1.84s/it]"
     ]
    },
    {
     "name": "stdout",
     "output_type": "stream",
     "text": [
      "[409/1000] train=-310.3000  val=-313.3192  S_train=64 S_val=32 lr=[0.01, 0.02]σ̄=2.3249  σmin=0.5002  σmax=2.8794\n"
     ]
    },
    {
     "name": "stderr",
     "output_type": "stream",
     "text": [
      " 41%|████      | 410/1000 [12:18<17:48,  1.81s/it]"
     ]
    },
    {
     "name": "stdout",
     "output_type": "stream",
     "text": [
      "[410/1000] train=-319.9607  val=-313.1348  S_train=64 S_val=32 lr=[0.005, 0.01]σ̄=2.3274  σmin=0.5005  σmax=2.8836\n"
     ]
    },
    {
     "name": "stderr",
     "output_type": "stream",
     "text": [
      " 41%|████      | 411/1000 [12:20<17:34,  1.79s/it]"
     ]
    },
    {
     "name": "stdout",
     "output_type": "stream",
     "text": [
      "[411/1000] train=-313.3027  val=-313.0744  S_train=64 S_val=32 lr=[0.005, 0.01]σ̄=2.3286  σmin=0.5004  σmax=2.8856\n"
     ]
    },
    {
     "name": "stderr",
     "output_type": "stream",
     "text": [
      " 41%|████      | 412/1000 [12:22<17:26,  1.78s/it]"
     ]
    },
    {
     "name": "stdout",
     "output_type": "stream",
     "text": [
      "[412/1000] train=-315.1280  val=-312.9313  S_train=64 S_val=32 lr=[0.005, 0.01]σ̄=2.3296  σmin=0.4999  σmax=2.8875\n"
     ]
    },
    {
     "name": "stderr",
     "output_type": "stream",
     "text": [
      " 41%|████▏     | 413/1000 [12:23<17:19,  1.77s/it]"
     ]
    },
    {
     "name": "stdout",
     "output_type": "stream",
     "text": [
      "[413/1000] train=-313.3095  val=-312.9194  S_train=64 S_val=32 lr=[0.005, 0.01]σ̄=2.3307  σmin=0.4990  σmax=2.8895\n"
     ]
    },
    {
     "name": "stderr",
     "output_type": "stream",
     "text": [
      " 41%|████▏     | 414/1000 [12:25<17:15,  1.77s/it]"
     ]
    },
    {
     "name": "stdout",
     "output_type": "stream",
     "text": [
      "[414/1000] train=-320.0787  val=-312.8577  S_train=64 S_val=32 lr=[0.005, 0.01]σ̄=2.3317  σmin=0.4983  σmax=2.8914\n"
     ]
    },
    {
     "name": "stderr",
     "output_type": "stream",
     "text": [
      " 42%|████▏     | 415/1000 [12:27<17:12,  1.77s/it]"
     ]
    },
    {
     "name": "stdout",
     "output_type": "stream",
     "text": [
      "[415/1000] train=-308.3253  val=-313.0086  S_train=64 S_val=32 lr=[0.005, 0.01]σ̄=2.3329  σmin=0.4973  σmax=2.8934\n"
     ]
    },
    {
     "name": "stderr",
     "output_type": "stream",
     "text": [
      " 42%|████▏     | 416/1000 [12:29<18:20,  1.88s/it]"
     ]
    },
    {
     "name": "stdout",
     "output_type": "stream",
     "text": [
      "[416/1000] train=-316.7211  val=-313.1588  S_train=64 S_val=32 lr=[0.005, 0.01]σ̄=2.3341  σmin=0.4971  σmax=2.8955\n"
     ]
    },
    {
     "name": "stderr",
     "output_type": "stream",
     "text": [
      " 42%|████▏     | 417/1000 [12:31<18:14,  1.88s/it]"
     ]
    },
    {
     "name": "stdout",
     "output_type": "stream",
     "text": [
      "[417/1000] train=-316.4770  val=-313.3178  S_train=64 S_val=32 lr=[0.005, 0.01]σ̄=2.3353  σmin=0.4966  σmax=2.8975\n"
     ]
    },
    {
     "name": "stderr",
     "output_type": "stream",
     "text": [
      " 42%|████▏     | 417/1000 [12:33<17:32,  1.81s/it]"
     ]
    },
    {
     "name": "stdout",
     "output_type": "stream",
     "text": [
      "[418/1000] train=-316.1815  val=-313.4444  S_train=64 S_val=32 lr=[0.0025, 0.005]σ̄=2.3365  σmin=0.4951  σmax=2.8997\n",
      "Early stop @ epoch 418: no val improvement for 15 epochs.\n"
     ]
    },
    {
     "name": "stderr",
     "output_type": "stream",
     "text": [
      "\n"
     ]
    }
   ],
   "source": [
    "output = model.fit_bayes(\n",
    "                train_dataloader=dataloader_train,\n",
    "                validate_dataloader=dataloader_validate,\n",
    "                hyperparameters=None,\n",
    "                iterations=1000,\n",
    "                verbose=True,\n",
    "                lr=0.01,\n",
    "                mcmc_sample_train=8,            # will ramp\n",
    "                mcmc_sample_val=32,             # fixed & larger for stable eval\n",
    "                mc_ramp_every=10,               # 4→8→16→32 at epochs 25/50/75\n",
    "                mc_ramp_max=64,\n",
    "                patience_val=15,                # early-stop patience\n",
    "                min_delta=0.001,                # ~0.1% absolute of your loss scale\n",
    "                rho_lr_multiplier=2,          # slightly faster variance adaption (optional)\n",
    "                sched_factor=0.5, sched_patience=6, sched_threshold=1e-4,\n",
    "            )"
   ]
  },
  {
   "cell_type": "code",
   "execution_count": 10,
   "id": "c586f2f6",
   "metadata": {},
   "outputs": [
    {
     "data": {
      "image/png": "[encoded data removed]",
      "text/plain": [
       "<Figure size 800x500 with 1 Axes>"
      ]
     },
     "metadata": {},
     "output_type": "display_data"
    }
   ],
   "source": [
    "import matplotlib.pyplot as plt\n",
    "loss_history = output['loss_history']\n",
    "val_loss = output['val_history']\n",
    "\n",
    "\n",
    "# Plot            \n",
    "plt.figure(figsize=(8, 5))\n",
    "plt.plot(loss_history, label=\"Loss\", linewidth=2)\n",
    "plt.plot(val_loss, label=\"Validation Loss\", linewidth=2)\n",
    "plt.xlabel(\"Iteration / Epoch\")\n",
    "plt.ylabel(\"Loss\")\n",
    "plt.title(\"Loss Evolution\")\n",
    "plt.legend()\n",
    "plt.grid(True)\n",
    "plt.show()"
   ]
  },
  {
   "cell_type": "code",
   "execution_count": 11,
   "id": "78e2abf9",
   "metadata": {},
   "outputs": [
    {
     "name": "stdout",
     "output_type": "stream",
     "text": [
      "150 150\n",
      "tensor([-9.4935e+00,  1.2790e+00,  1.2864e+00,  1.3214e+00,  1.2826e+00,\n",
      "         1.9439e+00,  1.3705e+00,  9.8365e-01,  1.6436e+00,  2.0090e+00,\n",
      "         2.2402e+00,  2.1983e+00, -9.1112e+00,  1.0161e+00,  1.2320e+00,\n",
      "         1.0501e+00,  1.1660e+00,  1.6477e+00,  7.5029e-01,  8.6961e-01,\n",
      "         1.9902e+00,  2.4086e+00,  2.4751e+00,  2.4435e+00,  8.0392e-02,\n",
      "        -5.8261e-02,  6.8337e-04,  6.7399e-02, -8.8858e-02,  1.0078e-02,\n",
      "        -2.6609e-02, -1.5421e-01, -1.9341e-01, -2.2478e-01,  4.4275e-02,\n",
      "         3.5285e-02,  6.1925e-02,  1.5083e-01,  2.8582e-01,  2.2097e-01,\n",
      "         1.3155e-01, -1.1637e-01, -3.8917e-02, -2.8115e-01, -4.2866e-01,\n",
      "         7.2950e-01,  6.0770e-01,  3.2052e-01,  2.3814e-01,  2.8985e-01,\n",
      "         3.4884e-01,  4.9306e-01,  2.3948e-01,  2.8175e-01,  9.5698e-02,\n",
      "         4.0738e-02, -1.6413e-01, -1.8357e-02, -1.8886e-01, -1.8273e-01,\n",
      "        -1.2589e-01,  1.1049e-01,  1.3221e-01,  1.9767e-02,  5.0967e-02,\n",
      "        -5.5024e-03,  1.3034e-01,  9.3759e-02,  2.9014e-01,  3.0400e-01,\n",
      "         2.6192e-01, -6.0215e-02, -1.3519e-01, -1.5587e-01, -1.7215e-02,\n",
      "        -9.4394e-02, -2.3794e-01,  2.4175e-01, -4.2095e-02,  3.2483e-03,\n",
      "        -3.2216e-03, -1.0588e-01, -4.4472e-02, -9.7699e-02, -1.2260e-01,\n",
      "        -2.4261e-01, -2.4278e-01,  4.5054e-01,  1.3463e-01,  3.0658e-01,\n",
      "         1.1008e-01,  8.6855e-02,  2.4076e-01,  2.1295e-01, -2.1846e-02,\n",
      "        -4.7223e-02, -2.0228e-02,  3.2455e-01, -8.6914e-02, -8.4296e-02,\n",
      "        -2.5531e-02, -3.3503e-01, -1.0508e-01, -2.0909e-01, -2.9222e-01,\n",
      "        -2.4517e-01, -1.7717e-01, -6.5869e-01, -9.9591e-02,  5.1412e-02,\n",
      "        -6.4164e-02, -3.9472e-02,  6.0562e-03,  1.5838e-01,  7.6272e-02,\n",
      "        -8.7275e-02, -1.3848e-01, -5.5397e-02, -2.4523e-02, -4.1195e-02,\n",
      "        -1.0840e-01, -9.8276e-02, -6.0316e-02, -1.2154e-01, -2.4234e-01,\n",
      "        -1.8529e-01, -1.6602e-01, -2.6688e-01, -5.2436e-01,  6.0527e-01,\n",
      "         3.3597e-01,  2.4038e-01,  1.5523e-01,  1.4728e-01,  1.3898e-01,\n",
      "         8.6221e-02,  1.5085e-01,  6.2076e-02, -1.1812e-01, -3.2490e-02,\n",
      "        -6.6592e-03, -8.4469e-02, -1.2483e-02, -9.0411e-02,  3.0164e-02,\n",
      "         9.0533e-02,  1.1114e-01,  1.3457e-01,  8.3591e-02, -9.3207e-02])\n"
     ]
    }
   ],
   "source": [
    "print(len(output['mu']), sum(p.numel() for p in model.parameters() if p.requires_grad))\n",
    "print(output['mu'])"
   ]
  },
  {
   "cell_type": "code",
   "execution_count": 12,
   "id": "cd77d870",
   "metadata": {},
   "outputs": [
    {
     "name": "stdout",
     "output_type": "stream",
     "text": [
      "Max |Δ| across all parameters: 0.000e+00\n"
     ]
    }
   ],
   "source": [
    "import torch\n",
    "\n",
    "def flat_params(model):\n",
    "    return torch.cat([p.detach().flatten().cpu() for p in model.parameters()])\n",
    "\n",
    "# snapshot BEFORE\n",
    "before = flat_params(model).clone()\n",
    "\n",
    "model.bayesian_param_set(output, update_buffers=False)\n",
    "# snapshot AFTER\n",
    "after = flat_params(model)\n",
    "\n",
    "max_abs_change = (after - before).abs().max().item()\n",
    "print(f\"Max |Δ| across all parameters: {max_abs_change:.3e}\")\n",
    "\n"
   ]
  },
  {
   "cell_type": "code",
   "execution_count": 13,
   "id": "f19f1a2b",
   "metadata": {},
   "outputs": [],
   "source": [
    "# pretrain the marginal transformations\n",
    "#_ = model.pretrain_transformation_layer(dataloader_train, iterations=1000, max_batches_per_iter=False, penalty_splines_params=penalty_splines_params)"
   ]
  },
  {
   "cell_type": "code",
   "execution_count": 14,
   "id": "7b7429a5",
   "metadata": {},
   "outputs": [],
   "source": [
    "# train the joint model\n",
    "#_ = model.train(train_dataloader=dataloader_train, validate_dataloader=dataloader_validate, iterations=1000, optimizer=\"LBFGS\",\n",
    "#                penalty_splines_params=penalty_splines_params, adaptive_lasso_weights_matrix=adaptive_lasso_weights_matrix, penalty_lasso_conditional_independence=penalty_lasso_conditional_independence, \n",
    "#                max_batches_per_iter=False)"
   ]
  },
  {
   "cell_type": "markdown",
   "id": "2a5eebff",
   "metadata": {},
   "source": [
    "### 4. Compare to Benchmarks\n",
    "\n",
    "We compare the learned GTM to a Gaussian Approximation and the Oracle Model. We expect the GTM to lie between these two in terms of approximation the true underlying distribution.\n",
    "We measure this by means of the Kullback Leibler Divergence which we approximate on the test set which is equivalent to the log likelihood ratio between the true distribution and an approximation of it.."
   ]
  },
  {
   "cell_type": "code",
   "execution_count": 15,
   "id": "2b910002",
   "metadata": {},
   "outputs": [],
   "source": [
    "log_likelihood_train_gtm = model.log_likelihood(simulated_data_train)\n",
    "log_likelihood_validate_gtm = model.log_likelihood(simulated_data_validate)\n",
    "log_likelihood_test_gtm = model.log_likelihood(simulated_data_test)"
   ]
  },
  {
   "cell_type": "code",
   "execution_count": 16,
   "id": "5ad6c5de",
   "metadata": {},
   "outputs": [],
   "source": [
    "# estimate the Multivariate Normal Distribution as Model\n",
    "mean_mvn_model = simulated_data_train.mean(0)\n",
    "cov_mvn_model = simulated_data_train.T.cov()\n",
    "mvn_model = torch.distributions.MultivariateNormal(loc=mean_mvn_model, covariance_matrix=cov_mvn_model)\n",
    "log_likelihood_train_gaussian = mvn_model.log_prob(simulated_data_train)\n",
    "log_likelihood_validate_gaussian = mvn_model.log_prob(simulated_data_validate)\n",
    "log_likelihood_test_gaussian = mvn_model.log_prob(simulated_data_test)\n"
   ]
  },
  {
   "cell_type": "code",
   "execution_count": 17,
   "id": "5c2f1859",
   "metadata": {},
   "outputs": [
    {
     "name": "stdout",
     "output_type": "stream",
     "text": [
      "KLD GTM      Train Data:  1.1883\n",
      "KLD Gaussian Train Data:  0.1083\n",
      "KLD Copula   Train Data:  -0.0015\n",
      "KLD GTM      Test  Data:  1.149\n",
      "KLD Gaussian Test  Data:  0.1118\n",
      "KLD Copula   Test  Data:  0.0051\n"
     ]
    }
   ],
   "source": [
    "print(\"KLD GTM      Train Data: \",np.round(torch.mean(loglik_true_train - log_likelihood_train_gtm).item(),4) )\n",
    "print(\"KLD Gaussian Train Data: \",np.round(torch.mean(loglik_true_train - log_likelihood_train_gaussian).item(),4) )\n",
    "print(\"KLD Copula   Train Data: \",np.round(torch.mean(loglik_true_train - loglik_true_est_train).item(),4) )\n",
    "\n",
    "print(\"KLD GTM      Test  Data: \",np.round(torch.mean(loglik_true_test - log_likelihood_test_gtm).item(),4) )\n",
    "print(\"KLD Gaussian Test  Data: \",np.round(torch.mean(loglik_true_test - log_likelihood_test_gaussian).item(),4) )\n",
    "print(\"KLD Copula   Test  Data: \",np.round(torch.mean(loglik_true_test - loglik_true_est_test).item(),4) )"
   ]
  },
  {
   "cell_type": "markdown",
   "id": "a3ee4e5d",
   "metadata": {},
   "source": [
    "### 5. Evaluate and Plot GTM Results\n",
    "\n",
    "We evaluate the model further by showing how to generate synthetic samples, plot the conditional correlation patterns as well as the model splines.\n",
    "\n",
    "Note that to generate synthetic samples the inverse of the trainsformation layer needs to be approximated  with the method `approximate_transformation_inverse` once which is then stored for future sampling. "
   ]
  },
  {
   "cell_type": "code",
   "execution_count": 18,
   "id": "6690f80f",
   "metadata": {},
   "outputs": [],
   "source": [
    "model.approximate_transformation_inverse()\n",
    "synthetic_samples = model.sample(10000)"
   ]
  },
  {
   "cell_type": "code",
   "execution_count": 19,
   "id": "22df00ce",
   "metadata": {},
   "outputs": [
    {
     "data": {
      "image/png": "[encoded data removed]",
      "text/plain": [
       "<Figure size 600x600 with 1 Axes>"
      ]
     },
     "metadata": {},
     "output_type": "display_data"
    },
    {
     "data": {
      "image/png": "[encoded data removed]",
      "text/plain": [
       "<Figure size 600x600 with 1 Axes>"
      ]
     },
     "metadata": {},
     "output_type": "display_data"
    }
   ],
   "source": [
    "model.plot_densities(synthetic_samples, x_lim=[-4,4], y_lim=[-4,4])\n",
    "model.plot_densities(simulated_data_train, x_lim=[-4,4], y_lim=[-4,4])"
   ]
  },
  {
   "cell_type": "markdown",
   "id": "f598c157",
   "metadata": {},
   "source": [
    "The varying pseudo conditional correlation matrix values can be computed for any synthetic samples using `compute_pseudo_conditional_correlation_matrix` or can directly be plotted using `plot_conditional_dependence_structure`.\n",
    "The pseudo conditional correlation matrix is the standardised precision matrix so that off diagonal elements are the pseudo conditional correlations between the respective dimensions."
   ]
  },
  {
   "cell_type": "code",
   "execution_count": 20,
   "id": "6637a565",
   "metadata": {},
   "outputs": [],
   "source": [
    "pseudo_conditional_correlation_matrix = model.compute_pseudo_conditional_correlation_matrix(synthetic_samples)"
   ]
  },
  {
   "cell_type": "code",
   "execution_count": 21,
   "id": "a30faa3b",
   "metadata": {},
   "outputs": [
    {
     "name": "stderr",
     "output_type": "stream",
     "text": [
      "/Users/franciscocapunay/miniforge3/envs/gtm-magic-env-3.11/lib/python3.11/site-packages/numpy/core/fromnumeric.py:3504: RuntimeWarning: Mean of empty slice.\n",
      "  return _methods._mean(a, axis=axis, dtype=dtype,\n",
      "/Users/franciscocapunay/miniforge3/envs/gtm-magic-env-3.11/lib/python3.11/site-packages/numpy/core/_methods.py:129: RuntimeWarning: invalid value encountered in scalar divide\n",
      "  ret = ret.dtype.type(ret / rcount)\n"
     ]
    },
    {
     "data": {
      "image/png": "[encoded data removed]",
      "text/plain": [
       "<Figure size 600x600 with 2 Axes>"
      ]
     },
     "metadata": {},
     "output_type": "display_data"
    }
   ],
   "source": [
    "model.plot_conditional_dependence_structure(data=synthetic_samples)"
   ]
  },
  {
   "cell_type": "markdown",
   "id": "e5e081b4",
   "metadata": {},
   "source": [
    "One can also visualize the splines of each layer usign the function `plot_splines`. For the transformation layer we additionally include the dervaitive which is always positive due to the monotonically increasing constraint as well as the inverse which should lie exactly on the spline to visually confirm that the inverse sampling path works."
   ]
  },
  {
   "cell_type": "code",
   "execution_count": 22,
   "id": "149a1b81",
   "metadata": {},
   "outputs": [
    {
     "name": "stderr",
     "output_type": "stream",
     "text": [
      "/Users/franciscocapunay/Documents/AkademischeAusbildungLernunterlagen/UniversitaetGoettingen/Studiengänge/MasterAngewandteStatistik/4.Semester/MA/code/gtm/gtm/gtm_plots_analysis/plot_splines.py:113: FutureWarning: The behavior of DataFrame concatenation with empty or all-NA entries is deprecated. In a future version, this will no longer exclude empty or all-NA columns when determining the result dtypes. To retain the old behavior, exclude the relevant entries before the concat operation.\n",
      "  results = results._append(\n"
     ]
    },
    {
     "data": {
      "image/png": "[encoded data removed]",
      "text/plain": [
       "<Figure size 1500x500 with 3 Axes>"
      ]
     },
     "metadata": {},
     "output_type": "display_data"
    }
   ],
   "source": [
    "model.plot_splines(layer_type=\"transformation\")"
   ]
  },
  {
   "cell_type": "code",
   "execution_count": 23,
   "id": "8649bbbe",
   "metadata": {},
   "outputs": [
    {
     "name": "stderr",
     "output_type": "stream",
     "text": [
      "/Users/franciscocapunay/Documents/AkademischeAusbildungLernunterlagen/UniversitaetGoettingen/Studiengänge/MasterAngewandteStatistik/4.Semester/MA/code/gtm/gtm/gtm_plots_analysis/plot_splines.py:250: FutureWarning: The behavior of DataFrame concatenation with empty or all-NA entries is deprecated. In a future version, this will no longer exclude empty or all-NA columns when determining the result dtypes. To retain the old behavior, exclude the relevant entries before the concat operation.\n",
      "  results = results._append(\n"
     ]
    },
    {
     "data": {
      "image/png": "[encoded data removed]",
      "text/plain": [
       "<Figure size 600x600 with 1 Axes>"
      ]
     },
     "metadata": {},
     "output_type": "display_data"
    }
   ],
   "source": [
    "model.plot_splines(layer_type = \"decorrelation\", decorrelation_layer_number=0)"
   ]
  },
  {
   "cell_type": "code",
   "execution_count": 24,
   "id": "a5aa64ac",
   "metadata": {},
   "outputs": [
    {
     "name": "stderr",
     "output_type": "stream",
     "text": [
      "/Users/franciscocapunay/Documents/AkademischeAusbildungLernunterlagen/UniversitaetGoettingen/Studiengänge/MasterAngewandteStatistik/4.Semester/MA/code/gtm/gtm/gtm_plots_analysis/plot_splines.py:250: FutureWarning: The behavior of DataFrame concatenation with empty or all-NA entries is deprecated. In a future version, this will no longer exclude empty or all-NA columns when determining the result dtypes. To retain the old behavior, exclude the relevant entries before the concat operation.\n",
      "  results = results._append(\n"
     ]
    },
    {
     "data": {
      "image/png": "[encoded data removed]",
      "text/plain": [
       "<Figure size 600x600 with 1 Axes>"
      ]
     },
     "metadata": {},
     "output_type": "display_data"
    }
   ],
   "source": [
    "model.plot_splines(layer_type = \"decorrelation\", decorrelation_layer_number=1)"
   ]
  },
  {
   "cell_type": "code",
   "execution_count": 25,
   "id": "86eb78f4",
   "metadata": {},
   "outputs": [
    {
     "name": "stderr",
     "output_type": "stream",
     "text": [
      "/Users/franciscocapunay/Documents/AkademischeAusbildungLernunterlagen/UniversitaetGoettingen/Studiengänge/MasterAngewandteStatistik/4.Semester/MA/code/gtm/gtm/gtm_plots_analysis/plot_splines.py:250: FutureWarning: The behavior of DataFrame concatenation with empty or all-NA entries is deprecated. In a future version, this will no longer exclude empty or all-NA columns when determining the result dtypes. To retain the old behavior, exclude the relevant entries before the concat operation.\n",
      "  results = results._append(\n"
     ]
    },
    {
     "data": {
      "image/png": "[encoded data removed]",
      "text/plain": [
       "<Figure size 600x600 with 1 Axes>"
      ]
     },
     "metadata": {},
     "output_type": "display_data"
    }
   ],
   "source": [
    "model.plot_splines(layer_type = \"decorrelation\", decorrelation_layer_number=2)"
   ]
  }
 ],
 "metadata": {
  "kernelspec": {
   "display_name": "gtm-magic-env-3.11",
   "language": "python",
   "name": "python3"
  },
  "language_info": {
   "codemirror_mode": {
    "name": "ipython",
    "version": 3
   },
   "file_extension": ".py",
   "mimetype": "text/x-python",
   "name": "python",
   "nbconvert_exporter": "python",
   "pygments_lexer": "ipython3",
   "version": "3.11.13"
  }
 },
 "nbformat": 4,
 "nbformat_minor": 5
}
