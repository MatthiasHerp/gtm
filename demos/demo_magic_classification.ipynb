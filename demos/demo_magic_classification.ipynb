{
 "cells": [
  {
   "cell_type": "code",
   "execution_count": null,
   "id": "a7866ad3",
   "metadata": {},
   "outputs": [
    {
     "name": "stderr",
     "output_type": "stream",
     "text": [
      "/Users/matthiasherp/anaconda3/envs/mctm_pytorch/lib/python3.11/site-packages/tqdm/auto.py:21: TqdmWarning: IProgress not found. Please update jupyter and ipywidgets. See https://ipywidgets.readthedocs.io/en/stable/user_install.html\n",
      "  from .autonotebook import tqdm as notebook_tqdm\n"
     ]
    }
   ],
   "source": [
    "# GTM Package including GTM and the plot functions\n",
    "from gtm import *\n",
    "\n",
    "import os\n",
    "from torch.utils.data import DataLoader\n",
    "\n",
    "from demos.load_magic_data_helpers import *\n",
    "from demos.dataset_helpers import Generic_Dataset"
   ]
  },
  {
   "cell_type": "code",
   "execution_count": null,
   "id": "e0de95fc",
   "metadata": {},
   "outputs": [],
   "source": [
    "# got up one directory as new working directory so that loading data works\n",
    "# only run this once\n",
    "os.chdir(os.path.dirname(os.getcwd()))"
   ]
  },
  {
   "cell_type": "code",
   "execution_count": 3,
   "id": "76e94e0c",
   "metadata": {},
   "outputs": [
    {
     "name": "stdout",
     "output_type": "stream",
     "text": [
      "/Users/matthiasherp/Desktop/phd_github_repositories/gtm\n"
     ]
    }
   ],
   "source": [
    "print(os.getcwd())"
   ]
  },
  {
   "cell_type": "markdown",
   "id": "838227a1",
   "metadata": {},
   "source": [
    "#### Load Data"
   ]
  },
  {
   "cell_type": "code",
   "execution_count": null,
   "id": "9610169b",
   "metadata": {},
   "outputs": [],
   "source": [
    "group = \"h\"\n",
    "\n",
    "y_train_group_h, y_validate_group_h, y_test_group_h = load_magic_data(group=group,\n",
    "                                                            train_portion=2/3,\n",
    "                                                            data_dims=10,\n",
    "                                                            poly_span_abs=12,\n",
    "                                                            cross_validation_folds=5,\n",
    "                                                            validation_fold_index=4,\n",
    "                                                            split_random_state=25)\n",
    "                "
   ]
  },
  {
   "cell_type": "code",
   "execution_count": null,
   "id": "a6aa659a",
   "metadata": {},
   "outputs": [],
   "source": [
    "group = \"g\"\n",
    "\n",
    "y_train_group_g, y_validate_group_g, y_test_group_g = load_magic_data(group=group,\n",
    "                                                            train_portion=2/3,\n",
    "                                                            data_dims=10,\n",
    "                                                            poly_span_abs=12,\n",
    "                                                            cross_validation_folds=5,\n",
    "                                                            validation_fold_index=4,\n",
    "                                                            split_random_state=25)\n",
    "                "
   ]
  },
  {
   "cell_type": "markdown",
   "id": "7ac342bc",
   "metadata": {},
   "source": [
    "## Classification of Test Set"
   ]
  },
  {
   "cell_type": "code",
   "execution_count": null,
   "id": "47fecae7",
   "metadata": {},
   "outputs": [],
   "source": []
  }
 ],
 "metadata": {
  "kernelspec": {
   "display_name": "mctm_pytorch",
   "language": "python",
   "name": "python3"
  },
  "language_info": {
   "codemirror_mode": {
    "name": "ipython",
    "version": 3
   },
   "file_extension": ".py",
   "mimetype": "text/x-python",
   "name": "python",
   "nbconvert_exporter": "python",
   "pygments_lexer": "ipython3",
   "version": "3.11.5"
  }
 },
 "nbformat": 4,
 "nbformat_minor": 5
}
