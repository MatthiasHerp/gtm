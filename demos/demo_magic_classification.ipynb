{
 "cells": [
  {
   "cell_type": "markdown",
   "id": "169d57e1",
   "metadata": {},
   "source": [
    "# Demo of the GTM Magic Analysis for Classification\n",
    "\n",
    "In this demonstration we show how we chose the optimal GTM number of decorrelation layers for the hadron and gamma classes. Furthermore we use the models for both classes to bayes classify the test set and compare to the vine copula approach and kernel density estimator approach from this [non-parametric vines paper](https://www.sciencedirect.com/science/article/pii/S0047259X16300471)."
   ]
  },
  {
   "cell_type": "code",
   "execution_count": 1,
   "id": "a7866ad3",
   "metadata": {},
   "outputs": [
    {
     "name": "stderr",
     "output_type": "stream",
     "text": [
      "/Users/matthiasherp/anaconda3/envs/mctm_pytorch/lib/python3.11/site-packages/tqdm/auto.py:21: TqdmWarning: IProgress not found. Please update jupyter and ipywidgets. See https://ipywidgets.readthedocs.io/en/stable/user_install.html\n",
      "  from .autonotebook import tqdm as notebook_tqdm\n"
     ]
    }
   ],
   "source": [
    "from gtm import *\n",
    "\n",
    "import os\n",
    "import matplotlib.pyplot as plt\n",
    "import sklearn.metrics as metrics\n",
    "\n",
    "from demos.load_analyze_magic_data_helpers import *"
   ]
  },
  {
   "cell_type": "markdown",
   "id": "361bbb29",
   "metadata": {},
   "source": [
    "got up one directory as new working directory so that loading data works. Should be in the package root."
   ]
  },
  {
   "cell_type": "code",
   "execution_count": 2,
   "id": "e0de95fc",
   "metadata": {},
   "outputs": [],
   "source": [
    "# only run this once\n",
    "os.chdir(os.path.dirname(os.getcwd()))\n",
    "# print(os.getcwd())"
   ]
  },
  {
   "cell_type": "markdown",
   "id": "838227a1",
   "metadata": {},
   "source": [
    "### 1. Load Magic Data\n",
    "\n",
    "We load the data for both groups as we did in the model training [script](demos/train_gtm_magic.py)."
   ]
  },
  {
   "cell_type": "code",
   "execution_count": 3,
   "id": "9610169b",
   "metadata": {},
   "outputs": [],
   "source": [
    "group = \"h\"\n",
    "\n",
    "y_train_group_h, y_validate_group_h, y_test_group_h = load_magic_data(group=group,\n",
    "                                                            train_portion=2/3,\n",
    "                                                            data_dims=10,\n",
    "                                                            poly_span_abs=12,\n",
    "                                                            cross_validation_folds=5,\n",
    "                                                            validation_fold_index=4,\n",
    "                                                            split_random_state=25)\n",
    "                "
   ]
  },
  {
   "cell_type": "code",
   "execution_count": 4,
   "id": "a6aa659a",
   "metadata": {},
   "outputs": [],
   "source": [
    "group = \"g\"\n",
    "\n",
    "y_train_group_g, y_validate_group_g, y_test_group_g = load_magic_data(group=group,\n",
    "                                                            train_portion=2/3,\n",
    "                                                            data_dims=10,\n",
    "                                                            poly_span_abs=12,\n",
    "                                                            cross_validation_folds=5,\n",
    "                                                            validation_fold_index=4,\n",
    "                                                            split_random_state=25)\n",
    "                "
   ]
  },
  {
   "cell_type": "markdown",
   "id": "7ac342bc",
   "metadata": {},
   "source": [
    "### 2. Classification of Test Set\n",
    "\n",
    "We iteratively load the models for every number of decorrelation layer for both classes and classify with them to see how much the number of decorrelation layers affects the test set classficiation.\n",
    "We see that even a 3 layer models classifies qite well. "
   ]
  },
  {
   "cell_type": "code",
   "execution_count": 5,
   "id": "47fecae7",
   "metadata": {},
   "outputs": [
    {
     "name": "stderr",
     "output_type": "stream",
     "text": [
      "/Users/matthiasherp/Desktop/phd_github_repositories/gtm/gtm/gtm_splines/bspline_prediction_vectorized.py:404: UserWarning: The use of `x.T` on tensors of dimension other than 2 to reverse their shape is deprecated and it will throw an error in a future release. Consider `x.mT` to transpose batches of matrices or `x.permute(*torch.arange(x.ndim - 1, -1, -1))` to reverse the dimensions of a tensor. (Triggered internally at /Users/runner/work/pytorch/pytorch/pytorch/aten/src/ATen/native/TensorShape.cpp:3687.)\n",
      "  t=knots.T,\n"
     ]
    }
   ],
   "source": [
    "res_table = pd.DataFrame()\n",
    "fpr_list = [0.01,0.02,0.05,0.1,0.2]\n",
    "res_table[\"FPR\"] = fpr_list\n",
    "\n",
    "for num_decorr_layers in [3,4,5,6,7,8,9]:\n",
    "\n",
    "    group = \"h\"\n",
    "    loaded_model_h = torch.load(os.path.join(\"demos\", \"models\", f\"magic_group_{group}_decorr_{num_decorr_layers}_gtm_state_dict.pth\"), map_location=torch.device('cpu'), weights_only=False)\n",
    "    loaded_model_h = loaded_model_h.to('cpu')\n",
    "\n",
    "    group = \"g\"\n",
    "    loaded_model_g = torch.load(os.path.join(\"demos\", \"models\", f\"magic_group_{group}_decorr_{num_decorr_layers}_gtm_state_dict.pth\"), map_location=torch.device('cpu'), weights_only=False)\n",
    "    loaded_model_g = loaded_model_g.to('cpu')\n",
    "\n",
    "    \n",
    "    \n",
    "    table_roc_curve = magic_classification_report(loaded_model_g,\n",
    "                                                  loaded_model_h,\n",
    "                                                  y_test_group_g,\n",
    "                                                  y_test_group_h,\n",
    "                                                  y_train_group_h,\n",
    "                                                  y_train_group_g,\n",
    "                                                  phi_g=0.5,\n",
    "                                                  phi_h=0.5)\n",
    "    model_tpr = []\n",
    "    for fpr_quantile in [0.01,0.02,0.05,0.1,0.2]:\n",
    "        model_tpr.append([\n",
    "            np.round(table_roc_curve.loc[table_roc_curve.fpr <= fpr_quantile].tail(1)[\"tpr\"].item(),3)\n",
    "        ])\n",
    "    res_table[\"GCTM_\"+str(num_decorr_layers)] = np.stack(model_tpr)\n",
    "    \n",
    "res_table[\"Vine-Copula\"] = [0.335,0.428,0.652,0.780,0.918]\n",
    "res_table[\"MV-Kernel-DE\"] = [0.335,0.408,0.567,0.730,0.868]"
   ]
  },
  {
   "cell_type": "code",
   "execution_count": 6,
   "id": "000ca309",
   "metadata": {},
   "outputs": [
    {
     "data": {
      "text/html": [
       "<div>\n",
       "<style scoped>\n",
       "    .dataframe tbody tr th:only-of-type {\n",
       "        vertical-align: middle;\n",
       "    }\n",
       "\n",
       "    .dataframe tbody tr th {\n",
       "        vertical-align: top;\n",
       "    }\n",
       "\n",
       "    .dataframe thead th {\n",
       "        text-align: right;\n",
       "    }\n",
       "</style>\n",
       "<table border=\"1\" class=\"dataframe\">\n",
       "  <thead>\n",
       "    <tr style=\"text-align: right;\">\n",
       "      <th></th>\n",
       "      <th>FPR</th>\n",
       "      <th>GCTM_3</th>\n",
       "      <th>GCTM_4</th>\n",
       "      <th>GCTM_5</th>\n",
       "      <th>GCTM_6</th>\n",
       "      <th>GCTM_7</th>\n",
       "      <th>GCTM_8</th>\n",
       "      <th>GCTM_9</th>\n",
       "      <th>Vine-Copula</th>\n",
       "      <th>MV-Kernel-DE</th>\n",
       "    </tr>\n",
       "  </thead>\n",
       "  <tbody>\n",
       "    <tr>\n",
       "      <th>0</th>\n",
       "      <td>0.01</td>\n",
       "      <td>0.342</td>\n",
       "      <td>0.319</td>\n",
       "      <td>0.312</td>\n",
       "      <td>0.317</td>\n",
       "      <td>0.310</td>\n",
       "      <td>0.309</td>\n",
       "      <td>0.292</td>\n",
       "      <td>0.335</td>\n",
       "      <td>0.335</td>\n",
       "    </tr>\n",
       "    <tr>\n",
       "      <th>1</th>\n",
       "      <td>0.02</td>\n",
       "      <td>0.453</td>\n",
       "      <td>0.397</td>\n",
       "      <td>0.455</td>\n",
       "      <td>0.412</td>\n",
       "      <td>0.414</td>\n",
       "      <td>0.442</td>\n",
       "      <td>0.448</td>\n",
       "      <td>0.428</td>\n",
       "      <td>0.408</td>\n",
       "    </tr>\n",
       "    <tr>\n",
       "      <th>2</th>\n",
       "      <td>0.05</td>\n",
       "      <td>0.639</td>\n",
       "      <td>0.637</td>\n",
       "      <td>0.634</td>\n",
       "      <td>0.645</td>\n",
       "      <td>0.650</td>\n",
       "      <td>0.655</td>\n",
       "      <td>0.650</td>\n",
       "      <td>0.652</td>\n",
       "      <td>0.567</td>\n",
       "    </tr>\n",
       "    <tr>\n",
       "      <th>3</th>\n",
       "      <td>0.10</td>\n",
       "      <td>0.796</td>\n",
       "      <td>0.812</td>\n",
       "      <td>0.818</td>\n",
       "      <td>0.816</td>\n",
       "      <td>0.816</td>\n",
       "      <td>0.805</td>\n",
       "      <td>0.810</td>\n",
       "      <td>0.780</td>\n",
       "      <td>0.730</td>\n",
       "    </tr>\n",
       "    <tr>\n",
       "      <th>4</th>\n",
       "      <td>0.20</td>\n",
       "      <td>0.916</td>\n",
       "      <td>0.920</td>\n",
       "      <td>0.923</td>\n",
       "      <td>0.924</td>\n",
       "      <td>0.922</td>\n",
       "      <td>0.926</td>\n",
       "      <td>0.922</td>\n",
       "      <td>0.918</td>\n",
       "      <td>0.868</td>\n",
       "    </tr>\n",
       "  </tbody>\n",
       "</table>\n",
       "</div>"
      ],
      "text/plain": [
       "    FPR  GCTM_3  GCTM_4  GCTM_5  GCTM_6  GCTM_7  GCTM_8  GCTM_9  Vine-Copula  \\\n",
       "0  0.01   0.342   0.319   0.312   0.317   0.310   0.309   0.292        0.335   \n",
       "1  0.02   0.453   0.397   0.455   0.412   0.414   0.442   0.448        0.428   \n",
       "2  0.05   0.639   0.637   0.634   0.645   0.650   0.655   0.650        0.652   \n",
       "3  0.10   0.796   0.812   0.818   0.816   0.816   0.805   0.810        0.780   \n",
       "4  0.20   0.916   0.920   0.923   0.924   0.922   0.926   0.922        0.918   \n",
       "\n",
       "   MV-Kernel-DE  \n",
       "0         0.335  \n",
       "1         0.408  \n",
       "2         0.567  \n",
       "3         0.730  \n",
       "4         0.868  "
      ]
     },
     "execution_count": 6,
     "metadata": {},
     "output_type": "execute_result"
    }
   ],
   "source": [
    "res_table"
   ]
  },
  {
   "cell_type": "markdown",
   "id": "adff55d1",
   "metadata": {},
   "source": [
    "Since we need to chose a model per class we decide to choose the model based on the validation set likelihood as the number of decorrelation layers is just another hyperparameter like the penalities."
   ]
  },
  {
   "cell_type": "code",
   "execution_count": 7,
   "id": "42e9b7f4",
   "metadata": {},
   "outputs": [
    {
     "name": "stderr",
     "output_type": "stream",
     "text": [
      "/var/folders/57/_f_fv4s97k300zslnyj86dxc0000gn/T/ipykernel_53916/921995457.py:7: FutureWarning: You are using `torch.load` with `weights_only=False` (the current default value), which uses the default pickle module implicitly. It is possible to construct malicious pickle data which will execute arbitrary code during unpickling (See https://github.com/pytorch/pytorch/blob/main/SECURITY.md#untrusted-models for more details). In a future release, the default value for `weights_only` will be flipped to `True`. This limits the functions that could be executed during unpickling. Arbitrary objects will no longer be allowed to be loaded via this mode unless they are explicitly allowlisted by the user via `torch.serialization.add_safe_globals`. We recommend you start setting `weights_only=True` for any use case where you don't have full control of the loaded file. Please open an issue on GitHub for any issues related to this experimental feature.\n",
      "  loaded_model_h = torch.load(os.path.join(\"demos\", \"models\", f\"magic_group_{group}_decorr_{num_decorr_layers}_gtm_state_dict.pth\"), map_location=torch.device('cpu'))\n",
      "/var/folders/57/_f_fv4s97k300zslnyj86dxc0000gn/T/ipykernel_53916/921995457.py:11: FutureWarning: You are using `torch.load` with `weights_only=False` (the current default value), which uses the default pickle module implicitly. It is possible to construct malicious pickle data which will execute arbitrary code during unpickling (See https://github.com/pytorch/pytorch/blob/main/SECURITY.md#untrusted-models for more details). In a future release, the default value for `weights_only` will be flipped to `True`. This limits the functions that could be executed during unpickling. Arbitrary objects will no longer be allowed to be loaded via this mode unless they are explicitly allowlisted by the user via `torch.serialization.add_safe_globals`. We recommend you start setting `weights_only=True` for any use case where you don't have full control of the loaded file. Please open an issue on GitHub for any issues related to this experimental feature.\n",
      "  loaded_model_g = torch.load(os.path.join(\"demos\", \"models\", f\"magic_group_{group}_decorr_{num_decorr_layers}_gtm_state_dict.pth\"), map_location=torch.device('cpu'))\n"
     ]
    }
   ],
   "source": [
    "val_ll_h = []\n",
    "val_ll_g = []\n",
    "\n",
    "for num_decorr_layers in [3,4,5,6,7,8,9]:\n",
    "\n",
    "    group = \"h\"\n",
    "    loaded_model_h = torch.load(os.path.join(\"demos\", \"models\", f\"magic_group_{group}_decorr_{num_decorr_layers}_gtm_state_dict.pth\"), map_location=torch.device('cpu'))\n",
    "    loaded_model_h = loaded_model_h.to('cpu')\n",
    "\n",
    "    group = \"g\"\n",
    "    loaded_model_g = torch.load(os.path.join(\"demos\", \"models\", f\"magic_group_{group}_decorr_{num_decorr_layers}_gtm_state_dict.pth\"), map_location=torch.device('cpu'))\n",
    "    loaded_model_g = loaded_model_g.to('cpu')\n",
    "    \n",
    "    val_ll_h.append(loaded_model_h.log_likelihood(torch.FloatTensor(y_validate_group_h)).mean().detach().item())\n",
    "    val_ll_g.append(loaded_model_g.log_likelihood(torch.FloatTensor(y_validate_group_g)).mean().detach().item())"
   ]
  },
  {
   "cell_type": "code",
   "execution_count": 8,
   "id": "43a50720",
   "metadata": {},
   "outputs": [],
   "source": [
    "num_decorr_layers_val_ll_table = pd.DataFrame()\n",
    "num_decorr_layers = [3,4,5,6,7,8,9]\n",
    "num_decorr_layers_val_ll_table[\"num_decorr_layers\"] = num_decorr_layers\n",
    "num_decorr_layers_val_ll_table[\"val_ll_h\"] = val_ll_h\n",
    "num_decorr_layers_val_ll_table[\"val_ll_g\"] = val_ll_g\n",
    "#num_decorr_layers_val_ll_table.T"
   ]
  },
  {
   "cell_type": "markdown",
   "id": "66ff1db8",
   "metadata": {},
   "source": [
    "Below we see the optimal number of decorrelation layers is 6 for the gamma class and 8 for the hadron class."
   ]
  },
  {
   "cell_type": "code",
   "execution_count": 9,
   "id": "5d628ae5",
   "metadata": {},
   "outputs": [
    {
     "data": {
      "image/png": "[encoded data removed]",
      "text/plain": [
       "<Figure size 640x480 with 1 Axes>"
      ]
     },
     "metadata": {},
     "output_type": "display_data"
    }
   ],
   "source": [
    "plt.plot(num_decorr_layers_val_ll_table[\"num_decorr_layers\"],num_decorr_layers_val_ll_table[\"val_ll_h\"]-num_decorr_layers_val_ll_table[\"val_ll_h\"].mean(),label=\"hadron\")\n",
    "plt.plot(num_decorr_layers_val_ll_table[\"num_decorr_layers\"],num_decorr_layers_val_ll_table[\"val_ll_g\"]-num_decorr_layers_val_ll_table[\"val_ll_g\"].mean(),label=\"gamma\")\n",
    "plt.xlabel('num_decorr_layers')\n",
    "plt.ylabel('Validation-Log-Likelihood (- mean)')\n",
    "plt.legend()\n",
    "plt.show()"
   ]
  },
  {
   "cell_type": "markdown",
   "id": "a6fdfb65",
   "metadata": {},
   "source": [
    "We finally compute the classification for the optial hyperparameter choice and plot the corresponding ROC Curve as well as add it to the table."
   ]
  },
  {
   "cell_type": "code",
   "execution_count": 10,
   "id": "413f0c08",
   "metadata": {},
   "outputs": [
    {
     "name": "stdout",
     "output_type": "stream",
     "text": [
      "num_decorr_layers for h: 8\n",
      "num_decorr_layers for g: 6\n"
     ]
    },
    {
     "name": "stderr",
     "output_type": "stream",
     "text": [
      "/var/folders/57/_f_fv4s97k300zslnyj86dxc0000gn/T/ipykernel_53916/748904739.py:4: FutureWarning: You are using `torch.load` with `weights_only=False` (the current default value), which uses the default pickle module implicitly. It is possible to construct malicious pickle data which will execute arbitrary code during unpickling (See https://github.com/pytorch/pytorch/blob/main/SECURITY.md#untrusted-models for more details). In a future release, the default value for `weights_only` will be flipped to `True`. This limits the functions that could be executed during unpickling. Arbitrary objects will no longer be allowed to be loaded via this mode unless they are explicitly allowlisted by the user via `torch.serialization.add_safe_globals`. We recommend you start setting `weights_only=True` for any use case where you don't have full control of the loaded file. Please open an issue on GitHub for any issues related to this experimental feature.\n",
      "  loaded_model_h = torch.load(os.path.join(\"demos\", \"models\", f\"magic_group_{group}_decorr_{num_decorr_layers}_gtm_state_dict.pth\"), map_location=torch.device('cpu'))\n",
      "/var/folders/57/_f_fv4s97k300zslnyj86dxc0000gn/T/ipykernel_53916/748904739.py:10: FutureWarning: You are using `torch.load` with `weights_only=False` (the current default value), which uses the default pickle module implicitly. It is possible to construct malicious pickle data which will execute arbitrary code during unpickling (See https://github.com/pytorch/pytorch/blob/main/SECURITY.md#untrusted-models for more details). In a future release, the default value for `weights_only` will be flipped to `True`. This limits the functions that could be executed during unpickling. Arbitrary objects will no longer be allowed to be loaded via this mode unless they are explicitly allowlisted by the user via `torch.serialization.add_safe_globals`. We recommend you start setting `weights_only=True` for any use case where you don't have full control of the loaded file. Please open an issue on GitHub for any issues related to this experimental feature.\n",
      "  loaded_model_g = torch.load(os.path.join(\"demos\", \"models\", f\"magic_group_{group}_decorr_{num_decorr_layers}_gtm_state_dict.pth\"), map_location=torch.device('cpu'))\n"
     ]
    }
   ],
   "source": [
    "num_decorr_layers = num_decorr_layers_val_ll_table[\"num_decorr_layers\"][num_decorr_layers_val_ll_table[\"val_ll_h\"] == num_decorr_layers_val_ll_table[\"val_ll_h\"].max()].item()\n",
    "print(\"num_decorr_layers for h:\",num_decorr_layers)\n",
    "group = \"h\"\n",
    "loaded_model_h = torch.load(os.path.join(\"demos\", \"models\", f\"magic_group_{group}_decorr_{num_decorr_layers}_gtm_state_dict.pth\"), map_location=torch.device('cpu'))\n",
    "loaded_model_h = loaded_model_h.to('cpu')\n",
    "\n",
    "num_decorr_layers = num_decorr_layers_val_ll_table[\"num_decorr_layers\"][num_decorr_layers_val_ll_table[\"val_ll_g\"] == num_decorr_layers_val_ll_table[\"val_ll_g\"].max()].item()\n",
    "print(\"num_decorr_layers for g:\",num_decorr_layers)\n",
    "group = \"g\"\n",
    "loaded_model_g = torch.load(os.path.join(\"demos\", \"models\", f\"magic_group_{group}_decorr_{num_decorr_layers}_gtm_state_dict.pth\"), map_location=torch.device('cpu'))\n",
    "loaded_model_g = loaded_model_g.to('cpu')\n",
    "\n",
    "table_roc_curve = magic_classification_report(loaded_model_g,\n",
    "                                              loaded_model_h,\n",
    "                                              y_test_group_g,\n",
    "                                              y_test_group_h,\n",
    "                                              y_train_group_h,\n",
    "                                              y_train_group_g,\n",
    "                                              phi_g=0.5,\n",
    "                                              phi_h=0.5)\n",
    "\n",
    "\n",
    "model_tpr = []\n",
    "for fpr_quantile in [0.01,0.02,0.05,0.1,0.2]:\n",
    "    model_tpr.append([\n",
    "        np.round(table_roc_curve.loc[table_roc_curve.fpr <= fpr_quantile].tail(1)[\"tpr\"].item(),3)\n",
    "    ])\n",
    "res_table[\"GCTM_\"+\"opt\"] = np.stack(model_tpr)"
   ]
  },
  {
   "cell_type": "code",
   "execution_count": 11,
   "id": "7d76ac38",
   "metadata": {},
   "outputs": [
    {
     "data": {
      "text/plain": [
       "(-0.05, 1.0)"
      ]
     },
     "execution_count": 11,
     "metadata": {},
     "output_type": "execute_result"
    },
    {
     "data": {
      "image/png": "[encoded data removed]",
      "text/plain": [
       "<Figure size 1000x500 with 1 Axes>"
      ]
     },
     "metadata": {},
     "output_type": "display_data"
    }
   ],
   "source": [
    "plt.figure(figsize=(10, 5))\n",
    "plt.plot(table_roc_curve[\"fpr\"],table_roc_curve[\"tpr\"])\n",
    "plt.xlim(-0.05,1)"
   ]
  },
  {
   "cell_type": "markdown",
   "id": "c4885ed6",
   "metadata": {},
   "source": [
    "The GTM outperforms the Vine-Copula nad MV-Kernel-DE at every FPR except 0.010."
   ]
  },
  {
   "cell_type": "code",
   "execution_count": 12,
   "id": "acf8b67d",
   "metadata": {},
   "outputs": [
    {
     "data": {
      "text/html": [
       "<div>\n",
       "<style scoped>\n",
       "    .dataframe tbody tr th:only-of-type {\n",
       "        vertical-align: middle;\n",
       "    }\n",
       "\n",
       "    .dataframe tbody tr th {\n",
       "        vertical-align: top;\n",
       "    }\n",
       "\n",
       "    .dataframe thead th {\n",
       "        text-align: right;\n",
       "    }\n",
       "</style>\n",
       "<table border=\"1\" class=\"dataframe\">\n",
       "  <thead>\n",
       "    <tr style=\"text-align: right;\">\n",
       "      <th></th>\n",
       "      <th>0</th>\n",
       "      <th>1</th>\n",
       "      <th>2</th>\n",
       "      <th>3</th>\n",
       "      <th>4</th>\n",
       "    </tr>\n",
       "  </thead>\n",
       "  <tbody>\n",
       "    <tr>\n",
       "      <th>FPR</th>\n",
       "      <td>0.010</td>\n",
       "      <td>0.020</td>\n",
       "      <td>0.050</td>\n",
       "      <td>0.100</td>\n",
       "      <td>0.200</td>\n",
       "    </tr>\n",
       "    <tr>\n",
       "      <th>GCTM_3</th>\n",
       "      <td>0.342</td>\n",
       "      <td>0.453</td>\n",
       "      <td>0.639</td>\n",
       "      <td>0.796</td>\n",
       "      <td>0.916</td>\n",
       "    </tr>\n",
       "    <tr>\n",
       "      <th>GCTM_4</th>\n",
       "      <td>0.319</td>\n",
       "      <td>0.397</td>\n",
       "      <td>0.637</td>\n",
       "      <td>0.812</td>\n",
       "      <td>0.920</td>\n",
       "    </tr>\n",
       "    <tr>\n",
       "      <th>GCTM_5</th>\n",
       "      <td>0.312</td>\n",
       "      <td>0.455</td>\n",
       "      <td>0.634</td>\n",
       "      <td>0.818</td>\n",
       "      <td>0.923</td>\n",
       "    </tr>\n",
       "    <tr>\n",
       "      <th>GCTM_6</th>\n",
       "      <td>0.317</td>\n",
       "      <td>0.412</td>\n",
       "      <td>0.645</td>\n",
       "      <td>0.816</td>\n",
       "      <td>0.924</td>\n",
       "    </tr>\n",
       "    <tr>\n",
       "      <th>GCTM_7</th>\n",
       "      <td>0.310</td>\n",
       "      <td>0.414</td>\n",
       "      <td>0.650</td>\n",
       "      <td>0.816</td>\n",
       "      <td>0.922</td>\n",
       "    </tr>\n",
       "    <tr>\n",
       "      <th>GCTM_8</th>\n",
       "      <td>0.309</td>\n",
       "      <td>0.442</td>\n",
       "      <td>0.655</td>\n",
       "      <td>0.805</td>\n",
       "      <td>0.926</td>\n",
       "    </tr>\n",
       "    <tr>\n",
       "      <th>GCTM_9</th>\n",
       "      <td>0.292</td>\n",
       "      <td>0.448</td>\n",
       "      <td>0.650</td>\n",
       "      <td>0.810</td>\n",
       "      <td>0.922</td>\n",
       "    </tr>\n",
       "    <tr>\n",
       "      <th>Vine-Copula</th>\n",
       "      <td>0.335</td>\n",
       "      <td>0.428</td>\n",
       "      <td>0.652</td>\n",
       "      <td>0.780</td>\n",
       "      <td>0.918</td>\n",
       "    </tr>\n",
       "    <tr>\n",
       "      <th>MV-Kernel-DE</th>\n",
       "      <td>0.335</td>\n",
       "      <td>0.408</td>\n",
       "      <td>0.567</td>\n",
       "      <td>0.730</td>\n",
       "      <td>0.868</td>\n",
       "    </tr>\n",
       "    <tr>\n",
       "      <th>GCTM_opt</th>\n",
       "      <td>0.323</td>\n",
       "      <td>0.451</td>\n",
       "      <td>0.663</td>\n",
       "      <td>0.815</td>\n",
       "      <td>0.927</td>\n",
       "    </tr>\n",
       "  </tbody>\n",
       "</table>\n",
       "</div>"
      ],
      "text/plain": [
       "                  0      1      2      3      4\n",
       "FPR           0.010  0.020  0.050  0.100  0.200\n",
       "GCTM_3        0.342  0.453  0.639  0.796  0.916\n",
       "GCTM_4        0.319  0.397  0.637  0.812  0.920\n",
       "GCTM_5        0.312  0.455  0.634  0.818  0.923\n",
       "GCTM_6        0.317  0.412  0.645  0.816  0.924\n",
       "GCTM_7        0.310  0.414  0.650  0.816  0.922\n",
       "GCTM_8        0.309  0.442  0.655  0.805  0.926\n",
       "GCTM_9        0.292  0.448  0.650  0.810  0.922\n",
       "Vine-Copula   0.335  0.428  0.652  0.780  0.918\n",
       "MV-Kernel-DE  0.335  0.408  0.567  0.730  0.868\n",
       "GCTM_opt      0.323  0.451  0.663  0.815  0.927"
      ]
     },
     "execution_count": 12,
     "metadata": {},
     "output_type": "execute_result"
    }
   ],
   "source": [
    "res_table.T"
   ]
  }
 ],
 "metadata": {
  "kernelspec": {
   "display_name": "mctm_pytorch",
   "language": "python",
   "name": "python3"
  },
  "language_info": {
   "codemirror_mode": {
    "name": "ipython",
    "version": 3
   },
   "file_extension": ".py",
   "mimetype": "text/x-python",
   "name": "python",
   "nbconvert_exporter": "python",
   "pygments_lexer": "ipython3",
   "version": "3.11.5"
  }
 },
 "nbformat": 4,
 "nbformat_minor": 5
}
